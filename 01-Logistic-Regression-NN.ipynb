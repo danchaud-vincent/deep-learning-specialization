{
 "cells": [
  {
   "cell_type": "markdown",
   "metadata": {},
   "source": [
    "# Logistic Regression as a Neural Network"
   ]
  },
  {
   "cell_type": "markdown",
   "metadata": {},
   "source": [
    "## 1. Binary Classification"
   ]
  },
  {
   "cell_type": "markdown",
   "metadata": {},
   "source": [
    "Logistic Regression is an algorithm for binary classification. \n",
    "\n",
    "Here's an example of a binary classification:\n",
    ">You have an input of an image and you want to output a label to recognize this image as either being a cat, in which cas you output 1, or not-cat in which cas you output 0. We use y to denote the output label"
   ]
  },
  {
   "cell_type": "markdown",
   "metadata": {},
   "source": [
    "<img src=\"images/01-logistic-regression/binary-classification.PNG\" width = \"600px\">"
   ]
  },
  {
   "cell_type": "markdown",
   "metadata": {},
   "source": [
    "To store an image your computer stores three separete matrices corresponding to the red, green, and blue color channels of this image.\n",
    "\n",
    "Example:\n",
    "- Input image : 64 pixels by 64 pixels.\n",
    "- Then you would have 3  64 by 64 matrices corresponding to the red, blue and green pixel intensity values for your images.\n",
    "- a pixel value is between 0 to 255"
   ]
  },
  {
   "cell_type": "markdown",
   "metadata": {},
   "source": [
    "To turn these pixels into a feature vector, we need to unroll all of these pixel values into a Feature vector X.\n",
    "\n",
    "The number of the pixels and so the dimension of the input features will be n or nx.\n",
    "\n",
    "So for one image we will have:"
   ]
  },
  {
   "cell_type": "markdown",
   "metadata": {},
   "source": [
    "$$X=\\begin{bmatrix} 255\\\\231\\\\42\\\\...\\\\255\\\\134\\\\...\\\\255\\\\134\\\\...\\end{bmatrix} \\in  \\mathbb{R^n}$$   "
   ]
  },
  {
   "cell_type": "markdown",
   "metadata": {},
   "source": [
    "$$y \\in {0,1}$$"
   ]
  },
  {
   "cell_type": "markdown",
   "metadata": {},
   "source": [
    "So if we have a training set of m training examples (m images):"
   ]
  },
  {
   "cell_type": "markdown",
   "metadata": {},
   "source": [
    "$${(X^{(1)},y^{(1)}),(X^{(2)},y^{(2)}),(X^{(3)},y^{(3)}),...,(X^{(m)},y^{(m)})}$$"
   ]
  },
  {
   "cell_type": "markdown",
   "metadata": {},
   "source": [
    "$$X=\\begin{bmatrix} . & . & . & . \\\\ . & . & . & . \\\\ X^{(1)} & X^{(2)} & ... & X^{(m)} \\\\. & . & . & .\\\\. & . & . & . \\end{bmatrix} \\in  \\mathbb{R^{n m}}$$   "
   ]
  },
  {
   "cell_type": "markdown",
   "metadata": {},
   "source": [
    "$$Y \\in  \\mathbb{R^{1 m}}$$"
   ]
  }
 ],
 "metadata": {
  "language_info": {
   "name": "python"
  },
  "orig_nbformat": 4
 },
 "nbformat": 4,
 "nbformat_minor": 2
}
