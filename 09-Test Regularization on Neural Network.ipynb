{
 "cells": [
  {
   "cell_type": "markdown",
   "metadata": {},
   "source": [
    "# Test Regularization on Neural Network"
   ]
  },
  {
   "cell_type": "code",
   "execution_count": 3,
   "metadata": {},
   "outputs": [],
   "source": [
    "# Packages\n",
    "import copy\n",
    "import numpy as np\n",
    "import matplotlib.pyplot as plt\n",
    "import sklearn\n",
    "import sklearn.datasets\n",
    "import sklearn.linear_model\n",
    "from sklearn.metrics import accuracy_score\n",
    "from sklearn.metrics import log_loss\n",
    "\n",
    "\n",
    "%matplotlib inline"
   ]
  },
  {
   "cell_type": "markdown",
   "metadata": {},
   "source": [
    "# 1. L2 regularization Model"
   ]
  },
  {
   "cell_type": "markdown",
   "metadata": {},
   "source": [
    "The standard way to avoid overfitting is called **L2 regularization**. It consists of appropriately modifying your cost function, from:\n",
    "$$J = -\\frac{1}{m} \\sum\\limits_{i = 1}^{m} \\large{(}\\small  y^{(i)}\\log\\left(a^{[L](i)}\\right) + (1-y^{(i)})\\log\\left(1- a^{[L](i)}\\right) \\large{)} \\tag{1}$$\n",
    "To:\n",
    "$$J_{regularized} = \\small \\underbrace{-\\frac{1}{m} \\sum\\limits_{i = 1}^{m} \\large{(}\\small y^{(i)}\\log\\left(a^{[L](i)}\\right) + (1-y^{(i)})\\log\\left(1- a^{[L](i)}\\right) \\large{)} }_\\text{cross-entropy cost} + \\underbrace{\\frac{1}{m} \\frac{\\lambda}{2} \\sum\\limits_l\\sum\\limits_k\\sum\\limits_j W_{k,j}^{[l]2} }_\\text{L2 regularization cost} \\tag{2}$$"
   ]
  },
  {
   "cell_type": "markdown",
   "metadata": {},
   "source": [
    "## Init parameters"
   ]
  },
  {
   "cell_type": "code",
   "execution_count": 4,
   "metadata": {},
   "outputs": [],
   "source": [
    "def initialize_parameters(layers_dims,n_input,n_output):\n",
    "    \"\"\"\n",
    "    Compute the initialization of the parameters in our Neural Network\n",
    "\n",
    "    - Arguments:\n",
    "    layers_dims: array containing the dimension of the hidden layers\n",
    "    n_input: numbers of features in the input layer\n",
    "    n_ouput: numbers of nodes in the output layer\n",
    "    type_init: \"zeros\",\"random\",\"he\" type of initialization\n",
    "\n",
    "    - Return:\n",
    "    parameters: dictionnary containing of the parameters of our neural network\n",
    "    \"\"\"\n",
    "    np.random.seed(3)\n",
    "    \n",
    "    # init\n",
    "    parameters = {}\n",
    "\n",
    "    # add the output layer to the array\n",
    "    layers_dims.append(n_output)\n",
    "\n",
    "    # number of layers\n",
    "    L = len(layers_dims)\n",
    "\n",
    "    for i in range(L):\n",
    "        \n",
    "        # if i==0 take n_x features\n",
    "        if i ==0:\n",
    "            layer_prev = n_input\n",
    "        else:\n",
    "            layer_prev = layers_dims[i-1]\n",
    "\n",
    "        # default init\n",
    "        parameters[\"W\" + str(i+1)] = np.random.randn(layers_dims[i],layer_prev) * np.sqrt(2/layer_prev)\n",
    "        parameters[\"b\" + str(i+1)] = np.zeros((layers_dims[i],1))\n",
    "\n",
    "\n",
    "    return parameters"
   ]
  },
  {
   "cell_type": "markdown",
   "metadata": {},
   "source": [
    "## Forward Propagation"
   ]
  },
  {
   "cell_type": "code",
   "execution_count": 5,
   "metadata": {},
   "outputs": [],
   "source": [
    "def activation_function(Z,activation_name):\n",
    "\n",
    "    if activation_name.lower() == \"sigmoid\":\n",
    "\n",
    "        A = 1/(1+np.exp(-Z))\n",
    "    \n",
    "    elif activation_name.lower() == \"relu\":\n",
    "\n",
    "        A = np.maximum(0,Z)\n",
    "\n",
    "    elif activation_name.lower() == \"tanh\":\n",
    "\n",
    "        A = np.tanh(Z)\n",
    "    \n",
    "    else:\n",
    "        # By default relu\n",
    "        A = np.maximum(0,Z)\n",
    "\n",
    "    return A"
   ]
  },
  {
   "cell_type": "code",
   "execution_count": 6,
   "metadata": {},
   "outputs": [],
   "source": [
    "def forward_propagation(X,parameters,activation_name=\"relu\"):\n",
    "\n",
    "    \"\"\"\n",
    "    Compute the activation function\n",
    "    \n",
    "    Arguments:\n",
    "    activation_name -- name of the activation function choosen\n",
    "    Z -- items\n",
    "\n",
    "    Returns:\n",
    "    activation -- activation value\n",
    "    \"\"\"\n",
    "    # init cache\n",
    "    caches = []\n",
    "    cache_layer = {}\n",
    "\n",
    "    # layer\n",
    "    L = len(parameters)//2\n",
    "\n",
    "    # setting A_prev to X\n",
    "    A_prev = X\n",
    "\n",
    "    for i in range(1,L+1):\n",
    "\n",
    "        # getting parameters\n",
    "        W = parameters[\"W\" + str(i)]\n",
    "        b= parameters[\"b\" + str(i)]\n",
    "\n",
    "        # linear result\n",
    "        Z = np.dot(W,A_prev) + b\n",
    "\n",
    "        if i==L:\n",
    "            # last layer -  sigmoid \n",
    "            A = activation_function(Z,\"sigmoid\")\n",
    "        else:\n",
    "            A = activation_function(Z,\"relu\")\n",
    "\n",
    "        # adding to the cache\n",
    "        cache = {\"W\" : W, \"b\":b,\"A\":A,\"Z\":Z,\"A_prev\": A_prev}\n",
    "\n",
    "        # adding layer cache\n",
    "        caches.append(cache)\n",
    "\n",
    "        # setting A_prev\n",
    "        A_prev = A\n",
    "\n",
    "    return A, caches"
   ]
  },
  {
   "cell_type": "markdown",
   "metadata": {},
   "source": [
    "## Compute Loss with or without L2 regularization"
   ]
  },
  {
   "cell_type": "code",
   "execution_count": 7,
   "metadata": {},
   "outputs": [],
   "source": [
    "def cost_function(AL,y,parameters,lambd,regularization):\n",
    "\n",
    "    \"\"\"\n",
    "    Compute the log loss L(y_pred,y)\n",
    "\n",
    "    -- Arguments:\n",
    "    y : true labels of the dataset\n",
    "    AL : result of the forward propagation \n",
    "\n",
    "    -- Returns:\n",
    "    cost : Log loss cost\n",
    "\n",
    "    \"\"\"\n",
    "    L2_regularization_cost = 0\n",
    "\n",
    "    # m examples\n",
    "    m = y.shape[1]\n",
    "\n",
    "    # 1st part of cost\n",
    "    cost = (np.multiply(y,np.log(AL)) + np.multiply(1-y,np.log(1-AL)))\n",
    "\n",
    "    # check regularization\n",
    "    if regularization is False:\n",
    "        cost = -(1/m) *np.nansum(cost)\n",
    "    else:\n",
    "        # compute L2 regularization\n",
    "        for i in range(len(parameters)//2):\n",
    "            W = parameters[\"W\" + str(i+1)]\n",
    "            L2_regularization_cost += np.sum(W**2)\n",
    "\n",
    "        L2_regularization_cost = (lambd/(2*m)) * L2_regularization_cost\n",
    "\n",
    "        # Total cost with regularization\n",
    "        cost = -(1/m) *np.nansum(cost) +  L2_regularization_cost\n",
    "    \n",
    "    return cost"
   ]
  },
  {
   "cell_type": "markdown",
   "metadata": {},
   "source": [
    "## Backward propagation With Regularization"
   ]
  },
  {
   "cell_type": "markdown",
   "metadata": {},
   "source": [
    "Implement the changes needed in backward propagation to take into account regularization. The changes only concern dW1, dW2 and dW3. For each, you have to add the regularization term's gradient ($\\frac{d}{dW} ( \\frac{1}{2}\\frac{\\lambda}{m}  W^2) = \\frac{\\lambda}{m} W$)."
   ]
  },
  {
   "cell_type": "code",
   "execution_count": 8,
   "metadata": {},
   "outputs": [],
   "source": [
    "def backward_activation(dA,Z,function_name=\"relu\"):\n",
    "\n",
    "    \"\"\"\n",
    "    Compute dZ for the backward propagation\n",
    "\n",
    "    -- Arguments:\n",
    "    dA : derivative of A\n",
    "    Z : linear activation\n",
    "    function_name: name of the activation_function\n",
    "\n",
    "    -- Returns:\n",
    "    dZ: derivative of Z\n",
    "    \"\"\"\n",
    "\n",
    "    if function_name.lower() == \"sigmoid\":\n",
    "        # sigmoid\n",
    "        s = 1/(1+np.exp(-Z))\n",
    "\n",
    "        # derivative sigmoid\n",
    "        dG = s*(1-s)\n",
    "\n",
    "        # dZ\n",
    "        dZ = dA * dG\n",
    "\n",
    "    elif function_name.lower() == \"relu\":\n",
    "\n",
    "        # relu\n",
    "        r = np.maximum(0,Z)\n",
    "\n",
    "        # derivative relu\n",
    "        dG = np.int64(r>0)\n",
    "\n",
    "        # dZ\n",
    "        dZ = np.multiply(dA,dG)\n",
    "\n",
    "    elif function_name.lower() == \"tanh\":\n",
    "\n",
    "        # tanh\n",
    "        th = np.tanh(Z)\n",
    "\n",
    "        # derivative tanh\n",
    "        dG = 1-np.power(th,2)\n",
    "\n",
    "        # dZ\n",
    "        dZ = dA * dG\n",
    "\n",
    "    else:\n",
    "        # by default relu\n",
    "        r = np.maximum(0,Z)\n",
    "\n",
    "        # derivative relu\n",
    "        dG = np.int64(r>0)\n",
    "\n",
    "        # dZ\n",
    "        dZ = np.multiply(dA,dG)\n",
    "\n",
    "    return dZ"
   ]
  },
  {
   "cell_type": "code",
   "execution_count": 9,
   "metadata": {},
   "outputs": [],
   "source": [
    "def backward_propagation(AL,y,caches,lambd,regularization,function_name=\"relu\",):\n",
    "\n",
    "    # gradients\n",
    "    gradients = {}\n",
    "\n",
    "    # numbers of layers\n",
    "    L = len(caches)\n",
    "\n",
    "    # number of examples\n",
    "    m = y.shape[1]\n",
    "\n",
    "    # dAL\n",
    "    dAL = - (np.divide(y, AL) - np.divide(1 - y, 1 - AL))\n",
    "    \n",
    "    # getting cache layer L\n",
    "    current_cache = caches[-1]\n",
    "    WL = current_cache['W']\n",
    "    ZL = current_cache['Z']\n",
    "    A_prev = current_cache['A_prev']\n",
    "\n",
    "    dZL = backward_activation(dAL,ZL,\"sigmoid\")\n",
    "\n",
    "    # With or without regularization\n",
    "    if regularization is True:\n",
    "        dW_temp = (1/m)*np.dot(dZL,A_prev.T) + (lambd/m)*WL\n",
    "    else:\n",
    "        dW_temp = (1/m)*np.dot(dZL,A_prev.T)\n",
    "\n",
    "    db_temp = (1/m) * np.sum(dZL,axis=1, keepdims=True)\n",
    "    dA_prev_temp = np.dot(WL.T,dZL)\n",
    "    \n",
    "    # compute the gradient\n",
    "    gradients[\"dW\" + str(L)] = dW_temp\n",
    "    gradients[\"db\" + str(L)] = db_temp\n",
    "\n",
    "\n",
    "    for i in reversed(range(L-1)):\n",
    "\n",
    "        # getting cache layer L\n",
    "        current_cache = caches[i]\n",
    "        W = current_cache['W']\n",
    "        Z = current_cache['Z']\n",
    "        A_prev = current_cache['A_prev']\n",
    "\n",
    "        dZ = backward_activation(dA_prev_temp,Z,function_name)\n",
    "\n",
    "        # with or without regularization\n",
    "        if regularization is True:\n",
    "            dW_temp = (1/m)*np.dot(dZ,A_prev.T) + (lambd/m)*W\n",
    "        else:\n",
    "             dW_temp = (1/m)*np.dot(dZ,A_prev.T)\n",
    "\n",
    "        db_temp = (1/m) * np.sum(dZ,axis=1, keepdims=True)\n",
    "        dA_prev_temp = np.dot(W.T,dZ)\n",
    "        \n",
    "        # compute the gradient\n",
    "        gradients[\"dW\" + str(i+1)] = dW_temp\n",
    "        gradients[\"db\" + str(i+1)] = db_temp\n",
    "\n",
    "\n",
    "    return gradients\n"
   ]
  },
  {
   "cell_type": "markdown",
   "metadata": {},
   "source": [
    "## Update parameters"
   ]
  },
  {
   "cell_type": "code",
   "execution_count": 10,
   "metadata": {},
   "outputs": [],
   "source": [
    "def update_parameters(parameters,gradients,learning_rate):\n",
    "\n",
    "    # copy \n",
    "    params = copy.deepcopy(parameters)\n",
    "    \n",
    "    # nb layer\n",
    "    L = len(parameters)//2\n",
    "\n",
    "    for i in range(L):\n",
    "        params[\"W\" + str(i+1)] = params[\"W\" + str(i+1)] - learning_rate * gradients[\"dW\" + str(i+1)]\n",
    "        params[\"b\" + str(i+1)] = params[\"b\" + str(i+1)] - learning_rate * gradients[\"db\" + str(i+1)]\n",
    "\n",
    "    return params"
   ]
  },
  {
   "cell_type": "markdown",
   "metadata": {},
   "source": [
    "## Predict"
   ]
  },
  {
   "cell_type": "code",
   "execution_count": 11,
   "metadata": {},
   "outputs": [],
   "source": [
    "def predict(X,parameters,function_name):\n",
    "\n",
    "    y_pred,caches = forward_propagation(X,parameters,function_name)\n",
    "\n",
    "    y_pred = np.where(y_pred>=0.5,1,0)\n",
    "\n",
    "    return y_pred"
   ]
  },
  {
   "cell_type": "code",
   "execution_count": 12,
   "metadata": {},
   "outputs": [],
   "source": [
    "def score(X,y,parameters):\n",
    "    \n",
    "    # prediction\n",
    "    y_pred = predict(X,parameters,function_name=\"relu\")\n",
    "\n",
    "    # score\n",
    "    acc = accuracy_score(y.T,y_pred.T)\n",
    "\n",
    "    return acc"
   ]
  },
  {
   "cell_type": "markdown",
   "metadata": {},
   "source": [
    "## Model"
   ]
  },
  {
   "cell_type": "code",
   "execution_count": 13,
   "metadata": {},
   "outputs": [],
   "source": [
    "def neural_network_model(X_train,y_train,X_test,y_test,hidden_layers_dims,n_iter,learning_rate,lambd,function_name=\"relu\",regularization=False,display=False):\n",
    "\n",
    "    # init trackers\n",
    "    dico_model = {}\n",
    "    costs_train = []\n",
    "    costs_test = []\n",
    "    accs_train = []\n",
    "    accs_test = []\n",
    "\n",
    "    # init\n",
    "    m = X_train.shape[1]\n",
    "    n_input = X_train.shape[0]\n",
    "    n_output = y_train.shape[0]\n",
    "\n",
    "    # initialize parameters\n",
    "    parameters = initialize_parameters(hidden_layers_dims,n_input,n_output)\n",
    "\n",
    "\n",
    "    for i in range(n_iter):\n",
    "\n",
    "        # ---- forward propagation ------\n",
    "        AL_train, caches = forward_propagation(X_train,parameters, activation_name=function_name)\n",
    "        AL_test, caches_test = forward_propagation(X_test,parameters, activation_name=function_name)\n",
    "\n",
    "        #  cost\n",
    "        cost_train = cost_function(AL_train,y_train,parameters,lambd,regularization)\n",
    "        costs_train.append(cost_train)\n",
    "\n",
    "        cost_test = cost_function(AL_test,y_test,parameters,0,False)\n",
    "        costs_test.append(cost_test)\n",
    "\n",
    "        # accuracy \n",
    "        y_pred_train = predict(X_train,parameters,function_name)\n",
    "        acc_train = accuracy_score(y_train.T,y_pred_train.T)\n",
    "        accs_train.append(acc_train)\n",
    "\n",
    "        y_pred_test = predict(X_test,parameters,function_name)\n",
    "        acc_test = accuracy_score(y_test.T,y_pred_test.T)\n",
    "        accs_test.append(acc_test)    \n",
    "\n",
    "        # ---- bacward propagation ------\n",
    "        gradients = backward_propagation(AL_train,y_train,caches,lambd,regularization,function_name=function_name)\n",
    "\n",
    "        # ---- update params ------------\n",
    "        params = update_parameters(parameters, gradients, learning_rate)\n",
    "        parameters = params\n",
    "        \n",
    "        if display is True and i%500 == 0:\n",
    "            print(f\"iter {i} : Train_Loss = {cost_train}, Train_acc = {acc_train},Test_Loss = {cost_test}, Test_acc = {acc_test}\")\n",
    "\n",
    "    dict_model = {\"parameters\": parameters,\"cost_train\":costs_train,\"accuracy_train\":accs_train,\"cost_test\":costs_test,\"accuracy_test\":accs_test}\n",
    "\n",
    "    return dict_model\n"
   ]
  },
  {
   "cell_type": "markdown",
   "metadata": {},
   "source": [
    "# 2. Test on dataset"
   ]
  },
  {
   "cell_type": "code",
   "execution_count": 90,
   "metadata": {},
   "outputs": [],
   "source": [
    "import scipy.io\n",
    "import h5py"
   ]
  },
  {
   "cell_type": "code",
   "execution_count": 91,
   "metadata": {},
   "outputs": [],
   "source": [
    "def load_2D_dataset():\n",
    "    data = scipy.io.loadmat('datasets/03 - 2d Data/data.mat')\n",
    "    train_X = data['X'].T\n",
    "    train_Y = data['y'].T\n",
    "    test_X = data['Xval'].T\n",
    "    test_Y = data['yval'].T\n",
    "\n",
    "    plt.scatter(train_X[0, :], train_X[1, :], c=train_Y, s=40, cmap=plt.cm.Spectral);\n",
    "    \n",
    "    return train_X, train_Y, test_X, test_Y"
   ]
  },
  {
   "cell_type": "code",
   "execution_count": 92,
   "metadata": {},
   "outputs": [
    {
     "data": {
      "image/png": "[encoded data removed]",
      "text/plain": [
       "<Figure size 432x288 with 1 Axes>"
      ]
     },
     "metadata": {
      "needs_background": "light"
     },
     "output_type": "display_data"
    }
   ],
   "source": [
    "X_train, y_train, X_test, y_test = load_2D_dataset()"
   ]
  },
  {
   "cell_type": "markdown",
   "metadata": {},
   "source": [
    "### Test 1 : Without Regularization"
   ]
  },
  {
   "cell_type": "code",
   "execution_count": 93,
   "metadata": {},
   "outputs": [],
   "source": [
    "dict_model = neural_network_model(X_train,y_train,X_test,y_test,hidden_layers_dims = [20,3,1],n_iter=8000,learning_rate=0.3,lambd=0.4,function_name=\"relu\",regularization=False,display=False)"
   ]
  },
  {
   "cell_type": "code",
   "execution_count": 94,
   "metadata": {},
   "outputs": [
    {
     "data": {
      "image/png": "[encoded data removed]",
      "text/plain": [
       "<Figure size 720x216 with 2 Axes>"
      ]
     },
     "metadata": {
      "needs_background": "light"
     },
     "output_type": "display_data"
    }
   ],
   "source": [
    "# Display the result\n",
    "\n",
    "fig, axs = plt.subplots(1, 2, figsize=(10, 3))\n",
    "\n",
    "axs[0].plot(dict_model[\"cost_train\"])\n",
    "axs[0].plot(dict_model[\"cost_test\"])\n",
    "axs[0].set_title(\"Loss\")\n",
    "axs[0].set_xlabel(\"n_iteration\")\n",
    "axs[0].legend([\"Train\",\"Test\"])\n",
    "\n",
    "axs[1].plot(dict_model[\"accuracy_train\"])\n",
    "axs[1].plot(dict_model[\"accuracy_test\"])\n",
    "axs[1].set_title(\"Accuracy\")\n",
    "axs[1].set_xlabel(\"n_iteration\")\n",
    "axs[1].legend([\"Train\",\"Test\"])\n",
    "plt.show()"
   ]
  },
  {
   "cell_type": "code",
   "execution_count": 95,
   "metadata": {},
   "outputs": [
    {
     "name": "stdout",
     "output_type": "stream",
     "text": [
      "0.9289099526066351\n",
      "0.945\n"
     ]
    }
   ],
   "source": [
    "parameters = dict_model[\"parameters\"]\n",
    "acc_train = score(X_train,y_train,parameters)\n",
    "acc_test = score(X_test,y_test,parameters)\n",
    "\n",
    "print(acc_train)\n",
    "print(acc_test)"
   ]
  },
  {
   "cell_type": "markdown",
   "metadata": {},
   "source": [
    "### Test 2 : With Regularization"
   ]
  },
  {
   "cell_type": "code",
   "execution_count": 96,
   "metadata": {},
   "outputs": [],
   "source": [
    "dico_model = neural_network_model(X_train,y_train,X_test,y_test,hidden_layers_dims = [20,3,1],n_iter=8000,learning_rate=0.3,lambd=0.4,function_name=\"relu\",regularization=True,display=False)"
   ]
  },
  {
   "cell_type": "code",
   "execution_count": 97,
   "metadata": {},
   "outputs": [
    {
     "data": {
      "image/png": "[encoded data removed]",
      "text/plain": [
       "<Figure size 720x216 with 2 Axes>"
      ]
     },
     "metadata": {
      "needs_background": "light"
     },
     "output_type": "display_data"
    }
   ],
   "source": [
    "# Display the result\n",
    "\n",
    "fig, axs = plt.subplots(1, 2, figsize=(10, 3))\n",
    "\n",
    "axs[0].plot(dico_model[\"cost_train\"])\n",
    "axs[0].plot(dico_model[\"cost_test\"])\n",
    "axs[0].set_title(\"Loss\")\n",
    "axs[0].set_xlabel(\"n_iteration\")\n",
    "axs[0].legend([\"Train\",\"Test\"])\n",
    "\n",
    "axs[1].plot(dico_model[\"accuracy_train\"])\n",
    "axs[1].plot(dico_model[\"accuracy_test\"])\n",
    "axs[1].set_title(\"Accuracy\")\n",
    "axs[1].set_xlabel(\"n_iteration\")\n",
    "axs[1].legend([\"Train\",\"Test\"])\n",
    "plt.show()"
   ]
  },
  {
   "cell_type": "code",
   "execution_count": 98,
   "metadata": {},
   "outputs": [
    {
     "name": "stdout",
     "output_type": "stream",
     "text": [
      "0.943127962085308\n",
      "0.93\n"
     ]
    }
   ],
   "source": [
    "parameters = dico_model[\"parameters\"]\n",
    "acc_train = score(X_train,y_train,parameters)\n",
    "acc_test = score(X_test,y_test,parameters)\n",
    "\n",
    "print(acc_train)\n",
    "print(acc_test)"
   ]
  },
  {
   "cell_type": "markdown",
   "metadata": {},
   "source": [
    "With the L2 Regularization we have reduce the overfitting and we have a better model"
   ]
  },
  {
   "cell_type": "markdown",
   "metadata": {},
   "source": [
    "# Test on The Cat dataset"
   ]
  },
  {
   "cell_type": "code",
   "execution_count": 14,
   "metadata": {},
   "outputs": [],
   "source": [
    "# Load the dataset\n",
    "import h5py\n",
    "dataset_file = \"datasets/01 - cat/\"\n",
    "\n",
    "def load_dataset_cat():\n",
    "\n",
    "    # Training set\n",
    "    train_dataset = h5py.File(dataset_file + \"train_catvnoncat.h5\",\"r\")\n",
    "    X_train = np.array(train_dataset[\"train_set_x\"][:])\n",
    "    y_train = np.array(train_dataset[\"train_set_y\"][:])\n",
    "\n",
    "    # Test set\n",
    "    test_dataset = h5py.File(dataset_file + \"test_catvnoncat.h5\",\"r\")\n",
    "    X_test = np.array(test_dataset[\"test_set_x\"][:])\n",
    "    y_test = np.array(test_dataset[\"test_set_y\"][:])\n",
    "\n",
    "    # classes\n",
    "    classes = np.array(test_dataset[\"list_classes\"][:])\n",
    "\n",
    "    return X_train, y_train, X_test, y_test, classes"
   ]
  },
  {
   "cell_type": "code",
   "execution_count": 15,
   "metadata": {},
   "outputs": [
    {
     "name": "stdout",
     "output_type": "stream",
     "text": [
      "X_train shape: (209, 64, 64, 3)\n",
      "X_test shape: (50, 64, 64, 3)\n",
      "y_train shape: (209,)\n",
      "y_test shape: (50,)\n",
      "classes shape: (2,)\n"
     ]
    }
   ],
   "source": [
    "# split\n",
    "train_x,train_y, test_x, test_y,classes = load_dataset_cat()\n",
    "\n",
    "# Display Shape\n",
    "print(\"X_train shape:\", train_x.shape)\n",
    "print(\"X_test shape:\", test_x.shape)\n",
    "print(\"y_train shape:\", train_y.shape)\n",
    "print(\"y_test shape:\",test_y.shape)\n",
    "print(\"classes shape:\",classes.shape)"
   ]
  },
  {
   "cell_type": "code",
   "execution_count": 16,
   "metadata": {},
   "outputs": [
    {
     "name": "stdout",
     "output_type": "stream",
     "text": [
      "y_train shape: (1, 209)\n",
      "y_test shape: (1, 50)\n"
     ]
    }
   ],
   "source": [
    "# We need to reshape y_train and y_test\n",
    "\n",
    "train_y = train_y.reshape((1,train_y.shape[0]))\n",
    "test_y = test_y.reshape((1,test_y.shape[0]))\n",
    "\n",
    "print(\"y_train shape:\", train_y.shape)\n",
    "print(\"y_test shape:\",test_y.shape)"
   ]
  },
  {
   "cell_type": "code",
   "execution_count": 17,
   "metadata": {},
   "outputs": [
    {
     "name": "stdout",
     "output_type": "stream",
     "text": [
      "X_train flatten shape: (12288, 209)\n",
      "X_test flatten shape: (12288, 50)\n"
     ]
    }
   ],
   "source": [
    "# Flatten\n",
    "\n",
    "train_x_flat = train_x.reshape(train_x.shape[0],-1).T\n",
    "test_x_flat = test_x.reshape(test_x.shape[0],-1).T\n",
    "\n",
    "\n",
    "print(\"X_train flatten shape:\",train_x_flat.shape)\n",
    "print(\"X_test flatten shape:\",test_x_flat.shape)"
   ]
  },
  {
   "cell_type": "code",
   "execution_count": 18,
   "metadata": {},
   "outputs": [],
   "source": [
    "# Normalize\n",
    "\n",
    "train_x_flat_norm = train_x_flat/np.max(train_x_flat)\n",
    "\n",
    "# Warning: the data are normalized with the Training set\n",
    "test_x_flat_norm = test_x_flat/np.max(train_x_flat)"
   ]
  },
  {
   "cell_type": "markdown",
   "metadata": {},
   "source": [
    "#### Train our model"
   ]
  },
  {
   "cell_type": "markdown",
   "metadata": {},
   "source": [
    "##### without regularization"
   ]
  },
  {
   "cell_type": "code",
   "execution_count": 25,
   "metadata": {},
   "outputs": [],
   "source": [
    "res_model_without_reg = neural_network_model(train_x_flat_norm,train_y,test_x_flat_norm,test_y,hidden_layers_dims = [15,15,5],n_iter=2500,learning_rate=0.0065,lambd=0.5,function_name=\"relu\",regularization=False,display=False)"
   ]
  },
  {
   "cell_type": "code",
   "execution_count": 26,
   "metadata": {},
   "outputs": [
    {
     "data": {
      "image/png": "[encoded data removed]",
      "text/plain": [
       "<Figure size 720x216 with 2 Axes>"
      ]
     },
     "metadata": {
      "needs_background": "light"
     },
     "output_type": "display_data"
    }
   ],
   "source": [
    "# Display the result\n",
    "\n",
    "fig, axs = plt.subplots(1, 2, figsize=(10, 3))\n",
    "\n",
    "axs[0].plot(res_model_without_reg[\"cost_train\"])\n",
    "axs[0].plot(res_model_without_reg[\"cost_test\"])\n",
    "axs[0].set_title(\"Loss\")\n",
    "axs[0].set_xlabel(\"n_iteration\")\n",
    "axs[0].legend([\"Train\",\"Test\"])\n",
    "\n",
    "axs[1].plot(res_model_without_reg[\"accuracy_train\"])\n",
    "axs[1].plot(res_model_without_reg[\"accuracy_test\"])\n",
    "axs[1].set_title(\"Accuracy\")\n",
    "axs[1].set_xlabel(\"n_iteration\")\n",
    "axs[1].legend([\"Train\",\"Test\"])\n",
    "plt.show()"
   ]
  },
  {
   "cell_type": "code",
   "execution_count": 27,
   "metadata": {},
   "outputs": [
    {
     "name": "stdout",
     "output_type": "stream",
     "text": [
      "1.0\n",
      "0.72\n"
     ]
    }
   ],
   "source": [
    "parameters = res_model_without_reg[\"parameters\"]\n",
    "acc_train = score(train_x_flat_norm,train_y,parameters)\n",
    "acc_test = score(test_x_flat_norm,test_y,parameters)\n",
    "\n",
    "print(acc_train)\n",
    "print(acc_test)"
   ]
  },
  {
   "cell_type": "markdown",
   "metadata": {},
   "source": [
    "##### with regularization"
   ]
  },
  {
   "cell_type": "code",
   "execution_count": 31,
   "metadata": {},
   "outputs": [],
   "source": [
    "res_model_with_reg = neural_network_model(train_x_flat_norm,train_y,test_x_flat_norm,test_y,hidden_layers_dims = [15,15,5],n_iter=2500,learning_rate=0.0065,lambd=0.7,function_name=\"relu\",regularization=True,display=False)"
   ]
  },
  {
   "cell_type": "code",
   "execution_count": 32,
   "metadata": {},
   "outputs": [
    {
     "data": {
      "image/png": "[encoded data removed]",
      "text/plain": [
       "<Figure size 720x216 with 2 Axes>"
      ]
     },
     "metadata": {
      "needs_background": "light"
     },
     "output_type": "display_data"
    }
   ],
   "source": [
    "# Display the result\n",
    "\n",
    "fig, axs = plt.subplots(1, 2, figsize=(10, 3))\n",
    "\n",
    "axs[0].plot(res_model_with_reg[\"cost_train\"])\n",
    "axs[0].plot(res_model_with_reg[\"cost_test\"])\n",
    "axs[0].set_title(\"Loss\")\n",
    "axs[0].set_xlabel(\"n_iteration\")\n",
    "axs[0].legend([\"Train\",\"Test\"])\n",
    "\n",
    "axs[1].plot(res_model_with_reg[\"accuracy_train\"])\n",
    "axs[1].plot(res_model_with_reg[\"accuracy_test\"])\n",
    "axs[1].set_title(\"Accuracy\")\n",
    "axs[1].set_xlabel(\"n_iteration\")\n",
    "axs[1].legend([\"Train\",\"Test\"])\n",
    "plt.show()"
   ]
  },
  {
   "cell_type": "code",
   "execution_count": 33,
   "metadata": {},
   "outputs": [
    {
     "name": "stdout",
     "output_type": "stream",
     "text": [
      "1.0\n",
      "0.76\n"
     ]
    }
   ],
   "source": [
    "parameters = res_model_with_reg[\"parameters\"]\n",
    "acc_train = score(train_x_flat_norm,train_y,parameters)\n",
    "acc_test = score(test_x_flat_norm,test_y,parameters)\n",
    "\n",
    "print(acc_train)\n",
    "print(acc_test)"
   ]
  },
  {
   "cell_type": "markdown",
   "metadata": {},
   "source": [
    "Our model has better result with the L2 Regularization. By testing different values of lambda we can try to reduce more the overfitting of our model."
   ]
  }
 ],
 "metadata": {
  "interpreter": {
   "hash": "6d46af94c2bbce495f1e668725902fa517c90b1782bcfe2fce0dd9868df553d3"
  },
  "kernelspec": {
   "display_name": "Python 3.8.8 64-bit ('base': conda)",
   "language": "python",
   "name": "python3"
  },
  "language_info": {
   "codemirror_mode": {
    "name": "ipython",
    "version": 3
   },
   "file_extension": ".py",
   "mimetype": "text/x-python",
   "name": "python",
   "nbconvert_exporter": "python",
   "pygments_lexer": "ipython3",
   "version": "3.8.8"
  },
  "orig_nbformat": 4
 },
 "nbformat": 4,
 "nbformat_minor": 2
}
