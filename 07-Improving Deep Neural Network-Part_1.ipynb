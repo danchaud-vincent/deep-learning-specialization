{
 "cells": [
  {
   "cell_type": "markdown",
   "metadata": {},
   "source": [
    "# Improving Deep Neural Network - Part 1"
   ]
  },
  {
   "cell_type": "markdown",
   "metadata": {},
   "source": [
    "## Table of Contents\n",
    "\n",
    "* [1. Setting up your ML application](#chapter1)\n",
    "    * [1.1  Train/dev/test](#section_1_1)\n",
    "    * [1.2  Bias vs Variance](#section_1_2)\n",
    "* [2. Regularizing your Neural Network](#chapter2)\n",
    "    * [2.1  Regularization](#section_2_1)\n",
    "    * [2.2  Why Regularization reduces overfitting](#section_2_2)\n",
    "    * [2.2  Dropout Regularization](#section_2_3)"
   ]
  },
  {
   "cell_type": "markdown",
   "metadata": {},
   "source": [
    "We know how to implement a neural network. Now we will learn how to make our neural network work well.\n",
    "-  hyperparameter tuning \n",
    "-  set up your data\n",
    "-  make sure your optimization algorithm runs quickly so that you get your learning algorithm to learn in a reasonable time"
   ]
  },
  {
   "cell_type": "markdown",
   "metadata": {},
   "source": [
    "# 1. Setting up your ML application <a class=\"anchor\" id=\"chapter1\"></a>"
   ]
  },
  {
   "cell_type": "markdown",
   "metadata": {},
   "source": [
    "When we train our neural network we have to make a lot of decisions such as :\n",
    "- number of layers in the neural network\n",
    "- number of hidden units\n",
    "- learning rate\n",
    "- activation function\n",
    "- ..."
   ]
  },
  {
   "cell_type": "markdown",
   "metadata": {},
   "source": [
    "In order to find the good parameters we have to test different models.\n",
    "\n",
    "So in pratice applied Machine Learning is a highly iterative process\n",
    "\n",
    "<center><img src=\"images/07-Improving Deep Neural Network/process-ML.PNG\" width = \"3a00px\"></center>"
   ]
  },
  {
   "cell_type": "markdown",
   "metadata": {},
   "source": [
    "- You start with an idea\n",
    "- you code it up and try it by running your code\n",
    "- you experiment and you get back a result that tells you how well work your network\n",
    "\n",
    "And then you refine your idea and try a new one"
   ]
  },
  {
   "cell_type": "markdown",
   "metadata": {},
   "source": [
    "## 1.1 Train/Dev/Test <a class=\"anchor\" id=\"section_1_1\"></a>"
   ]
  },
  {
   "cell_type": "markdown",
   "metadata": {},
   "source": [
    "Set up your dataset in terms of your train, development and test sets can make you much more efficient at determine more quickly a good model."
   ]
  },
  {
   "cell_type": "markdown",
   "metadata": {},
   "source": [
    "<center><img src=\"images/07-Improving Deep Neural Network/dataset.PNG\" width = \"400px\"></center>"
   ]
  },
  {
   "cell_type": "markdown",
   "metadata": {},
   "source": [
    "- You train your algorithms on the <b>Training set </b>\n",
    "- you use your <b>Dev set</b> to see which of many different models performs best \n",
    "- you evaluate the best model on your <b>Testing set</b>"
   ]
  },
  {
   "cell_type": "markdown",
   "metadata": {},
   "source": [
    "> In the previous era, or on small dataset :\n",
    "\n",
    "We split the dataset on :\n",
    "- 70% / 30%\n",
    "- 60% / 20% / 20%"
   ]
  },
  {
   "cell_type": "markdown",
   "metadata": {},
   "source": [
    "> Big data (Big dataset):\n",
    "\n",
    "\n",
    "We split the dataset on :\n",
    "- 98% / 1% / 1%\n",
    "- 99.5% / 0.5% / 0.5%"
   ]
  },
  {
   "cell_type": "markdown",
   "metadata": {},
   "source": [
    "##### Mismatched Train/Test distribution"
   ]
  },
  {
   "cell_type": "markdown",
   "metadata": {},
   "source": [
    "Ex :\n",
    "- Training set: Cat pictures from web\n",
    "- Dev/ test sets: Cat pictures from users using your app"
   ]
  },
  {
   "cell_type": "markdown",
   "metadata": {},
   "source": [
    "> Make sure the dev and test set come from the same distribution."
   ]
  },
  {
   "cell_type": "markdown",
   "metadata": {},
   "source": [
    "So having set up a train dev and test set will allow you to integrate more quickly. It will also allow you to more efficiently measure the bias and variance of your algorithm so you can more efficiently select ways to improve your algorithm."
   ]
  },
  {
   "cell_type": "markdown",
   "metadata": {},
   "source": [
    "## 1.2 Bias vs Variance <a class=\"anchor\" id=\"section_1_2\"></a>"
   ]
  },
  {
   "cell_type": "markdown",
   "metadata": {},
   "source": [
    "<center><img src=\"images/07-Improving Deep Neural Network/bias-variance.PNG\" width = \"500px\"></center>"
   ]
  },
  {
   "cell_type": "markdown",
   "metadata": {},
   "source": [
    "In Deep learning the two key numbers to look at to understand bias and variance will be the train set error and the dev set or the development set error.\n",
    "\n",
    "> For example we take a Cat Classifier:\n",
    "\n",
    "<br>\n",
    "<center>\n",
    "<table>\n",
    "    <tbody>\n",
    "        <tr>\n",
    "            <td>Train set Error</td>\n",
    "            <td>Dev set Error</td>\n",
    "            <td>Bias-Variance</td>\n",
    "        </tr>\n",
    "        <tr>\n",
    "            <td>1%</td>\n",
    "            <td>11%</td>\n",
    "            <td>High variance</td>\n",
    "        </tr>\n",
    "        <tr>\n",
    "            <td>15%</td>\n",
    "            <td>16%</td>\n",
    "            <td>High Biais</td>\n",
    "        </tr>\n",
    "        <tr>\n",
    "            <td>15%</td>\n",
    "            <td>30%</td>\n",
    "            <td>High variance & High bias</td>\n",
    "        </tr>\n",
    "        <tr>\n",
    "            <td>0.5%</td>\n",
    "            <td>1%</td>\n",
    "            <td>Low bias & Low variance</td>\n",
    "        </tr>\n",
    "    </tbody>\n",
    "</table>\n",
    "</center>"
   ]
  },
  {
   "cell_type": "markdown",
   "metadata": {},
   "source": [
    "# 2. Regularizing your Neural Network <a class=\"anchor\" id=\"chapter2\"></a>"
   ]
  },
  {
   "cell_type": "markdown",
   "metadata": {},
   "source": [
    "## 2.1 Regularization <a class=\"anchor\" id=\"section_2_1\"></a>"
   ]
  },
  {
   "cell_type": "markdown",
   "metadata": {},
   "source": [
    "## 2.2 Why Regularization reduces overfitting? <a class=\"anchor\" id=\"section_2_2\"></a>"
   ]
  },
  {
   "cell_type": "markdown",
   "metadata": {},
   "source": [
    "## 2.3 Dropout Regularization <a class=\"anchor\" id=\"section_2_3\"></a>"
   ]
  },
  {
   "cell_type": "markdown",
   "metadata": {},
   "source": []
  }
 ],
 "metadata": {
  "language_info": {
   "name": "python"
  },
  "orig_nbformat": 4
 },
 "nbformat": 4,
 "nbformat_minor": 2
}
