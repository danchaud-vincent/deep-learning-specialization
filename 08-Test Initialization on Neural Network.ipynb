{
 "cells": [
  {
   "cell_type": "markdown",
   "metadata": {},
   "source": [
    "# Test Initialization on Neural Network"
   ]
  },
  {
   "cell_type": "markdown",
   "metadata": {},
   "source": [
    "## Table of Contents\n",
    "\n",
    "* [1. Build a L-layers Neural Network ](#chapter1)\n",
    "    * [1.1 Initialize parameters](#section_1_1)\n",
    "    * [1.2 Forward propagation](#section_1_2)\n",
    "    * [1.3 Cost function](#section_1_3)\n",
    "    * [1.4 Backward Propagation](#section_1_4)\n",
    "    * [1.5 Update parameters](#section_1_5) \n",
    "    * [1.6 Predict](#section_1_6) \n",
    "    * [1.7 Model](#section_1_7)\n",
    "* [2. Example on Dataset 1](#chapter2)\n",
    "    * [2.1 Train zeros init](#section_2_1)\n",
    "    * [2.2 Train random init](#section_2_2)\n",
    "    * [2.3 Train he init](#section_2)\n",
    "* [3. Example on dataset 2 - Cat classification](#chapter3)\n",
    "    * [3.1 Train random init](#section_3_1)\n",
    "    * [3.2 Train he init](#section_3_2)\n",
    "   "
   ]
  },
  {
   "cell_type": "code",
   "execution_count": 1,
   "metadata": {},
   "outputs": [],
   "source": [
    "# Packages\n",
    "import copy\n",
    "import numpy as np\n",
    "import matplotlib.pyplot as plt\n",
    "import sklearn\n",
    "import sklearn.datasets\n",
    "import sklearn.linear_model\n",
    "from sklearn.metrics import accuracy_score\n",
    "from sklearn.metrics import log_loss\n",
    "\n",
    "\n",
    "%matplotlib inline"
   ]
  },
  {
   "cell_type": "markdown",
   "metadata": {},
   "source": [
    "# 1. Build a L-layer Neural Network <a class=\"anchor\" id=\"chapter1\"></a>"
   ]
  },
  {
   "cell_type": "markdown",
   "metadata": {},
   "source": [
    "## 1.1 initialization parameters  <a class=\"anchor\" id=\"section_1_1\"></a>"
   ]
  },
  {
   "cell_type": "code",
   "execution_count": 207,
   "metadata": {},
   "outputs": [],
   "source": [
    "def initialize_parameters(layers_dims,n_input,n_output,type_init):\n",
    "    \"\"\"\n",
    "    Compute the initialization of the parameters in our Neural Network\n",
    "\n",
    "    - Arguments:\n",
    "    layers_dims: array containing the dimension of the hidden layers\n",
    "    n_input: numbers of features in the input layer\n",
    "    n_ouput: numbers of nodes in the output layer\n",
    "    type_init: \"zeros\",\"random\",\"he\" type of initialization\n",
    "\n",
    "    - Return:\n",
    "    parameters: dictionnary containing of the parameters of our neural network\n",
    "    \"\"\"\n",
    "\n",
    "    # init\n",
    "    parameters = {}\n",
    "\n",
    "    # add the output layer to the array\n",
    "    layers_dims.append(n_output)\n",
    "\n",
    "    # number of layers\n",
    "    L = len(layers_dims)\n",
    "\n",
    "    for i in range(L):\n",
    "        \n",
    "        # if i==0 take n_x features\n",
    "        if i ==0:\n",
    "            layer_prev = n_input\n",
    "        else:\n",
    "            layer_prev = layers_dims[i-1]\n",
    "\n",
    "\n",
    "        # check type of initialization\n",
    "        if type_init.lower() == \"random\":\n",
    "\n",
    "            parameters[\"W\" + str(i+1)] = np.random.randn(layers_dims[i],layer_prev) *3.5\n",
    "            parameters[\"b\" + str(i+1)] = np.zeros((layers_dims[i],1))\n",
    "\n",
    "        elif type_init.lower() == \"zeros\":\n",
    "\n",
    "            parameters[\"W\" + str(i+1)] = np.zeros((layers_dims[i],layer_prev))\n",
    "            parameters[\"b\" + str(i+1)] = np.zeros((layers_dims[i],1))\n",
    "        \n",
    "        elif type_init.lower() == \"he\":\n",
    "\n",
    "            parameters[\"W\" + str(i+1)] = np.random.randn(layers_dims[i],layer_prev) * np.sqrt(2/layer_prev)\n",
    "            parameters[\"b\" + str(i+1)] = np.zeros((layers_dims[i],1))\n",
    "\n",
    "        else:\n",
    "            # default init\n",
    "            parameters[\"W\" + str(i+1)] = np.random.randn(layers_dims[i],layer_prev) * np.sqrt(2/layer_prev)\n",
    "            parameters[\"b\" + str(i+1)] = np.zeros((layers_dims[i],1))\n",
    "\n",
    "\n",
    "    return parameters"
   ]
  },
  {
   "cell_type": "code",
   "execution_count": 154,
   "metadata": {},
   "outputs": [
    {
     "data": {
      "text/plain": [
       "{'W1': array([[0., 0.],\n",
       "        [0., 0.],\n",
       "        [0., 0.],\n",
       "        [0., 0.],\n",
       "        [0., 0.]]),\n",
       " 'b1': array([[0.],\n",
       "        [0.],\n",
       "        [0.],\n",
       "        [0.],\n",
       "        [0.]]),\n",
       " 'W2': array([[0., 0., 0., 0., 0.],\n",
       "        [0., 0., 0., 0., 0.],\n",
       "        [0., 0., 0., 0., 0.],\n",
       "        [0., 0., 0., 0., 0.],\n",
       "        [0., 0., 0., 0., 0.]]),\n",
       " 'b2': array([[0.],\n",
       "        [0.],\n",
       "        [0.],\n",
       "        [0.],\n",
       "        [0.]]),\n",
       " 'W3': array([[0., 0., 0., 0., 0.],\n",
       "        [0., 0., 0., 0., 0.],\n",
       "        [0., 0., 0., 0., 0.]]),\n",
       " 'b3': array([[0.],\n",
       "        [0.],\n",
       "        [0.]]),\n",
       " 'W4': array([[0., 0., 0.]]),\n",
       " 'b4': array([[0.]])}"
      ]
     },
     "execution_count": 154,
     "metadata": {},
     "output_type": "execute_result"
    }
   ],
   "source": [
    "# test initialization\n",
    "hidden_layers_dim = [5,5,3]\n",
    "n_input = 2\n",
    "n_output = 1\n",
    "\n",
    "params = initialize_parameters(hidden_layers_dim,n_input,n_output,\"zeros\")\n",
    "params"
   ]
  },
  {
   "cell_type": "markdown",
   "metadata": {},
   "source": [
    "## 1.2 Forward propagation <a class=\"anchor\" id=\"section_1_2\"></a>"
   ]
  },
  {
   "cell_type": "code",
   "execution_count": 155,
   "metadata": {},
   "outputs": [],
   "source": [
    "def activation_function(Z,activation_name):\n",
    "\n",
    "    if activation_name.lower() == \"sigmoid\":\n",
    "\n",
    "        A = 1/(1+np.exp(-Z))\n",
    "    \n",
    "    elif activation_name.lower() == \"relu\":\n",
    "\n",
    "        A = np.maximum(0,Z)\n",
    "\n",
    "    elif activation_name.lower() == \"tanh\":\n",
    "\n",
    "        A = np.tanh(Z)\n",
    "    \n",
    "    else:\n",
    "        # By default relu\n",
    "        A = np.maximum(0,Z)\n",
    "\n",
    "    return A"
   ]
  },
  {
   "cell_type": "code",
   "execution_count": 156,
   "metadata": {},
   "outputs": [],
   "source": [
    "def forward_propagation(X,parameters,activation_name=\"relu\"):\n",
    "\n",
    "    \"\"\"\n",
    "    Compute the activation function\n",
    "    \n",
    "    Arguments:\n",
    "    activation_name -- name of the activation function choosen\n",
    "    Z -- items\n",
    "\n",
    "    Returns:\n",
    "    activation -- activation value\n",
    "    \"\"\"\n",
    "    # init cache\n",
    "    caches = []\n",
    "    cache_layer = {}\n",
    "\n",
    "    # layer\n",
    "    L = len(parameters)//2\n",
    "\n",
    "    # setting A_prev to X\n",
    "    A_prev = X\n",
    "\n",
    "    for i in range(1,L+1):\n",
    "\n",
    "        # getting parameters\n",
    "        W = parameters[\"W\" + str(i)]\n",
    "        b= parameters[\"b\" + str(i)]\n",
    "\n",
    "        # linear result\n",
    "        Z = np.dot(W,A_prev) + b\n",
    "\n",
    "        if i==L:\n",
    "            # last layer -  sigmoid \n",
    "            A = activation_function(Z,\"sigmoid\")\n",
    "        else:\n",
    "            A = activation_function(Z,\"relu\")\n",
    "\n",
    "        # adding to the cache\n",
    "        cache = {\"W\" : W, \"b\":b,\"A\":A,\"Z\":Z,\"A_prev\": A_prev}\n",
    "\n",
    "        # adding layer cache\n",
    "        caches.append(cache)\n",
    "\n",
    "        # setting A_prev\n",
    "        A_prev = A\n",
    "\n",
    "    return A, caches"
   ]
  },
  {
   "cell_type": "code",
   "execution_count": 158,
   "metadata": {},
   "outputs": [
    {
     "name": "stdout",
     "output_type": "stream",
     "text": [
      "W shape: (5, 2) b shape: (5, 1)\n",
      "W shape: (5, 5) b shape: (5, 1)\n",
      "W shape: (3, 5) b shape: (3, 1)\n",
      "W shape: (1, 3) b shape: (1, 1)\n"
     ]
    }
   ],
   "source": [
    "# test forward propagation\n",
    "\n",
    "layers_dim = [5,5,3]\n",
    "X = np.random.randn(2,100) *0.01\n",
    "params = initialize_parameters(layers_dim,X.shape[0],1,\"random\")\n",
    "\n",
    "AL,caches = forward_propagation(X,params)\n",
    "\n",
    "# check the shape of W \n",
    "for val in caches:\n",
    "    print(\"W shape:\",val[\"W\"].shape,\"b shape:\",val[\"b\"].shape)"
   ]
  },
  {
   "cell_type": "markdown",
   "metadata": {},
   "source": [
    "## 1.3 Compute Loss <a class=\"anchor\" id=\"section_1_3\"></a>"
   ]
  },
  {
   "cell_type": "code",
   "execution_count": 159,
   "metadata": {},
   "outputs": [],
   "source": [
    "def cost_function(AL,y):\n",
    "\n",
    "    \"\"\"\n",
    "    Compute the log loss L(y_pred,y)\n",
    "\n",
    "    -- Arguments:\n",
    "    y : true labels of the dataset\n",
    "    AL : result of the forward propagation \n",
    "\n",
    "    -- Returns:\n",
    "    cost : Log loss cost\n",
    "\n",
    "    \"\"\"\n",
    "    # m examples\n",
    "    m = y.shape[1]\n",
    "\n",
    "    epsilon = 1e-15\n",
    "\n",
    "    cost = (np.multiply(y,np.log(AL+epsilon)) + np.multiply(1-y,np.log(1-AL+epsilon)))\n",
    "    cost = -(1/m) *np.nansum(cost)\n",
    "    \n",
    "    return cost"
   ]
  },
  {
   "cell_type": "code",
   "execution_count": 160,
   "metadata": {},
   "outputs": [
    {
     "name": "stdout",
     "output_type": "stream",
     "text": [
      "cost_function result: 0.9707882749827177\n",
      "log_loss sklearn: 0.9707882749827241\n"
     ]
    }
   ],
   "source": [
    "# Test the cost\n",
    "y_true = np.random.randint(0,2,(1,100))\n",
    "y_pred = np.random.random((1,100))\n",
    "\n",
    "# check with the true log_loss\n",
    "cost = cost_function(y_pred,y_true)\n",
    "l_cost = log_loss(y_true.T,y_pred.T)\n",
    "print(\"cost_function result:\",cost)\n",
    "print(\"log_loss sklearn:\",l_cost)"
   ]
  },
  {
   "cell_type": "markdown",
   "metadata": {},
   "source": [
    "## 1.4 Backward propagation <a class=\"anchor\" id=\"section_1_4\"></a>"
   ]
  },
  {
   "cell_type": "code",
   "execution_count": 161,
   "metadata": {},
   "outputs": [],
   "source": [
    "def backward_activation(dA,Z,function_name=\"relu\"):\n",
    "\n",
    "    \"\"\"\n",
    "    Compute dZ for the backward propagation\n",
    "\n",
    "    -- Arguments:\n",
    "    dA : derivative of A\n",
    "    Z : linear activation\n",
    "    function_name: name of the activation_function\n",
    "\n",
    "    -- Returns:\n",
    "    dZ: derivative of Z\n",
    "    \"\"\"\n",
    "\n",
    "    if function_name.lower() == \"sigmoid\":\n",
    "        # sigmoid\n",
    "        s = 1/(1+np.exp(-Z))\n",
    "\n",
    "        # derivative sigmoid\n",
    "        dG = s*(1-s)\n",
    "\n",
    "        # dZ\n",
    "        dZ = dA * dG\n",
    "\n",
    "    elif function_name.lower() == \"relu\":\n",
    "\n",
    "        # relu\n",
    "        r = np.maximum(0,Z)\n",
    "\n",
    "        # derivative relu\n",
    "        dG = np.int64(r>0)\n",
    "\n",
    "        # dZ\n",
    "        dZ = np.multiply(dA,dG)\n",
    "\n",
    "    elif function_name.lower() == \"tanh\":\n",
    "\n",
    "        # tanh\n",
    "        th = np.tanh(Z)\n",
    "\n",
    "        # derivative tanh\n",
    "        dG = 1-np.power(th,2)\n",
    "\n",
    "        # dZ\n",
    "        dZ = dA * dG\n",
    "\n",
    "    else:\n",
    "        # by default relu\n",
    "        r = np.maximum(0,Z)\n",
    "\n",
    "        # derivative relu\n",
    "        dG = np.int64(r>0)\n",
    "\n",
    "        # dZ\n",
    "        dZ = np.multiply(dA,dG)\n",
    "\n",
    "    return dZ"
   ]
  },
  {
   "cell_type": "code",
   "execution_count": 162,
   "metadata": {},
   "outputs": [],
   "source": [
    "def backward_propagation(AL,y,caches,function_name=\"relu\"):\n",
    "\n",
    "    # gradients\n",
    "    gradients = {}\n",
    "\n",
    "    # numbers of layers\n",
    "    L = len(caches)\n",
    "\n",
    "    # number of examples\n",
    "    m = y.shape[1]\n",
    "\n",
    "    # dAL\n",
    "    dAL = - (np.divide(y, AL) - np.divide(1 - y, 1 - AL))\n",
    "    \n",
    "    # getting cache layer L\n",
    "    current_cache = caches[-1]\n",
    "    WL = current_cache['W']\n",
    "    ZL = current_cache['Z']\n",
    "    A_prev = current_cache['A_prev']\n",
    "\n",
    "    dZL = backward_activation(dAL,ZL,\"sigmoid\")\n",
    "\n",
    "    dW_temp = (1/m)*np.dot(dZL,A_prev.T)\n",
    "    db_temp = (1/m) * np.sum(dZL,axis=1, keepdims=True)\n",
    "    dA_prev_temp = np.dot(WL.T,dZL)\n",
    "    \n",
    "    # compute the gradient\n",
    "    gradients[\"dW\" + str(L)] = dW_temp\n",
    "    gradients[\"db\" + str(L)] = db_temp\n",
    "\n",
    "\n",
    "    for i in reversed(range(L-1)):\n",
    "\n",
    "        # getting cache layer L\n",
    "        current_cache = caches[i]\n",
    "        W = current_cache['W']\n",
    "        Z = current_cache['Z']\n",
    "        A_prev = current_cache['A_prev']\n",
    "\n",
    "        dZ = backward_activation(dA_prev_temp,Z,function_name)\n",
    "\n",
    "        dW_temp = (1/m)*np.dot(dZ,A_prev.T)\n",
    "        db_temp = (1/m) * np.sum(dZ,axis=1, keepdims=True)\n",
    "        dA_prev_temp = np.dot(W.T,dZ)\n",
    "        \n",
    "        # compute the gradient\n",
    "        gradients[\"dW\" + str(i+1)] = dW_temp\n",
    "        gradients[\"db\" + str(i+1)] = db_temp\n",
    "\n",
    "\n",
    "    return gradients\n"
   ]
  },
  {
   "cell_type": "code",
   "execution_count": 164,
   "metadata": {},
   "outputs": [
    {
     "name": "stdout",
     "output_type": "stream",
     "text": [
      "dW1 (5, 10)\n",
      "dW2 (5, 5)\n",
      "dW3 (4, 5)\n",
      "dW4 (1, 4)\n"
     ]
    },
    {
     "name": "stderr",
     "output_type": "stream",
     "text": [
      "<ipython-input-162-18c056ca7c10>:13: RuntimeWarning: divide by zero encountered in true_divide\n",
      "  dAL = - (np.divide(y, AL) - np.divide(1 - y, 1 - AL))\n",
      "<ipython-input-162-18c056ca7c10>:13: RuntimeWarning: invalid value encountered in true_divide\n",
      "  dAL = - (np.divide(y, AL) - np.divide(1 - y, 1 - AL))\n",
      "<ipython-input-161-8be50772606d>:23: RuntimeWarning: invalid value encountered in multiply\n",
      "  dZ = dA * dG\n"
     ]
    }
   ],
   "source": [
    "# test backward propa\n",
    "\n",
    "layers_dim = [5,5,4]\n",
    "X = np.random.randn(10,100)\n",
    "y_true = np.random.randint(0,2,(1,100))\n",
    "params = initialize_parameters(layers_dim,X.shape[0],1,\"random\")\n",
    "\n",
    "AL,caches = forward_propagation(X,params)\n",
    "    \n",
    "gradients = backward_propagation(AL,y_true,caches)\n",
    "gradients\n",
    "for i in range(len(caches)):\n",
    "    print(f\"dW{i+1}\",gradients[f\"dW{i+1}\"].shape)"
   ]
  },
  {
   "cell_type": "markdown",
   "metadata": {},
   "source": [
    "## 1.5 Update parameters <a class=\"anchor\" id=\"section_1_5\"></a>"
   ]
  },
  {
   "cell_type": "code",
   "execution_count": 165,
   "metadata": {},
   "outputs": [],
   "source": [
    "def update_parameters(parameters,gradients,learning_rate):\n",
    "\n",
    "    # copy \n",
    "    params = copy.deepcopy(parameters)\n",
    "    \n",
    "    # nb layer\n",
    "    L = len(parameters)//2\n",
    "\n",
    "    for i in range(L):\n",
    "        params[\"W\" + str(i+1)] = params[\"W\" + str(i+1)] - learning_rate * gradients[\"dW\" + str(i+1)]\n",
    "        params[\"b\" + str(i+1)] = params[\"b\" + str(i+1)] - learning_rate * gradients[\"db\" + str(i+1)]\n",
    "\n",
    "    return params"
   ]
  },
  {
   "cell_type": "markdown",
   "metadata": {},
   "source": [
    "## 1.6 Predict <a class=\"anchor\" id=\"section_1_6\"></a>"
   ]
  },
  {
   "cell_type": "code",
   "execution_count": 166,
   "metadata": {},
   "outputs": [],
   "source": [
    "def predict(X,parameters,function_name):\n",
    "\n",
    "    y_pred,caches = forward_propagation(X,parameters,function_name)\n",
    "\n",
    "    y_pred = np.where(y_pred>=0.5,1,0)\n",
    "\n",
    "    return y_pred"
   ]
  },
  {
   "cell_type": "code",
   "execution_count": 167,
   "metadata": {},
   "outputs": [],
   "source": [
    "def score(X,y,parameters):\n",
    "    \n",
    "    # prediction\n",
    "    y_pred = predict(X,parameters,function_name=\"relu\")\n",
    "\n",
    "    # score\n",
    "    acc = accuracy_score(y.T,y_pred.T)\n",
    "\n",
    "    return acc"
   ]
  },
  {
   "cell_type": "markdown",
   "metadata": {},
   "source": [
    "## 1.7 Model <a class=\"anchor\" id=\"section_1_7\"></a>"
   ]
  },
  {
   "cell_type": "code",
   "execution_count": 168,
   "metadata": {},
   "outputs": [],
   "source": [
    "def neural_network_model(X_train,y_train,X_test,y_test,hidden_layers_dims,n_iter,learning_rate,function_name=\"relu\",initialization_weights=\"random\",display=False):\n",
    "\n",
    "    # init trackers\n",
    "    dico_model = {}\n",
    "    costs_train = []\n",
    "    costs_test = []\n",
    "    accs_train = []\n",
    "    accs_test = []\n",
    "\n",
    "    # init\n",
    "    m = X_train.shape[1]\n",
    "    n_input = X_train.shape[0]\n",
    "    n_output = y_train.shape[0]\n",
    "\n",
    "    # initialize parameters\n",
    "    parameters = initialize_parameters(hidden_layers_dims,n_input,n_output,initialization_weights)\n",
    "\n",
    "\n",
    "    for i in range(n_iter):\n",
    "\n",
    "        # ---- forward propagation ------\n",
    "        AL_train, caches = forward_propagation(X_train,parameters, activation_name=function_name)\n",
    "        AL_test, caches_test = forward_propagation(X_test,parameters, activation_name=function_name)\n",
    "\n",
    "        #  cost\n",
    "        cost_train = cost_function(AL_train,y_train)\n",
    "        costs_train.append(cost_train)\n",
    "\n",
    "        cost_test = cost_function(AL_test,y_test)\n",
    "        costs_test.append(cost_test)\n",
    "\n",
    "        # accuracy \n",
    "        y_pred_train = predict(X_train,parameters,function_name)\n",
    "        acc_train = accuracy_score(y_train.T,y_pred_train.T)\n",
    "        accs_train.append(acc_train)\n",
    "\n",
    "        y_pred_test = predict(X_test,parameters,function_name)\n",
    "        acc_test = accuracy_score(y_test.T,y_pred_test.T)\n",
    "        accs_test.append(acc_test)    \n",
    "\n",
    "        # ---- bacward propagation ------\n",
    "        gradients = backward_propagation(AL_train,y_train,caches,function_name)\n",
    "\n",
    "        # ---- update params ------------\n",
    "        params = update_parameters(parameters, gradients, learning_rate)\n",
    "        parameters = params\n",
    "        \n",
    "        if display is True and i%500 == 0:\n",
    "            print(f\"iter {i} : Train_Loss = {cost_train}, Train_acc = {acc_train},Test_Loss = {cost_test}, Test_acc = {acc_test}\")\n",
    "\n",
    "    dict_model = {\"parameters\": parameters,\"cost_train\":costs_train,\"accuracy_train\":accs_train,\"cost_test\":costs_test,\"accuracy_test\":accs_test}\n",
    "\n",
    "    return dict_model\n"
   ]
  },
  {
   "cell_type": "markdown",
   "metadata": {},
   "source": [
    "# 2. Example on dataset 1 <a class=\"anchor\" id=\"chapter2\"></a>"
   ]
  },
  {
   "cell_type": "markdown",
   "metadata": {},
   "source": [
    "## 2.1 Load Dataset  <a class=\"anchor\" id=\"section_2_1\"></a>"
   ]
  },
  {
   "cell_type": "code",
   "execution_count": 208,
   "metadata": {},
   "outputs": [],
   "source": [
    "def load_dataset():\n",
    "    np.random.seed(1)\n",
    "    train_X, train_Y = sklearn.datasets.make_circles(n_samples=300, noise=.05)\n",
    "    np.random.seed(2)\n",
    "    test_X, test_Y = sklearn.datasets.make_circles(n_samples=100, noise=.05)\n",
    "    # Visualize the data\n",
    "    plt.scatter(train_X[:, 0], train_X[:, 1], c=train_Y, s=40, cmap=plt.cm.Spectral);\n",
    "    train_X = train_X.T\n",
    "    train_Y = train_Y.reshape((1, train_Y.shape[0]))\n",
    "    test_X = test_X.T\n",
    "    test_Y = test_Y.reshape((1, test_Y.shape[0]))\n",
    "    \n",
    "    return train_X, train_Y, test_X, test_Y"
   ]
  },
  {
   "cell_type": "code",
   "execution_count": 209,
   "metadata": {},
   "outputs": [
    {
     "data": {
      "image/png": "[encoded data removed]",
      "text/plain": [
       "<Figure size 432x288 with 1 Axes>"
      ]
     },
     "metadata": {
      "needs_background": "light"
     },
     "output_type": "display_data"
    }
   ],
   "source": [
    "X_train, y_train, X_test, y_test = load_dataset()"
   ]
  },
  {
   "cell_type": "markdown",
   "metadata": {},
   "source": [
    "## 2.2 Train zeros Initialization <a class=\"anchor\" id=\"section_2_2\"></a>"
   ]
  },
  {
   "cell_type": "code",
   "execution_count": 210,
   "metadata": {},
   "outputs": [
    {
     "name": "stdout",
     "output_type": "stream",
     "text": [
      "iter 0 : Train_Loss = 0.6931471805599434, Train_acc = 0.5,Test_Loss = 0.6931471805599436, Test_acc = 0.5\n",
      "iter 500 : Train_Loss = 0.6931471805599434, Train_acc = 0.5,Test_Loss = 0.6931471805599436, Test_acc = 0.5\n",
      "iter 1000 : Train_Loss = 0.6931471805599434, Train_acc = 0.5,Test_Loss = 0.6931471805599436, Test_acc = 0.5\n",
      "iter 1500 : Train_Loss = 0.6931471805599434, Train_acc = 0.5,Test_Loss = 0.6931471805599436, Test_acc = 0.5\n",
      "iter 2000 : Train_Loss = 0.6931471805599434, Train_acc = 0.5,Test_Loss = 0.6931471805599436, Test_acc = 0.5\n",
      "iter 2500 : Train_Loss = 0.6931471805599434, Train_acc = 0.5,Test_Loss = 0.6931471805599436, Test_acc = 0.5\n",
      "iter 3000 : Train_Loss = 0.6931471805599434, Train_acc = 0.5,Test_Loss = 0.6931471805599436, Test_acc = 0.5\n",
      "iter 3500 : Train_Loss = 0.6931471805599434, Train_acc = 0.5,Test_Loss = 0.6931471805599436, Test_acc = 0.5\n",
      "iter 4000 : Train_Loss = 0.6931471805599434, Train_acc = 0.5,Test_Loss = 0.6931471805599436, Test_acc = 0.5\n",
      "iter 4500 : Train_Loss = 0.6931471805599434, Train_acc = 0.5,Test_Loss = 0.6931471805599436, Test_acc = 0.5\n"
     ]
    }
   ],
   "source": [
    "hidden_layers_dims = [10,5]\n",
    "n_iter = 5000\n",
    "learning_rate = 0.01\n",
    "\n",
    "dict_model = neural_network_model(X_train,y_train,X_test,y_test,hidden_layers_dims,n_iter,learning_rate,function_name=\"relu\",initialization_weights=\"zeros\",display=True)"
   ]
  },
  {
   "cell_type": "code",
   "execution_count": 211,
   "metadata": {},
   "outputs": [
    {
     "data": {
      "image/png": "[encoded data removed]",
      "text/plain": [
       "<Figure size 720x216 with 2 Axes>"
      ]
     },
     "metadata": {
      "needs_background": "light"
     },
     "output_type": "display_data"
    }
   ],
   "source": [
    "# Display the result\n",
    "\n",
    "fig, axs = plt.subplots(1, 2, figsize=(10, 3))\n",
    "\n",
    "axs[0].plot(dict_model[\"cost_train\"])\n",
    "axs[0].plot(dict_model[\"cost_test\"])\n",
    "axs[0].set_title(\"Loss\")\n",
    "axs[0].set_xlabel(\"n_iteration\")\n",
    "axs[0].legend([\"Train\",\"Test\"])\n",
    "\n",
    "axs[1].plot(dict_model[\"accuracy_train\"])\n",
    "axs[1].plot(dict_model[\"accuracy_test\"])\n",
    "axs[1].set_title(\"Accuracy\")\n",
    "axs[1].set_xlabel(\"n_iteration\")\n",
    "axs[1].legend([\"Train\",\"Test\"])\n",
    "plt.show()"
   ]
  },
  {
   "cell_type": "markdown",
   "metadata": {},
   "source": [
    "__Note__: For sake of simplicity calculations below are done using only one example at a time.\n",
    "\n",
    "Since the weights and biases are zero, multiplying by the weights creates the zero vector which gives 0 when the activation function is ReLU. As `z = 0`\n",
    "\n",
    "$$a = ReLU(z) = max(0, z) = 0$$\n",
    "\n",
    "At the classification layer, where the activation function is sigmoid you then get (for either input): \n",
    "\n",
    "$$\\sigma(z) = \\frac{1}{ 1 + e^{-(z)}} = \\frac{1}{2} = y_{pred}$$\n",
    "\n",
    "As for every example you are getting a 0.5 chance of it being true our cost function becomes helpless in adjusting the weights.\n",
    "\n",
    "Your loss function:\n",
    "$$ \\mathcal{L}(a, y) =  - y  \\ln(y_{pred}) - (1-y)  \\ln(1-y_{pred})$$\n",
    "\n",
    "For `y=1`, `y_pred=0.5` it becomes:\n",
    "\n",
    "$$ \\mathcal{L}(0, 1) =  - (1)  \\ln(\\frac{1}{2}) = 0.6931471805599453$$\n",
    "\n",
    "For `y=0`, `y_pred=0.5` it becomes:\n",
    "\n",
    "$$ \\mathcal{L}(0, 0) =  - (1)  \\ln(\\frac{1}{2}) = 0.6931471805599453$$\n",
    "\n",
    "As you can see with the prediction being 0.5 whether the actual (`y`) value is 1 or 0 you get the same loss value for both, so none of the weights get adjusted and you are stuck with the same old value of the weights. \n",
    "\n",
    "This is why you can see that the model is predicting 0 for every example! No wonder it's doing so badly.\n",
    "\n",
    "In general, initializing all the weights to zero results in the network failing to break symmetry. This means that every neuron in each layer will learn the same thing, so you might as well be training a neural network with $n^{[l]}=1$ for every layer. This way, the network is no more powerful than a linear classifier like logistic regression. "
   ]
  },
  {
   "cell_type": "markdown",
   "metadata": {},
   "source": [
    "## 2.3 Train random Initialization <a class=\"anchor\" id=\"section_2_3\"></a>"
   ]
  },
  {
   "cell_type": "code",
   "execution_count": 212,
   "metadata": {},
   "outputs": [
    {
     "name": "stdout",
     "output_type": "stream",
     "text": [
      "iter 0 : Train_Loss = 13.805792489985325, Train_acc = 0.49666666666666665,Test_Loss = 13.601945599261922, Test_acc = 0.5\n",
      "iter 500 : Train_Loss = 0.360079683280297, Train_acc = 0.8166666666666667,Test_Loss = 0.34023166463341603, Test_acc = 0.82\n",
      "iter 1000 : Train_Loss = 0.31234296118733756, Train_acc = 0.8266666666666667,Test_Loss = 0.3057980332943877, Test_acc = 0.83\n",
      "iter 1500 : Train_Loss = 0.2892342457484806, Train_acc = 0.8433333333333334,Test_Loss = 0.28527471668930554, Test_acc = 0.85\n",
      "iter 2000 : Train_Loss = 0.23312030365723532, Train_acc = 0.89,Test_Loss = 0.2617240566618719, Test_acc = 0.86\n",
      "iter 2500 : Train_Loss = 0.18814562213321862, Train_acc = 0.9566666666666667,Test_Loss = 0.2249692408934318, Test_acc = 0.9\n",
      "iter 3000 : Train_Loss = 0.17232023537072474, Train_acc = 0.96,Test_Loss = 0.2108378148592893, Test_acc = 0.9\n",
      "iter 3500 : Train_Loss = 0.16061540375390446, Train_acc = 0.96,Test_Loss = 0.20050050526898214, Test_acc = 0.91\n",
      "iter 4000 : Train_Loss = 0.14936313380944338, Train_acc = 0.9633333333333334,Test_Loss = 0.1914782147144796, Test_acc = 0.91\n",
      "iter 4500 : Train_Loss = 0.1395280087917363, Train_acc = 0.9733333333333334,Test_Loss = 0.1835844718574266, Test_acc = 0.92\n",
      "iter 5000 : Train_Loss = 0.13092131773908594, Train_acc = 0.9733333333333334,Test_Loss = 0.17665754044639292, Test_acc = 0.92\n",
      "iter 5500 : Train_Loss = 0.12332790164293987, Train_acc = 0.9733333333333334,Test_Loss = 0.17048598362415643, Test_acc = 0.92\n",
      "iter 6000 : Train_Loss = 0.11372635427753186, Train_acc = 0.9733333333333334,Test_Loss = 0.15944279634693803, Test_acc = 0.94\n",
      "iter 6500 : Train_Loss = 0.10471945822982466, Train_acc = 0.9766666666666667,Test_Loss = 0.14732258753765584, Test_acc = 0.92\n",
      "iter 7000 : Train_Loss = 0.09682284777211922, Train_acc = 0.9833333333333333,Test_Loss = 0.1403993106901463, Test_acc = 0.92\n",
      "iter 7500 : Train_Loss = 0.08325284972613875, Train_acc = 0.9833333333333333,Test_Loss = 0.14610858247975897, Test_acc = 0.91\n",
      "iter 8000 : Train_Loss = 0.07524639478584845, Train_acc = 0.9833333333333333,Test_Loss = 0.1457407311127712, Test_acc = 0.92\n",
      "iter 8500 : Train_Loss = 0.0685362362917915, Train_acc = 0.99,Test_Loss = 0.13915919522396064, Test_acc = 0.92\n",
      "iter 9000 : Train_Loss = 0.06277258472286615, Train_acc = 0.99,Test_Loss = 0.13219623474661155, Test_acc = 0.93\n",
      "iter 9500 : Train_Loss = 0.058676645623384524, Train_acc = 0.99,Test_Loss = 0.12825837986452904, Test_acc = 0.94\n",
      "iter 10000 : Train_Loss = 0.05453508460529676, Train_acc = 0.9933333333333333,Test_Loss = 0.12557143555497985, Test_acc = 0.94\n",
      "iter 10500 : Train_Loss = 0.050992504064128794, Train_acc = 0.9933333333333333,Test_Loss = 0.12348942927942853, Test_acc = 0.93\n",
      "iter 11000 : Train_Loss = 0.048212852227130114, Train_acc = 0.9933333333333333,Test_Loss = 0.12082992742751783, Test_acc = 0.94\n",
      "iter 11500 : Train_Loss = 0.045935221354931006, Train_acc = 0.9933333333333333,Test_Loss = 0.11905627878937487, Test_acc = 0.95\n",
      "iter 12000 : Train_Loss = 0.04400309910076587, Train_acc = 0.9933333333333333,Test_Loss = 0.11818613341856335, Test_acc = 0.95\n",
      "iter 12500 : Train_Loss = 0.04231342412835631, Train_acc = 0.9933333333333333,Test_Loss = 0.11786756139354877, Test_acc = 0.95\n",
      "iter 13000 : Train_Loss = 0.040828935608908365, Train_acc = 0.9966666666666667,Test_Loss = 0.11787095083847213, Test_acc = 0.95\n",
      "iter 13500 : Train_Loss = 0.03948828410159174, Train_acc = 0.9966666666666667,Test_Loss = 0.11800378570085662, Test_acc = 0.95\n",
      "iter 14000 : Train_Loss = 0.038295176472992486, Train_acc = 0.9966666666666667,Test_Loss = 0.11851107053138318, Test_acc = 0.95\n",
      "iter 14500 : Train_Loss = 0.03715484917346225, Train_acc = 0.9966666666666667,Test_Loss = 0.11883921562149576, Test_acc = 0.94\n"
     ]
    }
   ],
   "source": [
    "hidden_layers_dims = [10,5]\n",
    "n_iter = 15000\n",
    "learning_rate = 0.01\n",
    "\n",
    "dict_model = neural_network_model(X_train,y_train,X_test,y_test,hidden_layers_dims,n_iter,learning_rate,function_name=\"relu\",initialization_weights=\"random\",display=True)"
   ]
  },
  {
   "cell_type": "code",
   "execution_count": 213,
   "metadata": {},
   "outputs": [
    {
     "data": {
      "image/png": "[encoded data removed]",
      "text/plain": [
       "<Figure size 720x216 with 2 Axes>"
      ]
     },
     "metadata": {
      "needs_background": "light"
     },
     "output_type": "display_data"
    }
   ],
   "source": [
    "# Display the result\n",
    "\n",
    "fig, axs = plt.subplots(1, 2, figsize=(10, 3))\n",
    "\n",
    "axs[0].plot(dict_model[\"cost_train\"])\n",
    "axs[0].plot(dict_model[\"cost_test\"])\n",
    "axs[0].set_title(\"Loss\")\n",
    "axs[0].set_xlabel(\"n_iteration\")\n",
    "axs[0].legend([\"Train\",\"Test\"])\n",
    "\n",
    "axs[1].plot(dict_model[\"accuracy_train\"])\n",
    "axs[1].plot(dict_model[\"accuracy_test\"])\n",
    "axs[1].set_title(\"Accuracy\")\n",
    "axs[1].set_xlabel(\"n_iteration\")\n",
    "axs[1].legend([\"Train\",\"Test\"])\n",
    "plt.show()"
   ]
  },
  {
   "cell_type": "markdown",
   "metadata": {},
   "source": [
    "## 2.4 Train he Initialization <a class=\"anchor\" id=\"section_2_4\"></a>"
   ]
  },
  {
   "cell_type": "code",
   "execution_count": 214,
   "metadata": {},
   "outputs": [
    {
     "name": "stdout",
     "output_type": "stream",
     "text": [
      "iter 0 : Train_Loss = 0.7351969069284338, Train_acc = 0.5033333333333333,Test_Loss = 0.7395221713623839, Test_acc = 0.5\n",
      "iter 500 : Train_Loss = 0.6942738416559802, Train_acc = 0.49333333333333335,Test_Loss = 0.6970568114024569, Test_acc = 0.49\n",
      "iter 1000 : Train_Loss = 0.6823778457312638, Train_acc = 0.51,Test_Loss = 0.6840184116665021, Test_acc = 0.51\n",
      "iter 1500 : Train_Loss = 0.6734520801058288, Train_acc = 0.56,Test_Loss = 0.6746142284593833, Test_acc = 0.55\n",
      "iter 2000 : Train_Loss = 0.6685597786807559, Train_acc = 0.5966666666666667,Test_Loss = 0.6697153167356815, Test_acc = 0.59\n",
      "iter 2500 : Train_Loss = 0.6634083158122989, Train_acc = 0.6066666666666667,Test_Loss = 0.6647324524354414, Test_acc = 0.59\n",
      "iter 3000 : Train_Loss = 0.657375633300285, Train_acc = 0.6133333333333333,Test_Loss = 0.6589298313288942, Test_acc = 0.6\n",
      "iter 3500 : Train_Loss = 0.6501176946072593, Train_acc = 0.6166666666666667,Test_Loss = 0.6519561231257096, Test_acc = 0.62\n",
      "iter 4000 : Train_Loss = 0.6416076089401096, Train_acc = 0.65,Test_Loss = 0.6439288964765868, Test_acc = 0.62\n",
      "iter 4500 : Train_Loss = 0.6310240614046929, Train_acc = 0.6733333333333333,Test_Loss = 0.6339230249381061, Test_acc = 0.65\n",
      "iter 5000 : Train_Loss = 0.618381371401262, Train_acc = 0.6966666666666667,Test_Loss = 0.622046172214518, Test_acc = 0.69\n",
      "iter 5500 : Train_Loss = 0.6037152609214798, Train_acc = 0.7233333333333334,Test_Loss = 0.6078043672937414, Test_acc = 0.75\n",
      "iter 6000 : Train_Loss = 0.5863474772569635, Train_acc = 0.74,Test_Loss = 0.5912024892223073, Test_acc = 0.77\n",
      "iter 6500 : Train_Loss = 0.5638536565879694, Train_acc = 0.7866666666666666,Test_Loss = 0.5701912230943792, Test_acc = 0.8\n",
      "iter 7000 : Train_Loss = 0.5396701382844258, Train_acc = 0.81,Test_Loss = 0.5459002381655846, Test_acc = 0.79\n",
      "iter 7500 : Train_Loss = 0.514054751869922, Train_acc = 0.8133333333333334,Test_Loss = 0.5206255869944526, Test_acc = 0.81\n",
      "iter 8000 : Train_Loss = 0.48586542381442716, Train_acc = 0.84,Test_Loss = 0.49272484583038945, Test_acc = 0.83\n",
      "iter 8500 : Train_Loss = 0.4492577632945642, Train_acc = 0.86,Test_Loss = 0.4540422891573592, Test_acc = 0.86\n",
      "iter 9000 : Train_Loss = 0.39300837476872846, Train_acc = 0.92,Test_Loss = 0.39922854274697456, Test_acc = 0.9\n",
      "iter 9500 : Train_Loss = 0.3346811146717089, Train_acc = 0.9466666666666667,Test_Loss = 0.34276223573924414, Test_acc = 0.94\n",
      "iter 10000 : Train_Loss = 0.2883221325940617, Train_acc = 0.9566666666666667,Test_Loss = 0.3006106490929254, Test_acc = 0.94\n",
      "iter 10500 : Train_Loss = 0.24804936899409646, Train_acc = 0.9733333333333334,Test_Loss = 0.2630252982061704, Test_acc = 0.96\n",
      "iter 11000 : Train_Loss = 0.2122780137954839, Train_acc = 0.9766666666666667,Test_Loss = 0.23293516070146678, Test_acc = 0.95\n",
      "iter 11500 : Train_Loss = 0.18410580520196812, Train_acc = 0.98,Test_Loss = 0.20798851308717337, Test_acc = 0.95\n",
      "iter 12000 : Train_Loss = 0.16123979012668913, Train_acc = 0.98,Test_Loss = 0.18855959942682263, Test_acc = 0.95\n",
      "iter 12500 : Train_Loss = 0.1426406236231785, Train_acc = 0.98,Test_Loss = 0.1734858838620603, Test_acc = 0.95\n",
      "iter 13000 : Train_Loss = 0.12698630651894702, Train_acc = 0.98,Test_Loss = 0.16311918003095283, Test_acc = 0.95\n",
      "iter 13500 : Train_Loss = 0.11427802031822015, Train_acc = 0.98,Test_Loss = 0.1525713013540023, Test_acc = 0.95\n",
      "iter 14000 : Train_Loss = 0.10391300203186246, Train_acc = 0.9833333333333333,Test_Loss = 0.1439184049468633, Test_acc = 0.94\n",
      "iter 14500 : Train_Loss = 0.09520139641914088, Train_acc = 0.9866666666666667,Test_Loss = 0.1367359865831529, Test_acc = 0.94\n"
     ]
    }
   ],
   "source": [
    "hidden_layers_dims = [10,5]\n",
    "n_iter = 15000\n",
    "learning_rate = 0.01\n",
    "\n",
    "dict_model = neural_network_model(X_train,y_train,X_test,y_test,hidden_layers_dims,n_iter,learning_rate,function_name=\"relu\",initialization_weights=\"he\",display=True)"
   ]
  },
  {
   "cell_type": "code",
   "execution_count": 215,
   "metadata": {},
   "outputs": [
    {
     "data": {
      "image/png": "[encoded data removed]",
      "text/plain": [
       "<Figure size 720x216 with 2 Axes>"
      ]
     },
     "metadata": {
      "needs_background": "light"
     },
     "output_type": "display_data"
    }
   ],
   "source": [
    "# Display the result\n",
    "\n",
    "fig, axs = plt.subplots(1, 2, figsize=(10, 3))\n",
    "\n",
    "axs[0].plot(dict_model[\"cost_train\"])\n",
    "axs[0].plot(dict_model[\"cost_test\"])\n",
    "axs[0].set_title(\"Loss\")\n",
    "axs[0].set_xlabel(\"n_iteration\")\n",
    "axs[0].legend([\"Train\",\"Test\"])\n",
    "\n",
    "axs[1].plot(dict_model[\"accuracy_train\"])\n",
    "axs[1].plot(dict_model[\"accuracy_test\"])\n",
    "axs[1].set_title(\"Accuracy\")\n",
    "axs[1].set_xlabel(\"n_iteration\")\n",
    "axs[1].legend([\"Train\",\"Test\"])\n",
    "plt.show()"
   ]
  },
  {
   "cell_type": "markdown",
   "metadata": {},
   "source": [
    "- he Initialization have better results than the other initialization\n",
    "- It improves the learning process of the neural network"
   ]
  },
  {
   "cell_type": "markdown",
   "metadata": {},
   "source": [
    "# 3. Example on dataset 2 - Cat classification <a class=\"anchor\" id=\"chapter3\"></a>"
   ]
  },
  {
   "cell_type": "code",
   "execution_count": 216,
   "metadata": {},
   "outputs": [],
   "source": [
    "# Load the dataset\n",
    "import h5py\n",
    "dataset_file = \"datasets/01 - cat/\"\n",
    "\n",
    "def load_dataset_cat():\n",
    "\n",
    "    # Training set\n",
    "    train_dataset = h5py.File(dataset_file + \"train_catvnoncat.h5\",\"r\")\n",
    "    X_train = np.array(train_dataset[\"train_set_x\"][:])\n",
    "    y_train = np.array(train_dataset[\"train_set_y\"][:])\n",
    "\n",
    "    # Test set\n",
    "    test_dataset = h5py.File(dataset_file + \"test_catvnoncat.h5\",\"r\")\n",
    "    X_test = np.array(test_dataset[\"test_set_x\"][:])\n",
    "    y_test = np.array(test_dataset[\"test_set_y\"][:])\n",
    "\n",
    "    # classes\n",
    "    classes = np.array(test_dataset[\"list_classes\"][:])\n",
    "\n",
    "    return X_train, y_train, X_test, y_test, classes"
   ]
  },
  {
   "cell_type": "code",
   "execution_count": 217,
   "metadata": {},
   "outputs": [
    {
     "name": "stdout",
     "output_type": "stream",
     "text": [
      "X_train shape: (209, 64, 64, 3)\n",
      "X_test shape: (50, 64, 64, 3)\n",
      "y_train shape: (209,)\n",
      "y_test shape: (50,)\n",
      "classes shape: (2,)\n"
     ]
    }
   ],
   "source": [
    "# split\n",
    "train_x,train_y, test_x, test_y,classes = load_dataset_cat()\n",
    "\n",
    "# Display Shape\n",
    "print(\"X_train shape:\", train_x.shape)\n",
    "print(\"X_test shape:\", test_x.shape)\n",
    "print(\"y_train shape:\", train_y.shape)\n",
    "print(\"y_test shape:\",test_y.shape)\n",
    "print(\"classes shape:\",classes.shape)"
   ]
  },
  {
   "cell_type": "code",
   "execution_count": 218,
   "metadata": {},
   "outputs": [
    {
     "name": "stdout",
     "output_type": "stream",
     "text": [
      "y_train shape: (1, 209)\n",
      "y_test shape: (1, 50)\n"
     ]
    }
   ],
   "source": [
    "# We need to reshape y_train and y_test\n",
    "\n",
    "train_y = train_y.reshape((1,train_y.shape[0]))\n",
    "test_y = test_y.reshape((1,test_y.shape[0]))\n",
    "\n",
    "print(\"y_train shape:\", train_y.shape)\n",
    "print(\"y_test shape:\",test_y.shape)"
   ]
  },
  {
   "cell_type": "code",
   "execution_count": 219,
   "metadata": {},
   "outputs": [
    {
     "name": "stdout",
     "output_type": "stream",
     "text": [
      "X_train flatten shape: (12288, 209)\n",
      "X_test flatten shape: (12288, 50)\n"
     ]
    }
   ],
   "source": [
    "# Flatten\n",
    "\n",
    "train_x_flat = train_x.reshape(train_x.shape[0],-1).T\n",
    "test_x_flat = test_x.reshape(test_x.shape[0],-1).T\n",
    "\n",
    "\n",
    "print(\"X_train flatten shape:\",train_x_flat.shape)\n",
    "print(\"X_test flatten shape:\",test_x_flat.shape)"
   ]
  },
  {
   "cell_type": "code",
   "execution_count": 220,
   "metadata": {},
   "outputs": [],
   "source": [
    "# Normalize\n",
    "\n",
    "train_x_flat_norm = train_x_flat/np.max(train_x_flat)\n",
    "\n",
    "# Warning: the data are normalized with the Training set\n",
    "test_x_flat_norm = test_x_flat/np.max(train_x_flat)"
   ]
  },
  {
   "cell_type": "markdown",
   "metadata": {},
   "source": [
    "## 3.1 Train random init <a class=\"anchor\" id=\"section_3_1\"></a>"
   ]
  },
  {
   "cell_type": "code",
   "execution_count": 221,
   "metadata": {},
   "outputs": [
    {
     "name": "stderr",
     "output_type": "stream",
     "text": [
      "<ipython-input-155-3e2a642804e2>:5: RuntimeWarning: overflow encountered in exp\n",
      "  A = 1/(1+np.exp(-Z))\n",
      "<ipython-input-155-3e2a642804e2>:5: RuntimeWarning: overflow encountered in exp\n",
      "  A = 1/(1+np.exp(-Z))\n",
      "<ipython-input-162-18c056ca7c10>:13: RuntimeWarning: divide by zero encountered in true_divide\n",
      "  dAL = - (np.divide(y, AL) - np.divide(1 - y, 1 - AL))\n",
      "<ipython-input-162-18c056ca7c10>:13: RuntimeWarning: invalid value encountered in true_divide\n",
      "  dAL = - (np.divide(y, AL) - np.divide(1 - y, 1 - AL))\n",
      "<ipython-input-161-8be50772606d>:17: RuntimeWarning: overflow encountered in exp\n",
      "  s = 1/(1+np.exp(-Z))\n",
      "<ipython-input-161-8be50772606d>:23: RuntimeWarning: invalid value encountered in multiply\n",
      "  dZ = dA * dG\n"
     ]
    },
    {
     "name": "stdout",
     "output_type": "stream",
     "text": [
      "iter 0 : Train_Loss = 16.363789522855107, Train_acc = 0.5215311004784688,Test_Loss = 17.28325114106654, Test_acc = 0.5\n",
      "iter 500 : Train_Loss = -0.0, Train_acc = 0.6555023923444976,Test_Loss = -0.0, Test_acc = 0.34\n",
      "iter 1000 : Train_Loss = -0.0, Train_acc = 0.6555023923444976,Test_Loss = -0.0, Test_acc = 0.34\n",
      "iter 1500 : Train_Loss = -0.0, Train_acc = 0.6555023923444976,Test_Loss = -0.0, Test_acc = 0.34\n",
      "iter 2000 : Train_Loss = -0.0, Train_acc = 0.6555023923444976,Test_Loss = -0.0, Test_acc = 0.34\n",
      "iter 2500 : Train_Loss = -0.0, Train_acc = 0.6555023923444976,Test_Loss = -0.0, Test_acc = 0.34\n"
     ]
    }
   ],
   "source": [
    "n_iter= 3000\n",
    "hidden_layers_dim = [15,15,5]\n",
    "learning_rate = 0.0075\n",
    "dict_model = neural_network_model(train_x_flat_norm,train_y,test_x_flat_norm,test_y,hidden_layers_dims=hidden_layers_dim,n_iter=n_iter,learning_rate=learning_rate,function_name=\"relu\",initialization_weights=\"random\",display=True)"
   ]
  },
  {
   "cell_type": "code",
   "execution_count": 222,
   "metadata": {},
   "outputs": [
    {
     "data": {
      "image/png": "[encoded data removed]",
      "text/plain": [
       "<Figure size 720x216 with 2 Axes>"
      ]
     },
     "metadata": {
      "needs_background": "light"
     },
     "output_type": "display_data"
    }
   ],
   "source": [
    "# Display the result\n",
    "\n",
    "fig, axs = plt.subplots(1, 2, figsize=(10, 3))\n",
    "\n",
    "axs[0].plot(dict_model[\"cost_train\"])\n",
    "axs[0].plot(dict_model[\"cost_test\"])\n",
    "axs[0].set_title(\"Loss\")\n",
    "axs[0].set_xlabel(\"n_iteration\")\n",
    "axs[0].legend([\"Train\",\"Test\"])\n",
    "\n",
    "axs[1].plot(dict_model[\"accuracy_train\"])\n",
    "axs[1].plot(dict_model[\"accuracy_test\"])\n",
    "axs[1].set_title(\"Accuracy\")\n",
    "axs[1].set_xlabel(\"n_iteration\")\n",
    "axs[1].legend([\"Train\",\"Test\"])\n",
    "plt.show()"
   ]
  },
  {
   "cell_type": "markdown",
   "metadata": {},
   "source": [
    "It's not working with random weight initialization"
   ]
  },
  {
   "cell_type": "markdown",
   "metadata": {},
   "source": [
    "## 3.2 Train he init <a class=\"anchor\" id=\"section_3_2\"></a>"
   ]
  },
  {
   "cell_type": "code",
   "execution_count": 227,
   "metadata": {},
   "outputs": [
    {
     "name": "stdout",
     "output_type": "stream",
     "text": [
      "iter 0 : Train_Loss = 0.6632226259823664, Train_acc = 0.6555023923444976,Test_Loss = 0.7469585825203992, Test_acc = 0.34\n",
      "iter 500 : Train_Loss = 0.3037953495528622, Train_acc = 0.8851674641148325,Test_Loss = 0.9121797317866943, Test_acc = 0.58\n",
      "iter 1000 : Train_Loss = 0.12857911819777545, Train_acc = 0.9760765550239234,Test_Loss = 1.3210008021792419, Test_acc = 0.62\n",
      "iter 1500 : Train_Loss = 0.03692131374928192, Train_acc = 1.0,Test_Loss = 1.4079568962845432, Test_acc = 0.64\n",
      "iter 2000 : Train_Loss = 0.017226653191617314, Train_acc = 1.0,Test_Loss = 1.592156483951991, Test_acc = 0.66\n",
      "iter 2500 : Train_Loss = 0.009928607870133518, Train_acc = 1.0,Test_Loss = 1.7036646299232485, Test_acc = 0.68\n"
     ]
    }
   ],
   "source": [
    "n_iter= 3000\n",
    "hidden_layers_dim = [15,15,5]\n",
    "learning_rate = 0.0055\n",
    "dict_model = neural_network_model(train_x_flat_norm,train_y,test_x_flat_norm,test_y,hidden_layers_dims=hidden_layers_dim,n_iter=n_iter,learning_rate=learning_rate,function_name=\"relu\",initialization_weights=\"he\",display=True)"
   ]
  },
  {
   "cell_type": "code",
   "execution_count": 228,
   "metadata": {},
   "outputs": [
    {
     "data": {
      "image/png": "[encoded data removed]",
      "text/plain": [
       "<Figure size 720x216 with 2 Axes>"
      ]
     },
     "metadata": {
      "needs_background": "light"
     },
     "output_type": "display_data"
    }
   ],
   "source": [
    "# Display the result\n",
    "\n",
    "fig, axs = plt.subplots(1, 2, figsize=(10, 3))\n",
    "\n",
    "axs[0].plot(dict_model[\"cost_train\"])\n",
    "axs[0].plot(dict_model[\"cost_test\"])\n",
    "axs[0].set_title(\"Loss\")\n",
    "axs[0].set_xlabel(\"n_iteration\")\n",
    "axs[0].legend([\"Train\",\"Test\"])\n",
    "\n",
    "axs[1].plot(dict_model[\"accuracy_train\"])\n",
    "axs[1].plot(dict_model[\"accuracy_test\"])\n",
    "axs[1].set_title(\"Accuracy\")\n",
    "axs[1].set_xlabel(\"n_iteration\")\n",
    "axs[1].legend([\"Train\",\"Test\"])\n",
    "plt.show()"
   ]
  },
  {
   "cell_type": "markdown",
   "metadata": {},
   "source": [
    "With the he initialization we can see better results on the learning process. However we still have overfitting. We will see on an other notebook how to implement Regularization in order to reduce the overfitting."
   ]
  }
 ],
 "metadata": {
  "interpreter": {
   "hash": "6d46af94c2bbce495f1e668725902fa517c90b1782bcfe2fce0dd9868df553d3"
  },
  "kernelspec": {
   "display_name": "Python 3.8.8 64-bit ('base': conda)",
   "language": "python",
   "name": "python3"
  },
  "language_info": {
   "codemirror_mode": {
    "name": "ipython",
    "version": 3
   },
   "file_extension": ".py",
   "mimetype": "text/x-python",
   "name": "python",
   "nbconvert_exporter": "python",
   "pygments_lexer": "ipython3",
   "version": "3.8.8"
  },
  "orig_nbformat": 4
 },
 "nbformat": 4,
 "nbformat_minor": 2
}
