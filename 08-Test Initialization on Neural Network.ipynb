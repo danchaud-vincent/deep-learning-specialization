{
 "cells": [
  {
   "cell_type": "markdown",
   "metadata": {},
   "source": [
    "# Test Initialization on Neural Network"
   ]
  },
  {
   "cell_type": "markdown",
   "metadata": {},
   "source": [
    "## Table of Contents\n",
    "\n",
    "* [1. Build a L-layers Neural Network ](#chapter1)\n",
    "    * [1.1 Initialize parameters](#section_1_1)\n",
    "    * [1.2 Forward propagation](#section_1_2)\n",
    "    * [1.3 Cost function](#section_1_3)\n",
    "    * [1.4 Backward Propagation](#section_1_4)\n",
    "    * [1.5 Update parameters](#section_1_5) \n",
    "    * [1.6 Predict](#section_1_6) \n",
    "    * [1.7 Model](#section_1_7)\n",
    "* [2. Example on Dataset 1](#chapter2)\n",
    "    * [2.1 Load the Dataset](#section_2_1)\n",
    "    * [2.2 Display the Data](#section_2_2)\n",
    "    * [2.3 Flatten the data](#section_2)\n",
    "    * [2.4 Normalize the data](#section_2_4)\n",
    "* [3. Example on Dataset 2](#chapter3)\n",
    "    "
   ]
  },
  {
   "cell_type": "code",
   "execution_count": 1,
   "metadata": {},
   "outputs": [],
   "source": [
    "# Packages\n",
    "import copy\n",
    "import numpy as np\n",
    "import matplotlib.pyplot as plt\n",
    "import sklearn\n",
    "import sklearn.datasets\n",
    "import sklearn.linear_model\n",
    "from sklearn.metrics import accuracy_score\n",
    "from sklearn.metrics import log_loss\n",
    "\n",
    "\n",
    "%matplotlib inline"
   ]
  },
  {
   "cell_type": "markdown",
   "metadata": {},
   "source": [
    "# 1. Build a L-layer Neural Network <a class=\"anchor\" id=\"chapter1\"></a>"
   ]
  },
  {
   "cell_type": "markdown",
   "metadata": {},
   "source": [
    "## 1.1 initialization parameters  <a class=\"anchor\" id=\"section_1_1\"></a>"
   ]
  },
  {
   "cell_type": "code",
   "execution_count": 138,
   "metadata": {},
   "outputs": [],
   "source": [
    "def initialize_parameters(layers_dims,n_input,n_output,type_init=\"random\"):\n",
    "    \"\"\"\n",
    "    Compute the initialization of the parameters in our Neural Network\n",
    "\n",
    "    - Arguments:\n",
    "    layers_dims: array containing the dimension of the hidden layers\n",
    "    n_input: numbers of features in the input layer\n",
    "    n_ouput: numbers of nodes in the output layer\n",
    "    type_init: \"zeros\",\"random\",\"he\" type of initialization\n",
    "\n",
    "    - Return:\n",
    "    parameters: dictionnary containing of the parameters of our neural network\n",
    "    \"\"\"\n",
    "\n",
    "    # init\n",
    "    parameters = {}\n",
    "\n",
    "    # add the output layer to the array\n",
    "    layers_dims.append(n_output)\n",
    "\n",
    "    # number of layers\n",
    "    L = len(layers_dims)\n",
    "\n",
    "    for i in range(L):\n",
    "        \n",
    "        # if i==0 take n_x features\n",
    "        if i ==0:\n",
    "            layer_prev = n_input\n",
    "        else:\n",
    "            layer_prev = layers_dims[i-1]\n",
    "\n",
    "\n",
    "        # check type of initialization\n",
    "        if type_init.lower() == \"random\":\n",
    "\n",
    "            parameters[\"W\" + str(i+1)] = np.random.randn(layers_dims[i],layer_prev) *3.5\n",
    "            parameters[\"b\" + str(i+1)] = np.zeros((layers_dims[i],1))\n",
    "\n",
    "        elif type_init.lower() == \"zeros\":\n",
    "\n",
    "            parameters[\"W\" + str(i+1)] = np.zeros((layers_dims[i],layer_prev))\n",
    "            parameters[\"b\" + str(i+1)] = np.zeros((layers_dims[i],1))\n",
    "        \n",
    "        elif type_init.lower() == \"he\":\n",
    "\n",
    "            parameters[\"W\" + str(i+1)] = np.random.randn(layers_dims[i],layer_prev) * np.sqrt(2/layer_prev)\n",
    "            parameters[\"b\" + str(i+1)] = np.zeros((layers_dims[i],1))\n",
    "\n",
    "        else:\n",
    "            # default init\n",
    "            parameters[\"W\" + str(i+1)] = np.random.randn(layers_dims[i],layer_prev) * np.sqrt(2/layer_prev)\n",
    "            parameters[\"b\" + str(i+1)] = np.zeros((layers_dims[i],1))\n",
    "\n",
    "\n",
    "    return parameters"
   ]
  },
  {
   "cell_type": "code",
   "execution_count": 3,
   "metadata": {},
   "outputs": [
    {
     "data": {
      "text/plain": [
       "{'W1': array([[ 11.32560366,  -3.26043072],\n",
       "        [ -2.11363361,  -4.14921609],\n",
       "        [ -4.08071049, -13.67506506],\n",
       "        [  9.58239619,  -9.16575335],\n",
       "        [  8.16774933,  -7.11651153]]),\n",
       " 'b1': array([[0.],\n",
       "        [0.],\n",
       "        [0.],\n",
       "        [0.],\n",
       "        [0.]]),\n",
       " 'W2': array([[ 19.68693908,  18.34366201,  10.59021041, -13.00776998,\n",
       "          -0.25951835],\n",
       "        [ -4.13002775,  14.09642669,  -3.23203552,   7.88064143,\n",
       "         -12.33612276],\n",
       "        [  2.50541358,  -4.40450762,  -8.51534481,   5.31997459,\n",
       "          -7.0632816 ],\n",
       "        [  0.99583807,   3.5692665 ,  10.22561226,  17.05603498,\n",
       "          -2.97087116],\n",
       "        [  0.82053045,  -9.18743069,  -0.89199566, -22.23700812,\n",
       "           4.25948501]]),\n",
       " 'b2': array([[0.],\n",
       "        [0.],\n",
       "        [0.],\n",
       "        [0.],\n",
       "        [0.]]),\n",
       " 'W3': array([[ -7.08581924,   8.69877027,  -0.59588335,  -3.4479965 ,\n",
       "           0.25808352],\n",
       "        [  5.13541146,  18.04046724,   7.58992139, -11.12741265,\n",
       "         -10.86649237],\n",
       "        [ 15.81986861,  18.90498362,  -2.90841281, -10.046818  ,\n",
       "          -2.82640126]]),\n",
       " 'b3': array([[0.],\n",
       "        [0.],\n",
       "        [0.]]),\n",
       " 'W4': array([[ 8.5874565 , -3.09750503, -0.72574527]]),\n",
       " 'b4': array([[0.]])}"
      ]
     },
     "execution_count": 3,
     "metadata": {},
     "output_type": "execute_result"
    }
   ],
   "source": [
    "# test initialization\n",
    "hidden_layers_dim = [5,5,3]\n",
    "n_input = 2\n",
    "n_output = 1\n",
    "\n",
    "params = initialize_parameters(hidden_layers_dim,n_input,n_output,\"random\")\n",
    "params"
   ]
  },
  {
   "cell_type": "markdown",
   "metadata": {},
   "source": [
    "## 1.2 Forward propagation <a class=\"anchor\" id=\"section_1_2\"></a>"
   ]
  },
  {
   "cell_type": "code",
   "execution_count": 4,
   "metadata": {},
   "outputs": [],
   "source": [
    "def activation_function(Z,activation_name):\n",
    "\n",
    "    if activation_name.lower() == \"sigmoid\":\n",
    "\n",
    "        A = 1/(1+np.exp(-Z))\n",
    "    \n",
    "    elif activation_name.lower() == \"relu\":\n",
    "\n",
    "        A = np.maximum(0,Z)\n",
    "\n",
    "    elif activation_name.lower() == \"tanh\":\n",
    "\n",
    "        A = np.tanh(Z)\n",
    "    \n",
    "    else:\n",
    "        # By default relu\n",
    "        A = np.maximum(0,Z)\n",
    "\n",
    "    return A"
   ]
  },
  {
   "cell_type": "code",
   "execution_count": 21,
   "metadata": {},
   "outputs": [],
   "source": [
    "def forward_propagation(X,parameters,activation_name=\"relu\"):\n",
    "\n",
    "    \"\"\"\n",
    "    Compute the activation function\n",
    "    \n",
    "    Arguments:\n",
    "    activation_name -- name of the activation function choosen\n",
    "    Z -- items\n",
    "\n",
    "    Returns:\n",
    "    activation -- activation value\n",
    "    \"\"\"\n",
    "    # init cache\n",
    "    caches = []\n",
    "    cache_layer = {}\n",
    "\n",
    "    # layer\n",
    "    L = len(parameters)//2\n",
    "\n",
    "    # setting A_prev to X\n",
    "    A_prev = X\n",
    "\n",
    "    for i in range(1,L+1):\n",
    "\n",
    "        # getting parameters\n",
    "        W = parameters[\"W\" + str(i)]\n",
    "        b= parameters[\"b\" + str(i)]\n",
    "\n",
    "        # linear result\n",
    "        Z = np.dot(W,A_prev) + b\n",
    "\n",
    "        if i==L:\n",
    "            # last layer -  sigmoid \n",
    "            A = activation_function(Z,\"sigmoid\")\n",
    "        else:\n",
    "            A = activation_function(Z,\"relu\")\n",
    "\n",
    "        # adding to the cache\n",
    "        cache = {\"W\" : W, \"b\":b,\"A\":A,\"Z\":Z,\"A_prev\": A_prev}\n",
    "\n",
    "        # adding layer cache\n",
    "        caches.append(cache)\n",
    "\n",
    "        # setting A_prev\n",
    "        A_prev = A\n",
    "\n",
    "    return A, caches"
   ]
  },
  {
   "cell_type": "code",
   "execution_count": 22,
   "metadata": {},
   "outputs": [
    {
     "name": "stdout",
     "output_type": "stream",
     "text": [
      "W shape: (5, 2) b shape: (5, 1)\n",
      "W shape: (5, 5) b shape: (5, 1)\n",
      "W shape: (3, 5) b shape: (3, 1)\n",
      "W shape: (1, 3) b shape: (1, 1)\n"
     ]
    }
   ],
   "source": [
    "# test forward propagation\n",
    "\n",
    "layers_dim = [5,5,3]\n",
    "X = np.random.randn(2,100) *0.01\n",
    "params = initialize_parameters(layers_dim,X.shape[0],1)\n",
    "\n",
    "AL,caches = forward_propagation(X,params)\n",
    "\n",
    "# check the shape of W \n",
    "for val in caches:\n",
    "    print(\"W shape:\",val[\"W\"].shape,\"b shape:\",val[\"b\"].shape)"
   ]
  },
  {
   "cell_type": "markdown",
   "metadata": {},
   "source": [
    "## 1.3 Compute Loss <a class=\"anchor\" id=\"section_1_3\"></a>"
   ]
  },
  {
   "cell_type": "code",
   "execution_count": 91,
   "metadata": {},
   "outputs": [],
   "source": [
    "def cost_function(AL,y):\n",
    "\n",
    "    \"\"\"\n",
    "    Compute the log loss L(y_pred,y)\n",
    "\n",
    "    -- Arguments:\n",
    "    y : true labels of the dataset\n",
    "    AL : result of the forward propagation \n",
    "\n",
    "    -- Returns:\n",
    "    cost : Log loss cost\n",
    "\n",
    "    \"\"\"\n",
    "    # m examples\n",
    "    m = y.shape[1]\n",
    "\n",
    "    epsilon = 1e-15\n",
    "\n",
    "    cost = (np.multiply(y,np.log(AL+epsilon)) + np.multiply(1-y,np.log(1-AL+epsilon)))\n",
    "    cost = -(1/m) *np.nansum(cost)\n",
    "    \n",
    "    return cost"
   ]
  },
  {
   "cell_type": "code",
   "execution_count": 92,
   "metadata": {},
   "outputs": [
    {
     "name": "stdout",
     "output_type": "stream",
     "text": [
      "cost_function result: 1.0427831386133244\n",
      "log_loss sklearn: 1.0427831386133297\n"
     ]
    }
   ],
   "source": [
    "# Test the cost\n",
    "y_true = np.random.randint(0,2,(1,100))\n",
    "y_pred = np.random.random((1,100))\n",
    "\n",
    "# check with the true log_loss\n",
    "cost = cost_function(y_pred,y_true)\n",
    "l_cost = log_loss(y_true.T,y_pred.T)\n",
    "print(\"cost_function result:\",cost)\n",
    "print(\"log_loss sklearn:\",l_cost)"
   ]
  },
  {
   "cell_type": "markdown",
   "metadata": {},
   "source": [
    "## 1.4 Backward propagation <a class=\"anchor\" id=\"section_1_4\"></a>"
   ]
  },
  {
   "cell_type": "code",
   "execution_count": 93,
   "metadata": {},
   "outputs": [],
   "source": [
    "def backward_activation(dA,Z,function_name=\"relu\"):\n",
    "\n",
    "    \"\"\"\n",
    "    Compute dZ for the backward propagation\n",
    "\n",
    "    -- Arguments:\n",
    "    dA : derivative of A\n",
    "    Z : linear activation\n",
    "    function_name: name of the activation_function\n",
    "\n",
    "    -- Returns:\n",
    "    dZ: derivative of Z\n",
    "    \"\"\"\n",
    "\n",
    "    if function_name.lower() == \"sigmoid\":\n",
    "        # sigmoid\n",
    "        s = 1/(1+np.exp(-Z))\n",
    "\n",
    "        # derivative sigmoid\n",
    "        dG = s*(1-s)\n",
    "\n",
    "        # dZ\n",
    "        dZ = dA * dG\n",
    "\n",
    "    elif function_name.lower() == \"relu\":\n",
    "\n",
    "        # relu\n",
    "        r = np.maximum(0,Z)\n",
    "\n",
    "        # derivative relu\n",
    "        dG = np.int64(r>0)\n",
    "\n",
    "        # dZ\n",
    "        dZ = np.multiply(dA,dG)\n",
    "\n",
    "    elif function_name.lower() == \"tanh\":\n",
    "\n",
    "        # tanh\n",
    "        th = np.tanh(Z)\n",
    "\n",
    "        # derivative tanh\n",
    "        dG = 1-np.power(th,2)\n",
    "\n",
    "        # dZ\n",
    "        dZ = dA * dG\n",
    "\n",
    "    else:\n",
    "        # by default relu\n",
    "        r = np.maximum(0,Z)\n",
    "\n",
    "        # derivative relu\n",
    "        dG = np.int64(r>0)\n",
    "\n",
    "        # dZ\n",
    "        dZ = np.multiply(dA,dG)\n",
    "\n",
    "    return dZ"
   ]
  },
  {
   "cell_type": "code",
   "execution_count": 94,
   "metadata": {},
   "outputs": [],
   "source": [
    "def backward_propagation(AL,y,caches,function_name=\"relu\"):\n",
    "\n",
    "    # gradients\n",
    "    gradients = {}\n",
    "\n",
    "    # numbers of layers\n",
    "    L = len(caches)\n",
    "\n",
    "    # number of examples\n",
    "    m = y.shape[1]\n",
    "\n",
    "    # dAL\n",
    "    dAL = - (np.divide(y, AL) - np.divide(1 - y, 1 - AL))\n",
    "    \n",
    "    # getting cache layer L\n",
    "    current_cache = caches[-1]\n",
    "    WL = current_cache['W']\n",
    "    ZL = current_cache['Z']\n",
    "    A_prev = current_cache['A_prev']\n",
    "\n",
    "    dZL = backward_activation(dAL,ZL,\"sigmoid\")\n",
    "\n",
    "    dW_temp = (1/m)*np.dot(dZL,A_prev.T)\n",
    "    db_temp = (1/m) * np.sum(dZL,axis=1, keepdims=True)\n",
    "    dA_prev_temp = np.dot(WL.T,dZL)\n",
    "    \n",
    "    # compute the gradient\n",
    "    gradients[\"dW\" + str(L)] = dW_temp\n",
    "    gradients[\"db\" + str(L)] = db_temp\n",
    "\n",
    "\n",
    "    for i in reversed(range(L-1)):\n",
    "\n",
    "        # getting cache layer L\n",
    "        current_cache = caches[i]\n",
    "        W = current_cache['W']\n",
    "        Z = current_cache['Z']\n",
    "        A_prev = current_cache['A_prev']\n",
    "\n",
    "        dZ = backward_activation(dA_prev_temp,Z,function_name)\n",
    "\n",
    "        dW_temp = (1/m)*np.dot(dZ,A_prev.T)\n",
    "        db_temp = (1/m) * np.sum(dZ,axis=1, keepdims=True)\n",
    "        dA_prev_temp = np.dot(W.T,dZ)\n",
    "        \n",
    "        # compute the gradient\n",
    "        gradients[\"dW\" + str(i+1)] = dW_temp\n",
    "        gradients[\"db\" + str(i+1)] = db_temp\n",
    "\n",
    "\n",
    "    return gradients\n"
   ]
  },
  {
   "cell_type": "code",
   "execution_count": 95,
   "metadata": {},
   "outputs": [
    {
     "name": "stdout",
     "output_type": "stream",
     "text": [
      "dW1 (5, 10)\n",
      "dW2 (5, 5)\n",
      "dW3 (4, 5)\n",
      "dW4 (1, 4)\n"
     ]
    },
    {
     "name": "stderr",
     "output_type": "stream",
     "text": [
      "<ipython-input-4-3e2a642804e2>:5: RuntimeWarning: overflow encountered in exp\n",
      "  A = 1/(1+np.exp(-Z))\n",
      "<ipython-input-94-18c056ca7c10>:13: RuntimeWarning: divide by zero encountered in true_divide\n",
      "  dAL = - (np.divide(y, AL) - np.divide(1 - y, 1 - AL))\n",
      "<ipython-input-94-18c056ca7c10>:13: RuntimeWarning: invalid value encountered in true_divide\n",
      "  dAL = - (np.divide(y, AL) - np.divide(1 - y, 1 - AL))\n",
      "<ipython-input-93-8be50772606d>:17: RuntimeWarning: overflow encountered in exp\n",
      "  s = 1/(1+np.exp(-Z))\n",
      "<ipython-input-93-8be50772606d>:23: RuntimeWarning: invalid value encountered in multiply\n",
      "  dZ = dA * dG\n"
     ]
    }
   ],
   "source": [
    "# test backward propa\n",
    "\n",
    "layers_dim = [5,5,4]\n",
    "X = np.random.randn(10,100)\n",
    "y_true = np.random.randint(0,2,(1,100))\n",
    "params = initialize_parameters(layers_dim,X.shape[0],1)\n",
    "\n",
    "AL,caches = forward_propagation(X,params)\n",
    "    \n",
    "gradients = backward_propagation(AL,y_true,caches)\n",
    "gradients\n",
    "for i in range(len(caches)):\n",
    "    print(f\"dW{i+1}\",gradients[f\"dW{i+1}\"].shape)"
   ]
  },
  {
   "cell_type": "markdown",
   "metadata": {},
   "source": [
    "## 1.5 Update parameters <a class=\"anchor\" id=\"section_1_5\"></a>"
   ]
  },
  {
   "cell_type": "code",
   "execution_count": 96,
   "metadata": {},
   "outputs": [],
   "source": [
    "def update_parameters(parameters,gradients,learning_rate):\n",
    "\n",
    "    # copy \n",
    "    params = copy.deepcopy(parameters)\n",
    "    \n",
    "    # nb layer\n",
    "    L = len(parameters)//2\n",
    "\n",
    "    for i in range(L):\n",
    "        params[\"W\" + str(i+1)] = params[\"W\" + str(i+1)] - learning_rate * gradients[\"dW\" + str(i+1)]\n",
    "        params[\"b\" + str(i+1)] = params[\"b\" + str(i+1)] - learning_rate * gradients[\"db\" + str(i+1)]\n",
    "\n",
    "    return params"
   ]
  },
  {
   "cell_type": "markdown",
   "metadata": {},
   "source": [
    "## 1.6 Predict <a class=\"anchor\" id=\"section_1_6\"></a>"
   ]
  },
  {
   "cell_type": "code",
   "execution_count": 97,
   "metadata": {},
   "outputs": [],
   "source": [
    "def predict(X,parameters,function_name):\n",
    "\n",
    "    y_pred,caches = forward_propagation(X,parameters,function_name)\n",
    "\n",
    "    y_pred = np.where(y_pred>=0.5,1,0)\n",
    "\n",
    "    return y_pred"
   ]
  },
  {
   "cell_type": "code",
   "execution_count": 98,
   "metadata": {},
   "outputs": [],
   "source": [
    "def score(X,y,parameters):\n",
    "    \n",
    "    # prediction\n",
    "    y_pred = predict(X,parameters,function_name=\"relu\")\n",
    "\n",
    "    # score\n",
    "    acc = accuracy_score(y.T,y_pred.T)\n",
    "\n",
    "    return acc"
   ]
  },
  {
   "cell_type": "markdown",
   "metadata": {},
   "source": [
    "## 1.7 Model <a class=\"anchor\" id=\"section_1_7\"></a>"
   ]
  },
  {
   "cell_type": "code",
   "execution_count": 105,
   "metadata": {},
   "outputs": [],
   "source": [
    "def neural_network_model(X_train,y_train,X_test,y_test,hidden_layers_dims,n_iter,learning_rate,function_name=\"relu\",initialization_weights=\"random\",display=False):\n",
    "\n",
    "    # init trackers\n",
    "    dico_model = {}\n",
    "    costs_train = []\n",
    "    costs_test = []\n",
    "    accs_train = []\n",
    "    accs_test = []\n",
    "\n",
    "    # init\n",
    "    m = X.shape[1]\n",
    "    n_input = X_train.shape[0]\n",
    "    n_output = y_train.shape[0]\n",
    "\n",
    "    # initialize parameters\n",
    "    parameters = initialize_parameters(hidden_layers_dims,n_input,n_output,initialization_weights)\n",
    "\n",
    "\n",
    "    for i in range(n_iter):\n",
    "\n",
    "        # ---- forward propagation ------\n",
    "        AL_train, caches = forward_propagation(X_train,parameters, activation_name=function_name)\n",
    "        AL_test, caches_test = forward_propagation(X_test,parameters, activation_name=function_name)\n",
    "\n",
    "        #  cost\n",
    "        cost_train = cost_function(AL_train,y_train)\n",
    "        costs_train.append(cost_train)\n",
    "\n",
    "        cost_test = cost_function(AL_test,y_test)\n",
    "        costs_test.append(cost_test)\n",
    "\n",
    "        # accuracy \n",
    "        y_pred_train = predict(X_train,parameters,function_name)\n",
    "        acc_train = accuracy_score(y_train.T,y_pred_train.T)\n",
    "        accs_train.append(acc_train)\n",
    "\n",
    "        y_pred_test = predict(X_test,parameters,function_name)\n",
    "        acc_test = accuracy_score(y_test.T,y_pred_test.T)\n",
    "        accs_test.append(acc_test)    \n",
    "\n",
    "        # ---- bacward propagation ------\n",
    "        gradients = backward_propagation(AL_train,y_train,caches,function_name)\n",
    "\n",
    "        # ---- update params ------------\n",
    "        params = update_parameters(parameters, gradients, learning_rate)\n",
    "        parameters = params\n",
    "        \n",
    "        if display is True and i%500 == 0:\n",
    "            print(f\"iter {i} : Train_Loss = {cost_train}, Train_acc = {acc_train},Test_Loss = {cost_test}, Test_acc = {acc_test}\")\n",
    "\n",
    "    dict_model = {\"parameters\": parameters,\"cost_train\":costs_train,\"accuracy_train\":accs_train,\"cost_test\":costs_test,\"accuracy_test\":accs_test}\n",
    "\n",
    "    return dict_model\n"
   ]
  },
  {
   "cell_type": "markdown",
   "metadata": {},
   "source": [
    "# 2. Example on dataset 1 <a class=\"anchor\" id=\"chapter2\"></a>"
   ]
  },
  {
   "cell_type": "markdown",
   "metadata": {},
   "source": [
    "## 2.1 Load Dataset  <a class=\"anchor\" id=\"section_2_1\"></a>"
   ]
  },
  {
   "cell_type": "code",
   "execution_count": 106,
   "metadata": {},
   "outputs": [],
   "source": [
    "def load_dataset():\n",
    "    np.random.seed(1)\n",
    "    train_X, train_Y = sklearn.datasets.make_circles(n_samples=300, noise=.05)\n",
    "    np.random.seed(2)\n",
    "    test_X, test_Y = sklearn.datasets.make_circles(n_samples=100, noise=.05)\n",
    "    # Visualize the data\n",
    "    plt.scatter(train_X[:, 0], train_X[:, 1], c=train_Y, s=40, cmap=plt.cm.Spectral);\n",
    "    train_X = train_X.T\n",
    "    train_Y = train_Y.reshape((1, train_Y.shape[0]))\n",
    "    test_X = test_X.T\n",
    "    test_Y = test_Y.reshape((1, test_Y.shape[0]))\n",
    "    \n",
    "    return train_X, train_Y, test_X, test_Y"
   ]
  },
  {
   "cell_type": "code",
   "execution_count": 107,
   "metadata": {},
   "outputs": [
    {
     "data": {
      "image/png": "[encoded data removed]",
      "text/plain": [
       "<Figure size 432x288 with 1 Axes>"
      ]
     },
     "metadata": {
      "needs_background": "light"
     },
     "output_type": "display_data"
    }
   ],
   "source": [
    "X_train, y_train, X_test, y_test = load_dataset()"
   ]
  },
  {
   "cell_type": "markdown",
   "metadata": {},
   "source": [
    "## 2.2 Train zeros Initialization <a class=\"anchor\" id=\"section_2_2\"></a>"
   ]
  },
  {
   "cell_type": "code",
   "execution_count": 124,
   "metadata": {},
   "outputs": [
    {
     "name": "stdout",
     "output_type": "stream",
     "text": [
      "iter 0 : Train_Loss = 0.6931471805599434, Train_acc = 0.5,Test_Loss = 0.6931471805599436, Test_acc = 0.5\n",
      "iter 500 : Train_Loss = 0.6931471805599434, Train_acc = 0.5,Test_Loss = 0.6931471805599436, Test_acc = 0.5\n",
      "iter 1000 : Train_Loss = 0.6931471805599434, Train_acc = 0.5,Test_Loss = 0.6931471805599436, Test_acc = 0.5\n",
      "iter 1500 : Train_Loss = 0.6931471805599434, Train_acc = 0.5,Test_Loss = 0.6931471805599436, Test_acc = 0.5\n",
      "iter 2000 : Train_Loss = 0.6931471805599434, Train_acc = 0.5,Test_Loss = 0.6931471805599436, Test_acc = 0.5\n",
      "iter 2500 : Train_Loss = 0.6931471805599434, Train_acc = 0.5,Test_Loss = 0.6931471805599436, Test_acc = 0.5\n",
      "iter 3000 : Train_Loss = 0.6931471805599434, Train_acc = 0.5,Test_Loss = 0.6931471805599436, Test_acc = 0.5\n",
      "iter 3500 : Train_Loss = 0.6931471805599434, Train_acc = 0.5,Test_Loss = 0.6931471805599436, Test_acc = 0.5\n",
      "iter 4000 : Train_Loss = 0.6931471805599434, Train_acc = 0.5,Test_Loss = 0.6931471805599436, Test_acc = 0.5\n",
      "iter 4500 : Train_Loss = 0.6931471805599434, Train_acc = 0.5,Test_Loss = 0.6931471805599436, Test_acc = 0.5\n"
     ]
    }
   ],
   "source": [
    "hidden_layers_dims = [10,5]\n",
    "n_iter = 5000\n",
    "learning_rate = 0.01\n",
    "\n",
    "dict_model = neural_network_model(X_train,y_train,X_test,y_test,hidden_layers_dims,n_iter,learning_rate,function_name=\"relu\",initialization_weights=\"zeros\",display=True)"
   ]
  },
  {
   "cell_type": "code",
   "execution_count": 125,
   "metadata": {},
   "outputs": [
    {
     "data": {
      "image/png": "[encoded data removed]",
      "text/plain": [
       "<Figure size 720x216 with 2 Axes>"
      ]
     },
     "metadata": {
      "needs_background": "light"
     },
     "output_type": "display_data"
    }
   ],
   "source": [
    "# Display the result\n",
    "\n",
    "fig, axs = plt.subplots(1, 2, figsize=(10, 3))\n",
    "\n",
    "axs[0].plot(dict_model[\"cost_train\"])\n",
    "axs[0].plot(dict_model[\"cost_test\"])\n",
    "axs[0].set_title(\"Loss\")\n",
    "axs[0].set_xlabel(\"n_iteration\")\n",
    "axs[0].legend([\"Train\",\"Test\"])\n",
    "\n",
    "axs[1].plot(dict_model[\"accuracy_train\"])\n",
    "axs[1].plot(dict_model[\"accuracy_test\"])\n",
    "axs[1].set_title(\"Accuracy\")\n",
    "axs[1].set_xlabel(\"n_iteration\")\n",
    "axs[1].legend([\"Train\",\"Test\"])\n",
    "plt.show()"
   ]
  },
  {
   "cell_type": "markdown",
   "metadata": {},
   "source": [
    "__Note__: For sake of simplicity calculations below are done using only one example at a time.\n",
    "\n",
    "Since the weights and biases are zero, multiplying by the weights creates the zero vector which gives 0 when the activation function is ReLU. As `z = 0`\n",
    "\n",
    "$$a = ReLU(z) = max(0, z) = 0$$\n",
    "\n",
    "At the classification layer, where the activation function is sigmoid you then get (for either input): \n",
    "\n",
    "$$\\sigma(z) = \\frac{1}{ 1 + e^{-(z)}} = \\frac{1}{2} = y_{pred}$$\n",
    "\n",
    "As for every example you are getting a 0.5 chance of it being true our cost function becomes helpless in adjusting the weights.\n",
    "\n",
    "Your loss function:\n",
    "$$ \\mathcal{L}(a, y) =  - y  \\ln(y_{pred}) - (1-y)  \\ln(1-y_{pred})$$\n",
    "\n",
    "For `y=1`, `y_pred=0.5` it becomes:\n",
    "\n",
    "$$ \\mathcal{L}(0, 1) =  - (1)  \\ln(\\frac{1}{2}) = 0.6931471805599453$$\n",
    "\n",
    "For `y=0`, `y_pred=0.5` it becomes:\n",
    "\n",
    "$$ \\mathcal{L}(0, 0) =  - (1)  \\ln(\\frac{1}{2}) = 0.6931471805599453$$\n",
    "\n",
    "As you can see with the prediction being 0.5 whether the actual (`y`) value is 1 or 0 you get the same loss value for both, so none of the weights get adjusted and you are stuck with the same old value of the weights. \n",
    "\n",
    "This is why you can see that the model is predicting 0 for every example! No wonder it's doing so badly.\n",
    "\n",
    "In general, initializing all the weights to zero results in the network failing to break symmetry. This means that every neuron in each layer will learn the same thing, so you might as well be training a neural network with $n^{[l]}=1$ for every layer. This way, the network is no more powerful than a linear classifier like logistic regression. "
   ]
  },
  {
   "cell_type": "markdown",
   "metadata": {},
   "source": [
    "## 2.3 Train random Initialization <a class=\"anchor\" id=\"section_2_3\"></a>"
   ]
  },
  {
   "cell_type": "code",
   "execution_count": 139,
   "metadata": {},
   "outputs": [
    {
     "name": "stdout",
     "output_type": "stream",
     "text": [
      "iter 0 : Train_Loss = 14.139791079518492, Train_acc = 0.49333333333333335,Test_Loss = 14.4265410504368, Test_acc = 0.5\n",
      "iter 500 : Train_Loss = 0.5495299157776623, Train_acc = 0.6433333333333333,Test_Loss = 0.6187836730418209, Test_acc = 0.65\n",
      "iter 1000 : Train_Loss = 0.44570709697878635, Train_acc = 0.7266666666666667,Test_Loss = 0.5312887243908017, Test_acc = 0.71\n",
      "iter 1500 : Train_Loss = 0.40858127455597265, Train_acc = 0.7666666666666667,Test_Loss = 0.505847905634658, Test_acc = 0.75\n",
      "iter 2000 : Train_Loss = 0.38067028488534327, Train_acc = 0.8033333333333333,Test_Loss = 0.48703946105049034, Test_acc = 0.8\n",
      "iter 2500 : Train_Loss = 0.36765832239321405, Train_acc = 0.8133333333333334,Test_Loss = 0.47629124684446544, Test_acc = 0.8\n",
      "iter 3000 : Train_Loss = 0.3558367628012222, Train_acc = 0.82,Test_Loss = 0.4683207257005244, Test_acc = 0.81\n",
      "iter 3500 : Train_Loss = 0.34415013814230744, Train_acc = 0.8266666666666667,Test_Loss = 0.4653875680372255, Test_acc = 0.81\n",
      "iter 4000 : Train_Loss = 0.3312769274896069, Train_acc = 0.8333333333333334,Test_Loss = 0.47586242185360855, Test_acc = 0.81\n",
      "iter 4500 : Train_Loss = 0.3234980302224468, Train_acc = 0.8433333333333334,Test_Loss = 0.4741496934355487, Test_acc = 0.82\n",
      "iter 5000 : Train_Loss = 0.31571649857269923, Train_acc = 0.85,Test_Loss = 0.4754796831041231, Test_acc = 0.82\n",
      "iter 5500 : Train_Loss = 0.30981181437134553, Train_acc = 0.8566666666666667,Test_Loss = 0.47281481269830133, Test_acc = 0.82\n",
      "iter 6000 : Train_Loss = 0.3046479269525646, Train_acc = 0.8566666666666667,Test_Loss = 0.47019849999336016, Test_acc = 0.83\n",
      "iter 6500 : Train_Loss = 0.2998947179764505, Train_acc = 0.8566666666666667,Test_Loss = 0.4680562905770424, Test_acc = 0.82\n",
      "iter 7000 : Train_Loss = 0.2947760083069859, Train_acc = 0.85,Test_Loss = 0.46522824629447335, Test_acc = 0.8\n",
      "iter 7500 : Train_Loss = 0.28302910694888306, Train_acc = 0.8633333333333333,Test_Loss = 0.47166335358184647, Test_acc = 0.81\n",
      "iter 8000 : Train_Loss = 0.27502279756361003, Train_acc = 0.8766666666666667,Test_Loss = 0.4663335696876571, Test_acc = 0.82\n",
      "iter 8500 : Train_Loss = 0.2673284549867892, Train_acc = 0.8766666666666667,Test_Loss = 0.4705901462142603, Test_acc = 0.82\n",
      "iter 9000 : Train_Loss = 0.2572107201530018, Train_acc = 0.8733333333333333,Test_Loss = 0.467073844738665, Test_acc = 0.83\n",
      "iter 9500 : Train_Loss = 0.25180046465875877, Train_acc = 0.8733333333333333,Test_Loss = 0.4595977732111875, Test_acc = 0.84\n",
      "iter 10000 : Train_Loss = 0.247189544100105, Train_acc = 0.8866666666666667,Test_Loss = 0.4541809362727271, Test_acc = 0.84\n",
      "iter 10500 : Train_Loss = 0.24315016353683805, Train_acc = 0.8833333333333333,Test_Loss = 0.4515928605365655, Test_acc = 0.85\n",
      "iter 11000 : Train_Loss = 0.23932273828428666, Train_acc = 0.8866666666666667,Test_Loss = 0.4495864389852005, Test_acc = 0.85\n",
      "iter 11500 : Train_Loss = 0.23129782588704967, Train_acc = 0.9066666666666666,Test_Loss = 0.4611220959163142, Test_acc = 0.85\n",
      "iter 12000 : Train_Loss = 0.18395291922821244, Train_acc = 0.9333333333333333,Test_Loss = 0.48786126411016667, Test_acc = 0.87\n",
      "iter 12500 : Train_Loss = 0.14605493102631553, Train_acc = 0.95,Test_Loss = 0.41739761928517083, Test_acc = 0.92\n",
      "iter 13000 : Train_Loss = 0.13105683983372274, Train_acc = 0.9466666666666667,Test_Loss = 0.3838860219602446, Test_acc = 0.93\n",
      "iter 13500 : Train_Loss = 0.12335219021115593, Train_acc = 0.96,Test_Loss = 0.3594596333417514, Test_acc = 0.93\n",
      "iter 14000 : Train_Loss = 0.11884646831535076, Train_acc = 0.9666666666666667,Test_Loss = 0.3564840620201653, Test_acc = 0.93\n",
      "iter 14500 : Train_Loss = 0.11361253798972168, Train_acc = 0.9633333333333334,Test_Loss = 0.35423348718428765, Test_acc = 0.93\n"
     ]
    }
   ],
   "source": [
    "hidden_layers_dims = [10,5]\n",
    "n_iter = 15000\n",
    "learning_rate = 0.01\n",
    "\n",
    "dict_model = neural_network_model(X_train,y_train,X_test,y_test,hidden_layers_dims,n_iter,learning_rate,function_name=\"relu\",initialization_weights=\"random\",display=True)"
   ]
  },
  {
   "cell_type": "code",
   "execution_count": 140,
   "metadata": {},
   "outputs": [
    {
     "data": {
      "image/png": "[encoded data removed]",
      "text/plain": [
       "<Figure size 720x216 with 2 Axes>"
      ]
     },
     "metadata": {
      "needs_background": "light"
     },
     "output_type": "display_data"
    }
   ],
   "source": [
    "# Display the result\n",
    "\n",
    "fig, axs = plt.subplots(1, 2, figsize=(10, 3))\n",
    "\n",
    "axs[0].plot(dict_model[\"cost_train\"])\n",
    "axs[0].plot(dict_model[\"cost_test\"])\n",
    "axs[0].set_title(\"Loss\")\n",
    "axs[0].set_xlabel(\"n_iteration\")\n",
    "axs[0].legend([\"Train\",\"Test\"])\n",
    "\n",
    "axs[1].plot(dict_model[\"accuracy_train\"])\n",
    "axs[1].plot(dict_model[\"accuracy_test\"])\n",
    "axs[1].set_title(\"Accuracy\")\n",
    "axs[1].set_xlabel(\"n_iteration\")\n",
    "axs[1].legend([\"Train\",\"Test\"])\n",
    "plt.show()"
   ]
  },
  {
   "cell_type": "markdown",
   "metadata": {},
   "source": [
    "## 2.4 Train he Initialization <a class=\"anchor\" id=\"section_2_4\"></a>"
   ]
  },
  {
   "cell_type": "code",
   "execution_count": 130,
   "metadata": {},
   "outputs": [
    {
     "name": "stdout",
     "output_type": "stream",
     "text": [
      "iter 0 : Train_Loss = 0.7670739427359413, Train_acc = 0.51,Test_Loss = 0.7617196714236195, Test_acc = 0.48\n",
      "iter 500 : Train_Loss = 0.6929270419541506, Train_acc = 0.49666666666666665,Test_Loss = 0.6934853470888308, Test_acc = 0.51\n",
      "iter 1000 : Train_Loss = 0.6808076098153518, Train_acc = 0.5833333333333334,Test_Loss = 0.6820074867955924, Test_acc = 0.56\n",
      "iter 1500 : Train_Loss = 0.6710146233356168, Train_acc = 0.5966666666666667,Test_Loss = 0.6734781445278408, Test_acc = 0.57\n",
      "iter 2000 : Train_Loss = 0.6615187041946639, Train_acc = 0.6133333333333333,Test_Loss = 0.6645863303103865, Test_acc = 0.56\n",
      "iter 2500 : Train_Loss = 0.651275316784948, Train_acc = 0.64,Test_Loss = 0.6546779576478321, Test_acc = 0.62\n",
      "iter 3000 : Train_Loss = 0.6391523037773683, Train_acc = 0.6633333333333333,Test_Loss = 0.6425054575140716, Test_acc = 0.66\n",
      "iter 3500 : Train_Loss = 0.618666298993197, Train_acc = 0.6833333333333333,Test_Loss = 0.6233740159174949, Test_acc = 0.67\n",
      "iter 4000 : Train_Loss = 0.5786438562717395, Train_acc = 0.74,Test_Loss = 0.5903096325184743, Test_acc = 0.71\n",
      "iter 4500 : Train_Loss = 0.5001581959990873, Train_acc = 0.9366666666666666,Test_Loss = 0.512790197444914, Test_acc = 0.88\n",
      "iter 5000 : Train_Loss = 0.4251748468809146, Train_acc = 0.9666666666666667,Test_Loss = 0.44038288341456233, Test_acc = 0.96\n",
      "iter 5500 : Train_Loss = 0.3493516888441834, Train_acc = 0.9733333333333334,Test_Loss = 0.36792474954246857, Test_acc = 0.96\n",
      "iter 6000 : Train_Loss = 0.28395498636060884, Train_acc = 0.9733333333333334,Test_Loss = 0.3062080398777476, Test_acc = 0.95\n",
      "iter 6500 : Train_Loss = 0.23201759625880386, Train_acc = 0.9833333333333333,Test_Loss = 0.2569713092888327, Test_acc = 0.95\n",
      "iter 7000 : Train_Loss = 0.1930095161836408, Train_acc = 0.9833333333333333,Test_Loss = 0.22129350675835155, Test_acc = 0.97\n",
      "iter 7500 : Train_Loss = 0.16368265040798757, Train_acc = 0.98,Test_Loss = 0.1927931206124294, Test_acc = 0.97\n",
      "iter 8000 : Train_Loss = 0.14198538212769599, Train_acc = 0.98,Test_Loss = 0.17265689339248905, Test_acc = 0.96\n",
      "iter 8500 : Train_Loss = 0.12531860268494485, Train_acc = 0.9833333333333333,Test_Loss = 0.15807340792813954, Test_acc = 0.96\n",
      "iter 9000 : Train_Loss = 0.11125968868006297, Train_acc = 0.9866666666666667,Test_Loss = 0.146347522065911, Test_acc = 0.95\n",
      "iter 9500 : Train_Loss = 0.09982069869052693, Train_acc = 0.9866666666666667,Test_Loss = 0.13671884190855565, Test_acc = 0.96\n",
      "iter 10000 : Train_Loss = 0.09051673154829383, Train_acc = 0.9866666666666667,Test_Loss = 0.12907267259346594, Test_acc = 0.96\n",
      "iter 10500 : Train_Loss = 0.0830367123401536, Train_acc = 0.99,Test_Loss = 0.12347677676691281, Test_acc = 0.96\n",
      "iter 11000 : Train_Loss = 0.07660912872995643, Train_acc = 0.99,Test_Loss = 0.11939693256821578, Test_acc = 0.96\n",
      "iter 11500 : Train_Loss = 0.07119571175829204, Train_acc = 0.99,Test_Loss = 0.11628019139283521, Test_acc = 0.96\n",
      "iter 12000 : Train_Loss = 0.06660676866239336, Train_acc = 0.99,Test_Loss = 0.11401712643378353, Test_acc = 0.96\n",
      "iter 12500 : Train_Loss = 0.06276585208568872, Train_acc = 0.99,Test_Loss = 0.11210806707144082, Test_acc = 0.96\n",
      "iter 13000 : Train_Loss = 0.059468531374481506, Train_acc = 0.99,Test_Loss = 0.1107327681255908, Test_acc = 0.96\n",
      "iter 13500 : Train_Loss = 0.05657617518221512, Train_acc = 0.99,Test_Loss = 0.1097169584131469, Test_acc = 0.96\n",
      "iter 14000 : Train_Loss = 0.05409012624129717, Train_acc = 0.99,Test_Loss = 0.10886580595545922, Test_acc = 0.96\n",
      "iter 14500 : Train_Loss = 0.051874887037056006, Train_acc = 0.99,Test_Loss = 0.10846553634631997, Test_acc = 0.96\n"
     ]
    }
   ],
   "source": [
    "hidden_layers_dims = [10,5]\n",
    "n_iter = 15000\n",
    "learning_rate = 0.01\n",
    "\n",
    "dict_model = neural_network_model(X_train,y_train,X_test,y_test,hidden_layers_dims,n_iter,learning_rate,function_name=\"relu\",initialization_weights=\"he\",display=True)"
   ]
  },
  {
   "cell_type": "code",
   "execution_count": 131,
   "metadata": {},
   "outputs": [
    {
     "data": {
      "image/png": "[encoded data removed]",
      "text/plain": [
       "<Figure size 720x216 with 2 Axes>"
      ]
     },
     "metadata": {
      "needs_background": "light"
     },
     "output_type": "display_data"
    }
   ],
   "source": [
    "# Display the result\n",
    "\n",
    "fig, axs = plt.subplots(1, 2, figsize=(10, 3))\n",
    "\n",
    "axs[0].plot(dict_model[\"cost_train\"])\n",
    "axs[0].plot(dict_model[\"cost_test\"])\n",
    "axs[0].set_title(\"Loss\")\n",
    "axs[0].set_xlabel(\"n_iteration\")\n",
    "axs[0].legend([\"Train\",\"Test\"])\n",
    "\n",
    "axs[1].plot(dict_model[\"accuracy_train\"])\n",
    "axs[1].plot(dict_model[\"accuracy_test\"])\n",
    "axs[1].set_title(\"Accuracy\")\n",
    "axs[1].set_xlabel(\"n_iteration\")\n",
    "axs[1].legend([\"Train\",\"Test\"])\n",
    "plt.show()"
   ]
  },
  {
   "cell_type": "markdown",
   "metadata": {},
   "source": [
    "- he Initialization have better results than the other initialization\n",
    "- It improves the learning process of the neural network"
   ]
  },
  {
   "cell_type": "markdown",
   "metadata": {},
   "source": [
    "# 3. Example on dataset 2 <a class=\"anchor\" id=\"chapter3\"></a>"
   ]
  },
  {
   "cell_type": "code",
   "execution_count": null,
   "metadata": {},
   "outputs": [],
   "source": []
  }
 ],
 "metadata": {
  "interpreter": {
   "hash": "6d46af94c2bbce495f1e668725902fa517c90b1782bcfe2fce0dd9868df553d3"
  },
  "kernelspec": {
   "display_name": "Python 3.8.8 64-bit ('base': conda)",
   "language": "python",
   "name": "python3"
  },
  "language_info": {
   "codemirror_mode": {
    "name": "ipython",
    "version": 3
   },
   "file_extension": ".py",
   "mimetype": "text/x-python",
   "name": "python",
   "nbconvert_exporter": "python",
   "pygments_lexer": "ipython3",
   "version": "3.8.8"
  },
  "orig_nbformat": 4
 },
 "nbformat": 4,
 "nbformat_minor": 2
}
