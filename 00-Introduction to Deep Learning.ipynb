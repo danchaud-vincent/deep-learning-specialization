{
 "cells": [
  {
   "cell_type": "markdown",
   "metadata": {},
   "source": [
    "# Introduction to Deep Learning"
   ]
  },
  {
   "cell_type": "markdown",
   "metadata": {},
   "source": [
    "## 1. What is a Neural Network?"
   ]
  },
  {
   "cell_type": "markdown",
   "metadata": {},
   "source": [
    "The term, Deep Learning, refers to training Neural Networks, sometimes very large Neural Netwokrs. But what exactly is a Neural Network?"
   ]
  },
  {
   "cell_type": "markdown",
   "metadata": {},
   "source": [
    "Exemple: \n",
    "\n",
    "> Let's start to the Housing Price Prediction example. Let's say you have a data sets with six houses, so you know the size of the houses in square feet or square meters and you know the price of the house and you want to fit a function to predict the price of the houses.\n",
    "\n",
    "We have as the input to the neural network the size of a house which one we call x. It goes into this node, this little circle and then it outputs the price which we call y. So this little circle, which is a single neuron in a neural network, implements this function that we drew on the left.\n",
    "\n",
    "This function is called a <b>ReLu function</b> which stands for rectified linear units.Rectivy means taking a max of 0."
   ]
  },
  {
   "cell_type": "markdown",
   "metadata": {},
   "source": [
    "<center><img src=\"images/00-intro-deep-learning/housing_price_prediction.PNG\" width=\"650px\" height=\"auto\"></center>"
   ]
  },
  {
   "cell_type": "markdown",
   "metadata": {},
   "source": [
    "Let's say that instead of predicting the price of a house just from the size, you now have other features. We know other things such as the number of bedrooms, the postal codes, the wealth.\n",
    "\n",
    "By stacking together a few of the single neurons or the simple predictors, we now have a slightly larger neural network.\n",
    "\n",
    "You give to the neural network the following input x.\n",
    "\n",
    "Input x:\n",
    "- x1: size\n",
    "- x2: number of bedrooms\n",
    "- x3: zip code (postal code)\n",
    "- x4: wealth\n",
    "\n",
    "Output y:\n",
    "- price"
   ]
  },
  {
   "cell_type": "markdown",
   "metadata": {},
   "source": [
    "<center><img src=\"images/00-intro-deep-learning/housing_price_network.PNG\" width=\"650px\" height=\"auto\"></center>"
   ]
  },
  {
   "cell_type": "markdown",
   "metadata": {},
   "source": [
    "In this example, we say that layers are <b>density connected</b> because every input feature is connected to every one of these circles in the middle."
   ]
  },
  {
   "cell_type": "markdown",
   "metadata": {},
   "source": [
    "## 2. Supervised Learning"
   ]
  },
  {
   "cell_type": "markdown",
   "metadata": {},
   "source": [
    "It turns out that so far, almost all the economic value created by neural networks has been through one type of machine learning, called supervised learning.\n",
    "\n",
    "In supervised learning, you have some input x, and you want to learn a function mapping to some output y.\n",
    "\n",
    "\n",
    "For example:\n",
    "- House price prediction: your input are some features of a home and you try to predict the price y.\n",
    "- Advertising: your input are somme information about an ad and you try to predict if you will click on an ad.\n",
    "- Computer vision: you input an image and you want to predict an index or a class\n",
    "- Speecg recogntion: you input an audio and want to oupt a Text transcript"
   ]
  },
  {
   "cell_type": "markdown",
   "metadata": {},
   "source": [
    "<center><img src=\"images/00-intro-deep-learning/supervised-learning.PNG\" width=\"650px\" height=\"auto\"></center>"
   ]
  },
  {
   "cell_type": "markdown",
   "metadata": {},
   "source": [
    "There are different types of Neural networks. For example:\n",
    "\n",
    "- <b>Standard NN</b> : used in real estate \n",
    "- <b>Convolutional Neural Network (CNN)</b> : image application\n",
    "- <b>Recurrent Neural Network (RNN)</b> : for sequence data\n",
    "- <b>Custom Hybrid neural network</b> : for more complex applications like autonomous driving"
   ]
  },
  {
   "cell_type": "markdown",
   "metadata": {},
   "source": [
    "You might also have heard about applications of machine learning to both <b>Structured Data</b> and <b>Unstructured Data</b>.\n",
    "\n",
    "- <b>Structured Data</b> means databases of data\n",
    "- <b>Unstructured Data</b> refers to things like audio, images, piece of text."
   ]
  },
  {
   "cell_type": "markdown",
   "metadata": {},
   "source": [
    "<center><img src=\"images/00-intro-deep-learning/supervised-learning-2.PNG\" width=\"650px\" height=\"auto\"></center>"
   ]
  },
  {
   "cell_type": "markdown",
   "metadata": {},
   "source": [
    "## 3. Why Deep Learning is taking off?"
   ]
  },
  {
   "cell_type": "markdown",
   "metadata": {},
   "source": [
    "Let's say we plot a figure where on the horizontal axis we plot the amount of data we have for a task and let's say on the vertical axis we plot the performance on above learning algorithms such as the accuracy of our spam classifier or our ad click predictor or the accuracy of our neural net for figuring out the position of other cars for our self-driving "
   ]
  },
  {
   "cell_type": "markdown",
   "metadata": {},
   "source": [
    "<center><img src=\"images/00-intro-deep-learning/DL-takingoff.PNG\" width=\"650px\" height=\"auto\"></center>"
   ]
  },
  {
   "cell_type": "markdown",
   "metadata": {},
   "source": []
  }
 ],
 "metadata": {
  "interpreter": {
   "hash": "6d46af94c2bbce495f1e668725902fa517c90b1782bcfe2fce0dd9868df553d3"
  },
  "kernelspec": {
   "display_name": "Python 3.8.8 64-bit ('base': conda)",
   "language": "python",
   "name": "python3"
  },
  "language_info": {
   "name": "python",
   "version": "3.8.8"
  },
  "orig_nbformat": 4
 },
 "nbformat": 4,
 "nbformat_minor": 2
}
