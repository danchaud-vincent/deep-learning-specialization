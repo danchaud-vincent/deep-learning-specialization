{
 "cells": [
  {
   "cell_type": "markdown",
   "metadata": {},
   "source": [
    "# Shallow Neural Network\n"
   ]
  },
  {
   "cell_type": "markdown",
   "metadata": {},
   "source": [
    "### Table of Contents\n",
    "\n",
    "* [1. Neural Network Representation](#chapter1)\n",
    "    * [1.1 Representation](#section_1_1)\n",
    "    * [1.2  Computing a Neural Network output's](#section_1_2)\n",
    "        * [1.2.1  ](#section_1_2_1)\n",
    "        * [1.2.2 ](#section_1_2_2)\n",
    "\n"
   ]
  },
  {
   "cell_type": "markdown",
   "metadata": {},
   "source": [
    "# 1. Neural Network Representation <a class=\"anchor\" id=\"chapter1\"></a>"
   ]
  },
  {
   "cell_type": "markdown",
   "metadata": {},
   "source": [
    "## 1.1 Representation <a class=\"anchor\" id=\"section_1_1\"></a>"
   ]
  },
  {
   "cell_type": "markdown",
   "metadata": {},
   "source": [
    "<center><img src=\"images/03-shallow neural network/NN-representation.PNG\" width = \"400px\"></center>"
   ]
  },
  {
   "cell_type": "markdown",
   "metadata": {},
   "source": [
    "- We have the input features, x1, x2, x3 stacked up vertically. And this is called the <b>input layer</b> of the neural network.\n",
    "- Then there's another layer of circles. And this is called a <b>hidden layer</b> of the neural network. \n",
    "- The final layer here is formed by, in this case, just one node. And this single-node layer is called the <b>output layer</b>, and is responsible for generating the predicted value\n",
    "\n",
    "> This neural network has <b>Two layers</b>. Indeed we don't count the input layer in a neural network."
   ]
  },
  {
   "cell_type": "markdown",
   "metadata": {},
   "source": [
    "## 1.2 Computing a Neural Network output's <a class=\"anchor\" id=\"section_1_2\"></a>"
   ]
  },
  {
   "cell_type": "markdown",
   "metadata": {},
   "source": []
  }
 ],
 "metadata": {
  "language_info": {
   "name": "python"
  },
  "orig_nbformat": 4
 },
 "nbformat": 4,
 "nbformat_minor": 2
}
