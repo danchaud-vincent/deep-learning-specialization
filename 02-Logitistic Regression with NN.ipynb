{
 "cells": [
  {
   "cell_type": "markdown",
   "metadata": {},
   "source": [
    "# Logistic Regression with a Neural Network"
   ]
  },
  {
   "cell_type": "markdown",
   "metadata": {},
   "source": [
    "In this notebook, we will build a logistic Regression classifier.\n",
    "\n",
    "Table of Contents :\n",
    "\n",
    "- 1 - Recap of Logistic Regression Formulas\n",
    "    - 1.1 - Formulas\n",
    "    - 1.2 - Building the parts of the algorithm\n",
    "    \n",
    "- 2 - Example with a simple dataset \n",
    "    - 2.1 - Training of our model\n",
    "    - 2.2 - Gradient Descent Visualization\n",
    "\n",
    "- 3 - Cat Classifier"
   ]
  },
  {
   "cell_type": "markdown",
   "metadata": {},
   "source": [
    "# 1 - Recap : Logistic Regression"
   ]
  },
  {
   "cell_type": "markdown",
   "metadata": {},
   "source": [
    "The logistic Regression is actually a very simple Neural Network as you can see in the following picture. In this example we have an example of a picture of a cat. The pixels represents the input features. And the algorithm will predict if the picture is a cat or not.\n",
    "\n",
    "<center><img src=\"images/02-logistic regression with NN/pixel-image-NN.PNG\" width = \"600px\"></center>"
   ]
  },
  {
   "cell_type": "markdown",
   "metadata": {},
   "source": [
    "## 1.1 - Formulas"
   ]
  },
  {
   "cell_type": "markdown",
   "metadata": {},
   "source": [
    "> m examples with n features by example"
   ]
  },
  {
   "cell_type": "markdown",
   "metadata": {},
   "source": [
    "\n",
    "$$X=\\begin{bmatrix} x^{(1)}_1 & x^{(2)}_1 .. & .. & x^{(m)}_1 \\\\ x^{(1)}_2 & x^{(2)}_2 .. & .. & x^{(m)}_2 \\\\. & . & . & .\\\\. & . & . & . \\\\ x^{(1)}_n & x^{(2)}_n .. & .. & x^{(m)}_n\\end{bmatrix} = \\begin{bmatrix}  X^{(1)} &  X^{(2)} & .. & .. &  X^{(m)} \\end{bmatrix}  \\in  \\mathbb{R^{n \\times m}}$$  \n",
    "\n",
    "\n",
    "$$W=\\begin{bmatrix} w_1 \\\\ w_2 \\\\ .. \\\\ .. \\\\ .. \\\\ w_n \\end{bmatrix} \\in  \\mathbb{R^{n \\times 1}}$$  \n",
    "\n",
    "$$y =\\begin{bmatrix} y_1 & y_2 & .. & .. & y_n\\end{bmatrix} \\in  \\mathbb{R^{1 \\times m}}$$ \n",
    "\n",
    "$$ b \\in  \\mathbb{R}$$  \n",
    "\n",
    "\n",
    "\n"
   ]
  },
  {
   "cell_type": "markdown",
   "metadata": {},
   "source": [
    "> Implementation of the model : \n",
    "\n",
    "$$ \n",
    "    \\begin{cases}\n",
    "    Z = W^T X + b \\\\\n",
    "    A = \\sigma (Z) = \\frac{1}{1+\\exp^{-Z}}\n",
    "    \\end{cases}\n",
    "$$"
   ]
  },
  {
   "cell_type": "markdown",
   "metadata": {},
   "source": [
    "> Cost function :\n",
    "\n",
    " $$ J = - \\frac{1}{m} \\sum y \\times \\log(A) + (1-y) \\times \\log(1-A)$$"
   ]
  },
  {
   "cell_type": "markdown",
   "metadata": {},
   "source": [
    "> Gradient Descent :\n",
    "\n",
    "$$ \n",
    "    \\begin{cases}\n",
    "    W = W - \\alpha \\frac{\\partial{J}}{\\partial{W}}\\\\\n",
    "    b = b - \\alpha \\frac{\\partial{J}}{\\partial{b}} \\\\\n",
    "    \\frac{\\partial{J}}{\\partial{W}} = \\frac{1}{m} X (A-Y)^T\\\\\n",
    "    \\frac{\\partial{J}}{\\partial{b}} = \\frac{1}{m} \\sum (A-Y)\n",
    "    \\end{cases}\n",
    "$$"
   ]
  },
  {
   "cell_type": "markdown",
   "metadata": {},
   "source": [
    "## 1.2 - Building the parts of our model"
   ]
  },
  {
   "cell_type": "markdown",
   "metadata": {},
   "source": [
    "The main steps for building a Neural Network are:\n",
    "\n",
    "1. Define the model structure (such as number of input features)\n",
    "2. Initialize the model's parameters\n",
    "3. Loop :\n",
    "    - <b>Forward Propagation</b> - Calculate current loss\n",
    "    - <b>Backward Propagation</b> - Calculate current gradient\n",
    "    - <b>Gradient Descent</b> - Update parameters"
   ]
  },
  {
   "cell_type": "code",
   "execution_count": 60,
   "metadata": {},
   "outputs": [],
   "source": [
    "# Import\n",
    "\n",
    "import numpy as np\n",
    "import matplotlib.pyplot as plt\n",
    "\n",
    "from sklearn.metrics import accuracy_score"
   ]
  },
  {
   "cell_type": "markdown",
   "metadata": {},
   "source": [
    "#### Initializing parameters"
   ]
  },
  {
   "cell_type": "code",
   "execution_count": 2,
   "metadata": {},
   "outputs": [],
   "source": [
    "def initialize(dimension):\n",
    "\n",
    "    \"\"\"\n",
    "    Initializing the parameters W and b to 0\n",
    "\n",
    "    \"\"\"\n",
    "\n",
    "    w = np.zeros((dimension,1))\n",
    "    b = 0\n",
    "\n",
    "    return w,b"
   ]
  },
  {
   "cell_type": "markdown",
   "metadata": {},
   "source": [
    "#### Sigmoid Function"
   ]
  },
  {
   "cell_type": "code",
   "execution_count": 42,
   "metadata": {},
   "outputs": [],
   "source": [
    "def sigmoid(Z):\n",
    "    \"\"\"\n",
    "    Compute the sigmoid of Z\n",
    "    \"\"\"\n",
    "\n",
    "    sig = 1 / (1+np.exp(-Z))\n",
    "\n",
    "    return sig\n"
   ]
  },
  {
   "cell_type": "markdown",
   "metadata": {},
   "source": [
    "#### Gradient"
   ]
  },
  {
   "cell_type": "code",
   "execution_count": 41,
   "metadata": {},
   "outputs": [],
   "source": [
    "def gradient(X,y,A,m):\n",
    "\n",
    "    \"\"\"\n",
    "    Compute the gradient \n",
    "\n",
    "    X - input\n",
    "    y - label\n",
    "    A- Activation / Sigmoid (model)\n",
    "\n",
    "    \"\"\"\n",
    "    \n",
    "    # Gradient\n",
    "    dw = (1/m) * np.dot(X,(A-y).T)\n",
    "    db = (1/m) * np.sum(A-y)\n",
    "\n",
    "    return dw, db"
   ]
  },
  {
   "cell_type": "markdown",
   "metadata": {},
   "source": [
    "#### Update Gradient"
   ]
  },
  {
   "cell_type": "code",
   "execution_count": 40,
   "metadata": {},
   "outputs": [],
   "source": [
    "def update_param(w,b,dw,db, learning_rate = 0.01):\n",
    "    \"\"\"\n",
    "    This function updates the parameters w and b with the gradient\n",
    "    \"\"\"\n",
    "\n",
    "    w = w - learning_rate * dw\n",
    "    b = b - learning_rate * db\n",
    "\n",
    "    return w,b"
   ]
  },
  {
   "cell_type": "markdown",
   "metadata": {},
   "source": [
    "#### Loss function"
   ]
  },
  {
   "cell_type": "code",
   "execution_count": 39,
   "metadata": {},
   "outputs": [],
   "source": [
    "def cost_func(A,y,m):\n",
    "    \"\"\"\n",
    "    This function computes the loss function \n",
    "    \"\"\"\n",
    "\n",
    "    cost = -(1/m) * np.sum(y*np.log(A) + (1-y) * np.log(1-A))\n",
    "\n",
    "    return cost"
   ]
  },
  {
   "cell_type": "markdown",
   "metadata": {},
   "source": [
    "#### predict"
   ]
  },
  {
   "cell_type": "code",
   "execution_count": 81,
   "metadata": {},
   "outputs": [],
   "source": [
    "def predict(X,w,b):\n",
    "\n",
    "    \"\"\"\n",
    "    Model prediction\n",
    "\n",
    "    X - Input\n",
    "    w,b - parameters\n",
    "    \"\"\"\n",
    "\n",
    "    # compute activation\n",
    "    Z = np.dot(w.T,X) + b\n",
    "    A = sigmoid(Z)\n",
    "\n",
    "    # predict\n",
    "    A[A>=0.5] = 1\n",
    "    A[A<0.5] = 0\n",
    "\n",
    "    return A"
   ]
  },
  {
   "cell_type": "markdown",
   "metadata": {},
   "source": [
    "#### model"
   ]
  },
  {
   "cell_type": "code",
   "execution_count": 126,
   "metadata": {},
   "outputs": [],
   "source": [
    "def model(X,y,num_iter = 200, learning_rate = 0.01):\n",
    "\n",
    "    \"\"\"\n",
    "    Builds the logistic Regression model by calling the function we've implemented previously\n",
    "    \n",
    "    \"\"\" \n",
    "    # Loss list\n",
    "    Loss_train = []\n",
    "\n",
    "    # Accuracy \n",
    "    Acc_train = []\n",
    "\n",
    "    dimension = X.shape[0]\n",
    "    m = X.shape[1]\n",
    "\n",
    "\n",
    "    # Initialize parameters w and b\n",
    "    w,b = initialize(dimension)\n",
    "\n",
    "\n",
    "    # Optimization\n",
    "    for i in range(num_iter):\n",
    "\n",
    "        # Activation\n",
    "        Z = np.dot(w.T,X) + b\n",
    "        A = sigmoid(Z)\n",
    "\n",
    "        # Gradient\n",
    "        dw,db = gradient(X,y, A,m)\n",
    "\n",
    "        # Cost function\n",
    "        cost = cost_func(A,y,m)\n",
    "\n",
    "        # Accuracy\n",
    "        y_pred = predict(X,w,b)\n",
    "        acc = accuracy_score(y.T,y_pred.T)\n",
    "        \n",
    "        Loss_train.append(cost)\n",
    "        Acc_train.append(acc)\n",
    "\n",
    "        # Update Params\n",
    "        w,b = update_param(w,b,dw,db,learning_rate)\n",
    "\n",
    "\n",
    "        # Display the optimization\n",
    "        if i%50 == 0:\n",
    "            print(f\"Iter {i} : Train_Loss = {cost}, Train_acc = {acc}\")\n",
    "\n",
    "    return {\"params\":{\"w\":w,\"b\":b},\"Loss\":Loss_train,\"Accuracy\":Acc_train}\n"
   ]
  },
  {
   "cell_type": "markdown",
   "metadata": {},
   "source": [
    "# 2. Example on a simple dataset"
   ]
  },
  {
   "cell_type": "code",
   "execution_count": 107,
   "metadata": {},
   "outputs": [],
   "source": [
    "from sklearn.datasets import make_blobs"
   ]
  },
  {
   "cell_type": "code",
   "execution_count": 108,
   "metadata": {},
   "outputs": [],
   "source": [
    "X, y = make_blobs(n_samples = 100, n_features = 2, centers = 2, random_state =0)"
   ]
  },
  {
   "cell_type": "code",
   "execution_count": 109,
   "metadata": {},
   "outputs": [
    {
     "name": "stdout",
     "output_type": "stream",
     "text": [
      "X shape: (100, 2)\n",
      "Y shape: (100,)\n"
     ]
    }
   ],
   "source": [
    "print(\"X shape:\", X.shape)\n",
    "print(\"Y shape:\", y.shape)"
   ]
  },
  {
   "cell_type": "code",
   "execution_count": 110,
   "metadata": {},
   "outputs": [
    {
     "name": "stdout",
     "output_type": "stream",
     "text": [
      "X shape: (100, 2)\n",
      "Y shape: (100, 1)\n"
     ]
    }
   ],
   "source": [
    "# Reshape de y \n",
    "X = X\n",
    "y = y.reshape((X.shape[0],1))\n",
    "\n",
    "\n",
    "print(\"X shape:\",X.shape)\n",
    "print(\"Y shape:\",y.shape)"
   ]
  },
  {
   "cell_type": "code",
   "execution_count": 111,
   "metadata": {},
   "outputs": [
    {
     "data": {
      "image/png": "[encoded data removed]",
      "text/plain": [
       "<Figure size 432x288 with 1 Axes>"
      ]
     },
     "metadata": {
      "needs_background": "light"
     },
     "output_type": "display_data"
    }
   ],
   "source": [
    "# Visualization of the example\n",
    "\n",
    "plt.scatter( X[:,0],X[:,1], c=y,cmap=\"summer\")\n",
    "plt.show()"
   ]
  },
  {
   "cell_type": "markdown",
   "metadata": {},
   "source": [
    "## 2.1 - Training our model"
   ]
  },
  {
   "cell_type": "markdown",
   "metadata": {},
   "source": [
    "In this example we have :\n",
    "- X.shape : 100,2 (100 examples, 2 features)\n",
    "- y.shape : 100,1\n",
    "\n",
    "So for our model we need to take X.T and y.T "
   ]
  },
  {
   "cell_type": "code",
   "execution_count": 129,
   "metadata": {},
   "outputs": [
    {
     "name": "stdout",
     "output_type": "stream",
     "text": [
      "Iter 0 : Train_Loss = 0.6931471805599453, Train_acc = 0.5\n",
      "Iter 50 : Train_Loss = 0.5075400099523365, Train_acc = 0.82\n",
      "Iter 100 : Train_Loss = 0.4300955349899871, Train_acc = 0.85\n",
      "Iter 150 : Train_Loss = 0.38257886868727115, Train_acc = 0.88\n",
      "Iter 200 : Train_Loss = 0.3505544747818968, Train_acc = 0.87\n",
      "Iter 250 : Train_Loss = 0.32765342901883066, Train_acc = 0.87\n",
      "Iter 300 : Train_Loss = 0.31051019285109177, Train_acc = 0.87\n",
      "Iter 350 : Train_Loss = 0.29720353473785804, Train_acc = 0.87\n",
      "Iter 400 : Train_Loss = 0.2865692829768506, Train_acc = 0.87\n",
      "Iter 450 : Train_Loss = 0.2778657320144529, Train_acc = 0.88\n"
     ]
    }
   ],
   "source": [
    "result = model(X.T,y.T,num_iter = 500, learning_rate = 0.01)"
   ]
  },
  {
   "cell_type": "code",
   "execution_count": 131,
   "metadata": {},
   "outputs": [
    {
     "data": {
      "image/png": "[encoded data removed]",
      "text/plain": [
       "<Figure size 432x288 with 2 Axes>"
      ]
     },
     "metadata": {
      "needs_background": "light"
     },
     "output_type": "display_data"
    }
   ],
   "source": [
    "# Display \n",
    "\n",
    "fig, ax = plt.subplots(1,2)\n",
    "ax[0].plot(result['Loss'])\n",
    "ax[0].set_xlabel(\"iter\")\n",
    "ax[0].set_title(\"Loss\")\n",
    "\n",
    "ax[1].plot(result['Accuracy'])\n",
    "ax[1].set_xlabel(\"iter\")\n",
    "ax[1].set_title(\"Accuracy\")\n",
    "plt.show()"
   ]
  },
  {
   "cell_type": "markdown",
   "metadata": {},
   "source": [
    "#### Different learning Rate"
   ]
  },
  {
   "cell_type": "code",
   "execution_count": 134,
   "metadata": {},
   "outputs": [
    {
     "name": "stdout",
     "output_type": "stream",
     "text": [
      "Iter 0 : Train_Loss = 0.6931471805599453, Train_acc = 0.5\n",
      "Iter 50 : Train_Loss = 0.26968697631947913, Train_acc = 0.89\n",
      "Iter 100 : Train_Loss = 0.23289154963695535, Train_acc = 0.89\n",
      "Iter 150 : Train_Loss = 0.2171527365237731, Train_acc = 0.89\n",
      "Iter 200 : Train_Loss = 0.2072973643126416, Train_acc = 0.9\n",
      "Iter 250 : Train_Loss = 0.1999546394152538, Train_acc = 0.91\n",
      "Iter 300 : Train_Loss = 0.19396237555402487, Train_acc = 0.92\n",
      "Iter 350 : Train_Loss = 0.18881631543131958, Train_acc = 0.92\n",
      "Iter 400 : Train_Loss = 0.184262405830839, Train_acc = 0.92\n",
      "Iter 450 : Train_Loss = 0.18015761620706616, Train_acc = 0.92\n",
      "Iter 0 : Train_Loss = 0.6931471805599453, Train_acc = 0.5\n",
      "Iter 50 : Train_Loss = 0.5075400099523365, Train_acc = 0.82\n",
      "Iter 100 : Train_Loss = 0.4300955349899871, Train_acc = 0.85\n",
      "Iter 150 : Train_Loss = 0.38257886868727115, Train_acc = 0.88\n",
      "Iter 200 : Train_Loss = 0.3505544747818968, Train_acc = 0.87\n",
      "Iter 250 : Train_Loss = 0.32765342901883066, Train_acc = 0.87\n",
      "Iter 300 : Train_Loss = 0.31051019285109177, Train_acc = 0.87\n",
      "Iter 350 : Train_Loss = 0.29720353473785804, Train_acc = 0.87\n",
      "Iter 400 : Train_Loss = 0.2865692829768506, Train_acc = 0.87\n",
      "Iter 450 : Train_Loss = 0.2778657320144529, Train_acc = 0.88\n",
      "Iter 0 : Train_Loss = 0.6931471805599453, Train_acc = 0.5\n",
      "Iter 50 : Train_Loss = 0.6599088713159573, Train_acc = 0.67\n",
      "Iter 100 : Train_Loss = 0.6324671808232362, Train_acc = 0.7\n",
      "Iter 150 : Train_Loss = 0.6093555763291323, Train_acc = 0.71\n",
      "Iter 200 : Train_Loss = 0.5895071415195597, Train_acc = 0.74\n",
      "Iter 250 : Train_Loss = 0.572153284881124, Train_acc = 0.75\n",
      "Iter 300 : Train_Loss = 0.5567406802675526, Train_acc = 0.78\n",
      "Iter 350 : Train_Loss = 0.5428687672045104, Train_acc = 0.79\n",
      "Iter 400 : Train_Loss = 0.5302447324210242, Train_acc = 0.81\n",
      "Iter 450 : Train_Loss = 0.5186517858592172, Train_acc = 0.82\n"
     ]
    },
    {
     "data": {
      "text/plain": [
       "<matplotlib.legend.Legend at 0x232d509ff70>"
      ]
     },
     "execution_count": 134,
     "metadata": {},
     "output_type": "execute_result"
    },
    {
     "data": {
      "image/png": "[encoded data removed]",
      "text/plain": [
       "<Figure size 432x288 with 1 Axes>"
      ]
     },
     "metadata": {
      "needs_background": "light"
     },
     "output_type": "display_data"
    }
   ],
   "source": [
    "learning_rate = [0.1,0.01,0.001]\n",
    "\n",
    "plt.figure()\n",
    "\n",
    "for alpha in learning_rate:\n",
    "    result = model(X.T,y.T,num_iter = 500, learning_rate = alpha)\n",
    "    plt.plot(result['Loss'])\n",
    "\n",
    "plt.title('Loss with different learning rate')\n",
    "plt.legend(['0.1','0.01','0.001'])\n"
   ]
  },
  {
   "cell_type": "markdown",
   "metadata": {},
   "source": [
    "## 2.2 - Gradient visualization"
   ]
  },
  {
   "cell_type": "code",
   "execution_count": null,
   "metadata": {},
   "outputs": [],
   "source": []
  }
 ],
 "metadata": {
  "interpreter": {
   "hash": "6d46af94c2bbce495f1e668725902fa517c90b1782bcfe2fce0dd9868df553d3"
  },
  "kernelspec": {
   "display_name": "Python 3.8.8 64-bit ('base': conda)",
   "language": "python",
   "name": "python3"
  },
  "language_info": {
   "codemirror_mode": {
    "name": "ipython",
    "version": 3
   },
   "file_extension": ".py",
   "mimetype": "text/x-python",
   "name": "python",
   "nbconvert_exporter": "python",
   "pygments_lexer": "ipython3",
   "version": "3.8.8"
  },
  "orig_nbformat": 4
 },
 "nbformat": 4,
 "nbformat_minor": 2
}
