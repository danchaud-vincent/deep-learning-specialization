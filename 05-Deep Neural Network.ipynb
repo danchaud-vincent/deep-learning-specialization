{
 "cells": [
  {
   "cell_type": "markdown",
   "metadata": {},
   "source": [
    "# Deep neural Network"
   ]
  },
  {
   "cell_type": "markdown",
   "metadata": {},
   "source": [
    "### Table of Contents\n",
    "\n",
    "* [1. Deep L-layer neural Network](#chapter1)\n",
    "    * [1.1 What is a deep Neural Network?](#section_1_1)\n",
    "    * [1.2  Deep Neural network Notation](#section_1_2)\n",
    "    * [1.3 Matrix Representation](#section_1_3)\n",
    "        * [1.3.1 m=1 Examle](#section_1_3_1)\n",
    "        * [1.3.1 Vectorized](#section_1_3_2)\n",
    "* [2. Building Deep Neural Network](#chapter2)\n",
    "    * [2.1 Forward Propagation](#section_2_1)\n",
    "    * [2.2 Backward Propagation](#section_2_2)\n",
    "    * [2.3 Blocks Deep Neural network](#section_2_3)\n",
    "   \n"
   ]
  },
  {
   "cell_type": "markdown",
   "metadata": {},
   "source": [
    "# 1. Deep L-layer neural Network <a class=\"anchor\" id=\"chapter1\"></a>"
   ]
  },
  {
   "cell_type": "markdown",
   "metadata": {},
   "source": [
    "## 1.1 What is a deep Neural Network? <a class=\"anchor\" id=\"section_1_1\"></a>"
   ]
  },
  {
   "cell_type": "markdown",
   "metadata": {},
   "source": [
    "<center><img src=\"images/05-Deep Neural network/deep-neural-network.PNG\" width = \"500px\"></center>"
   ]
  },
  {
   "cell_type": "markdown",
   "metadata": {},
   "source": [
    "> Logistic regression:\n",
    "\n",
    "- shallow neural network\n",
    "- Neural Network with 1 layer :  Output layer\n",
    "\n",
    "> 1 hidden layer:\n",
    "\n",
    "- shallow neural network\n",
    "- 2 Layers \n",
    "    - 1 hidden layer\n",
    "    - 1 output layer"
   ]
  },
  {
   "cell_type": "markdown",
   "metadata": {},
   "source": [
    "Shallow versus depth is a matter of degrees."
   ]
  },
  {
   "cell_type": "markdown",
   "metadata": {},
   "source": [
    " ## 1.2 Deep Neural network Notation <a class=\"anchor\" id=\"section_1_2\"></a>"
   ]
  },
  {
   "cell_type": "markdown",
   "metadata": {},
   "source": [
    "<center><img src=\"images/05-Deep Neural network/notation-deep-neural.PNG\" width = \"500px\"></center>"
   ]
  },
  {
   "cell_type": "markdown",
   "metadata": {},
   "source": [
    "> In this example we have a 4 layer Neural Network:"
   ]
  },
  {
   "cell_type": "markdown",
   "metadata": {},
   "source": [
    "- L : numbers of layers\n",
    "- n<sup>[l]</sup> : numbers of nodes/units in layer l\n",
    "- a<sup>[l]</sup> : activations in layer l\n",
    "- W<sup>[l]</sup> : weigths for Z<sup>[l]</sup> \n",
    "- b<sup>[l]</sup> : bias for Z<sup>[l]</sup>\n",
    "\n",
    "$$ a^{[l]} = g(Z^{[l]})$$"
   ]
  },
  {
   "cell_type": "markdown",
   "metadata": {},
   "source": [
    "> In our example:\n",
    "\n",
    "- n<sup>[0]</sup> = n<sub>X</sub> = 3 | n<sup>[1]</sup> = 5 | n<sup>[2]</sup> = 5 | n<sup>[3]</sup> = 3 | n<sup>[4]</sup> = 1\n",
    "- L = 4\n",
    "- X = a<sup>[0]</sup>\n",
    "\n"
   ]
  },
  {
   "cell_type": "markdown",
   "metadata": {},
   "source": [
    "## 1.3 Matrix Representation <a class=\"anchor\" id=\"section_1_3\"></a>"
   ]
  },
  {
   "cell_type": "markdown",
   "metadata": {},
   "source": [
    "### 1.3.1 m = 1 Example <a class=\"anchor\" id=\"section_1_3_1\"></a>"
   ]
  },
  {
   "cell_type": "markdown",
   "metadata": {},
   "source": [
    "<center><img src=\"images/05-Deep Neural network/matrix-example.PNG\" width = \"400px\"></center>"
   ]
  },
  {
   "cell_type": "markdown",
   "metadata": {},
   "source": [
    "> Neural Network with m=1 example:\n",
    "\n",
    "- L = 5, \n",
    "- n<sup>[0]</sup> = n<sub>X</sub> = 2\n",
    "- n<sup>[1]</sup> = 3\n",
    "- n<sup>[2]</sup> = 5 \n",
    "- n<sup>[3]</sup> = 4 \n",
    "- n<sup>[4]</sup> = 2\n",
    "- n<sup>[5]</sup> = 1"
   ]
  },
  {
   "cell_type": "markdown",
   "metadata": {},
   "source": [
    "$$X=\\begin{bmatrix} ..\\\\..\\\\X^{(1)}\\\\..\\\\ ..\\end{bmatrix} = \\begin{bmatrix} x_{1}\\\\x_{2}\\end{bmatrix} \\in (n_X=2 \\times 1) \\in (n_X \\times 1)$$"
   ]
  },
  {
   "cell_type": "markdown",
   "metadata": {},
   "source": [
    "> Layer 1 :\n",
    "\n",
    "$$\\begin{cases}\n",
    "    Z^{[1]} = W^{[1]} X + b^{[1]} \\\\\n",
    "    (3,1) = (3,2) (2,1) + (3,1)   \\\\\n",
    "    (n^{[1]},1) = (n^{[1]},n^{[0]}) (n^{[0]},1) + (n^{[1]},1)\n",
    "\\end{cases}\n",
    "$$\n"
   ]
  },
  {
   "cell_type": "markdown",
   "metadata": {},
   "source": [
    "> Layer 2 : \n",
    "\n",
    "$$\\begin{cases}\n",
    "    Z^{[2]} = W^{[2]} A^{[1]} + b^{[2]} \\\\\n",
    "    (5,1) = (5,3) (3,1) + (5,1)   \\\\\n",
    "    (n^{[2]},1) = (n^{[2]},n^{[1]}) (n^{[1]},1) + (n^{[2]},1)\n",
    "\\end{cases}\n",
    "$$\n"
   ]
  },
  {
   "cell_type": "markdown",
   "metadata": {},
   "source": [
    "> Layer 2 : \n",
    "\n",
    "$$\\begin{cases}\n",
    "    Z^{[3]} = W^{[3]} A^{[2]} + b^{[3]} \\\\\n",
    "    (4,1) = (4,5) (5,1) + (4,1)   \\\\\n",
    "    (n^{[3]},1) = (n^{[3]},n^{[2]}) (n^{[2]},1) + (n^{[3]},1)\n",
    "\\end{cases}\n",
    "$$\n"
   ]
  },
  {
   "cell_type": "markdown",
   "metadata": {},
   "source": [
    "##### Recap m=1 example"
   ]
  },
  {
   "cell_type": "markdown",
   "metadata": {},
   "source": [
    "> Forward propagation parameters :\n",
    "\n",
    "$$\\begin{cases}\n",
    "    W^{[l]} = (n^{[l]},n^{[l-1]})\\\\\n",
    "    b^{[l]} = (n^{[l]},1)\n",
    "\\end{cases}\n",
    "$$\n"
   ]
  },
  {
   "cell_type": "markdown",
   "metadata": {},
   "source": [
    "> Backward propagation parameters :\n",
    "\n",
    "$$\\begin{cases}\n",
    "    dW^{[l]} = (n^{[l]},n^{[l-1]})\\\\\n",
    "    db^{[l]} = (n^{[l]},1)\n",
    "\\end{cases}\n",
    "$$\n"
   ]
  },
  {
   "cell_type": "markdown",
   "metadata": {},
   "source": [
    "### 1.3.2 Vectorized (m examples) <a class=\"anchor\" id=\"section_1_3_2\"></a>"
   ]
  },
  {
   "cell_type": "markdown",
   "metadata": {},
   "source": [
    "$$X=\\begin{bmatrix} .. & .. & .. & ..\\\\ .. & .. & .. & .. \\\\ X^{(1)} & X^{(2)} & .. & X^{(m)}  \\\\.. & .. & .. & ..\\\\ .. & .. & .. & .. \\end{bmatrix} \\in (n_X \\times m)$$"
   ]
  },
  {
   "cell_type": "markdown",
   "metadata": {},
   "source": [
    "> Layer 1 :\n",
    "\n",
    "$$Z^{[1]} = W^{[1]} X + b^{[1]}$$\n",
    "\n",
    "$$Z^{[1]} = W^{[1]} X + b^{[1]} =\\begin{bmatrix} .. & .. & .. & ..\\\\ .. & .. & .. & .. \\\\ Z^{[1](1)} & Z^{[1](2)} & .. & Z^{[1](m)}   \\\\.. & .. & .. & ..\\\\ .. & .. & .. & .. \\end{bmatrix} \\in (n^{[1]} \\times m)$$"
   ]
  },
  {
   "cell_type": "markdown",
   "metadata": {},
   "source": [
    "$$\\begin{cases}\n",
    "    Z^{[1]} = W^{[1]} X + b^{[1]} \\\\\n",
    "    (3,m) = (3,2) (2,m) + (3,1)   \\\\\n",
    "    (n^{[1]},m) = (n^{[1]},n^{[0]}) (n^{[0]},m) + (n^{[1]},1)\n",
    "\\end{cases}\n",
    "$$\n"
   ]
  },
  {
   "cell_type": "markdown",
   "metadata": {},
   "source": [
    "##### Recap m examples:"
   ]
  },
  {
   "cell_type": "markdown",
   "metadata": {},
   "source": [
    "$$\\begin{cases}\n",
    "    Z^{[l]},A^{[l]} : (n^{[l]},m) \\\\\n",
    "    W^{[l]}: (n^{[l]},n^{[l-1]})   \\\\\n",
    "    b^{[l]}: (n^{[l]},1)  \\\\\n",
    "    dZ^{[l]},dA^{[l]} : (n^{[l]},m) \\\\\n",
    "    dW^{[l]} : (n^{[l]},n^{[l-1]})   \\\\\n",
    "    db^{[l]}: (n^{[l]},1)\n",
    "\\end{cases}\n",
    "$$\n"
   ]
  },
  {
   "cell_type": "markdown",
   "metadata": {},
   "source": [
    "# 2. Building Deep Neural Network <a class=\"anchor\" id=\"chapter2\"></a>"
   ]
  },
  {
   "cell_type": "markdown",
   "metadata": {},
   "source": [
    "## 2.1 Forward Propagation <a class=\"anchor\" id=\"section_2_1\"></a>"
   ]
  },
  {
   "cell_type": "markdown",
   "metadata": {},
   "source": [
    "<center><img src=\"images/05-Deep Neural network/forward-prop.png\" width = \"600px\"></center>"
   ]
  },
  {
   "cell_type": "markdown",
   "metadata": {},
   "source": [
    "$$\n",
    "\\begin{cases}\n",
    "    Z^{[l]} = W^{[l]} X + b^{[l]} \\\\\n",
    "    A^{[l]} = g^{[l]}(Z^{[l]}) \n",
    "\\end{cases}\n",
    "$$\n"
   ]
  },
  {
   "cell_type": "markdown",
   "metadata": {},
   "source": [
    "## 2.2 Backward Propagation <a class=\"anchor\" id=\"section_2_2\"></a>"
   ]
  },
  {
   "cell_type": "markdown",
   "metadata": {},
   "source": [
    "<center><img src=\"images/05-Deep Neural network/backward-prop.png\" width = \"600px\"></center>"
   ]
  },
  {
   "cell_type": "markdown",
   "metadata": {},
   "source": [
    "$$\n",
    "\\begin{cases}\n",
    "    dZ^{[l]} =  (A^{[l]} - Y) \\\\\n",
    "    dW^{[l]} = \\frac{1}{m} dZ^{[l]}A^{[l-1]T} \\\\\n",
    "    db^{[l]} = \\frac{1}{m} \\sum dZ^{[l]}    \\\\\n",
    "    dZ^{[l-1]} = W^{[l]T}dZ^{[l]} * g^{[l-1]'}(Z^{[l-1]}) \\\\\n",
    "\\end{cases}\n",
    "$$\n",
    "\n",
    "$$\n",
    "\\begin{cases}\n",
    "    dZ^{[1]} = W^{[2]T}dZ^{[2]} * g^{[1]'}(Z^{[1]}) \\\\\n",
    "    dW^{[1]} = \\frac{1}{m} dZ^{[1]} X^T \\\\\n",
    "    db^{[1]} = \\frac{1}{m} \\sum  dZ^{[1]}\n",
    "\\end{cases}\n",
    "$$\n"
   ]
  },
  {
   "cell_type": "markdown",
   "metadata": {},
   "source": [
    "## 2.3 Blocks Neural Network <a class=\"anchor\" id=\"section_2_3\"></a>"
   ]
  },
  {
   "cell_type": "markdown",
   "metadata": {},
   "source": [
    "In each layer there's a forward propagation step and there's a corresponding backward propagation step. And has a cache to pass information from one to the other."
   ]
  },
  {
   "cell_type": "markdown",
   "metadata": {},
   "source": [
    "<center><img src=\"images/05-Deep Neural network/forw-backw.png\" width = \"600px\"></center>"
   ]
  },
  {
   "cell_type": "markdown",
   "metadata": {},
   "source": [
    "# 3. Parameters vs Hyperparameters <a class=\"anchor\" id=\"chapter3\"></a>"
   ]
  },
  {
   "cell_type": "markdown",
   "metadata": {},
   "source": [
    "The hyperparaters control the parameters W and b."
   ]
  },
  {
   "cell_type": "markdown",
   "metadata": {},
   "source": [
    "> Parameters:\n",
    "\n",
    "- W[1], b[1]\n",
    "- W[2], b[2]\n",
    "- ...\n",
    "- W[l], b[l]"
   ]
  },
  {
   "cell_type": "markdown",
   "metadata": {},
   "source": [
    "> Hyperparameters:\n",
    "\n",
    "- learning rate\n",
    "- number of iteration\n",
    "- number of hidden layers\n",
    "- number of nodes in hidden layer\n",
    "- choice of activation function\n",
    "- ..."
   ]
  }
 ],
 "metadata": {
  "language_info": {
   "name": "python"
  },
  "orig_nbformat": 4
 },
 "nbformat": 4,
 "nbformat_minor": 2
}
