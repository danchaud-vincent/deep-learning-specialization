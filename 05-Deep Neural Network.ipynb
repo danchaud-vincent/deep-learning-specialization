{
 "cells": [
  {
   "cell_type": "markdown",
   "metadata": {},
   "source": [
    "# Deep neural Network"
   ]
  },
  {
   "cell_type": "markdown",
   "metadata": {},
   "source": [
    "### Table of Contents\n",
    "\n",
    "* [1. Deep L-layer neural Network](#chapter1)\n",
    "    * [1.1 What is a deep Neural Network?](#section_1_1)\n",
    "    * [1.2  Deep Neural network Notation](#section_1_2)\n",
    "    * [1.3 ](#section_1_3)\n",
    "* [2. ](#chapter2)\n",
    "    * [2.1 ](#section_2_1)\n",
    "   \n"
   ]
  },
  {
   "cell_type": "markdown",
   "metadata": {},
   "source": [
    "# 1. Deep L-layer neural Network <a class=\"anchor\" id=\"chapter1\"></a>"
   ]
  },
  {
   "cell_type": "markdown",
   "metadata": {},
   "source": [
    "## 1.1 What is a deep Neural Network? <a class=\"anchor\" id=\"section_1_1\"></a>"
   ]
  },
  {
   "cell_type": "markdown",
   "metadata": {},
   "source": [
    "<center><img src=\"images/05-Deep Neural network/deep-neural-network.PNG\" width = \"500px\"></center>"
   ]
  },
  {
   "cell_type": "markdown",
   "metadata": {},
   "source": [
    "> Logistic regression:\n",
    "\n",
    "- shallow neural network\n",
    "- Neural Network with 1 layer :  Output layer\n",
    "\n",
    "> 1 hidden layer:\n",
    "\n",
    "- shallow neural network\n",
    "- 2 Layers \n",
    "    - 1 hidden layer\n",
    "    - 1 output layer"
   ]
  },
  {
   "cell_type": "markdown",
   "metadata": {},
   "source": [
    "Shallow versus depth is a matter of degrees."
   ]
  },
  {
   "cell_type": "markdown",
   "metadata": {},
   "source": [
    " ## 1.2 Deep Neural network Notation <a class=\"anchor\" id=\"section_1_2\"></a>"
   ]
  },
  {
   "cell_type": "markdown",
   "metadata": {},
   "source": [
    "<center><img src=\"images/05-Deep Neural network/notation-deep-neural.PNG\" width = \"500px\"></center>"
   ]
  },
  {
   "cell_type": "markdown",
   "metadata": {},
   "source": [
    "> In this example we have a 4 layer Neural Network:"
   ]
  },
  {
   "cell_type": "markdown",
   "metadata": {},
   "source": [
    "- L : numbers of layers\n",
    "- n<sup>[l]</sup> : numbers of nodes/units in layer l\n",
    "- a<sup>[l]</sup> : activations in layer l\n",
    "- W<sup>[l]</sup> : weigths for Z<sup>[l]</sup> \n",
    "- b<sup>[l]</sup> : bias for Z<sup>[l]</sup>\n",
    "\n",
    "$$ a^{[l]} = g(Z^{[l]})$$"
   ]
  },
  {
   "cell_type": "markdown",
   "metadata": {},
   "source": [
    "> In our example:\n",
    "\n",
    "- n<sup>[0]</sup> = n<sub>X</sub> = 3 | n<sup>[1]</sup> = 5 | n<sup>[2]</sup> = 5 | n<sup>[3]</sup> = 3 | n<sup>[4]</sup> = 1\n",
    "- L = 4\n",
    "- X = a<sup>[0]</sup>\n",
    "\n"
   ]
  },
  {
   "cell_type": "markdown",
   "metadata": {},
   "source": []
  }
 ],
 "metadata": {
  "language_info": {
   "name": "python"
  },
  "orig_nbformat": 4
 },
 "nbformat": 4,
 "nbformat_minor": 2
}
