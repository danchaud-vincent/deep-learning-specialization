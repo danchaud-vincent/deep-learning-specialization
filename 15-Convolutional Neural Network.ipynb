{
 "cells": [
  {
   "cell_type": "markdown",
   "metadata": {},
   "source": [
    "# Convolutional  Neural Network - Tensorflow TUTORIAL"
   ]
  },
  {
   "cell_type": "code",
   "execution_count": 2,
   "metadata": {},
   "outputs": [
    {
     "name": "stdout",
     "output_type": "stream",
     "text": [
      "Collecting tensorflow\n",
      "  Downloading tensorflow-2.8.0-cp38-cp38-win_amd64.whl (438.0 MB)\n",
      "Requirement already satisfied: six>=1.12.0 in c:\\users\\user\\anaconda3\\lib\\site-packages (from tensorflow) (1.15.0)\n",
      "Collecting protobuf>=3.9.2\n",
      "  Downloading protobuf-3.19.4-cp38-cp38-win_amd64.whl (895 kB)\n",
      "Collecting grpcio<2.0,>=1.24.3\n",
      "  Downloading grpcio-1.44.0-cp38-cp38-win_amd64.whl (3.4 MB)\n",
      "Requirement already satisfied: h5py>=2.9.0 in c:\\users\\user\\anaconda3\\lib\\site-packages (from tensorflow) (2.10.0)\n",
      "Requirement already satisfied: setuptools in c:\\users\\user\\anaconda3\\lib\\site-packages (from tensorflow) (52.0.0.post20210125)\n",
      "Collecting tensorflow-io-gcs-filesystem>=0.23.1\n",
      "  Downloading tensorflow_io_gcs_filesystem-0.24.0-cp38-cp38-win_amd64.whl (1.5 MB)\n",
      "Requirement already satisfied: typing-extensions>=3.6.6 in c:\\users\\user\\anaconda3\\lib\\site-packages (from tensorflow) (3.7.4.3)\n",
      "Collecting tensorboard<2.9,>=2.8\n",
      "  Downloading tensorboard-2.8.0-py3-none-any.whl (5.8 MB)\n",
      "Requirement already satisfied: numpy>=1.20 in c:\\users\\user\\anaconda3\\lib\\site-packages (from tensorflow) (1.20.1)\n",
      "Requirement already satisfied: wrapt>=1.11.0 in c:\\users\\user\\anaconda3\\lib\\site-packages (from tensorflow) (1.12.1)\n",
      "Collecting absl-py>=0.4.0\n",
      "  Downloading absl_py-1.0.0-py3-none-any.whl (126 kB)\n",
      "Collecting gast>=0.2.1\n",
      "  Downloading gast-0.5.3-py3-none-any.whl (19 kB)\n",
      "Collecting opt-einsum>=2.3.2\n",
      "  Downloading opt_einsum-3.3.0-py3-none-any.whl (65 kB)\n",
      "Collecting flatbuffers>=1.12\n",
      "  Downloading flatbuffers-2.0-py2.py3-none-any.whl (26 kB)\n",
      "Collecting keras<2.9,>=2.8.0rc0\n",
      "  Downloading keras-2.8.0-py2.py3-none-any.whl (1.4 MB)\n",
      "Collecting libclang>=9.0.1\n",
      "  Downloading libclang-13.0.0-py2.py3-none-win_amd64.whl (13.9 MB)\n",
      "Collecting tf-estimator-nightly==2.8.0.dev2021122109\n",
      "  Downloading tf_estimator_nightly-2.8.0.dev2021122109-py2.py3-none-any.whl (462 kB)\n",
      "Collecting keras-preprocessing>=1.1.1\n",
      "  Downloading Keras_Preprocessing-1.1.2-py2.py3-none-any.whl (42 kB)\n",
      "Collecting astunparse>=1.6.0\n",
      "  Downloading astunparse-1.6.3-py2.py3-none-any.whl (12 kB)\n",
      "Collecting termcolor>=1.1.0\n",
      "  Downloading termcolor-1.1.0.tar.gz (3.9 kB)\n",
      "Collecting google-pasta>=0.1.1\n",
      "  Downloading google_pasta-0.2.0-py3-none-any.whl (57 kB)\n",
      "Requirement already satisfied: wheel<1.0,>=0.23.0 in c:\\users\\user\\anaconda3\\lib\\site-packages (from astunparse>=1.6.0->tensorflow) (0.36.2)\n",
      "Requirement already satisfied: requests<3,>=2.21.0 in c:\\users\\user\\anaconda3\\lib\\site-packages (from tensorboard<2.9,>=2.8->tensorflow) (2.25.1)\n",
      "Collecting google-auth-oauthlib<0.5,>=0.4.1\n",
      "  Downloading google_auth_oauthlib-0.4.6-py2.py3-none-any.whl (18 kB)\n",
      "Collecting tensorboard-plugin-wit>=1.6.0\n",
      "  Downloading tensorboard_plugin_wit-1.8.1-py3-none-any.whl (781 kB)\n",
      "Collecting google-auth<3,>=1.6.3\n",
      "  Downloading google_auth-2.6.0-py2.py3-none-any.whl (156 kB)\n",
      "Requirement already satisfied: werkzeug>=0.11.15 in c:\\users\\user\\anaconda3\\lib\\site-packages (from tensorboard<2.9,>=2.8->tensorflow) (1.0.1)\n",
      "Collecting tensorboard-data-server<0.7.0,>=0.6.0\n",
      "  Downloading tensorboard_data_server-0.6.1-py3-none-any.whl (2.4 kB)\n",
      "Collecting markdown>=2.6.8\n",
      "  Downloading Markdown-3.3.6-py3-none-any.whl (97 kB)\n",
      "Collecting cachetools<6.0,>=2.0.0\n",
      "  Downloading cachetools-5.0.0-py3-none-any.whl (9.1 kB)\n",
      "Collecting pyasn1-modules>=0.2.1\n",
      "  Downloading pyasn1_modules-0.2.8-py2.py3-none-any.whl (155 kB)\n",
      "Collecting rsa<5,>=3.1.4\n",
      "  Downloading rsa-4.8-py3-none-any.whl (39 kB)\n",
      "Collecting requests-oauthlib>=0.7.0\n",
      "  Downloading requests_oauthlib-1.3.1-py2.py3-none-any.whl (23 kB)\n",
      "Collecting importlib-metadata>=4.4\n",
      "  Downloading importlib_metadata-4.11.2-py3-none-any.whl (17 kB)\n",
      "Requirement already satisfied: zipp>=0.5 in c:\\users\\user\\anaconda3\\lib\\site-packages (from importlib-metadata>=4.4->markdown>=2.6.8->tensorboard<2.9,>=2.8->tensorflow) (3.4.1)\n",
      "Collecting pyasn1<0.5.0,>=0.4.6\n",
      "  Downloading pyasn1-0.4.8-py2.py3-none-any.whl (77 kB)\n",
      "Requirement already satisfied: idna<3,>=2.5 in c:\\users\\user\\anaconda3\\lib\\site-packages (from requests<3,>=2.21.0->tensorboard<2.9,>=2.8->tensorflow) (2.10)\n",
      "Requirement already satisfied: chardet<5,>=3.0.2 in c:\\users\\user\\anaconda3\\lib\\site-packages (from requests<3,>=2.21.0->tensorboard<2.9,>=2.8->tensorflow) (4.0.0)\n",
      "Requirement already satisfied: certifi>=2017.4.17 in c:\\users\\user\\anaconda3\\lib\\site-packages (from requests<3,>=2.21.0->tensorboard<2.9,>=2.8->tensorflow) (2020.12.5)\n",
      "Requirement already satisfied: urllib3<1.27,>=1.21.1 in c:\\users\\user\\anaconda3\\lib\\site-packages (from requests<3,>=2.21.0->tensorboard<2.9,>=2.8->tensorflow) (1.26.4)\n",
      "Collecting oauthlib>=3.0.0\n",
      "  Downloading oauthlib-3.2.0-py3-none-any.whl (151 kB)\n",
      "Building wheels for collected packages: termcolor\n",
      "  Building wheel for termcolor (setup.py): started\n",
      "  Building wheel for termcolor (setup.py): finished with status 'done'\n",
      "  Created wheel for termcolor: filename=termcolor-1.1.0-py3-none-any.whl size=4829 sha256=e41d3dc60bb67332bfc655854a0fdf0afc4b7ffc5b2658c260bf16dacd8772ea\n",
      "  Stored in directory: c:\\users\\user\\appdata\\local\\pip\\cache\\wheels\\a0\\16\\9c\\5473df82468f958445479c59e784896fa24f4a5fc024b0f501\n",
      "Successfully built termcolor\n",
      "Installing collected packages: pyasn1, rsa, pyasn1-modules, oauthlib, cachetools, requests-oauthlib, importlib-metadata, google-auth, tensorboard-plugin-wit, tensorboard-data-server, protobuf, markdown, grpcio, google-auth-oauthlib, absl-py, tf-estimator-nightly, termcolor, tensorflow-io-gcs-filesystem, tensorboard, opt-einsum, libclang, keras-preprocessing, keras, google-pasta, gast, flatbuffers, astunparse, tensorflow\n",
      "  Attempting uninstall: importlib-metadata\n",
      "    Found existing installation: importlib-metadata 3.10.0\n",
      "    Uninstalling importlib-metadata-3.10.0:\n",
      "      Successfully uninstalled importlib-metadata-3.10.0\n",
      "Successfully installed absl-py-1.0.0 astunparse-1.6.3 cachetools-5.0.0 flatbuffers-2.0 gast-0.5.3 google-auth-2.6.0 google-auth-oauthlib-0.4.6 google-pasta-0.2.0 grpcio-1.44.0 importlib-metadata-4.11.2 keras-2.8.0 keras-preprocessing-1.1.2 libclang-13.0.0 markdown-3.3.6 oauthlib-3.2.0 opt-einsum-3.3.0 protobuf-3.19.4 pyasn1-0.4.8 pyasn1-modules-0.2.8 requests-oauthlib-1.3.1 rsa-4.8 tensorboard-2.8.0 tensorboard-data-server-0.6.1 tensorboard-plugin-wit-1.8.1 tensorflow-2.8.0 tensorflow-io-gcs-filesystem-0.24.0 termcolor-1.1.0 tf-estimator-nightly-2.8.0.dev2021122109\n",
      "Note: you may need to restart the kernel to use updated packages.\n"
     ]
    }
   ],
   "source": [
    "#pip install tensorflow"
   ]
  },
  {
   "cell_type": "code",
   "execution_count": 3,
   "metadata": {},
   "outputs": [],
   "source": [
    "# packages\n",
    "\n",
    "import math\n",
    "import numpy as np\n",
    "import h5py\n",
    "import matplotlib.pyplot as plt\n",
    "from matplotlib.pyplot import imread\n",
    "import scipy\n",
    "from PIL import Image\n",
    "import pandas as pd\n",
    "import tensorflow as tf\n",
    "import tensorflow.keras.layers as tfl\n",
    "\n",
    "%matplotlib inline"
   ]
  },
  {
   "cell_type": "markdown",
   "metadata": {},
   "source": [
    "### Load Dataset"
   ]
  },
  {
   "cell_type": "code",
   "execution_count": 4,
   "metadata": {},
   "outputs": [],
   "source": [
    "def load_happy_dataset():\n",
    "    train_dataset = h5py.File('datasets/05 - happy_house/train_happy.h5', \"r\")\n",
    "    train_set_x_orig = np.array(train_dataset[\"train_set_x\"][:]) # your train set features\n",
    "    train_set_y_orig = np.array(train_dataset[\"train_set_y\"][:]) # your train set labels\n",
    "\n",
    "    test_dataset = h5py.File('datasets/05 - happy_house/test_happy.h5', \"r\")\n",
    "    test_set_x_orig = np.array(test_dataset[\"test_set_x\"][:]) # your test set features\n",
    "    test_set_y_orig = np.array(test_dataset[\"test_set_y\"][:]) # your test set labels\n",
    "\n",
    "    classes = np.array(test_dataset[\"list_classes\"][:]) # the list of classes\n",
    "    \n",
    "    train_set_y_orig = train_set_y_orig.reshape((1, train_set_y_orig.shape[0]))\n",
    "    test_set_y_orig = test_set_y_orig.reshape((1, test_set_y_orig.shape[0]))\n",
    "    \n",
    "    return train_set_x_orig, train_set_y_orig, test_set_x_orig, test_set_y_orig, classes\n",
    "\n",
    "def load_signs_dataset():\n",
    "    train_dataset = h5py.File('datasets/04 - signs/train_signs.h5', \"r\")\n",
    "    train_set_x_orig = np.array(train_dataset[\"train_set_x\"][:]) # your train set features\n",
    "    train_set_y_orig = np.array(train_dataset[\"train_set_y\"][:]) # your train set labels\n",
    "\n",
    "    test_dataset = h5py.File('datasets/04 - signs/test_signs.h5', \"r\")\n",
    "    test_set_x_orig = np.array(test_dataset[\"test_set_x\"][:]) # your test set features\n",
    "    test_set_y_orig = np.array(test_dataset[\"test_set_y\"][:]) # your test set labels\n",
    "\n",
    "    classes = np.array(test_dataset[\"list_classes\"][:]) # the list of classes\n",
    "    \n",
    "    train_set_y_orig = train_set_y_orig.reshape((1, train_set_y_orig.shape[0]))\n",
    "    test_set_y_orig = test_set_y_orig.reshape((1, test_set_y_orig.shape[0]))\n",
    "    \n",
    "    return train_set_x_orig, train_set_y_orig, test_set_x_orig, test_set_y_orig, classes"
   ]
  },
  {
   "cell_type": "markdown",
   "metadata": {},
   "source": [
    "# HAPPY HOUSE"
   ]
  },
  {
   "cell_type": "markdown",
   "metadata": {},
   "source": [
    "###  Load the Data and Split the Data into Train/Test Sets"
   ]
  },
  {
   "cell_type": "code",
   "execution_count": 5,
   "metadata": {},
   "outputs": [
    {
     "name": "stdout",
     "output_type": "stream",
     "text": [
      "number of training examples = 600\n",
      "number of test examples = 150\n",
      "X_train shape: (600, 64, 64, 3)\n",
      "Y_train shape: (600, 1)\n",
      "X_test shape: (150, 64, 64, 3)\n",
      "Y_test shape: (150, 1)\n"
     ]
    }
   ],
   "source": [
    "X_train_orig, Y_train_orig, X_test_orig, Y_test_orig, classes = load_happy_dataset()\n",
    "\n",
    "# Normalize image vectors\n",
    "X_train = X_train_orig/255.\n",
    "X_test = X_test_orig/255.\n",
    "\n",
    "# Reshape\n",
    "Y_train = Y_train_orig.T\n",
    "Y_test = Y_test_orig.T\n",
    "\n",
    "print (\"number of training examples = \" + str(X_train.shape[0]))\n",
    "print (\"number of test examples = \" + str(X_test.shape[0]))\n",
    "print (\"X_train shape: \" + str(X_train.shape))\n",
    "print (\"Y_train shape: \" + str(Y_train.shape))\n",
    "print (\"X_test shape: \" + str(X_test.shape))\n",
    "print (\"Y_test shape: \" + str(Y_test.shape))"
   ]
  },
  {
   "cell_type": "code",
   "execution_count": 6,
   "metadata": {},
   "outputs": [
    {
     "data": {
      "image/png": "[encoded data removed]",
      "text/plain": [
       "<Figure size 432x288 with 1 Axes>"
      ]
     },
     "metadata": {
      "needs_background": "light"
     },
     "output_type": "display_data"
    }
   ],
   "source": [
    "index = 124\n",
    "plt.imshow(X_train_orig[index]) #display sample training image\n",
    "plt.show()"
   ]
  },
  {
   "cell_type": "markdown",
   "metadata": {},
   "source": [
    "### Tensorflow Model"
   ]
  },
  {
   "cell_type": "code",
   "execution_count": 7,
   "metadata": {},
   "outputs": [],
   "source": [
    "def happyModel():\n",
    "    \"\"\"\n",
    "    Implements the forward propagation for the binary classification model:\n",
    "    ZEROPAD2D -> CONV2D -> BATCHNORM -> RELU -> MAXPOOL -> FLATTEN -> DENSE\n",
    "    \n",
    "    Note that for simplicity and grading purposes, you'll hard-code all the values\n",
    "    such as the stride and kernel (filter) sizes. \n",
    "    Normally, functions should take these values as function parameters.\n",
    "    \n",
    "    Arguments:\n",
    "    None\n",
    "\n",
    "    Returns:\n",
    "    model -- TF Keras model (object containing the information for the entire training process) \n",
    "    \"\"\"\n",
    "    model = tf.keras.Sequential([\n",
    "            \n",
    "            ## ZeroPadding2D with padding 3, input shape of 64 x 64 x 3\n",
    "            tf.keras.layers.ZeroPadding2D(padding = 3, input_shape=(64,64,3)),\n",
    "            \n",
    "            ## Conv2D with 32 7x7 filters and stride of 1\n",
    "            tf.keras.layers.Conv2D(filters=32,kernel_size=(7,7),strides=1),\n",
    "            \n",
    "            ## BatchNormalization for axis 3\n",
    "            tf.keras.layers.BatchNormalization(axis=3),\n",
    "            \n",
    "            ## ReLU\n",
    "            tf.keras.layers.ReLU(),\n",
    "\n",
    "                        \n",
    "            ## Max Pooling 2D with default parameters\n",
    "            tf.keras.layers.MaxPool2D(),\n",
    "\n",
    "            ## Flatten layer\n",
    "            tf.keras.layers.Flatten(),\n",
    "                    \n",
    "            ## Dense layer with 1 unit for output & 'sigmoid' activation\n",
    "            tf.keras.layers.Dense(1, activation =\"sigmoid\")\n",
    "            \n",
    "        ])\n",
    "    \n",
    "    return model"
   ]
  },
  {
   "cell_type": "markdown",
   "metadata": {},
   "source": [
    "### Optimizer and Loss"
   ]
  },
  {
   "cell_type": "code",
   "execution_count": 14,
   "metadata": {},
   "outputs": [],
   "source": [
    "happy_model = happyModel()\n",
    "happy_model.compile(optimizer='adam',\n",
    "                   loss='binary_crossentropy',\n",
    "                   metrics=['accuracy'])"
   ]
  },
  {
   "cell_type": "markdown",
   "metadata": {},
   "source": [
    "### Summary"
   ]
  },
  {
   "cell_type": "code",
   "execution_count": 15,
   "metadata": {},
   "outputs": [
    {
     "name": "stdout",
     "output_type": "stream",
     "text": [
      "Model: \"sequential_1\"\n",
      "_________________________________________________________________\n",
      " Layer (type)                Output Shape              Param #   \n",
      "=================================================================\n",
      " zero_padding2d_1 (ZeroPaddi  (None, 70, 70, 3)        0         \n",
      " ng2D)                                                           \n",
      "                                                                 \n",
      " conv2d_1 (Conv2D)           (None, 64, 64, 32)        4736      \n",
      "                                                                 \n",
      " batch_normalization_1 (Batc  (None, 64, 64, 32)       128       \n",
      " hNormalization)                                                 \n",
      "                                                                 \n",
      " re_lu_1 (ReLU)              (None, 64, 64, 32)        0         \n",
      "                                                                 \n",
      " max_pooling2d_1 (MaxPooling  (None, 32, 32, 32)       0         \n",
      " 2D)                                                             \n",
      "                                                                 \n",
      " flatten_1 (Flatten)         (None, 32768)             0         \n",
      "                                                                 \n",
      " dense_1 (Dense)             (None, 1)                 32769     \n",
      "                                                                 \n",
      "=================================================================\n",
      "Total params: 37,633\n",
      "Trainable params: 37,569\n",
      "Non-trainable params: 64\n",
      "_________________________________________________________________\n"
     ]
    }
   ],
   "source": [
    "happy_model.summary()"
   ]
  },
  {
   "cell_type": "markdown",
   "metadata": {},
   "source": [
    "### Train and Evaluate the model"
   ]
  },
  {
   "cell_type": "code",
   "execution_count": 20,
   "metadata": {},
   "outputs": [
    {
     "name": "stdout",
     "output_type": "stream",
     "text": [
      "Epoch 1/10\n",
      "38/38 [==============================] - 2s 64ms/step - loss: 0.1034 - accuracy: 0.9717\n",
      "Epoch 2/10\n",
      "38/38 [==============================] - 2s 64ms/step - loss: 0.0586 - accuracy: 0.9833\n",
      "Epoch 3/10\n",
      "38/38 [==============================] - 2s 62ms/step - loss: 0.0826 - accuracy: 0.9733\n",
      "Epoch 4/10\n",
      "38/38 [==============================] - 2s 53ms/step - loss: 0.0386 - accuracy: 0.9867\n",
      "Epoch 5/10\n",
      "38/38 [==============================] - 2s 66ms/step - loss: 0.0517 - accuracy: 0.9850\n",
      "Epoch 6/10\n",
      "38/38 [==============================] - 2s 61ms/step - loss: 0.0592 - accuracy: 0.9817\n",
      "Epoch 7/10\n",
      "38/38 [==============================] - 2s 57ms/step - loss: 0.0678 - accuracy: 0.9750\n",
      "Epoch 8/10\n",
      "38/38 [==============================] - 2s 58ms/step - loss: 0.0826 - accuracy: 0.9733\n",
      "Epoch 9/10\n",
      "38/38 [==============================] - 2s 57ms/step - loss: 0.0472 - accuracy: 0.9867\n",
      "Epoch 10/10\n",
      "38/38 [==============================] - 2s 56ms/step - loss: 0.0400 - accuracy: 0.9833\n"
     ]
    },
    {
     "data": {
      "text/plain": [
       "<keras.callbacks.History at 0x2ea9b65ae20>"
      ]
     },
     "execution_count": 20,
     "metadata": {},
     "output_type": "execute_result"
    }
   ],
   "source": [
    "happy_model.fit(X_train, Y_train, epochs=10, batch_size=16)"
   ]
  },
  {
   "cell_type": "code",
   "execution_count": 21,
   "metadata": {},
   "outputs": [
    {
     "name": "stdout",
     "output_type": "stream",
     "text": [
      "5/5 [==============================] - 0s 32ms/step - loss: 0.6146 - accuracy: 0.8067\n"
     ]
    },
    {
     "data": {
      "text/plain": [
       "[0.6146048903465271, 0.8066666722297668]"
      ]
     },
     "execution_count": 21,
     "metadata": {},
     "output_type": "execute_result"
    }
   ],
   "source": [
    "happy_model.evaluate(X_test, Y_test)"
   ]
  },
  {
   "cell_type": "markdown",
   "metadata": {},
   "source": [
    "# SIGN"
   ]
  },
  {
   "cell_type": "markdown",
   "metadata": {},
   "source": [
    "### Load Dataset"
   ]
  },
  {
   "cell_type": "code",
   "execution_count": 23,
   "metadata": {},
   "outputs": [],
   "source": [
    "# Loading the data (signs)\n",
    "X_train_orig, Y_train_orig, X_test_orig, Y_test_orig, classes = load_signs_dataset()"
   ]
  },
  {
   "cell_type": "code",
   "execution_count": 24,
   "metadata": {},
   "outputs": [
    {
     "name": "stdout",
     "output_type": "stream",
     "text": [
      "y = 4\n"
     ]
    },
    {
     "data": {
      "image/png": "[encoded data removed]",
      "text/plain": [
       "<Figure size 432x288 with 1 Axes>"
      ]
     },
     "metadata": {
      "needs_background": "light"
     },
     "output_type": "display_data"
    }
   ],
   "source": [
    "# Example of an image from the dataset\n",
    "index = 9\n",
    "plt.imshow(X_train_orig[index])\n",
    "print (\"y = \" + str(np.squeeze(Y_train_orig[:, index])))"
   ]
  },
  {
   "cell_type": "markdown",
   "metadata": {},
   "source": [
    "### Split data"
   ]
  },
  {
   "cell_type": "code",
   "execution_count": 25,
   "metadata": {},
   "outputs": [
    {
     "name": "stdout",
     "output_type": "stream",
     "text": [
      "X_train shape: (1080, 64, 64, 3)\n",
      "X_test shape: (120, 64, 64, 3)\n"
     ]
    }
   ],
   "source": [
    "X_train = X_train_orig/255.\n",
    "X_test = X_test_orig/255.\n",
    "\n",
    "print (\"X_train shape: \" + str(X_train.shape))\n",
    "print (\"X_test shape: \" + str(X_test.shape))\n"
   ]
  },
  {
   "cell_type": "code",
   "execution_count": 34,
   "metadata": {},
   "outputs": [
    {
     "name": "stdout",
     "output_type": "stream",
     "text": [
      "Y_train: [[5 0 2 ... 2 4 5]]\n",
      "Y_test: [[0 0 0 5 1 0 3 1 5 1 5 1 3 1 1 3 5 4 0 4 5 4 2 5 3 5 4 2 1 2 3 1 0 3 1 1\n",
      "  0 4 2 3 0 3 0 2 3 1 2 2 0 3 4 1 2 0 4 0 4 0 4 4 5 5 2 4 4 5 0 1 3 5 0 4\n",
      "  1 2 3 4 3 5 1 5 2 0 1 4 2 4 4 1 4 5 5 0 0 5 5 5 3 3 5 2 2 2 0 2 5 3 0 2\n",
      "  3 4 1 3 2 4 2 2 1 3 1 3]]\n"
     ]
    }
   ],
   "source": [
    "print(\"Y_train:\",Y_train_orig)\n",
    "print(\"Y_test:\",Y_test_orig)"
   ]
  },
  {
   "cell_type": "code",
   "execution_count": 35,
   "metadata": {},
   "outputs": [],
   "source": [
    "def convert_to_one_hot(Y, C):\n",
    "    Y = np.eye(C)[Y.reshape(-1)].T\n",
    "    return Y"
   ]
  },
  {
   "cell_type": "code",
   "execution_count": 64,
   "metadata": {},
   "outputs": [
    {
     "name": "stdout",
     "output_type": "stream",
     "text": [
      "[4 3 3 4 2 3 1 4 3 3]\n"
     ]
    },
    {
     "data": {
      "text/plain": [
       "array([[0., 0., 0., 0., 1., 0.],\n",
       "       [0., 0., 0., 1., 0., 0.],\n",
       "       [0., 0., 0., 1., 0., 0.],\n",
       "       [0., 0., 0., 0., 1., 0.],\n",
       "       [0., 0., 1., 0., 0., 0.],\n",
       "       [0., 0., 0., 1., 0., 0.],\n",
       "       [0., 1., 0., 0., 0., 0.],\n",
       "       [0., 0., 0., 0., 1., 0.],\n",
       "       [0., 0., 0., 1., 0., 0.],\n",
       "       [0., 0., 0., 1., 0., 0.]])"
      ]
     },
     "execution_count": 64,
     "metadata": {},
     "output_type": "execute_result"
    }
   ],
   "source": [
    "# Exemple\n",
    "A = np.random.randint(0,5,(10,))\n",
    "print(A)\n",
    "np.eye(6)[A.reshape(-1)]\n"
   ]
  },
  {
   "cell_type": "code",
   "execution_count": 65,
   "metadata": {},
   "outputs": [
    {
     "name": "stdout",
     "output_type": "stream",
     "text": [
      "number of training examples = 1080\n",
      "number of test examples = 120\n",
      "X_train shape: (1080, 64, 64, 3)\n",
      "Y_train shape: (1080, 6)\n",
      "X_test shape: (120, 64, 64, 3)\n",
      "Y_test shape: (120, 6)\n"
     ]
    }
   ],
   "source": [
    "Y_train = convert_to_one_hot(Y_train_orig, 6).T\n",
    "Y_test = convert_to_one_hot(Y_test_orig, 6).T\n",
    "print (\"number of training examples = \" + str(X_train.shape[0]))\n",
    "print (\"number of test examples = \" + str(X_test.shape[0]))\n",
    "print (\"X_train shape: \" + str(X_train.shape))\n",
    "print (\"Y_train shape: \" + str(Y_train.shape))\n",
    "print (\"X_test shape: \" + str(X_test.shape))\n",
    "print (\"Y_test shape: \" + str(Y_test.shape))"
   ]
  },
  {
   "cell_type": "markdown",
   "metadata": {},
   "source": [
    "### Model"
   ]
  },
  {
   "cell_type": "code",
   "execution_count": 66,
   "metadata": {},
   "outputs": [],
   "source": [
    "\n",
    "def convolutional_model(input_shape):\n",
    "    \"\"\"\n",
    "    Implements the forward propagation for the model:\n",
    "    CONV2D -> RELU -> MAXPOOL -> CONV2D -> RELU -> MAXPOOL -> FLATTEN -> DENSE\n",
    "    \n",
    "    Note that for simplicity and grading purposes, you'll hard-code some values\n",
    "    such as the stride and kernel (filter) sizes. \n",
    "    Normally, functions should take these values as function parameters.\n",
    "    \n",
    "    Arguments:\n",
    "    input_img -- input dataset, of shape (input_shape)\n",
    "\n",
    "    Returns:\n",
    "    model -- TF Keras model (object containing the information for the entire training process) \n",
    "    \"\"\"\n",
    "\n",
    "    input_img = tf.keras.Input(shape=input_shape)\n",
    "    \n",
    "    ## CONV2D: 8 filters 4x4, stride of 1, padding 'SAME'\n",
    "    Z1 = tf.keras.layers.Conv2D(8,(4,4),strides=1,padding = 'same')(input_img)\n",
    "    \n",
    "    ## RELU\n",
    "    A1 = tf.keras.layers.ReLU()(Z1)\n",
    "    \n",
    "    ## MAXPOOL: window 8x8, stride 8, padding 'SAME'\n",
    "    P1 = tf.keras.layers.MaxPool2D(pool_size = (8, 8), strides = 8, padding = 'same')(A1)\n",
    "    \n",
    "    ## CONV2D: 16 filters 2x2, stride 1, padding 'SAME'\n",
    "    Z2 = tf.keras.layers.Conv2D(16,(2,2),strides=1,padding='same')(P1)\n",
    "    \n",
    "    ## RELU\n",
    "    A2 = tf.keras.layers.ReLU()(Z2)\n",
    "    \n",
    "     ## MAXPOOL: window 4x4, stride 4, padding 'SAME'\n",
    "    P2 = tf.keras.layers.MaxPool2D(pool_size = (4, 4), strides = 4, padding = 'same')(A2)\n",
    "    \n",
    "    \n",
    "    ## FLATTEN\n",
    "    F = tf.keras.layers.Flatten()(P2)\n",
    "\n",
    "    ## Dense layer\n",
    "    ## 6 neurons in output layer. Hint: one of the arguments should be \"activation='softmax'\" \n",
    "    outputs = tf.keras.layers.Dense(6, activation =\"softmax\")(F)\n",
    "    \n",
    "    # YOUR CODE ENDS HERE\n",
    "    model = tf.keras.Model(inputs=input_img, outputs=outputs)\n",
    "    return model"
   ]
  },
  {
   "cell_type": "code",
   "execution_count": 67,
   "metadata": {},
   "outputs": [],
   "source": [
    "conv_model = convolutional_model((64, 64, 3))\n",
    "conv_model.compile(optimizer='adam',\n",
    "                  loss='categorical_crossentropy',\n",
    "                  metrics=['accuracy'])\n"
   ]
  },
  {
   "cell_type": "code",
   "execution_count": 68,
   "metadata": {},
   "outputs": [
    {
     "name": "stdout",
     "output_type": "stream",
     "text": [
      "Model: \"model\"\n",
      "_________________________________________________________________\n",
      " Layer (type)                Output Shape              Param #   \n",
      "=================================================================\n",
      " input_1 (InputLayer)        [(None, 64, 64, 3)]       0         \n",
      "                                                                 \n",
      " conv2d_2 (Conv2D)           (None, 64, 64, 8)         392       \n",
      "                                                                 \n",
      " re_lu_2 (ReLU)              (None, 64, 64, 8)         0         \n",
      "                                                                 \n",
      " max_pooling2d_2 (MaxPooling  (None, 8, 8, 8)          0         \n",
      " 2D)                                                             \n",
      "                                                                 \n",
      " conv2d_3 (Conv2D)           (None, 8, 8, 16)          528       \n",
      "                                                                 \n",
      " re_lu_3 (ReLU)              (None, 8, 8, 16)          0         \n",
      "                                                                 \n",
      " max_pooling2d_3 (MaxPooling  (None, 2, 2, 16)         0         \n",
      " 2D)                                                             \n",
      "                                                                 \n",
      " flatten_2 (Flatten)         (None, 64)                0         \n",
      "                                                                 \n",
      " dense_2 (Dense)             (None, 6)                 390       \n",
      "                                                                 \n",
      "=================================================================\n",
      "Total params: 1,310\n",
      "Trainable params: 1,310\n",
      "Non-trainable params: 0\n",
      "_________________________________________________________________\n"
     ]
    }
   ],
   "source": [
    "conv_model.summary()"
   ]
  },
  {
   "cell_type": "markdown",
   "metadata": {},
   "source": [
    "### Train the model"
   ]
  },
  {
   "cell_type": "code",
   "execution_count": 69,
   "metadata": {},
   "outputs": [
    {
     "name": "stdout",
     "output_type": "stream",
     "text": [
      "Epoch 1/100\n",
      "17/17 [==============================] - 2s 58ms/step - loss: 1.7995 - accuracy: 0.1796 - val_loss: 1.7867 - val_accuracy: 0.2083\n",
      "Epoch 2/100\n",
      "17/17 [==============================] - 1s 53ms/step - loss: 1.7848 - accuracy: 0.2380 - val_loss: 1.7815 - val_accuracy: 0.1833\n",
      "Epoch 3/100\n",
      "17/17 [==============================] - 1s 44ms/step - loss: 1.7799 - accuracy: 0.2500 - val_loss: 1.7766 - val_accuracy: 0.3417\n",
      "Epoch 4/100\n",
      "17/17 [==============================] - 1s 49ms/step - loss: 1.7747 - accuracy: 0.3343 - val_loss: 1.7718 - val_accuracy: 0.4083\n",
      "Epoch 5/100\n",
      "17/17 [==============================] - 1s 48ms/step - loss: 1.7685 - accuracy: 0.3657 - val_loss: 1.7655 - val_accuracy: 0.3917\n",
      "Epoch 6/100\n",
      "17/17 [==============================] - 1s 41ms/step - loss: 1.7603 - accuracy: 0.3815 - val_loss: 1.7574 - val_accuracy: 0.4333\n",
      "Epoch 7/100\n",
      "17/17 [==============================] - 1s 38ms/step - loss: 1.7490 - accuracy: 0.3861 - val_loss: 1.7465 - val_accuracy: 0.4417\n",
      "Epoch 8/100\n",
      "17/17 [==============================] - 1s 42ms/step - loss: 1.7354 - accuracy: 0.4120 - val_loss: 1.7334 - val_accuracy: 0.4750\n",
      "Epoch 9/100\n",
      "17/17 [==============================] - 1s 40ms/step - loss: 1.7192 - accuracy: 0.4176 - val_loss: 1.7181 - val_accuracy: 0.4583\n",
      "Epoch 10/100\n",
      "17/17 [==============================] - 1s 44ms/step - loss: 1.6997 - accuracy: 0.4213 - val_loss: 1.6977 - val_accuracy: 0.4750\n",
      "Epoch 11/100\n",
      "17/17 [==============================] - 1s 54ms/step - loss: 1.6758 - accuracy: 0.4407 - val_loss: 1.6751 - val_accuracy: 0.4667\n",
      "Epoch 12/100\n",
      "17/17 [==============================] - 1s 41ms/step - loss: 1.6492 - accuracy: 0.4556 - val_loss: 1.6505 - val_accuracy: 0.4667\n",
      "Epoch 13/100\n",
      "17/17 [==============================] - 1s 41ms/step - loss: 1.6198 - accuracy: 0.4556 - val_loss: 1.6231 - val_accuracy: 0.4833\n",
      "Epoch 14/100\n",
      "17/17 [==============================] - 1s 39ms/step - loss: 1.5869 - accuracy: 0.4778 - val_loss: 1.5931 - val_accuracy: 0.4833\n",
      "Epoch 15/100\n",
      "17/17 [==============================] - 1s 40ms/step - loss: 1.5542 - accuracy: 0.4861 - val_loss: 1.5615 - val_accuracy: 0.4917\n",
      "Epoch 16/100\n",
      "17/17 [==============================] - 1s 42ms/step - loss: 1.5199 - accuracy: 0.4981 - val_loss: 1.5291 - val_accuracy: 0.4750\n",
      "Epoch 17/100\n",
      "17/17 [==============================] - 1s 34ms/step - loss: 1.4852 - accuracy: 0.5231 - val_loss: 1.4973 - val_accuracy: 0.4917\n",
      "Epoch 18/100\n",
      "17/17 [==============================] - 1s 36ms/step - loss: 1.4530 - accuracy: 0.5194 - val_loss: 1.4668 - val_accuracy: 0.4750\n",
      "Epoch 19/100\n",
      "17/17 [==============================] - 1s 35ms/step - loss: 1.4209 - accuracy: 0.5333 - val_loss: 1.4354 - val_accuracy: 0.4917\n",
      "Epoch 20/100\n",
      "17/17 [==============================] - 1s 36ms/step - loss: 1.3882 - accuracy: 0.5509 - val_loss: 1.4040 - val_accuracy: 0.5000\n",
      "Epoch 21/100\n",
      "17/17 [==============================] - 1s 35ms/step - loss: 1.3562 - accuracy: 0.5546 - val_loss: 1.3735 - val_accuracy: 0.5167\n",
      "Epoch 22/100\n",
      "17/17 [==============================] - 1s 36ms/step - loss: 1.3240 - accuracy: 0.5639 - val_loss: 1.3386 - val_accuracy: 0.5167\n",
      "Epoch 23/100\n",
      "17/17 [==============================] - 1s 35ms/step - loss: 1.2881 - accuracy: 0.5889 - val_loss: 1.3013 - val_accuracy: 0.5500\n",
      "Epoch 24/100\n",
      "17/17 [==============================] - 1s 34ms/step - loss: 1.2505 - accuracy: 0.6046 - val_loss: 1.2562 - val_accuracy: 0.5500\n",
      "Epoch 25/100\n",
      "17/17 [==============================] - 1s 35ms/step - loss: 1.2017 - accuracy: 0.6287 - val_loss: 1.1934 - val_accuracy: 0.5667\n",
      "Epoch 26/100\n",
      "17/17 [==============================] - 1s 39ms/step - loss: 1.1523 - accuracy: 0.6509 - val_loss: 1.1416 - val_accuracy: 0.6000\n",
      "Epoch 27/100\n",
      "17/17 [==============================] - 1s 39ms/step - loss: 1.1067 - accuracy: 0.6565 - val_loss: 1.0974 - val_accuracy: 0.6167\n",
      "Epoch 28/100\n",
      "17/17 [==============================] - 1s 38ms/step - loss: 1.0641 - accuracy: 0.6759 - val_loss: 1.0558 - val_accuracy: 0.6417\n",
      "Epoch 29/100\n",
      "17/17 [==============================] - 1s 39ms/step - loss: 1.0272 - accuracy: 0.6806 - val_loss: 1.0184 - val_accuracy: 0.6333\n",
      "Epoch 30/100\n",
      "17/17 [==============================] - 1s 36ms/step - loss: 0.9934 - accuracy: 0.6880 - val_loss: 0.9867 - val_accuracy: 0.6333\n",
      "Epoch 31/100\n",
      "17/17 [==============================] - 1s 38ms/step - loss: 0.9649 - accuracy: 0.6889 - val_loss: 0.9616 - val_accuracy: 0.6417\n",
      "Epoch 32/100\n",
      "17/17 [==============================] - 1s 37ms/step - loss: 0.9332 - accuracy: 0.7000 - val_loss: 0.9296 - val_accuracy: 0.6583\n",
      "Epoch 33/100\n",
      "17/17 [==============================] - 1s 45ms/step - loss: 0.9098 - accuracy: 0.7019 - val_loss: 0.9126 - val_accuracy: 0.6500\n",
      "Epoch 34/100\n",
      "17/17 [==============================] - 1s 49ms/step - loss: 0.8832 - accuracy: 0.7185 - val_loss: 0.8870 - val_accuracy: 0.6667\n",
      "Epoch 35/100\n",
      "17/17 [==============================] - 1s 47ms/step - loss: 0.8622 - accuracy: 0.7213 - val_loss: 0.8709 - val_accuracy: 0.6750\n",
      "Epoch 36/100\n",
      "17/17 [==============================] - 1s 53ms/step - loss: 0.8417 - accuracy: 0.7343 - val_loss: 0.8547 - val_accuracy: 0.6833\n",
      "Epoch 37/100\n",
      "17/17 [==============================] - 1s 48ms/step - loss: 0.8228 - accuracy: 0.7370 - val_loss: 0.8368 - val_accuracy: 0.6917\n",
      "Epoch 38/100\n",
      "17/17 [==============================] - 1s 49ms/step - loss: 0.8053 - accuracy: 0.7435 - val_loss: 0.8239 - val_accuracy: 0.7000\n",
      "Epoch 39/100\n",
      "17/17 [==============================] - 1s 46ms/step - loss: 0.7891 - accuracy: 0.7472 - val_loss: 0.8097 - val_accuracy: 0.6917\n",
      "Epoch 40/100\n",
      "17/17 [==============================] - 1s 46ms/step - loss: 0.7731 - accuracy: 0.7556 - val_loss: 0.7976 - val_accuracy: 0.7083\n",
      "Epoch 41/100\n",
      "17/17 [==============================] - 1s 45ms/step - loss: 0.7599 - accuracy: 0.7574 - val_loss: 0.7854 - val_accuracy: 0.7333\n",
      "Epoch 42/100\n",
      "17/17 [==============================] - 1s 50ms/step - loss: 0.7461 - accuracy: 0.7611 - val_loss: 0.7749 - val_accuracy: 0.7417\n",
      "Epoch 43/100\n",
      "17/17 [==============================] - 1s 48ms/step - loss: 0.7336 - accuracy: 0.7630 - val_loss: 0.7631 - val_accuracy: 0.7417\n",
      "Epoch 44/100\n",
      "17/17 [==============================] - 1s 52ms/step - loss: 0.7207 - accuracy: 0.7713 - val_loss: 0.7520 - val_accuracy: 0.7583\n",
      "Epoch 45/100\n",
      "17/17 [==============================] - 1s 46ms/step - loss: 0.7088 - accuracy: 0.7750 - val_loss: 0.7438 - val_accuracy: 0.7750\n",
      "Epoch 46/100\n",
      "17/17 [==============================] - 1s 47ms/step - loss: 0.6960 - accuracy: 0.7769 - val_loss: 0.7356 - val_accuracy: 0.7667\n",
      "Epoch 47/100\n",
      "17/17 [==============================] - 1s 46ms/step - loss: 0.6846 - accuracy: 0.7778 - val_loss: 0.7264 - val_accuracy: 0.7750\n",
      "Epoch 48/100\n",
      "17/17 [==============================] - 1s 46ms/step - loss: 0.6727 - accuracy: 0.7815 - val_loss: 0.7180 - val_accuracy: 0.7667\n",
      "Epoch 49/100\n",
      "17/17 [==============================] - 1s 46ms/step - loss: 0.6621 - accuracy: 0.7843 - val_loss: 0.7095 - val_accuracy: 0.7667\n",
      "Epoch 50/100\n",
      "17/17 [==============================] - 1s 48ms/step - loss: 0.6518 - accuracy: 0.7926 - val_loss: 0.7016 - val_accuracy: 0.7667\n",
      "Epoch 51/100\n",
      "17/17 [==============================] - 1s 43ms/step - loss: 0.6418 - accuracy: 0.7972 - val_loss: 0.6949 - val_accuracy: 0.7750\n",
      "Epoch 52/100\n",
      "17/17 [==============================] - 1s 60ms/step - loss: 0.6322 - accuracy: 0.8046 - val_loss: 0.6871 - val_accuracy: 0.7667\n",
      "Epoch 53/100\n",
      "17/17 [==============================] - 1s 41ms/step - loss: 0.6229 - accuracy: 0.8046 - val_loss: 0.6795 - val_accuracy: 0.7917\n",
      "Epoch 54/100\n",
      "17/17 [==============================] - 1s 39ms/step - loss: 0.6143 - accuracy: 0.8056 - val_loss: 0.6747 - val_accuracy: 0.7750\n",
      "Epoch 55/100\n",
      "17/17 [==============================] - 1s 46ms/step - loss: 0.6053 - accuracy: 0.8102 - val_loss: 0.6665 - val_accuracy: 0.7833\n",
      "Epoch 56/100\n",
      "17/17 [==============================] - 1s 57ms/step - loss: 0.5979 - accuracy: 0.8102 - val_loss: 0.6613 - val_accuracy: 0.7833\n",
      "Epoch 57/100\n",
      "17/17 [==============================] - 1s 49ms/step - loss: 0.5898 - accuracy: 0.8111 - val_loss: 0.6553 - val_accuracy: 0.7917\n",
      "Epoch 58/100\n",
      "17/17 [==============================] - 1s 55ms/step - loss: 0.5816 - accuracy: 0.8157 - val_loss: 0.6504 - val_accuracy: 0.7833\n",
      "Epoch 59/100\n",
      "17/17 [==============================] - 1s 48ms/step - loss: 0.5737 - accuracy: 0.8194 - val_loss: 0.6435 - val_accuracy: 0.7833\n",
      "Epoch 60/100\n",
      "17/17 [==============================] - 1s 42ms/step - loss: 0.5663 - accuracy: 0.8194 - val_loss: 0.6398 - val_accuracy: 0.7917\n",
      "Epoch 61/100\n",
      "17/17 [==============================] - 1s 52ms/step - loss: 0.5597 - accuracy: 0.8185 - val_loss: 0.6343 - val_accuracy: 0.8000\n",
      "Epoch 62/100\n",
      "17/17 [==============================] - 1s 47ms/step - loss: 0.5521 - accuracy: 0.8213 - val_loss: 0.6284 - val_accuracy: 0.8000\n",
      "Epoch 63/100\n",
      "17/17 [==============================] - 1s 42ms/step - loss: 0.5465 - accuracy: 0.8259 - val_loss: 0.6264 - val_accuracy: 0.7833\n",
      "Epoch 64/100\n",
      "17/17 [==============================] - 1s 38ms/step - loss: 0.5389 - accuracy: 0.8250 - val_loss: 0.6189 - val_accuracy: 0.8000\n",
      "Epoch 65/100\n",
      "17/17 [==============================] - 1s 40ms/step - loss: 0.5320 - accuracy: 0.8306 - val_loss: 0.6151 - val_accuracy: 0.7917\n",
      "Epoch 66/100\n",
      "17/17 [==============================] - 1s 36ms/step - loss: 0.5255 - accuracy: 0.8306 - val_loss: 0.6091 - val_accuracy: 0.8000\n",
      "Epoch 67/100\n",
      "17/17 [==============================] - 1s 40ms/step - loss: 0.5204 - accuracy: 0.8352 - val_loss: 0.6069 - val_accuracy: 0.8000\n",
      "Epoch 68/100\n",
      "17/17 [==============================] - 1s 38ms/step - loss: 0.5139 - accuracy: 0.8380 - val_loss: 0.6020 - val_accuracy: 0.8000\n",
      "Epoch 69/100\n",
      "17/17 [==============================] - 1s 36ms/step - loss: 0.5077 - accuracy: 0.8389 - val_loss: 0.5974 - val_accuracy: 0.8000\n",
      "Epoch 70/100\n",
      "17/17 [==============================] - 1s 38ms/step - loss: 0.5024 - accuracy: 0.8389 - val_loss: 0.5932 - val_accuracy: 0.8083\n",
      "Epoch 71/100\n",
      "17/17 [==============================] - 1s 38ms/step - loss: 0.4976 - accuracy: 0.8370 - val_loss: 0.5915 - val_accuracy: 0.7917\n",
      "Epoch 72/100\n",
      "17/17 [==============================] - 1s 42ms/step - loss: 0.4910 - accuracy: 0.8407 - val_loss: 0.5863 - val_accuracy: 0.8000\n",
      "Epoch 73/100\n",
      "17/17 [==============================] - 1s 39ms/step - loss: 0.4855 - accuracy: 0.8426 - val_loss: 0.5829 - val_accuracy: 0.8000\n",
      "Epoch 74/100\n",
      "17/17 [==============================] - 1s 37ms/step - loss: 0.4800 - accuracy: 0.8463 - val_loss: 0.5793 - val_accuracy: 0.8000\n",
      "Epoch 75/100\n",
      "17/17 [==============================] - 1s 40ms/step - loss: 0.4748 - accuracy: 0.8500 - val_loss: 0.5755 - val_accuracy: 0.8083\n",
      "Epoch 76/100\n",
      "17/17 [==============================] - 1s 37ms/step - loss: 0.4701 - accuracy: 0.8509 - val_loss: 0.5728 - val_accuracy: 0.8000\n",
      "Epoch 77/100\n",
      "17/17 [==============================] - 1s 39ms/step - loss: 0.4658 - accuracy: 0.8519 - val_loss: 0.5703 - val_accuracy: 0.8083\n",
      "Epoch 78/100\n",
      "17/17 [==============================] - 1s 46ms/step - loss: 0.4603 - accuracy: 0.8593 - val_loss: 0.5652 - val_accuracy: 0.8000\n",
      "Epoch 79/100\n",
      "17/17 [==============================] - 1s 46ms/step - loss: 0.4562 - accuracy: 0.8593 - val_loss: 0.5637 - val_accuracy: 0.8083\n",
      "Epoch 80/100\n",
      "17/17 [==============================] - 1s 45ms/step - loss: 0.4512 - accuracy: 0.8602 - val_loss: 0.5587 - val_accuracy: 0.8000\n",
      "Epoch 81/100\n",
      "17/17 [==============================] - 1s 51ms/step - loss: 0.4471 - accuracy: 0.8583 - val_loss: 0.5576 - val_accuracy: 0.8000\n",
      "Epoch 82/100\n",
      "17/17 [==============================] - 1s 48ms/step - loss: 0.4414 - accuracy: 0.8676 - val_loss: 0.5534 - val_accuracy: 0.8000\n",
      "Epoch 83/100\n",
      "17/17 [==============================] - 1s 44ms/step - loss: 0.4367 - accuracy: 0.8676 - val_loss: 0.5511 - val_accuracy: 0.8000\n",
      "Epoch 84/100\n",
      "17/17 [==============================] - 1s 45ms/step - loss: 0.4321 - accuracy: 0.8685 - val_loss: 0.5465 - val_accuracy: 0.8083\n",
      "Epoch 85/100\n",
      "17/17 [==============================] - 1s 44ms/step - loss: 0.4289 - accuracy: 0.8713 - val_loss: 0.5457 - val_accuracy: 0.8167\n",
      "Epoch 86/100\n",
      "17/17 [==============================] - 1s 45ms/step - loss: 0.4238 - accuracy: 0.8713 - val_loss: 0.5418 - val_accuracy: 0.8083\n",
      "Epoch 87/100\n",
      "17/17 [==============================] - 1s 44ms/step - loss: 0.4193 - accuracy: 0.8759 - val_loss: 0.5388 - val_accuracy: 0.8000\n",
      "Epoch 88/100\n",
      "17/17 [==============================] - 1s 45ms/step - loss: 0.4151 - accuracy: 0.8769 - val_loss: 0.5361 - val_accuracy: 0.8167\n",
      "Epoch 89/100\n",
      "17/17 [==============================] - 1s 44ms/step - loss: 0.4115 - accuracy: 0.8787 - val_loss: 0.5339 - val_accuracy: 0.8167\n",
      "Epoch 90/100\n",
      "17/17 [==============================] - 1s 43ms/step - loss: 0.4071 - accuracy: 0.8787 - val_loss: 0.5330 - val_accuracy: 0.8083\n",
      "Epoch 91/100\n",
      "17/17 [==============================] - 1s 46ms/step - loss: 0.4030 - accuracy: 0.8815 - val_loss: 0.5287 - val_accuracy: 0.8167\n",
      "Epoch 92/100\n",
      "17/17 [==============================] - 1s 46ms/step - loss: 0.3992 - accuracy: 0.8833 - val_loss: 0.5263 - val_accuracy: 0.8250\n",
      "Epoch 93/100\n",
      "17/17 [==============================] - 1s 46ms/step - loss: 0.3958 - accuracy: 0.8815 - val_loss: 0.5247 - val_accuracy: 0.8167\n",
      "Epoch 94/100\n",
      "17/17 [==============================] - 1s 46ms/step - loss: 0.3911 - accuracy: 0.8880 - val_loss: 0.5221 - val_accuracy: 0.8167\n",
      "Epoch 95/100\n",
      "17/17 [==============================] - 1s 47ms/step - loss: 0.3874 - accuracy: 0.8889 - val_loss: 0.5198 - val_accuracy: 0.8167\n",
      "Epoch 96/100\n",
      "17/17 [==============================] - 1s 46ms/step - loss: 0.3837 - accuracy: 0.8926 - val_loss: 0.5178 - val_accuracy: 0.8167\n",
      "Epoch 97/100\n",
      "17/17 [==============================] - 1s 51ms/step - loss: 0.3802 - accuracy: 0.8926 - val_loss: 0.5166 - val_accuracy: 0.8250\n",
      "Epoch 98/100\n",
      "17/17 [==============================] - 1s 55ms/step - loss: 0.3764 - accuracy: 0.8944 - val_loss: 0.5143 - val_accuracy: 0.8167\n",
      "Epoch 99/100\n",
      "17/17 [==============================] - 1s 51ms/step - loss: 0.3732 - accuracy: 0.8944 - val_loss: 0.5119 - val_accuracy: 0.8250\n",
      "Epoch 100/100\n",
      "17/17 [==============================] - 1s 47ms/step - loss: 0.3695 - accuracy: 0.8944 - val_loss: 0.5108 - val_accuracy: 0.8250\n"
     ]
    }
   ],
   "source": [
    "train_dataset = tf.data.Dataset.from_tensor_slices((X_train, Y_train)).batch(64)\n",
    "test_dataset = tf.data.Dataset.from_tensor_slices((X_test, Y_test)).batch(64)\n",
    "history = conv_model.fit(train_dataset, epochs=100, validation_data=test_dataset)"
   ]
  },
  {
   "cell_type": "markdown",
   "metadata": {},
   "source": [
    "### History"
   ]
  },
  {
   "cell_type": "markdown",
   "metadata": {},
   "source": [
    "\n",
    "The history object is an output of the `.fit()` operation, and provides a record of all the loss and metric values in memory. It's stored as a dictionary that you can retrieve at `history.history`: "
   ]
  },
  {
   "cell_type": "code",
   "execution_count": 70,
   "metadata": {},
   "outputs": [
    {
     "data": {
      "text/plain": [
       "{'loss': [1.7994964122772217,\n",
       "  1.7848312854766846,\n",
       "  1.7798711061477661,\n",
       "  1.7746849060058594,\n",
       "  1.7684903144836426,\n",
       "  1.7603189945220947,\n",
       "  1.7490378618240356,\n",
       "  1.7354235649108887,\n",
       "  1.7191721200942993,\n",
       "  1.699729561805725,\n",
       "  1.6758116483688354,\n",
       "  1.649223804473877,\n",
       "  1.6197588443756104,\n",
       "  1.5869325399398804,\n",
       "  1.554226040840149,\n",
       "  1.5198945999145508,\n",
       "  1.4851627349853516,\n",
       "  1.4530099630355835,\n",
       "  1.4209483861923218,\n",
       "  1.388169288635254,\n",
       "  1.356210708618164,\n",
       "  1.3239604234695435,\n",
       "  1.2881190776824951,\n",
       "  1.2505295276641846,\n",
       "  1.201712965965271,\n",
       "  1.1522692441940308,\n",
       "  1.106695294380188,\n",
       "  1.0641285181045532,\n",
       "  1.0272111892700195,\n",
       "  0.9934445023536682,\n",
       "  0.9649469256401062,\n",
       "  0.9332095980644226,\n",
       "  0.9097544550895691,\n",
       "  0.883169412612915,\n",
       "  0.8622287511825562,\n",
       "  0.8417447209358215,\n",
       "  0.8227930665016174,\n",
       "  0.8052873015403748,\n",
       "  0.789071798324585,\n",
       "  0.7731168866157532,\n",
       "  0.7598838806152344,\n",
       "  0.7460649609565735,\n",
       "  0.733582079410553,\n",
       "  0.7206938862800598,\n",
       "  0.708834171295166,\n",
       "  0.6960367560386658,\n",
       "  0.6846469044685364,\n",
       "  0.6727169156074524,\n",
       "  0.6621153950691223,\n",
       "  0.6517934203147888,\n",
       "  0.6418150067329407,\n",
       "  0.6321609616279602,\n",
       "  0.6228623390197754,\n",
       "  0.6143186092376709,\n",
       "  0.6052930951118469,\n",
       "  0.5978677868843079,\n",
       "  0.5897740721702576,\n",
       "  0.5815654397010803,\n",
       "  0.5737104415893555,\n",
       "  0.5662952661514282,\n",
       "  0.5597463250160217,\n",
       "  0.5521447062492371,\n",
       "  0.5464739203453064,\n",
       "  0.5388821363449097,\n",
       "  0.5320436954498291,\n",
       "  0.5254914164543152,\n",
       "  0.5204123854637146,\n",
       "  0.5138627290725708,\n",
       "  0.5077338218688965,\n",
       "  0.5024110078811646,\n",
       "  0.4975670278072357,\n",
       "  0.49095702171325684,\n",
       "  0.4854954481124878,\n",
       "  0.4799988269805908,\n",
       "  0.47477859258651733,\n",
       "  0.47009968757629395,\n",
       "  0.46584823727607727,\n",
       "  0.46033915877342224,\n",
       "  0.45617586374282837,\n",
       "  0.4511772692203522,\n",
       "  0.4470764100551605,\n",
       "  0.4413888156414032,\n",
       "  0.4366980195045471,\n",
       "  0.4320870041847229,\n",
       "  0.4288644790649414,\n",
       "  0.42377278208732605,\n",
       "  0.4192869961261749,\n",
       "  0.41505375504493713,\n",
       "  0.4115343689918518,\n",
       "  0.4071376919746399,\n",
       "  0.4030105471611023,\n",
       "  0.39916640520095825,\n",
       "  0.395766943693161,\n",
       "  0.3910837173461914,\n",
       "  0.38736557960510254,\n",
       "  0.3837348222732544,\n",
       "  0.3801795244216919,\n",
       "  0.37638232111930847,\n",
       "  0.3731974959373474,\n",
       "  0.36950477957725525],\n",
       " 'accuracy': [0.1796296238899231,\n",
       "  0.23796296119689941,\n",
       "  0.25,\n",
       "  0.3342592716217041,\n",
       "  0.36574074625968933,\n",
       "  0.38148146867752075,\n",
       "  0.3861111104488373,\n",
       "  0.41203704476356506,\n",
       "  0.4175925850868225,\n",
       "  0.42129629850387573,\n",
       "  0.4407407343387604,\n",
       "  0.4555555582046509,\n",
       "  0.4555555582046509,\n",
       "  0.47777777910232544,\n",
       "  0.4861111044883728,\n",
       "  0.4981481432914734,\n",
       "  0.5231481194496155,\n",
       "  0.519444465637207,\n",
       "  0.5333333611488342,\n",
       "  0.5509259104728699,\n",
       "  0.5546296238899231,\n",
       "  0.5638889074325562,\n",
       "  0.5888888835906982,\n",
       "  0.604629635810852,\n",
       "  0.6287037134170532,\n",
       "  0.6509259343147278,\n",
       "  0.6564815044403076,\n",
       "  0.6759259104728699,\n",
       "  0.6805555820465088,\n",
       "  0.6879629492759705,\n",
       "  0.6888889074325562,\n",
       "  0.699999988079071,\n",
       "  0.7018518447875977,\n",
       "  0.7185184955596924,\n",
       "  0.7212963104248047,\n",
       "  0.7342592477798462,\n",
       "  0.7370370626449585,\n",
       "  0.7435185313224792,\n",
       "  0.7472222447395325,\n",
       "  0.7555555701255798,\n",
       "  0.7574074268341064,\n",
       "  0.7611111402511597,\n",
       "  0.7629629373550415,\n",
       "  0.7712963223457336,\n",
       "  0.7749999761581421,\n",
       "  0.7768518328666687,\n",
       "  0.7777777910232544,\n",
       "  0.7814815044403076,\n",
       "  0.7842592597007751,\n",
       "  0.7925925850868225,\n",
       "  0.7972221970558167,\n",
       "  0.8046296238899231,\n",
       "  0.8046296238899231,\n",
       "  0.8055555820465088,\n",
       "  0.8101851940155029,\n",
       "  0.8101851940155029,\n",
       "  0.8111110925674438,\n",
       "  0.8157407641410828,\n",
       "  0.8194444179534912,\n",
       "  0.8194444179534912,\n",
       "  0.8185185194015503,\n",
       "  0.8212962746620178,\n",
       "  0.8259259462356567,\n",
       "  0.824999988079071,\n",
       "  0.8305555582046509,\n",
       "  0.8305555582046509,\n",
       "  0.835185170173645,\n",
       "  0.8379629850387573,\n",
       "  0.8388888835906982,\n",
       "  0.8388888835906982,\n",
       "  0.8370370268821716,\n",
       "  0.8407407402992249,\n",
       "  0.8425925970077515,\n",
       "  0.8462963104248047,\n",
       "  0.8500000238418579,\n",
       "  0.8509259223937988,\n",
       "  0.8518518805503845,\n",
       "  0.8592592477798462,\n",
       "  0.8592592477798462,\n",
       "  0.8601852059364319,\n",
       "  0.8583333492279053,\n",
       "  0.8675925731658936,\n",
       "  0.8675925731658936,\n",
       "  0.8685185313224792,\n",
       "  0.8712962865829468,\n",
       "  0.8712962865829468,\n",
       "  0.8759258985519409,\n",
       "  0.8768518567085266,\n",
       "  0.8787037134170532,\n",
       "  0.8787037134170532,\n",
       "  0.8814814686775208,\n",
       "  0.8833333253860474,\n",
       "  0.8814814686775208,\n",
       "  0.8879629373550415,\n",
       "  0.8888888955116272,\n",
       "  0.8925926089286804,\n",
       "  0.8925926089286804,\n",
       "  0.894444465637207,\n",
       "  0.894444465637207,\n",
       "  0.894444465637207],\n",
       " 'val_loss': [1.786697268486023,\n",
       "  1.781499981880188,\n",
       "  1.7765833139419556,\n",
       "  1.7717933654785156,\n",
       "  1.7655224800109863,\n",
       "  1.757365345954895,\n",
       "  1.7464841604232788,\n",
       "  1.7333513498306274,\n",
       "  1.7181122303009033,\n",
       "  1.6976933479309082,\n",
       "  1.6750537157058716,\n",
       "  1.6504532098770142,\n",
       "  1.6231226921081543,\n",
       "  1.593090534210205,\n",
       "  1.5615068674087524,\n",
       "  1.5291211605072021,\n",
       "  1.4972630739212036,\n",
       "  1.4667795896530151,\n",
       "  1.435418725013733,\n",
       "  1.4040340185165405,\n",
       "  1.3734608888626099,\n",
       "  1.3385547399520874,\n",
       "  1.301265001296997,\n",
       "  1.256245732307434,\n",
       "  1.1934237480163574,\n",
       "  1.1416165828704834,\n",
       "  1.0973975658416748,\n",
       "  1.0557833909988403,\n",
       "  1.0184229612350464,\n",
       "  0.9866793155670166,\n",
       "  0.9615659117698669,\n",
       "  0.9295613169670105,\n",
       "  0.9125862717628479,\n",
       "  0.887011706829071,\n",
       "  0.8709089756011963,\n",
       "  0.8546783328056335,\n",
       "  0.836800754070282,\n",
       "  0.8238999247550964,\n",
       "  0.8096855282783508,\n",
       "  0.797613263130188,\n",
       "  0.7854322791099548,\n",
       "  0.7748833298683167,\n",
       "  0.7631487250328064,\n",
       "  0.7520407438278198,\n",
       "  0.7438052892684937,\n",
       "  0.7356179356575012,\n",
       "  0.7263954281806946,\n",
       "  0.7179692387580872,\n",
       "  0.7095045447349548,\n",
       "  0.7016493082046509,\n",
       "  0.6948655247688293,\n",
       "  0.6871493458747864,\n",
       "  0.6795098185539246,\n",
       "  0.6746556758880615,\n",
       "  0.6664910912513733,\n",
       "  0.661281943321228,\n",
       "  0.6553049683570862,\n",
       "  0.6503987908363342,\n",
       "  0.6434736847877502,\n",
       "  0.6397545337677002,\n",
       "  0.6342819333076477,\n",
       "  0.6284380555152893,\n",
       "  0.6264455914497375,\n",
       "  0.6189256906509399,\n",
       "  0.6151228547096252,\n",
       "  0.6091000437736511,\n",
       "  0.606902539730072,\n",
       "  0.6020349860191345,\n",
       "  0.5973876714706421,\n",
       "  0.5932409763336182,\n",
       "  0.5915115475654602,\n",
       "  0.5862777233123779,\n",
       "  0.5829312205314636,\n",
       "  0.5792829990386963,\n",
       "  0.5755293369293213,\n",
       "  0.572836697101593,\n",
       "  0.5703381299972534,\n",
       "  0.5652449131011963,\n",
       "  0.563721239566803,\n",
       "  0.5586768984794617,\n",
       "  0.557591438293457,\n",
       "  0.5534008145332336,\n",
       "  0.5511125922203064,\n",
       "  0.5465066432952881,\n",
       "  0.5457135438919067,\n",
       "  0.5418182015419006,\n",
       "  0.5387961268424988,\n",
       "  0.5361453294754028,\n",
       "  0.5338656902313232,\n",
       "  0.532964825630188,\n",
       "  0.5287328958511353,\n",
       "  0.526292085647583,\n",
       "  0.5246931910514832,\n",
       "  0.5221301317214966,\n",
       "  0.5198429226875305,\n",
       "  0.5178173780441284,\n",
       "  0.5165922045707703,\n",
       "  0.5142596364021301,\n",
       "  0.5118973851203918,\n",
       "  0.5108121037483215],\n",
       " 'val_accuracy': [0.2083333283662796,\n",
       "  0.18333333730697632,\n",
       "  0.34166666865348816,\n",
       "  0.40833333134651184,\n",
       "  0.3916666805744171,\n",
       "  0.4333333373069763,\n",
       "  0.4416666626930237,\n",
       "  0.4749999940395355,\n",
       "  0.4583333432674408,\n",
       "  0.4749999940395355,\n",
       "  0.46666666865348816,\n",
       "  0.46666666865348816,\n",
       "  0.4833333194255829,\n",
       "  0.4833333194255829,\n",
       "  0.49166667461395264,\n",
       "  0.4749999940395355,\n",
       "  0.49166667461395264,\n",
       "  0.4749999940395355,\n",
       "  0.49166667461395264,\n",
       "  0.5,\n",
       "  0.5166666507720947,\n",
       "  0.5166666507720947,\n",
       "  0.550000011920929,\n",
       "  0.550000011920929,\n",
       "  0.5666666626930237,\n",
       "  0.6000000238418579,\n",
       "  0.6166666746139526,\n",
       "  0.6416666507720947,\n",
       "  0.6333333253860474,\n",
       "  0.6333333253860474,\n",
       "  0.6416666507720947,\n",
       "  0.6583333611488342,\n",
       "  0.6499999761581421,\n",
       "  0.6666666865348816,\n",
       "  0.675000011920929,\n",
       "  0.6833333373069763,\n",
       "  0.6916666626930237,\n",
       "  0.699999988079071,\n",
       "  0.6916666626930237,\n",
       "  0.7083333134651184,\n",
       "  0.7333333492279053,\n",
       "  0.7416666746139526,\n",
       "  0.7416666746139526,\n",
       "  0.7583333253860474,\n",
       "  0.7749999761581421,\n",
       "  0.7666666507720947,\n",
       "  0.7749999761581421,\n",
       "  0.7666666507720947,\n",
       "  0.7666666507720947,\n",
       "  0.7666666507720947,\n",
       "  0.7749999761581421,\n",
       "  0.7666666507720947,\n",
       "  0.7916666865348816,\n",
       "  0.7749999761581421,\n",
       "  0.7833333611488342,\n",
       "  0.7833333611488342,\n",
       "  0.7916666865348816,\n",
       "  0.7833333611488342,\n",
       "  0.7833333611488342,\n",
       "  0.7916666865348816,\n",
       "  0.800000011920929,\n",
       "  0.800000011920929,\n",
       "  0.7833333611488342,\n",
       "  0.800000011920929,\n",
       "  0.7916666865348816,\n",
       "  0.800000011920929,\n",
       "  0.800000011920929,\n",
       "  0.800000011920929,\n",
       "  0.800000011920929,\n",
       "  0.8083333373069763,\n",
       "  0.7916666865348816,\n",
       "  0.800000011920929,\n",
       "  0.800000011920929,\n",
       "  0.800000011920929,\n",
       "  0.8083333373069763,\n",
       "  0.800000011920929,\n",
       "  0.8083333373069763,\n",
       "  0.800000011920929,\n",
       "  0.8083333373069763,\n",
       "  0.800000011920929,\n",
       "  0.800000011920929,\n",
       "  0.800000011920929,\n",
       "  0.800000011920929,\n",
       "  0.8083333373069763,\n",
       "  0.8166666626930237,\n",
       "  0.8083333373069763,\n",
       "  0.800000011920929,\n",
       "  0.8166666626930237,\n",
       "  0.8166666626930237,\n",
       "  0.8083333373069763,\n",
       "  0.8166666626930237,\n",
       "  0.824999988079071,\n",
       "  0.8166666626930237,\n",
       "  0.8166666626930237,\n",
       "  0.8166666626930237,\n",
       "  0.8166666626930237,\n",
       "  0.824999988079071,\n",
       "  0.8166666626930237,\n",
       "  0.824999988079071,\n",
       "  0.824999988079071]}"
      ]
     },
     "execution_count": 70,
     "metadata": {},
     "output_type": "execute_result"
    }
   ],
   "source": [
    "history.history"
   ]
  },
  {
   "cell_type": "markdown",
   "metadata": {},
   "source": [
    "### Visualization Loss"
   ]
  },
  {
   "cell_type": "code",
   "execution_count": 71,
   "metadata": {},
   "outputs": [
    {
     "name": "stderr",
     "output_type": "stream",
     "text": [
      "C:\\Users\\user\\anaconda3\\lib\\site-packages\\pandas\\core\\frame.py:4441: SettingWithCopyWarning: \n",
      "A value is trying to be set on a copy of a slice from a DataFrame\n",
      "\n",
      "See the caveats in the documentation: https://pandas.pydata.org/pandas-docs/stable/user_guide/indexing.html#returning-a-view-versus-a-copy\n",
      "  return super().rename(\n"
     ]
    },
    {
     "data": {
      "text/plain": [
       "[Text(0.5, 0, 'Epoch'), Text(0, 0.5, 'Accuracy')]"
      ]
     },
     "execution_count": 71,
     "metadata": {},
     "output_type": "execute_result"
    },
    {
     "data": {
      "image/png": "[encoded data removed]",
      "text/plain": [
       "<Figure size 864x576 with 1 Axes>"
      ]
     },
     "metadata": {
      "needs_background": "light"
     },
     "output_type": "display_data"
    },
    {
     "data": {
      "image/png": "[encoded data removed]",
      "text/plain": [
       "<Figure size 864x576 with 1 Axes>"
      ]
     },
     "metadata": {
      "needs_background": "light"
     },
     "output_type": "display_data"
    }
   ],
   "source": [
    "df_loss_acc = pd.DataFrame(history.history)\n",
    "df_loss= df_loss_acc[['loss','val_loss']]\n",
    "df_loss.rename(columns={'loss':'train','val_loss':'validation'},inplace=True)\n",
    "df_acc= df_loss_acc[['accuracy','val_accuracy']]\n",
    "df_acc.rename(columns={'accuracy':'train','val_accuracy':'validation'},inplace=True)\n",
    "df_loss.plot(title='Model loss',figsize=(12,8)).set(xlabel='Epoch',ylabel='Loss')\n",
    "df_acc.plot(title='Model Accuracy',figsize=(12,8)).set(xlabel='Epoch',ylabel='Accuracy')"
   ]
  }
 ],
 "metadata": {
  "interpreter": {
   "hash": "6d46af94c2bbce495f1e668725902fa517c90b1782bcfe2fce0dd9868df553d3"
  },
  "kernelspec": {
   "display_name": "Python 3.8.8 ('base')",
   "language": "python",
   "name": "python3"
  },
  "language_info": {
   "codemirror_mode": {
    "name": "ipython",
    "version": 3
   },
   "file_extension": ".py",
   "mimetype": "text/x-python",
   "name": "python",
   "nbconvert_exporter": "python",
   "pygments_lexer": "ipython3",
   "version": "3.8.8"
  },
  "orig_nbformat": 4
 },
 "nbformat": 4,
 "nbformat_minor": 2
}
