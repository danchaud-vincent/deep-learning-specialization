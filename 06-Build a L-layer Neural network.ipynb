{
 "cells": [
  {
   "cell_type": "markdown",
   "metadata": {},
   "source": [
    "# Build a L-layer Neural Network.ipynb"
   ]
  },
  {
   "cell_type": "markdown",
   "metadata": {},
   "source": [
    "## Table of Contents\n",
    "\n",
    "* [Recap](#chapter0)\n",
    "* [1. L-laers Neural Network Model](#chapter1)\n",
    "    * [1.1 Functions of our L-layers Neural Network ](#section_1_1)\n",
    "        * [1.1.1 Initialize parameters](#section_1_1_1)\n",
    "        * [1.1.2 Forward propagation](#section_1_1_2)\n",
    "        * [1.1.3 Cost function](#section_1_1_3)\n",
    "        * [1.1.4 Backward Propagation](#section_1_1_4)\n",
    "        * [1.1.5 Update parameters](#section_1_1_5) \n",
    "    * [1.2 L-layer Model](#section_1_2)\n",
    "* [2. Load the Dataset ](#chapter2)\n",
    "    * [2.1 Load the Dataset](#section_2_1)\n",
    "    * [2.2 Display the Data](#section_2_2)\n",
    "    * [2.3 Flatten the data](#section_2_3)\n",
    "    * [2.4 Normalize the data](#section_2_4)"
   ]
  },
  {
   "cell_type": "markdown",
   "metadata": {},
   "source": [
    "# Recap  <a class=\"anchor\" id=\"chapter0\"></a>"
   ]
  },
  {
   "cell_type": "markdown",
   "metadata": {},
   "source": [
    "> Forward Propagation :"
   ]
  },
  {
   "cell_type": "markdown",
   "metadata": {},
   "source": [
    "<center><img src=\"images/05-Deep Neural network/forward-prop.png\" width = \"600px\"></center>"
   ]
  },
  {
   "cell_type": "markdown",
   "metadata": {},
   "source": [
    "$$\n",
    "\\begin{cases}\n",
    "    Z^{[l]} = W^{[l]} X + b^{[l]} \\\\\n",
    "    A^{[l]} = g^{[l]}(Z^{[l]}) \n",
    "\\end{cases}\n",
    "$$\n"
   ]
  },
  {
   "cell_type": "markdown",
   "metadata": {},
   "source": [
    "> Backward Propagation :"
   ]
  },
  {
   "cell_type": "markdown",
   "metadata": {},
   "source": [
    "<center><img src=\"images/05-Deep Neural network/backward-prop.png\" width = \"600px\"></center>"
   ]
  },
  {
   "cell_type": "markdown",
   "metadata": {},
   "source": [
    "$$\n",
    "\\begin{cases}\n",
    "    dZ^{[l]} =  dA^{[l]}  * g^{[l]'}(Z^{[l]}) \\\\\n",
    "    dW^{[l]} = \\frac{1}{m} dZ^{[l]}A^{[l-1]T} \\\\\n",
    "    db^{[l]} = \\frac{1}{m} \\sum dZ^{[l]}    \\\\\n",
    "    dA^{[l-1]} =W^{[l]T}dZ^{[l]} \\\\\n",
    "    dZ^{[l-1]} = W^{[l]T}dZ^{[l]} * g^{[l-1]'}(Z^{[l-1]}) \\\\\n",
    "\\end{cases}\n",
    "$$\n",
    "\n",
    "$$\n",
    "\\begin{cases}\n",
    "    dZ^{[1]} = W^{[2]T}dZ^{[2]} * g^{[1]'}(Z^{[1]}) \\\\\n",
    "    dW^{[1]} = \\frac{1}{m} dZ^{[1]} X^T \\\\\n",
    "    db^{[1]} = \\frac{1}{m} \\sum  dZ^{[1]}\n",
    "\\end{cases}\n",
    "$$\n"
   ]
  },
  {
   "cell_type": "markdown",
   "metadata": {},
   "source": [
    "> Dimension :\n",
    "- m : number of examples\n",
    "\n",
    "$$\\begin{cases}\n",
    "    Z^{[l]},A^{[l]} : (n^{[l]},m) \\\\\n",
    "    W^{[l]}: (n^{[l]},n^{[l-1]})   \\\\\n",
    "    b^{[l]}: (n^{[l]},1)  \\\\\n",
    "    dZ^{[l]},dA^{[l]} : (n^{[l]},m) \\\\\n",
    "    dW^{[l]} : (n^{[l]},n^{[l-1]})   \\\\\n",
    "    db^{[l]}: (n^{[l]},1)\n",
    "\\end{cases}\n",
    "$$\n"
   ]
  },
  {
   "cell_type": "markdown",
   "metadata": {},
   "source": [
    "# 1. L-layers Neural Network model <a class=\"anchor\" id=\"chapter1\"></a>"
   ]
  },
  {
   "cell_type": "code",
   "execution_count": 3,
   "metadata": {},
   "outputs": [],
   "source": [
    "# Packages\n",
    "import copy\n",
    "import numpy as np\n",
    "import matplotlib.pyplot as plt\n",
    "import sklearn\n",
    "import sklearn.datasets\n",
    "import sklearn.linear_model\n",
    "from sklearn.metrics import accuracy_score\n",
    "from sklearn.metrics import log_loss\n",
    "\n",
    "\n",
    "%matplotlib inline"
   ]
  },
  {
   "cell_type": "markdown",
   "metadata": {},
   "source": [
    "## 1.1 Functions of our L-layers Neural Network  <a class=\"anchor\" id=\"section_1_1\"></a>"
   ]
  },
  {
   "cell_type": "markdown",
   "metadata": {},
   "source": [
    "### 1.1.1 Initialize parameters  <a class=\"anchor\" id=\"section_1_1_1\"></a>"
   ]
  },
  {
   "cell_type": "code",
   "execution_count": 412,
   "metadata": {},
   "outputs": [],
   "source": [
    "def initialize_parameters(hidden_layers_dim,n_input,n_output):\n",
    "    \"\"\"\n",
    "    Initialize the l parameters of the L-layer neural network\n",
    "    \n",
    "    Arguments:\n",
    "    hidden_layers_dim -- list of hidden units in the hidden layers\n",
    "    n_input -- features of the input matrix X\n",
    "    n_output -- number units in the output layer \n",
    "    \n",
    "    Returns:\n",
    "    parameters -- a dictionary containing W1, W2, b1, and b2, ....\n",
    "    \"\"\"\n",
    "    np.random.seed(1)\n",
    "    \n",
    "    # init cache\n",
    "    parameters = {}\n",
    "    l = len(hidden_layers_dim)\n",
    "\n",
    "    for i,n_dim in enumerate(hidden_layers_dim):\n",
    "        \n",
    "        if i == 0:\n",
    "            W = np.random.randn(n_dim,n_input) * 0.1\n",
    "            b = np.zeros((n_dim,1))\n",
    "        else:\n",
    "            W = np.random.randn(n_dim,hidden_layers_dim[i-1]) * 0.1\n",
    "            b = np.zeros((n_dim,1))\n",
    "\n",
    "        # getting params\n",
    "        parameters[f\"W{i+1}\"] = W\n",
    "        parameters[f\"b{i+1}\" ] = b\n",
    "\n",
    "    # output layer\n",
    "    W = np.random.randn(n_output,hidden_layers_dim[-1]) * 0.1\n",
    "    b = np.zeros((n_output,1))\n",
    "    \n",
    "\n",
    "    # getting params\n",
    "    parameters[f\"W{l+1}\"] = W\n",
    "    parameters[f\"b{l+1}\" ] = b\n",
    "\n",
    "\n",
    "    return parameters\n"
   ]
  },
  {
   "cell_type": "code",
   "execution_count": 379,
   "metadata": {},
   "outputs": [
    {
     "data": {
      "text/plain": [
       "{'W1': array([[ 0.01624345, -0.00611756, -0.00528172, -0.01072969],\n",
       "        [ 0.00865408, -0.02301539,  0.01744812, -0.00761207],\n",
       "        [ 0.00319039, -0.0024937 ,  0.01462108, -0.02060141],\n",
       "        [-0.00322417, -0.00384054,  0.01133769, -0.01099891],\n",
       "        [-0.00172428, -0.00877858,  0.00042214,  0.00582815]]),\n",
       " 'b1': array([[0.],\n",
       "        [0.],\n",
       "        [0.],\n",
       "        [0.],\n",
       "        [0.]]),\n",
       " 'W2': array([[-0.01100619,  0.01144724,  0.00901591,  0.00502494,  0.00900856],\n",
       "        [-0.00683728, -0.0012289 , -0.00935769, -0.00267888,  0.00530355],\n",
       "        [-0.00691661, -0.00396754, -0.00687173, -0.00845206, -0.00671246],\n",
       "        [-0.00012665, -0.0111731 ,  0.00234416,  0.01659802,  0.00742044],\n",
       "        [-0.00191836, -0.00887629, -0.00747158,  0.01692455,  0.00050808]]),\n",
       " 'b2': array([[0.],\n",
       "        [0.],\n",
       "        [0.],\n",
       "        [0.],\n",
       "        [0.]]),\n",
       " 'W3': array([[-0.00636996,  0.00190915,  0.02100255,  0.00120159,  0.00617203],\n",
       "        [ 0.0030017 , -0.0035225 , -0.01142518, -0.00349343, -0.00208894],\n",
       "        [ 0.00586623,  0.00838983,  0.00931102,  0.00285587,  0.00885141]]),\n",
       " 'b3': array([[0.],\n",
       "        [0.],\n",
       "        [0.]]),\n",
       " 'W4': array([[-0.00754398,  0.01252868,  0.0051293 ]]),\n",
       " 'b4': array([[0.]])}"
      ]
     },
     "execution_count": 379,
     "metadata": {},
     "output_type": "execute_result"
    }
   ],
   "source": [
    "# test\n",
    "layers_dim = [5,5,3]\n",
    "\n",
    "params = initialize_parameters(layers_dim,4,1)\n",
    "params"
   ]
  },
  {
   "cell_type": "markdown",
   "metadata": {},
   "source": [
    "### 1.1.2 Forward propagation  <a class=\"anchor\" id=\"section_1_1_2\"></a>"
   ]
  },
  {
   "cell_type": "code",
   "execution_count": 380,
   "metadata": {},
   "outputs": [],
   "source": [
    "def activation_function(Z,activation_name):\n",
    "\n",
    "    \"\"\"\n",
    "    Compute the activation function\n",
    "    \n",
    "    Arguments:\n",
    "    activation_name -- name of the activation function choosen\n",
    "    Z -- items\n",
    "\n",
    "    Returns:\n",
    "    activation -- activation value\n",
    "    \"\"\"\n",
    "\n",
    "    if activation_name.lower() == \"sigmoid\":\n",
    "\n",
    "        activation = 1 / (1+np.exp(-Z))\n",
    "\n",
    "    elif activation_name.lower() == \"relu\":\n",
    "\n",
    "        activation = np.maximum(0,Z)\n",
    "\n",
    "    elif activation_name.lower() == \"tanh\":\n",
    "\n",
    "        activation = np.tanh(Z)\n",
    "    else:\n",
    "        # default activation function\n",
    "        activation = np.maximum(0,Z)\n",
    "\n",
    "\n",
    "    assert(activation.shape == Z.shape)\n",
    "\n",
    "    return activation"
   ]
  },
  {
   "cell_type": "code",
   "execution_count": 383,
   "metadata": {},
   "outputs": [
    {
     "name": "stdout",
     "output_type": "stream",
     "text": [
      "[[9.07143868e-01 0.00000000e+00 0.00000000e+00 0.00000000e+00\n",
      "  2.47453869e-01 5.36764845e-01 1.27654978e+00 1.52143405e+00\n",
      "  8.71248281e-01 3.39287984e-02 2.64919957e-01 0.00000000e+00\n",
      "  1.05486845e+00 5.94271549e-01 2.15859672e-01 0.00000000e+00\n",
      "  1.04666138e+00 0.00000000e+00 1.23178219e+00 9.84629504e-01\n",
      "  0.00000000e+00 0.00000000e+00 0.00000000e+00 0.00000000e+00\n",
      "  5.55169974e-01 0.00000000e+00 0.00000000e+00 2.60827277e-01\n",
      "  2.59487707e-01 0.00000000e+00 0.00000000e+00 0.00000000e+00\n",
      "  2.68527168e-01 0.00000000e+00 2.11262212e+00 2.56079437e-01\n",
      "  0.00000000e+00 4.82597952e-01 0.00000000e+00 4.20755200e-01\n",
      "  1.61679423e+00 0.00000000e+00 2.98835019e-01 7.67113096e-01\n",
      "  0.00000000e+00 1.63888893e+00 0.00000000e+00 0.00000000e+00\n",
      "  3.80672178e-01 0.00000000e+00 8.02936667e-01 1.50925417e-01\n",
      "  5.69751291e-01 7.49734237e-02 1.47200161e+00 0.00000000e+00\n",
      "  3.64094247e-01 0.00000000e+00 0.00000000e+00 0.00000000e+00\n",
      "  0.00000000e+00 5.78410537e-01 0.00000000e+00 0.00000000e+00\n",
      "  2.75248870e-01 0.00000000e+00 1.11234865e+00 2.42158930e+00\n",
      "  0.00000000e+00 9.19447184e-01 0.00000000e+00 5.33367456e-01\n",
      "  0.00000000e+00 2.20866163e+00 0.00000000e+00 7.93930409e-01\n",
      "  6.07366153e-01 0.00000000e+00 0.00000000e+00 5.79087216e-01\n",
      "  8.44518440e-01 0.00000000e+00 0.00000000e+00 9.76803256e-01\n",
      "  8.52833425e-01 9.55876647e-01 2.61402036e-01 0.00000000e+00\n",
      "  0.00000000e+00 0.00000000e+00 0.00000000e+00 1.91916876e+00\n",
      "  4.77894556e-01 0.00000000e+00 0.00000000e+00 0.00000000e+00\n",
      "  4.93877562e-03 0.00000000e+00 9.08339690e-01 0.00000000e+00]\n",
      " [6.95305995e-01 0.00000000e+00 0.00000000e+00 1.25913353e+00\n",
      "  0.00000000e+00 0.00000000e+00 0.00000000e+00 9.67393546e-02\n",
      "  1.06950100e+00 6.81401910e-01 7.34011810e-01 1.05304238e+00\n",
      "  6.25218187e-01 7.58259432e-01 4.03724077e-01 0.00000000e+00\n",
      "  5.26095100e-01 9.45886375e-01 0.00000000e+00 2.35989981e-01\n",
      "  1.08281307e+00 0.00000000e+00 0.00000000e+00 6.15339719e-02\n",
      "  1.59368556e+00 0.00000000e+00 0.00000000e+00 0.00000000e+00\n",
      "  0.00000000e+00 2.34771281e-01 1.47681361e+00 0.00000000e+00\n",
      "  0.00000000e+00 0.00000000e+00 0.00000000e+00 0.00000000e+00\n",
      "  0.00000000e+00 0.00000000e+00 4.08653865e-02 1.17244919e+00\n",
      "  0.00000000e+00 0.00000000e+00 0.00000000e+00 1.95745919e-01\n",
      "  0.00000000e+00 7.77208795e-01 0.00000000e+00 9.13258853e-01\n",
      "  9.42513143e-01 0.00000000e+00 0.00000000e+00 1.81169089e-01\n",
      "  0.00000000e+00 1.99220474e+00 1.40887303e-01 7.92440769e-01\n",
      "  0.00000000e+00 0.00000000e+00 6.87266205e-01 5.15886719e-01\n",
      "  0.00000000e+00 0.00000000e+00 0.00000000e+00 2.27826915e-01\n",
      "  9.23852128e-01 0.00000000e+00 4.78745131e-01 0.00000000e+00\n",
      "  0.00000000e+00 0.00000000e+00 0.00000000e+00 2.84393857e+00\n",
      "  2.42497747e+00 7.52269859e-01 6.56015181e-01 0.00000000e+00\n",
      "  2.37734888e+00 1.83172649e-02 0.00000000e+00 1.20399358e+00\n",
      "  2.60800066e-01 0.00000000e+00 0.00000000e+00 0.00000000e+00\n",
      "  6.46556934e-02 5.54457539e-01 5.32758904e-01 1.30120189e+00\n",
      "  0.00000000e+00 9.58068518e-01 1.70666184e+00 0.00000000e+00\n",
      "  7.12570563e-01 0.00000000e+00 0.00000000e+00 1.58466204e+00\n",
      "  1.13548397e+00 5.23372944e-01 0.00000000e+00 1.50356122e+00]\n",
      " [0.00000000e+00 6.73929198e-02 4.85177554e-01 1.28712693e+00\n",
      "  0.00000000e+00 0.00000000e+00 1.15370313e-01 3.17427155e-01\n",
      "  1.73680273e-01 0.00000000e+00 0.00000000e+00 0.00000000e+00\n",
      "  4.20593392e-01 8.92588396e-01 0.00000000e+00 0.00000000e+00\n",
      "  0.00000000e+00 0.00000000e+00 0.00000000e+00 1.30357545e+00\n",
      "  1.38595479e-01 2.08412285e+00 3.80743453e-01 0.00000000e+00\n",
      "  1.13361346e+00 0.00000000e+00 0.00000000e+00 2.79401351e-01\n",
      "  1.14783811e-01 0.00000000e+00 0.00000000e+00 1.15200657e+00\n",
      "  1.75927892e-01 6.38985954e-01 1.02015264e+00 1.79261307e+00\n",
      "  0.00000000e+00 0.00000000e+00 0.00000000e+00 0.00000000e+00\n",
      "  0.00000000e+00 0.00000000e+00 0.00000000e+00 5.81238272e-01\n",
      "  0.00000000e+00 0.00000000e+00 3.59461066e-01 6.98647978e-01\n",
      "  0.00000000e+00 0.00000000e+00 0.00000000e+00 0.00000000e+00\n",
      "  4.48700357e-01 1.20412753e+00 0.00000000e+00 0.00000000e+00\n",
      "  9.52182127e-01 1.13533923e+00 0.00000000e+00 0.00000000e+00\n",
      "  6.59418807e-01 0.00000000e+00 0.00000000e+00 1.59413738e+00\n",
      "  2.97799038e-01 0.00000000e+00 2.53313906e-01 0.00000000e+00\n",
      "  7.42056580e-01 9.81993658e-01 4.38561998e-01 9.27819853e-01\n",
      "  1.96427946e+00 7.26679966e-01 0.00000000e+00 0.00000000e+00\n",
      "  2.24450735e-01 0.00000000e+00 0.00000000e+00 0.00000000e+00\n",
      "  0.00000000e+00 0.00000000e+00 5.01156391e-01 0.00000000e+00\n",
      "  0.00000000e+00 0.00000000e+00 0.00000000e+00 1.86223746e-01\n",
      "  0.00000000e+00 0.00000000e+00 3.42846311e-01 0.00000000e+00\n",
      "  1.91182951e+00 0.00000000e+00 0.00000000e+00 1.11529879e-01\n",
      "  0.00000000e+00 6.63926998e-02 5.40602232e-01 0.00000000e+00]\n",
      " [8.45426429e-01 1.31092200e-01 3.49083684e-01 4.04068105e-01\n",
      "  5.12434147e-01 1.12036180e+00 8.60454448e-01 4.86910353e-01\n",
      "  0.00000000e+00 2.86331102e-01 0.00000000e+00 0.00000000e+00\n",
      "  0.00000000e+00 0.00000000e+00 1.13514139e+00 0.00000000e+00\n",
      "  4.52625687e-02 7.75206119e-01 0.00000000e+00 0.00000000e+00\n",
      "  1.16467116e+00 0.00000000e+00 0.00000000e+00 0.00000000e+00\n",
      "  7.84789191e-01 2.49792474e-01 0.00000000e+00 0.00000000e+00\n",
      "  1.69446002e+00 3.16269281e-01 0.00000000e+00 0.00000000e+00\n",
      "  3.74024890e+00 1.34027191e+00 0.00000000e+00 0.00000000e+00\n",
      "  7.22822683e-01 0.00000000e+00 1.13905330e+00 1.76424958e+00\n",
      "  7.56039504e-03 2.94739515e-01 0.00000000e+00 8.82799066e-01\n",
      "  1.49992516e+00 9.34395374e-01 0.00000000e+00 7.54363070e-01\n",
      "  0.00000000e+00 1.74836197e+00 4.76283816e-01 1.05812873e+00\n",
      "  0.00000000e+00 0.00000000e+00 4.30777633e-01 0.00000000e+00\n",
      "  1.57891390e+00 0.00000000e+00 6.85416448e-01 0.00000000e+00\n",
      "  8.61046242e-01 0.00000000e+00 1.28612625e+00 0.00000000e+00\n",
      "  0.00000000e+00 7.16684310e-01 0.00000000e+00 2.77138832e-01\n",
      "  1.22790870e+00 0.00000000e+00 0.00000000e+00 8.04071304e-02\n",
      "  5.67515399e-01 0.00000000e+00 0.00000000e+00 7.71335292e-01\n",
      "  9.83638642e-01 1.39727326e+00 0.00000000e+00 0.00000000e+00\n",
      "  5.23390285e-01 7.59932103e-01 0.00000000e+00 9.03802464e-02\n",
      "  2.75308280e-01 3.40354962e-01 0.00000000e+00 8.34331948e-02\n",
      "  6.00394496e-01 0.00000000e+00 9.11082434e-01 0.00000000e+00\n",
      "  7.64502119e-01 0.00000000e+00 0.00000000e+00 1.18113873e+00\n",
      "  1.64113619e+00 0.00000000e+00 0.00000000e+00 9.41731578e-02]\n",
      " [0.00000000e+00 7.60251747e-01 0.00000000e+00 0.00000000e+00\n",
      "  2.11434969e-01 0.00000000e+00 0.00000000e+00 2.01464887e+00\n",
      "  5.86884745e-01 0.00000000e+00 1.04601512e+00 2.06318544e+00\n",
      "  1.27466848e+00 0.00000000e+00 0.00000000e+00 0.00000000e+00\n",
      "  0.00000000e+00 2.92157913e-02 0.00000000e+00 0.00000000e+00\n",
      "  3.20818772e-01 0.00000000e+00 0.00000000e+00 2.14817824e+00\n",
      "  3.68219489e-01 1.19032323e+00 4.37918132e-01 6.02979018e-01\n",
      "  0.00000000e+00 0.00000000e+00 0.00000000e+00 0.00000000e+00\n",
      "  0.00000000e+00 1.59901743e-01 0.00000000e+00 6.89592817e-01\n",
      "  0.00000000e+00 1.08395198e+00 0.00000000e+00 0.00000000e+00\n",
      "  0.00000000e+00 0.00000000e+00 0.00000000e+00 1.20205935e+00\n",
      "  0.00000000e+00 1.04015274e+00 0.00000000e+00 0.00000000e+00\n",
      "  0.00000000e+00 5.48995125e-01 0.00000000e+00 0.00000000e+00\n",
      "  0.00000000e+00 0.00000000e+00 5.81184944e-01 0.00000000e+00\n",
      "  1.20342428e-01 0.00000000e+00 5.76920926e-02 6.08355377e-01\n",
      "  0.00000000e+00 3.68665693e-01 1.04632323e-01 0.00000000e+00\n",
      "  0.00000000e+00 0.00000000e+00 0.00000000e+00 0.00000000e+00\n",
      "  4.32852227e-01 0.00000000e+00 1.15838179e+00 0.00000000e+00\n",
      "  3.05252879e-02 4.72135916e-01 0.00000000e+00 1.16258855e+00\n",
      "  0.00000000e+00 9.06766377e-01 1.48556549e-01 0.00000000e+00\n",
      "  1.01169595e+00 5.39253823e-01 0.00000000e+00 1.41181061e+00\n",
      "  1.00399640e+00 1.03807681e-01 1.49687529e-01 1.33623672e+00\n",
      "  1.65817225e+00 6.12658487e-01 0.00000000e+00 1.20250147e-01\n",
      "  8.20019906e-01 0.00000000e+00 0.00000000e+00 5.77839171e-03\n",
      "  1.12363846e-01 3.77829791e-01 1.23029934e+00 0.00000000e+00]\n",
      " [9.98614480e-02 0.00000000e+00 1.57492457e-02 1.67433255e-01\n",
      "  1.02574955e+00 5.58932736e-01 0.00000000e+00 8.91175301e-02\n",
      "  1.05357392e-01 0.00000000e+00 1.32201378e+00 0.00000000e+00\n",
      "  0.00000000e+00 1.59763696e+00 5.73653344e-01 6.30641673e-01\n",
      "  1.15818685e+00 0.00000000e+00 1.43913540e+00 0.00000000e+00\n",
      "  0.00000000e+00 1.03624278e+00 0.00000000e+00 5.30921213e-01\n",
      "  1.42732939e+00 0.00000000e+00 0.00000000e+00 6.72028568e-01\n",
      "  8.96321647e-01 3.41725221e-01 0.00000000e+00 1.61020402e+00\n",
      "  6.22494931e-01 0.00000000e+00 0.00000000e+00 0.00000000e+00\n",
      "  0.00000000e+00 2.56052386e-01 0.00000000e+00 1.22494701e+00\n",
      "  1.10873793e+00 7.42506821e-02 0.00000000e+00 0.00000000e+00\n",
      "  4.06759726e-01 1.16245739e+00 0.00000000e+00 7.97219618e-02\n",
      "  0.00000000e+00 0.00000000e+00 1.16833817e+00 1.59620348e+00\n",
      "  0.00000000e+00 0.00000000e+00 0.00000000e+00 0.00000000e+00\n",
      "  3.72760482e-01 4.72690317e-01 6.04447081e-01 2.61319795e-02\n",
      "  5.29211304e-01 1.65381900e-01 1.24445906e+00 3.74576112e-01\n",
      "  1.45133512e+00 1.07236187e+00 3.59016544e-01 0.00000000e+00\n",
      "  5.17272311e-01 3.20761981e-01 1.91861953e+00 7.42341574e-01\n",
      "  0.00000000e+00 0.00000000e+00 9.63936924e-01 0.00000000e+00\n",
      "  0.00000000e+00 4.90761382e-01 4.93649237e-01 0.00000000e+00\n",
      "  8.61596237e-01 0.00000000e+00 1.86481534e+00 0.00000000e+00\n",
      "  9.07922087e-01 9.90986171e-01 1.26686656e+00 0.00000000e+00\n",
      "  0.00000000e+00 1.74067506e+00 5.46569103e-01 0.00000000e+00\n",
      "  8.32351815e-01 1.58708252e+00 6.66381056e-01 0.00000000e+00\n",
      "  9.79424986e-01 0.00000000e+00 7.76819284e-01 9.78327543e-01]\n",
      " [0.00000000e+00 2.77126501e-01 1.50280307e-01 0.00000000e+00\n",
      "  0.00000000e+00 0.00000000e+00 0.00000000e+00 1.51384075e+00\n",
      "  0.00000000e+00 1.79921181e+00 0.00000000e+00 0.00000000e+00\n",
      "  0.00000000e+00 0.00000000e+00 0.00000000e+00 8.15989154e-01\n",
      "  0.00000000e+00 0.00000000e+00 0.00000000e+00 0.00000000e+00\n",
      "  0.00000000e+00 1.29857162e+00 0.00000000e+00 0.00000000e+00\n",
      "  0.00000000e+00 4.75177393e-01 2.53774808e-01 0.00000000e+00\n",
      "  0.00000000e+00 3.98071788e-01 0.00000000e+00 4.83664733e-01\n",
      "  0.00000000e+00 5.40305516e-01 0.00000000e+00 1.12837854e+00\n",
      "  0.00000000e+00 0.00000000e+00 0.00000000e+00 9.40218905e-01\n",
      "  0.00000000e+00 8.84147795e-01 4.63217223e-01 5.65973205e-01\n",
      "  0.00000000e+00 4.75340517e-01 1.75072180e+00 0.00000000e+00\n",
      "  2.53189548e-01 0.00000000e+00 0.00000000e+00 0.00000000e+00\n",
      "  5.24850945e-01 0.00000000e+00 0.00000000e+00 5.32288180e-01\n",
      "  0.00000000e+00 9.17747112e-01 0.00000000e+00 2.30692727e+00\n",
      "  0.00000000e+00 7.66226191e-01 0.00000000e+00 1.94955615e-01\n",
      "  0.00000000e+00 1.25484875e+00 0.00000000e+00 1.49476918e+00\n",
      "  0.00000000e+00 0.00000000e+00 0.00000000e+00 0.00000000e+00\n",
      "  1.38149942e+00 2.72946214e+00 0.00000000e+00 3.18016861e-01\n",
      "  1.25011223e+00 0.00000000e+00 0.00000000e+00 6.69592696e-01\n",
      "  3.53133254e-01 0.00000000e+00 0.00000000e+00 1.04189976e-01\n",
      "  7.12877299e-01 0.00000000e+00 7.44770949e-02 2.08974092e+00\n",
      "  4.77336660e-01 5.93123566e-01 0.00000000e+00 0.00000000e+00\n",
      "  0.00000000e+00 0.00000000e+00 0.00000000e+00 0.00000000e+00\n",
      "  0.00000000e+00 8.32818744e-01 6.16780564e-01 6.76281511e-01]\n",
      " [9.12086858e-01 0.00000000e+00 0.00000000e+00 0.00000000e+00\n",
      "  0.00000000e+00 2.49671015e-01 0.00000000e+00 1.11395274e+00\n",
      "  0.00000000e+00 5.62541784e-01 1.67876040e+00 0.00000000e+00\n",
      "  0.00000000e+00 0.00000000e+00 0.00000000e+00 2.60688481e-01\n",
      "  5.00319519e-01 0.00000000e+00 0.00000000e+00 2.42410752e-01\n",
      "  3.13961743e-01 0.00000000e+00 2.30163450e+00 0.00000000e+00\n",
      "  8.81197045e-02 0.00000000e+00 0.00000000e+00 0.00000000e+00\n",
      "  1.62823871e+00 0.00000000e+00 0.00000000e+00 6.61114463e-01\n",
      "  0.00000000e+00 4.61015964e-01 1.31650640e+00 2.96369672e-01\n",
      "  7.51222125e-06 0.00000000e+00 0.00000000e+00 5.80177645e-01\n",
      "  0.00000000e+00 3.26813062e-01 0.00000000e+00 0.00000000e+00\n",
      "  0.00000000e+00 6.74528219e-01 0.00000000e+00 1.07751998e+00\n",
      "  0.00000000e+00 0.00000000e+00 0.00000000e+00 0.00000000e+00\n",
      "  5.46998230e-01 0.00000000e+00 5.87424306e-02 6.51014506e-01\n",
      "  5.21844836e-01 0.00000000e+00 2.89438619e+00 3.13504734e+00\n",
      "  4.40313109e-01 0.00000000e+00 0.00000000e+00 5.81739289e-01\n",
      "  0.00000000e+00 0.00000000e+00 0.00000000e+00 4.36181516e-01\n",
      "  1.20844260e+00 0.00000000e+00 0.00000000e+00 0.00000000e+00\n",
      "  0.00000000e+00 0.00000000e+00 0.00000000e+00 0.00000000e+00\n",
      "  0.00000000e+00 2.46853271e-01 3.41389047e-01 3.24868552e-01\n",
      "  0.00000000e+00 0.00000000e+00 1.45387975e-01 0.00000000e+00\n",
      "  1.03641701e+00 1.16430865e+00 0.00000000e+00 0.00000000e+00\n",
      "  1.83359763e-01 0.00000000e+00 8.22297070e-01 7.00099518e-01\n",
      "  0.00000000e+00 1.04823056e+00 1.39227734e+00 3.86223883e-01\n",
      "  6.10146037e-01 0.00000000e+00 0.00000000e+00 1.25488687e+00]\n",
      " [2.41109117e-01 0.00000000e+00 0.00000000e+00 7.52761465e-01\n",
      "  0.00000000e+00 0.00000000e+00 0.00000000e+00 0.00000000e+00\n",
      "  0.00000000e+00 8.82823107e-02 0.00000000e+00 0.00000000e+00\n",
      "  1.98653920e+00 7.26048399e-03 1.70798618e+00 0.00000000e+00\n",
      "  7.54816734e-01 1.13180071e-02 1.69101002e+00 0.00000000e+00\n",
      "  1.79232299e+00 0.00000000e+00 7.62744821e-03 0.00000000e+00\n",
      "  0.00000000e+00 0.00000000e+00 0.00000000e+00 0.00000000e+00\n",
      "  8.96406942e-01 4.95137578e-01 0.00000000e+00 0.00000000e+00\n",
      "  0.00000000e+00 0.00000000e+00 2.50042689e-01 3.53115657e-01\n",
      "  0.00000000e+00 0.00000000e+00 5.16116884e-01 0.00000000e+00\n",
      "  0.00000000e+00 8.18502086e-02 4.94762249e-01 0.00000000e+00\n",
      "  7.96530799e-01 0.00000000e+00 0.00000000e+00 9.44154072e-02\n",
      "  0.00000000e+00 0.00000000e+00 3.39025130e-01 0.00000000e+00\n",
      "  0.00000000e+00 9.98670589e-01 3.31694064e-01 0.00000000e+00\n",
      "  0.00000000e+00 0.00000000e+00 0.00000000e+00 0.00000000e+00\n",
      "  5.87449551e-01 0.00000000e+00 0.00000000e+00 0.00000000e+00\n",
      "  7.45182425e-02 7.96017815e-01 1.10374802e+00 3.42773411e-01\n",
      "  1.21978189e-01 3.55172678e-01 5.25360208e-01 0.00000000e+00\n",
      "  0.00000000e+00 0.00000000e+00 0.00000000e+00 1.88302954e+00\n",
      "  7.84937722e-01 0.00000000e+00 4.23167792e-02 3.07489203e-01\n",
      "  0.00000000e+00 0.00000000e+00 1.44652864e+00 0.00000000e+00\n",
      "  8.68340381e-01 5.40369563e-02 0.00000000e+00 0.00000000e+00\n",
      "  0.00000000e+00 2.74972569e-01 7.28464607e-01 0.00000000e+00\n",
      "  2.97857928e-01 0.00000000e+00 0.00000000e+00 0.00000000e+00\n",
      "  9.25292603e-01 1.94313187e-01 0.00000000e+00 0.00000000e+00]\n",
      " [0.00000000e+00 7.85062478e-01 0.00000000e+00 9.32253127e-01\n",
      "  6.99588895e-01 1.03075433e+00 0.00000000e+00 1.08148592e+00\n",
      "  1.00078593e+00 4.49597692e-01 1.12286975e+00 0.00000000e+00\n",
      "  0.00000000e+00 1.34759958e+00 2.01739038e+00 0.00000000e+00\n",
      "  9.37043437e-01 0.00000000e+00 2.10291501e-01 0.00000000e+00\n",
      "  2.05689041e-01 0.00000000e+00 3.94073452e-01 6.49744691e-01\n",
      "  0.00000000e+00 6.68563396e-01 0.00000000e+00 6.84819457e-01\n",
      "  1.17745439e+00 1.65085084e-01 2.33112636e-01 0.00000000e+00\n",
      "  0.00000000e+00 0.00000000e+00 0.00000000e+00 0.00000000e+00\n",
      "  0.00000000e+00 0.00000000e+00 2.07825267e-01 9.86195928e-01\n",
      "  1.43275643e+00 5.28258500e-01 0.00000000e+00 6.91720859e-01\n",
      "  0.00000000e+00 2.13817727e-01 1.78997593e+00 1.47357393e+00\n",
      "  0.00000000e+00 9.70363704e-01 0.00000000e+00 0.00000000e+00\n",
      "  0.00000000e+00 5.36890163e-01 3.05940784e-01 9.84494017e-01\n",
      "  8.05922147e-01 0.00000000e+00 8.63101610e-01 1.88073075e+00\n",
      "  2.30128376e+00 7.72455805e-01 2.88475888e-01 3.88664087e-01\n",
      "  8.33896687e-02 0.00000000e+00 1.57729140e+00 7.62506470e-01\n",
      "  1.46496700e-01 1.48762097e+00 8.39731475e-01 0.00000000e+00\n",
      "  1.23663877e+00 0.00000000e+00 0.00000000e+00 2.89859401e-01\n",
      "  0.00000000e+00 0.00000000e+00 1.58354729e+00 5.97221754e-02\n",
      "  0.00000000e+00 0.00000000e+00 0.00000000e+00 1.88779204e-01\n",
      "  0.00000000e+00 3.23834320e+00 0.00000000e+00 1.17243182e-01\n",
      "  0.00000000e+00 0.00000000e+00 0.00000000e+00 2.76550537e-02\n",
      "  9.31194711e-01 1.19450641e+00 6.96641525e-01 0.00000000e+00\n",
      "  1.92173817e+00 1.77773360e+00 1.76315828e+00 0.00000000e+00]]\n"
     ]
    }
   ],
   "source": [
    "# test activation\n",
    "Z = np.random.randn(10,100)\n",
    "A = activation_function(Z,\"relu\")\n",
    "\n",
    "print(A)"
   ]
  },
  {
   "cell_type": "code",
   "execution_count": 385,
   "metadata": {},
   "outputs": [],
   "source": [
    "def Forward_propagation(X,parameters,function_name = \"relu\"):\n",
    "\n",
    "    \"\"\"\n",
    "    Compute the forward propagation on the L layers\n",
    "    \n",
    "    Arguments:\n",
    "    X -- Input\n",
    "    parameters -- dictionnary containing the parameters of each layers\n",
    "\n",
    "    Returns:\n",
    "    caches -- list of dictionnaries. each dictionnay contains the linear result and activation of each layer\n",
    "    \"\"\"\n",
    "\n",
    "    # caches and layers\n",
    "    caches = []\n",
    "    L = len(parameters)//2\n",
    "    \n",
    "    # Input X\n",
    "    A_prev = X\n",
    "\n",
    "    for i in range(L):\n",
    "\n",
    "        # getting the parameters of the i-th layers\n",
    "        W = parameters[f\"W{i+1}\"]\n",
    "        b = parameters[f\"b{i+1}\"]\n",
    "\n",
    "        # linear and activation result\n",
    "        Z = np.dot(W,A_prev) + b\n",
    "\n",
    "        # activation\n",
    "        if i == L - 1 :\n",
    "            A = activation_function(Z,\"sigmoid\")\n",
    "        else:\n",
    "            A = activation_function(Z,function_name)\n",
    "\n",
    "        # append cache\n",
    "        cache = {\"W\":W,\"b\":b,\"Z\":Z,\"A\":A,\"A_prev\":A_prev}\n",
    "        caches.append(cache)\n",
    "\n",
    "        # change A_prev\n",
    "        A_prev = A\n",
    "\n",
    "    return A, caches"
   ]
  },
  {
   "cell_type": "code",
   "execution_count": 386,
   "metadata": {},
   "outputs": [
    {
     "name": "stdout",
     "output_type": "stream",
     "text": [
      "(5, 2)\n",
      "(5, 5)\n",
      "(3, 5)\n",
      "(1, 3)\n"
     ]
    }
   ],
   "source": [
    "# test\n",
    "layers_dim = [5,5,3]\n",
    "X = np.random.randn(2,100)\n",
    "params = initialize_parameters(layers_dim,X.shape[0],1)\n",
    "\n",
    "AL,caches = Forward_propagation(X,params)\n",
    "\n",
    "for val in caches:\n",
    "    print(val[\"W\"].shape)"
   ]
  },
  {
   "cell_type": "markdown",
   "metadata": {},
   "source": [
    "### 1.1.3 Cost function  <a class=\"anchor\" id=\"section_1_1_3\"></a>"
   ]
  },
  {
   "cell_type": "code",
   "execution_count": 387,
   "metadata": {},
   "outputs": [],
   "source": [
    "def cost_function(AL,y):\n",
    "\n",
    "    \"\"\"\n",
    "    Compute the cost after the forward propagation\n",
    "\n",
    "    Arguments:\n",
    "    AL -- L-activation \n",
    "    y -- true labels of the dataset dim = (n_y,m) | m examples, n_y nodes of the output layer\n",
    "\n",
    "    Returns:\n",
    "    cost -- cost value\n",
    "    \"\"\"\n",
    "    # m  examples\n",
    "    m = y.shape[1]\n",
    "\n",
    "    # cost\n",
    "    cost = -(1/m) * (np.dot(y,np.log(AL).T) + np.dot((1-y),np.log(1-AL).T))\n",
    "    cost = np.squeeze(cost)\n",
    "\n",
    "    return cost\n"
   ]
  },
  {
   "cell_type": "code",
   "execution_count": 388,
   "metadata": {},
   "outputs": [
    {
     "name": "stdout",
     "output_type": "stream",
     "text": [
      "1.0062740052832018\n",
      "1.0062740052832018\n"
     ]
    }
   ],
   "source": [
    "# Test the cost\n",
    "y_true = np.random.randint(0,2,(1,100))\n",
    "y_pred = np.random.random((1,100))\n",
    "\n",
    "# check with the true log_loss\n",
    "cost = cost_function(y_pred,y_true)\n",
    "l_cost = log_loss(y_true.T,y_pred.T)\n",
    "print(cost)\n",
    "print(l_cost)"
   ]
  },
  {
   "cell_type": "markdown",
   "metadata": {},
   "source": [
    "### 1.1.4 Backward Propagation  <a class=\"anchor\" id=\"section_1_1_4\"></a>"
   ]
  },
  {
   "cell_type": "code",
   "execution_count": 389,
   "metadata": {},
   "outputs": [],
   "source": [
    "def backward_activation_function(dA,Z, function_name):\n",
    "\n",
    "    if function_name.lower() == \"sigmoid\":\n",
    "\n",
    "        Z = Z\n",
    "        s = 1/(1+np.exp(-Z))\n",
    "        \n",
    "        dZ = dA * s * (1-s)\n",
    "\n",
    "    elif function_name.lower() == \"relu\":\n",
    "\n",
    "        Z = Z\n",
    "        dZ = np.array(dA, copy=True) # just converting dz to a correct object.\n",
    "       \n",
    "        # When z <= 0, you should set dz to 0 as well. \n",
    "        dZ[Z <= 0] = 0\n",
    "\n",
    "    elif function_name.lower() == \"tanh\":\n",
    "        Z = Z\n",
    "        s = np.tanh(Z)\n",
    "\n",
    "        dZ = dA * (1-np.power(s,2))\n",
    "    \n",
    "    else:\n",
    "        #default: relu\n",
    "        Z = Z\n",
    "        dZ = np.array(dA, copy=True) # just converting dz to a correct object.\n",
    "    \n",
    "        # When z <= 0, you should set dz to 0 as well. \n",
    "        dZ[Z <= 0] = 0\n",
    "\n",
    "    \n",
    "    return dZ\n",
    "\n"
   ]
  },
  {
   "cell_type": "code",
   "execution_count": 390,
   "metadata": {},
   "outputs": [],
   "source": [
    "def backward_propagation(AL,y,caches,function_name=\"relu\"):\n",
    "    \n",
    "    # gradients\n",
    "    gradients = {}\n",
    "\n",
    "    # L layers\n",
    "    L = len(caches)\n",
    "\n",
    "    # m examples\n",
    "    m = y.shape[1]\n",
    "\n",
    "    # dAL \n",
    "    dAL = - (np.divide(y, AL) - np.divide(1 - y, 1 - AL))\n",
    "    \n",
    "    # getting caches variables\n",
    "    current_cache = caches[-1]\n",
    "    WL = current_cache[\"W\"]\n",
    "    ZL = current_cache[\"Z\"]\n",
    "    A_prev = current_cache[\"A_prev\"]\n",
    "    \n",
    "    dZ = backward_activation_function(dAL,ZL,\"sigmoid\")\n",
    "    \n",
    "    dW_temp = (1/m) * np.dot(dZ,A_prev.T)\n",
    "    db_temp = (1/m) * np.sum(dZ,axis=1, keepdims=True)\n",
    "    dA_prev_temp = np.dot(WL.T,dZ)\n",
    "    \n",
    "    # compute the gradient\n",
    "    gradients[\"dW\" + str(L)] = dW_temp\n",
    "    gradients[\"db\" + str(L)] = db_temp\n",
    "    \n",
    "\n",
    "    for i in reversed(range(L-1)):\n",
    "        # getting caches variables\n",
    "        current_cache = caches[i]\n",
    "       \n",
    "        W = current_cache[\"W\"]\n",
    "        Z = current_cache[\"Z\"]\n",
    "        A_prev = current_cache[\"A_prev\"]\n",
    "\n",
    "        dZ = backward_activation_function(dA_prev_temp,Z,function_name)\n",
    "       \n",
    "        dW_temp = (1/m) * np.dot(dZ,A_prev.T)\n",
    "        db_temp = (1/m) * np.sum(dZ,axis=1, keepdims=True)\n",
    "        dA_prev_temp = np.dot(W.T,dZ)\n",
    "        \n",
    "        # compute the gradient\n",
    "        gradients[\"dW\" + str(i+1)] = dW_temp\n",
    "        gradients[\"db\" + str(i+1)] = db_temp\n",
    "\n",
    "\n",
    "    return gradients"
   ]
  },
  {
   "cell_type": "code",
   "execution_count": 392,
   "metadata": {},
   "outputs": [
    {
     "name": "stdout",
     "output_type": "stream",
     "text": [
      "dW1 (5, 10)\n",
      "dW2 (5, 5)\n",
      "dW3 (4, 5)\n",
      "dW4 (1, 4)\n"
     ]
    }
   ],
   "source": [
    "# test\n",
    "\n",
    "layers_dim = [5,5,4]\n",
    "X = np.random.randn(10,100)\n",
    "y_true = np.random.randint(0,2,(1,100))\n",
    "params = initialize_parameters(layers_dim,X.shape[0],1)\n",
    "\n",
    "AL,caches = Forward_propagation(X,params)\n",
    "    \n",
    "gradients = backward_propagation(AL,y_true,caches)\n",
    "\n",
    "for i in range(len(caches)):\n",
    "    print(f\"dW{i+1}\",gradients[f\"dW{i+1}\"].shape)"
   ]
  },
  {
   "cell_type": "markdown",
   "metadata": {},
   "source": [
    "### 1.1.5 Update parameters  <a class=\"anchor\" id=\"section_1_1_5\"></a>"
   ]
  },
  {
   "cell_type": "code",
   "execution_count": 393,
   "metadata": {},
   "outputs": [],
   "source": [
    "def update_parameters(parameters,gradients,learning_rate):\n",
    "\n",
    "    params = parameters\n",
    "    L = len(parameters)//2\n",
    "\n",
    "\n",
    "    for i in range(L):\n",
    "\n",
    "        params[f\"W{i+1}\"] = params[f\"W{i+1}\"] - learning_rate * gradients[f\"dW{i+1}\"]\n",
    "        params[f\"b{i+1}\"] = params[f\"b{i+1}\"] - learning_rate * gradients[f\"db{i+1}\"]\n",
    "\n",
    "    return params"
   ]
  },
  {
   "cell_type": "markdown",
   "metadata": {},
   "source": [
    "### 1.1.6 Predict <a class=\"anchor\" id=\"section_1_1_6\"></a>"
   ]
  },
  {
   "cell_type": "code",
   "execution_count": 395,
   "metadata": {},
   "outputs": [],
   "source": [
    "def predict(X,parameters,function_name):\n",
    "\n",
    "    y_pred,caches = Forward_propagation(X,parameters,function_name)\n",
    "\n",
    "    y_pred[y_pred>=0.5] = 1\n",
    "    y_pred[y_pred<0.5] = 0\n",
    "\n",
    "    return y_pred"
   ]
  },
  {
   "cell_type": "markdown",
   "metadata": {},
   "source": [
    "## 1.2 L-layer Model <a class=\"anchor\" id=\"section_1_2\"></a>"
   ]
  },
  {
   "cell_type": "code",
   "execution_count": 398,
   "metadata": {},
   "outputs": [],
   "source": [
    "def L_nn_model(X,y,n_iter,hidden_layers_dim,learning_rate,function_name, display = False):\n",
    "\n",
    "    n_x = X.shape[0]\n",
    "    n_y = y.shape[0]\n",
    "\n",
    "    # tracking\n",
    "    costs = [] \n",
    "    acc = []\n",
    "\n",
    "    # initialize parameters\n",
    "    parameters = initialize_parameters(hidden_layers_dim, n_x, n_y)\n",
    "\n",
    "    for iteration in range(n_iter):\n",
    "\n",
    "        # ---- forward  propagation -----------\n",
    "        AL,caches = Forward_propagation(X,parameters,function_name)\n",
    "\n",
    "        # --------- cost -----------------\n",
    "        cost_train = cost_function(AL,y)\n",
    "        costs.append(cost_train)\n",
    "       \n",
    "        y_pred = predict(X,parameters,function_name)\n",
    "        acc_train = accuracy_score(y.T,y_pred.T)\n",
    "        acc.append(acc_train)\n",
    "\n",
    "        # ---- backward propagation --------------\n",
    "        gradients = backward_propagation(AL,y,caches,function_name)\n",
    "\n",
    "        # ---- update parameters ----------\n",
    "        params = update_parameters(parameters, gradients, learning_rate)\n",
    "        parameters = params\n",
    "\n",
    "        if display is True and iteration%250 == 0:\n",
    "            print(f\"iter {iteration} : Train_Loss = {cost_train}, Train_acc = {acc_train}\")\n",
    "\n",
    "\n",
    "    dict_model = {\"parameters\": parameters,\"cost\":costs,\"accuracy\":acc}\n",
    "\n",
    "    return dict_model\n",
    "    "
   ]
  },
  {
   "cell_type": "markdown",
   "metadata": {},
   "source": [
    "# 2. Load the Dataset <a class=\"anchor\" id=\"chapter2\"></a>"
   ]
  },
  {
   "cell_type": "markdown",
   "metadata": {},
   "source": [
    "## 2.1 Load the data <a class=\"anchor\" id=\"section_2_1\"></a>"
   ]
  },
  {
   "cell_type": "code",
   "execution_count": 329,
   "metadata": {},
   "outputs": [],
   "source": [
    "# Load the dataset\n",
    "import h5py\n",
    "dataset_file = \"datasets/01 - cat/\"\n",
    "\n",
    "def load_dataset():\n",
    "\n",
    "    # Training set\n",
    "    train_dataset = h5py.File(dataset_file + \"train_catvnoncat.h5\",\"r\")\n",
    "    X_train = np.array(train_dataset[\"train_set_x\"][:])\n",
    "    y_train = np.array(train_dataset[\"train_set_y\"][:])\n",
    "\n",
    "    # Test set\n",
    "    test_dataset = h5py.File(dataset_file + \"test_catvnoncat.h5\",\"r\")\n",
    "    X_test = np.array(test_dataset[\"test_set_x\"][:])\n",
    "    y_test = np.array(test_dataset[\"test_set_y\"][:])\n",
    "\n",
    "    # classes\n",
    "    classes = np.array(test_dataset[\"list_classes\"][:])\n",
    "\n",
    "    return X_train, y_train, X_test, y_test, classes"
   ]
  },
  {
   "cell_type": "code",
   "execution_count": 330,
   "metadata": {},
   "outputs": [],
   "source": [
    "# split\n",
    "train_x,train_y, test_x, test_y,classes = load_dataset()"
   ]
  },
  {
   "cell_type": "code",
   "execution_count": 331,
   "metadata": {},
   "outputs": [
    {
     "name": "stdout",
     "output_type": "stream",
     "text": [
      "X_train shape: (209, 64, 64, 3)\n",
      "X_test shape: (50, 64, 64, 3)\n",
      "y_train shape: (209,)\n",
      "y_test shape: (50,)\n",
      "classes shape: (2,)\n"
     ]
    }
   ],
   "source": [
    "# Display Shape\n",
    "print(\"X_train shape:\", train_x.shape)\n",
    "print(\"X_test shape:\", test_x.shape)\n",
    "print(\"y_train shape:\", train_y.shape)\n",
    "print(\"y_test shape:\",test_y.shape)\n",
    "print(\"classes shape:\",classes.shape)"
   ]
  },
  {
   "cell_type": "code",
   "execution_count": 332,
   "metadata": {},
   "outputs": [
    {
     "name": "stdout",
     "output_type": "stream",
     "text": [
      "y_train shape: (1, 209)\n",
      "y_test shape: (1, 50)\n"
     ]
    }
   ],
   "source": [
    "# We need to reshape y_train and y_test\n",
    "\n",
    "train_y = train_y.reshape((1,train_y.shape[0]))\n",
    "test_y = test_y.reshape((1,test_y.shape[0]))\n",
    "\n",
    "print(\"y_train shape:\", train_y.shape)\n",
    "print(\"y_test shape:\",test_y.shape)"
   ]
  },
  {
   "cell_type": "markdown",
   "metadata": {},
   "source": [
    "## 2.2 Display <a class=\"anchor\" id=\"section_2_2\"></a>"
   ]
  },
  {
   "cell_type": "code",
   "execution_count": 333,
   "metadata": {},
   "outputs": [],
   "source": [
    "def display_data(X,y,n,classes = {0: \"cat\",1:\"dog\"}):\n",
    "    \"\"\"\n",
    "    Display n random image in the dataset X,y\n",
    "\n",
    "    ----\n",
    "    Inputs:\n",
    "    - X : Matrix containing the features and the examples\n",
    "    - y : True label of the dataset X\n",
    "    - n : number of images plot\n",
    "    \"\"\"\n",
    "    # Random range\n",
    "    random_range = np.random.randint(0,X.shape[0],size=n)\n",
    "\n",
    "    fig, axs = plt.subplots(1, n, figsize=(20, 5))\n",
    "    \n",
    "    for i in range(n):\n",
    "        index = random_range[i]\n",
    "        index_classe = int(np.squeeze(y[index]))\n",
    "\n",
    "        ax = axs[i]\n",
    "        ax.imshow(X[index],cmap=\"gray\")\n",
    "        ax.set_title(f\"y={index_classe} | {classes[index_classe]}\".capitalize())"
   ]
  },
  {
   "cell_type": "code",
   "execution_count": 334,
   "metadata": {},
   "outputs": [
    {
     "data": {
      "image/png": "[encoded data removed]",
      "text/plain": [
       "<Figure size 1440x360 with 5 Axes>"
      ]
     },
     "metadata": {
      "needs_background": "light"
     },
     "output_type": "display_data"
    }
   ],
   "source": [
    "display_data(train_x,train_y.T,5,classes = {0: \"non-cat\",1:\"cat\"})"
   ]
  },
  {
   "cell_type": "markdown",
   "metadata": {},
   "source": [
    "## 2.3 Flatten <a class=\"anchor\" id=\"section_2_3\"></a>"
   ]
  },
  {
   "cell_type": "code",
   "execution_count": 335,
   "metadata": {},
   "outputs": [
    {
     "name": "stdout",
     "output_type": "stream",
     "text": [
      "X_train flatten shape: (12288, 209)\n",
      "X_test flatten shape: (12288, 50)\n"
     ]
    }
   ],
   "source": [
    "# Flatten\n",
    "\n",
    "train_x_flat = train_x.reshape(train_x.shape[0],-1).T\n",
    "test_x_flat = test_x.reshape(test_x.shape[0],-1).T\n",
    "\n",
    "\n",
    "print(\"X_train flatten shape:\",train_x_flat.shape)\n",
    "print(\"X_test flatten shape:\",test_x_flat.shape)"
   ]
  },
  {
   "cell_type": "markdown",
   "metadata": {},
   "source": [
    "## 2.4 Normalize <a class=\"anchor\" id=\"section_2_4\"></a>"
   ]
  },
  {
   "cell_type": "code",
   "execution_count": 336,
   "metadata": {},
   "outputs": [],
   "source": [
    "# Normalize\n",
    "\n",
    "train_x_flat_norm = train_x_flat/np.max(train_x_flat)\n",
    "\n",
    "# Warning: the data are normalized with the Training set\n",
    "test_x_flat_norm = test_x_flat/np.max(train_x_flat)"
   ]
  },
  {
   "cell_type": "markdown",
   "metadata": {},
   "source": [
    "# 3. Train the model  <a class=\"anchor\" id=\"chapter3\"></a>"
   ]
  },
  {
   "cell_type": "code",
   "execution_count": 413,
   "metadata": {},
   "outputs": [
    {
     "name": "stdout",
     "output_type": "stream",
     "text": [
      "iter 0 : Train_Loss = 0.6671572688568213, Train_acc = 0.6602870813397129\n",
      "iter 250 : Train_Loss = 0.6373831771838379, Train_acc = 0.6555023923444976\n",
      "iter 500 : Train_Loss = 0.6054571575529157, Train_acc = 0.6555023923444976\n",
      "iter 750 : Train_Loss = 0.5380661262400136, Train_acc = 0.69377990430622\n",
      "iter 1000 : Train_Loss = 0.4097481483167652, Train_acc = 0.8564593301435407\n",
      "iter 1250 : Train_Loss = 0.33547550152487465, Train_acc = 0.8803827751196173\n",
      "iter 1500 : Train_Loss = 0.15495401505730985, Train_acc = 0.9617224880382775\n",
      "iter 1750 : Train_Loss = 0.06863979677403556, Train_acc = 0.9904306220095693\n"
     ]
    }
   ],
   "source": [
    "n_iter= 2000\n",
    "hidden_layers_dim = [20,20,5]\n",
    "learning_rate = 0.01\n",
    "dict_model = L_nn_model(train_x_flat_norm,train_y,n_iter,hidden_layers_dim,learning_rate,function_name=\"relu\",display=True)"
   ]
  },
  {
   "cell_type": "code",
   "execution_count": 414,
   "metadata": {},
   "outputs": [
    {
     "data": {
      "image/png": "[encoded data removed]",
      "text/plain": [
       "<Figure size 720x216 with 2 Axes>"
      ]
     },
     "metadata": {
      "needs_background": "light"
     },
     "output_type": "display_data"
    }
   ],
   "source": [
    "# Display the result\n",
    "\n",
    "fig, axs = plt.subplots(1, 2, figsize=(10, 3))\n",
    "\n",
    "axs[0].plot(dict_model[\"cost\"])\n",
    "axs[0].set_title(\"Training Loss\")\n",
    "axs[0].set_xlabel(\"n_iteration\")\n",
    "\n",
    "axs[1].plot(dict_model[\"accuracy\"])\n",
    "axs[1].set_title(\"Training Accuracy\")\n",
    "axs[1].set_xlabel(\"n_iteration\")\n",
    "plt.show()"
   ]
  },
  {
   "cell_type": "code",
   "execution_count": 415,
   "metadata": {},
   "outputs": [],
   "source": [
    "def score(X,y,parameters):\n",
    "    \n",
    "    # prediction\n",
    "    y_pred = predict(X,parameters,function_name=\"relu\")\n",
    "\n",
    "    # score\n",
    "    acc = accuracy_score(y.T,y_pred.T)\n",
    "\n",
    "    return acc"
   ]
  },
  {
   "cell_type": "code",
   "execution_count": 416,
   "metadata": {},
   "outputs": [
    {
     "name": "stdout",
     "output_type": "stream",
     "text": [
      "0.9904306220095693\n",
      "0.74\n"
     ]
    }
   ],
   "source": [
    "\n",
    "parameters = dict_model[\"parameters\"]\n",
    "acc_train = score(train_x_flat_norm,train_y,parameters)\n",
    "acc_test = score(test_x_flat_norm,test_y,parameters)\n",
    "\n",
    "print(acc_train)\n",
    "print(acc_test)"
   ]
  },
  {
   "cell_type": "code",
   "execution_count": null,
   "metadata": {},
   "outputs": [],
   "source": []
  }
 ],
 "metadata": {
  "interpreter": {
   "hash": "6d46af94c2bbce495f1e668725902fa517c90b1782bcfe2fce0dd9868df553d3"
  },
  "kernelspec": {
   "display_name": "Python 3.8.8 64-bit ('base': conda)",
   "language": "python",
   "name": "python3"
  },
  "language_info": {
   "codemirror_mode": {
    "name": "ipython",
    "version": 3
   },
   "file_extension": ".py",
   "mimetype": "text/x-python",
   "name": "python",
   "nbconvert_exporter": "python",
   "pygments_lexer": "ipython3",
   "version": "3.8.8"
  },
  "orig_nbformat": 4
 },
 "nbformat": 4,
 "nbformat_minor": 2
}
