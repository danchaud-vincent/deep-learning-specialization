{
 "cells": [
  {
   "cell_type": "markdown",
   "metadata": {},
   "source": [
    "# Build a L-layer Neural Network.ipynb"
   ]
  },
  {
   "cell_type": "markdown",
   "metadata": {},
   "source": [
    "## Table of Contents\n",
    "\n",
    "* [Recap](#chapter0)\n",
    "* [1. L-laers Neural Network Model](#chapter1)\n",
    "    * [1.1 Functions of our L-layers Neural Network ](#section_1_1)\n",
    "        * [1.1.1 ](#section_1_1_1)\n",
    "        * [1.1.2 ](#section_1_1_2)\n",
    "        * [1.1.3 ](#section_1_1_3)\n",
    "        * [1.1.4 ](#section_1_1_4)\n",
    "        * [1.1.5 ](#section_1_1_5)\n",
    "    * [1.2 Model](#section_1_2)\n",
    "* [2. Load the Dataset ](#chapter2)\n",
    "    * [2.1 Load the Dataset](#section_2_1)\n",
    "    * [2.2 Display the Data](#section_2_2)\n",
    "    * [2.3 Flatten the data](#section_2_3)\n",
    "    * [2.4 Normalize the data](#section_2_4)"
   ]
  },
  {
   "cell_type": "markdown",
   "metadata": {},
   "source": [
    "# Recap  <a class=\"anchor\" id=\"chapter0\"></a>"
   ]
  },
  {
   "cell_type": "markdown",
   "metadata": {},
   "source": [
    "> Forward Propagation :"
   ]
  },
  {
   "cell_type": "markdown",
   "metadata": {},
   "source": [
    "<center><img src=\"images/05-Deep Neural network/forward-prop.png\" width = \"600px\"></center>"
   ]
  },
  {
   "cell_type": "markdown",
   "metadata": {},
   "source": [
    "$$\n",
    "\\begin{cases}\n",
    "    Z^{[l]} = W^{[l]} X + b^{[l]} \\\\\n",
    "    A^{[l]} = g^{[l]}(Z^{[l]}) \n",
    "\\end{cases}\n",
    "$$\n"
   ]
  },
  {
   "cell_type": "markdown",
   "metadata": {},
   "source": [
    "> Backward Propagation :"
   ]
  },
  {
   "cell_type": "markdown",
   "metadata": {},
   "source": [
    "<center><img src=\"images/05-Deep Neural network/backward-prop.png\" width = \"600px\"></center>"
   ]
  },
  {
   "cell_type": "markdown",
   "metadata": {},
   "source": [
    "$$\n",
    "\\begin{cases}\n",
    "    dZ^{[l]} =  (A^{[l]} - Y) \\\\\n",
    "    dW^{[l]} = \\frac{1}{m} dZ^{[l]}A^{[l-1]T} \\\\\n",
    "    db^{[l]} = \\frac{1}{m} \\sum dZ^{[l]}    \\\\\n",
    "    dA^{[l-1]} =W^{[l]T}dZ^{[l]} \\\\\n",
    "    dZ^{[l-1]} = W^{[l]T}dZ^{[l]} * g^{[l-1]'}(Z^{[l-1]}) \\\\\n",
    "\\end{cases}\n",
    "$$\n",
    "\n",
    "$$\n",
    "\\begin{cases}\n",
    "    dZ^{[1]} = W^{[2]T}dZ^{[2]} * g^{[1]'}(Z^{[1]}) \\\\\n",
    "    dW^{[1]} = \\frac{1}{m} dZ^{[1]} X^T \\\\\n",
    "    db^{[1]} = \\frac{1}{m} \\sum  dZ^{[1]}\n",
    "\\end{cases}\n",
    "$$\n"
   ]
  },
  {
   "cell_type": "markdown",
   "metadata": {},
   "source": [
    "> Dimension :\n",
    "- m : number of examples\n",
    "\n",
    "$$\\begin{cases}\n",
    "    Z^{[l]},A^{[l]} : (n^{[l]},m) \\\\\n",
    "    W^{[l]}: (n^{[l]},n^{[l-1]})   \\\\\n",
    "    b^{[l]}: (n^{[l]},1)  \\\\\n",
    "    dZ^{[l]},dA^{[l]} : (n^{[l]},m) \\\\\n",
    "    dW^{[l]} : (n^{[l]},n^{[l-1]})   \\\\\n",
    "    db^{[l]}: (n^{[l]},1)\n",
    "\\end{cases}\n",
    "$$\n"
   ]
  },
  {
   "cell_type": "markdown",
   "metadata": {},
   "source": [
    "# 1. L-layers Neural Network model <a class=\"anchor\" id=\"chapter1\"></a>"
   ]
  },
  {
   "cell_type": "markdown",
   "metadata": {},
   "source": [
    "## 1.1 Functions of our L-layers Neural Network  <a class=\"anchor\" id=\"section_1_1\"></a>"
   ]
  },
  {
   "cell_type": "markdown",
   "metadata": {},
   "source": [
    "### 1.1.1 Initialize parameters  <a class=\"anchor\" id=\"section_1_1_1\"></a>"
   ]
  },
  {
   "cell_type": "markdown",
   "metadata": {},
   "source": [
    "### 1.1.2 Forward propagation  <a class=\"anchor\" id=\"section_1_1_2\"></a>"
   ]
  },
  {
   "cell_type": "markdown",
   "metadata": {},
   "source": [
    "### 1.1.3 Cost function  <a class=\"anchor\" id=\"section_1_1_3\"></a>"
   ]
  },
  {
   "cell_type": "markdown",
   "metadata": {},
   "source": [
    "### 1.1.4 Backward Propagation  <a class=\"anchor\" id=\"section_1_1_4\"></a>"
   ]
  },
  {
   "cell_type": "markdown",
   "metadata": {},
   "source": [
    "### 1.1.5 Update parameters  <a class=\"anchor\" id=\"section_1_1_5\"></a>"
   ]
  },
  {
   "cell_type": "markdown",
   "metadata": {},
   "source": []
  }
 ],
 "metadata": {
  "language_info": {
   "name": "python"
  },
  "orig_nbformat": 4
 },
 "nbformat": 4,
 "nbformat_minor": 2
}
