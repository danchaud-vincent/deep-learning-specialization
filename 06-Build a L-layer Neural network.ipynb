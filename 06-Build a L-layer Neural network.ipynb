{
 "cells": [
  {
   "cell_type": "markdown",
   "metadata": {},
   "source": [
    "# Build a L-layer Neural Network.ipynb"
   ]
  },
  {
   "cell_type": "markdown",
   "metadata": {},
   "source": [
    "## Table of Contents\n",
    "\n",
    "* [Recap](#chapter0)\n",
    "* [1. L-laers Neural Network Model](#chapter1)\n",
    "    * [1.1 Functions of our L-layers Neural Network ](#section_1_1)\n",
    "        * [1.1.1 Initialize parameters](#section_1_1_1)\n",
    "        * [1.1.2 Forward propagation](#section_1_1_2)\n",
    "        * [1.1.3 Cost function](#section_1_1_3)\n",
    "        * [1.1.4 Backward Propagation](#section_1_1_4)\n",
    "        * [1.1.5 Update parameters](#section_1_1_5) \n",
    "    * [1.2 L-layer Model](#section_1_2)\n",
    "* [2. Load the Dataset ](#chapter2)\n",
    "    * [2.1 Load the Dataset](#section_2_1)\n",
    "    * [2.2 Display the Data](#section_2_2)\n",
    "    * [2.3 Flatten the data](#section_2_3)\n",
    "    * [2.4 Normalize the data](#section_2_4)"
   ]
  },
  {
   "cell_type": "markdown",
   "metadata": {},
   "source": [
    "# Recap  <a class=\"anchor\" id=\"chapter0\"></a>"
   ]
  },
  {
   "cell_type": "markdown",
   "metadata": {},
   "source": [
    "> Forward Propagation :"
   ]
  },
  {
   "cell_type": "markdown",
   "metadata": {},
   "source": [
    "<center><img src=\"images/05-Deep Neural network/forward-prop.png\" width = \"600px\"></center>"
   ]
  },
  {
   "cell_type": "markdown",
   "metadata": {},
   "source": [
    "$$\n",
    "\\begin{cases}\n",
    "    Z^{[l]} = W^{[l]} X + b^{[l]} \\\\\n",
    "    A^{[l]} = g^{[l]}(Z^{[l]}) \n",
    "\\end{cases}\n",
    "$$\n"
   ]
  },
  {
   "cell_type": "markdown",
   "metadata": {},
   "source": [
    "> Backward Propagation :"
   ]
  },
  {
   "cell_type": "markdown",
   "metadata": {},
   "source": [
    "<center><img src=\"images/05-Deep Neural network/backward-prop.png\" width = \"600px\"></center>"
   ]
  },
  {
   "cell_type": "markdown",
   "metadata": {},
   "source": [
    "$$\n",
    "\\begin{cases}\n",
    "    dZ^{[l]} =  dA^{[l]}  * g^{[l]'}(Z^{[l]}) \\\\\n",
    "    dW^{[l]} = \\frac{1}{m} dZ^{[l]}A^{[l-1]T} \\\\\n",
    "    db^{[l]} = \\frac{1}{m} \\sum dZ^{[l]}    \\\\\n",
    "    dA^{[l-1]} =W^{[l]T}dZ^{[l]} \\\\\n",
    "    dZ^{[l-1]} = W^{[l]T}dZ^{[l]} * g^{[l-1]'}(Z^{[l-1]}) \\\\\n",
    "\\end{cases}\n",
    "$$\n",
    "\n",
    "$$\n",
    "\\begin{cases}\n",
    "    dZ^{[1]} = W^{[2]T}dZ^{[2]} * g^{[1]'}(Z^{[1]}) \\\\\n",
    "    dW^{[1]} = \\frac{1}{m} dZ^{[1]} X^T \\\\\n",
    "    db^{[1]} = \\frac{1}{m} \\sum  dZ^{[1]}\n",
    "\\end{cases}\n",
    "$$\n"
   ]
  },
  {
   "cell_type": "markdown",
   "metadata": {},
   "source": [
    "> Dimension :\n",
    "- m : number of examples\n",
    "\n",
    "$$\\begin{cases}\n",
    "    Z^{[l]},A^{[l]} : (n^{[l]},m) \\\\\n",
    "    W^{[l]}: (n^{[l]},n^{[l-1]})   \\\\\n",
    "    b^{[l]}: (n^{[l]},1)  \\\\\n",
    "    dZ^{[l]},dA^{[l]} : (n^{[l]},m) \\\\\n",
    "    dW^{[l]} : (n^{[l]},n^{[l-1]})   \\\\\n",
    "    db^{[l]}: (n^{[l]},1)\n",
    "\\end{cases}\n",
    "$$\n"
   ]
  },
  {
   "cell_type": "markdown",
   "metadata": {},
   "source": [
    "# 1. L-layers Neural Network model <a class=\"anchor\" id=\"chapter1\"></a>"
   ]
  },
  {
   "cell_type": "code",
   "execution_count": 3,
   "metadata": {},
   "outputs": [],
   "source": [
    "# Packages\n",
    "import copy\n",
    "import numpy as np\n",
    "import matplotlib.pyplot as plt\n",
    "import sklearn\n",
    "import sklearn.datasets\n",
    "import sklearn.linear_model\n",
    "from sklearn.metrics import accuracy_score\n",
    "from sklearn.metrics import log_loss\n",
    "\n",
    "\n",
    "%matplotlib inline"
   ]
  },
  {
   "cell_type": "markdown",
   "metadata": {},
   "source": [
    "## 1.1 Functions of our L-layers Neural Network  <a class=\"anchor\" id=\"section_1_1\"></a>"
   ]
  },
  {
   "cell_type": "markdown",
   "metadata": {},
   "source": [
    "### 1.1.1 Initialize parameters  <a class=\"anchor\" id=\"section_1_1_1\"></a>"
   ]
  },
  {
   "cell_type": "code",
   "execution_count": 241,
   "metadata": {},
   "outputs": [],
   "source": [
    "def initialize_parameters(hidden_layers_dim,n_input,n_output):\n",
    "    \"\"\"\n",
    "    Initialize the l parameters of the L-layer neural network\n",
    "    \n",
    "    Arguments:\n",
    "    hidden_layers_dim -- list of hidden units in the hidden layers\n",
    "    n_input -- features of the input matrix X\n",
    "    n_output -- number units in the output layer \n",
    "    \n",
    "    Returns:\n",
    "    parameters -- a dictionary containing W1, W2, b1, and b2, ....\n",
    "    \"\"\"\n",
    "\n",
    "    # seed\n",
    "    np.random.seed(3)\n",
    "\n",
    "    # init cache\n",
    "    parameters = {}\n",
    "    l = len(hidden_layers_dim)\n",
    "\n",
    "    for i,n_dim in enumerate(hidden_layers_dim):\n",
    "        \n",
    "        if i == 0:\n",
    "            W = np.random.randn(n_dim,n_input) * 0.01\n",
    "            b = np.zeros((n_dim,1))\n",
    "        else:\n",
    "            W = np.random.randn(n_dim,hidden_layers_dim[i-1]) * 0.01\n",
    "            b = np.zeros((n_dim,1))\n",
    "\n",
    "        # getting params\n",
    "        parameters[f\"W{i+1}\"] = W\n",
    "        parameters[f\"b{i+1}\" ] = b\n",
    "\n",
    "    # output layer\n",
    "    W = np.random.randn(n_output,hidden_layers_dim[-1]) * 0.01\n",
    "    b = np.zeros((n_output,1))\n",
    "    \n",
    "\n",
    "    # getting params\n",
    "    parameters[f\"W{l+1}\"] = W\n",
    "    parameters[f\"b{l+1}\" ] = b\n",
    "\n",
    "\n",
    "    return parameters\n"
   ]
  },
  {
   "cell_type": "code",
   "execution_count": 242,
   "metadata": {},
   "outputs": [
    {
     "data": {
      "text/plain": [
       "{'W1': array([[ 0.01788628,  0.0043651 ,  0.00096497, -0.01863493],\n",
       "        [-0.00277388, -0.00354759, -0.00082741, -0.00627001],\n",
       "        [-0.00043818, -0.00477218, -0.01313865,  0.00884622],\n",
       "        [ 0.00881318,  0.01709573,  0.00050034, -0.00404677],\n",
       "        [-0.0054536 , -0.01546477,  0.00982367, -0.01101068]]),\n",
       " 'b1': array([[0.],\n",
       "        [0.],\n",
       "        [0.],\n",
       "        [0.],\n",
       "        [0.]]),\n",
       " 'W2': array([[-0.01185047, -0.0020565 ,  0.01486148,  0.00236716, -0.01023785],\n",
       "        [-0.00712993,  0.00625245, -0.00160513, -0.00768836, -0.00230031],\n",
       "        [ 0.00745056,  0.01976111, -0.01244123, -0.00626417, -0.00803766],\n",
       "        [-0.02419083, -0.00923792, -0.01023876,  0.01123978, -0.00131914],\n",
       "        [-0.01623285,  0.00646675, -0.00356271, -0.01743141, -0.0059665 ]]),\n",
       " 'b2': array([[0.],\n",
       "        [0.],\n",
       "        [0.],\n",
       "        [0.],\n",
       "        [0.]]),\n",
       " 'W3': array([[-0.00588594, -0.00873882,  0.00029714, -0.02248258, -0.00267762],\n",
       "        [ 0.01013183,  0.00852798,  0.01108187,  0.01119391,  0.01487543],\n",
       "        [-0.01118301,  0.00845833, -0.0186089 , -0.00602885, -0.01914472]]),\n",
       " 'b3': array([[0.],\n",
       "        [0.],\n",
       "        [0.]]),\n",
       " 'W4': array([[ 0.01048148,  0.01333738, -0.00197415]]),\n",
       " 'b4': array([[0.]])}"
      ]
     },
     "execution_count": 242,
     "metadata": {},
     "output_type": "execute_result"
    }
   ],
   "source": [
    "# test\n",
    "layers_dim = [5,5,3]\n",
    "\n",
    "params = initialize_parameters(layers_dim,4,1)\n",
    "params"
   ]
  },
  {
   "cell_type": "markdown",
   "metadata": {},
   "source": [
    "### 1.1.2 Forward propagation  <a class=\"anchor\" id=\"section_1_1_2\"></a>"
   ]
  },
  {
   "cell_type": "code",
   "execution_count": 243,
   "metadata": {},
   "outputs": [],
   "source": [
    "def activation_function(Z,activation_name):\n",
    "\n",
    "    \"\"\"\n",
    "    Compute the activation function\n",
    "    \n",
    "    Arguments:\n",
    "    activation_name -- name of the activation function choosen\n",
    "    Z -- items\n",
    "\n",
    "    Returns:\n",
    "    activation -- activation value\n",
    "    \"\"\"\n",
    "\n",
    "    if activation_name.lower() == \"sigmoid\":\n",
    "\n",
    "        activation = 1 / (1+np.exp(-Z))\n",
    "\n",
    "    elif activation_name.lower() == \"relu\":\n",
    "\n",
    "        activation = np.maximum(0,Z)\n",
    "\n",
    "    elif activation_name.lower() == \"tanh\":\n",
    "\n",
    "        activation = np.tanh(Z)\n",
    "    else:\n",
    "        # default activation function\n",
    "        activation = np.maximum(0,Z)\n",
    "\n",
    "\n",
    "    assert(activation.shape == Z.shape)\n",
    "\n",
    "    return activation"
   ]
  },
  {
   "cell_type": "code",
   "execution_count": 244,
   "metadata": {},
   "outputs": [
    {
     "name": "stdout",
     "output_type": "stream",
     "text": [
      "(10, 100)\n"
     ]
    }
   ],
   "source": [
    "# test activation\n",
    "Z = np.random.randn(10,100)\n",
    "A = activation_function(Z,\"sigmoid\")\n",
    "\n",
    "print(A.shape)"
   ]
  },
  {
   "cell_type": "code",
   "execution_count": 245,
   "metadata": {},
   "outputs": [],
   "source": [
    "def Forward_propagation(X,parameters):\n",
    "\n",
    "    \"\"\"\n",
    "    Compute the forward propagation on the L layers\n",
    "    \n",
    "    Arguments:\n",
    "    X -- Input\n",
    "    parameters -- dictionnary containing the parameters of each layers\n",
    "\n",
    "    Returns:\n",
    "    caches -- list of dictionnaries. each dictionnay contains the linear result and activation of each layer\n",
    "    \"\"\"\n",
    "\n",
    "    # caches and layers\n",
    "    caches = []\n",
    "    L = len(parameters)//2\n",
    "    \n",
    "    # Input X\n",
    "    A_prev = X\n",
    "\n",
    "    for i in range(L):\n",
    "\n",
    "        # getting the parameters of the i-th layers\n",
    "        W = parameters[f\"W{i+1}\"]\n",
    "        b = parameters[f\"b{i+1}\"]\n",
    "\n",
    "        # linear and activation result\n",
    "        Z = np.dot(W,A_prev) + b\n",
    "\n",
    "        # activation\n",
    "        if i == L - 1 :\n",
    "            A = activation_function(Z,\"sigmoid\")\n",
    "        else:\n",
    "            A = activation_function(Z,\"relu\")\n",
    "\n",
    "        # append cache\n",
    "        cache = {\"W\":W,\"b\":b,\"Z\":Z,\"A\":A,\"A_prev\":A_prev}\n",
    "        caches.append(cache)\n",
    "\n",
    "        # change A_prev\n",
    "        A_prev = A\n",
    "\n",
    "    return A, caches"
   ]
  },
  {
   "cell_type": "code",
   "execution_count": 246,
   "metadata": {},
   "outputs": [
    {
     "name": "stdout",
     "output_type": "stream",
     "text": [
      "(5, 2)\n",
      "(5, 5)\n",
      "(3, 5)\n",
      "(1, 3)\n"
     ]
    }
   ],
   "source": [
    "# test\n",
    "layers_dim = [5,5,3]\n",
    "X = np.random.randn(2,100)\n",
    "params = initialize_parameters(layers_dim,X.shape[0],1)\n",
    "\n",
    "AL,caches = Forward_propagation(X,params)\n",
    "\n",
    "for val in caches:\n",
    "    print(val[\"W\"].shape)"
   ]
  },
  {
   "cell_type": "markdown",
   "metadata": {},
   "source": [
    "### 1.1.3 Cost function  <a class=\"anchor\" id=\"section_1_1_3\"></a>"
   ]
  },
  {
   "cell_type": "code",
   "execution_count": 247,
   "metadata": {},
   "outputs": [],
   "source": [
    "def cost_function(AL,y):\n",
    "\n",
    "    \"\"\"\n",
    "    Compute the cost after the forward propagation\n",
    "\n",
    "    Arguments:\n",
    "    AL -- L-activation \n",
    "    y -- true labels of the dataset dim = (n_y,m) | m examples, n_y nodes of the output layer\n",
    "\n",
    "    Returns:\n",
    "    cost -- cost value\n",
    "    \"\"\"\n",
    "    # m  examples\n",
    "    m = y.shape[1]\n",
    "\n",
    "    # cost\n",
    "    cost = -(1/m) *(np.dot(y,np.log(AL).T) + np.dot((1-y),np.log(1-AL).T))\n",
    "    cost = np.squeeze(cost)\n",
    "\n",
    "    return cost\n"
   ]
  },
  {
   "cell_type": "code",
   "execution_count": 248,
   "metadata": {},
   "outputs": [
    {
     "name": "stdout",
     "output_type": "stream",
     "text": [
      "1.0045892596933899\n",
      "1.0045892596933899\n"
     ]
    }
   ],
   "source": [
    "# Test the cost\n",
    "y_true = np.random.randint(0,2,(1,100))\n",
    "y_pred = np.random.random((1,100))\n",
    "\n",
    "# check with the true log_loss\n",
    "cost = cost_function(y_pred,y_true)\n",
    "l_cost = log_loss(y_true.T,y_pred.T)\n",
    "print(cost)\n",
    "print(l_cost)"
   ]
  },
  {
   "cell_type": "markdown",
   "metadata": {},
   "source": [
    "### 1.1.4 Backward Propagation  <a class=\"anchor\" id=\"section_1_1_4\"></a>"
   ]
  },
  {
   "cell_type": "code",
   "execution_count": 249,
   "metadata": {},
   "outputs": [],
   "source": [
    "def backward_activation_function(dA,Z, function_name):\n",
    "\n",
    "    if function_name.lower() == \"sigmoid\":\n",
    "\n",
    "        Z = Z\n",
    "        s = 1/(1+np.exp(-Z))\n",
    "        \n",
    "        dZ = dA * s * (1-s)\n",
    "\n",
    "    elif function_name.lower() == \"relu\":\n",
    "\n",
    "        Z = Z\n",
    "        dZ = np.array(dA, copy=True) # just converting dz to a correct object.\n",
    "       \n",
    "        # When z <= 0, you should set dz to 0 as well. \n",
    "        dZ[Z <= 0] = 0\n",
    "\n",
    "    elif function_name.lower() == \"tanh\":\n",
    "        Z = Z\n",
    "        s = np.tanh(Z)\n",
    "\n",
    "        dZ = dA * (1-np.power(s,2))\n",
    "    \n",
    "    else:\n",
    "        #default: relu\n",
    "        Z = Z\n",
    "        dZ = np.array(dA, copy=True) # just converting dz to a correct object.\n",
    "    \n",
    "        # When z <= 0, you should set dz to 0 as well. \n",
    "        dZ[Z <= 0] = 0\n",
    "\n",
    "    \n",
    "    return dZ\n",
    "\n"
   ]
  },
  {
   "cell_type": "code",
   "execution_count": 250,
   "metadata": {},
   "outputs": [],
   "source": [
    "def backward_propagation(AL,y,caches):\n",
    "    \n",
    "    # gradients\n",
    "    gradients = {}\n",
    "\n",
    "    # L layers\n",
    "    L = len(caches)\n",
    "\n",
    "    # m examples\n",
    "    m = y.shape[1]\n",
    "\n",
    "    # dAL \n",
    "    dAL = - (np.divide(y, AL) - np.divide(1 - y, 1 - AL))\n",
    "    \n",
    "    # getting caches variables\n",
    "    current_cache = caches[-1]\n",
    "    WL = current_cache[\"W\"]\n",
    "    ZL = current_cache[\"Z\"]\n",
    "    A_prev = current_cache[\"A_prev\"]\n",
    "    \n",
    "    dZ = backward_activation_function(dAL,ZL,\"sigmoid\")\n",
    "    \n",
    "    dW_temp = (1/m) * np.dot(dZ,A_prev.T)\n",
    "    db_temp = (1/m) * np.sum(dZ,axis=1, keepdims=True)\n",
    "    dA_prev_temp = np.dot(WL.T,dZ)\n",
    "    \n",
    "    # compute the gradient\n",
    "    gradients[\"dW\" + str(L)] = dW_temp\n",
    "    gradients[\"db\" + str(L)] = db_temp\n",
    "    \n",
    "\n",
    "    for i in reversed(range(L-1)):\n",
    "        # getting caches variables\n",
    "        current_cache = caches[i]\n",
    "       \n",
    "        W = current_cache[\"W\"]\n",
    "        Z = current_cache[\"Z\"]\n",
    "        A_prev = current_cache[\"A_prev\"]\n",
    "\n",
    "        dZ = backward_activation_function(dA_prev_temp,Z,\"relu\")\n",
    "       \n",
    "        dW_temp = (1/m) * np.dot(dZ,A_prev.T)\n",
    "        db_temp = (1/m) * np.sum(dZ,axis=1, keepdims=True)\n",
    "        dA_prev_temp = np.dot(W.T,dZ)\n",
    "        \n",
    "        # compute the gradient\n",
    "        gradients[\"dW\" + str(i+1)] = dW_temp\n",
    "        gradients[\"db\" + str(i+1)] = db_temp\n",
    "\n",
    "\n",
    "    return gradients"
   ]
  },
  {
   "cell_type": "code",
   "execution_count": 251,
   "metadata": {},
   "outputs": [
    {
     "name": "stdout",
     "output_type": "stream",
     "text": [
      "dW1 (5, 10)\n",
      "dW2 (5, 5)\n",
      "dW3 (4, 5)\n",
      "dW4 (1, 4)\n"
     ]
    }
   ],
   "source": [
    "# test\n",
    "\n",
    "layers_dim = [5,5,4]\n",
    "X = np.random.randn(10,100)\n",
    "y_true = np.random.randint(0,2,(1,100))\n",
    "params = initialize_parameters(layers_dim,X.shape[0],1)\n",
    "\n",
    "AL,caches = Forward_propagation(X,params)\n",
    "    \n",
    "gradients = backward_propagation(AL,y_true,caches)\n",
    "\n",
    "for i in range(len(caches)):\n",
    "    print(f\"dW{i+1}\",gradients[f\"dW{i+1}\"].shape)"
   ]
  },
  {
   "cell_type": "markdown",
   "metadata": {},
   "source": [
    "### 1.1.5 Update parameters  <a class=\"anchor\" id=\"section_1_1_5\"></a>"
   ]
  },
  {
   "cell_type": "code",
   "execution_count": 260,
   "metadata": {},
   "outputs": [],
   "source": [
    "def update_parameters(parameters,gradients,learning_rate):\n",
    "\n",
    "    params = parameters.copy()\n",
    "    L = len(parameters)//2\n",
    "\n",
    "\n",
    "    for i in range(L):\n",
    "\n",
    "        params[f\"W{i+1}\"] = params[f\"W{i+1}\"] - learning_rate * gradients[f\"dW{i+1}\"]\n",
    "        params[f\"b{i+1}\"] = params[f\"b{i+1}\"] - learning_rate * gradients[f\"db{i+1}\"]\n",
    "\n",
    "    return params"
   ]
  },
  {
   "cell_type": "markdown",
   "metadata": {},
   "source": [
    "### 1.1.6 Predict <a class=\"anchor\" id=\"section_1_1_6\"></a>"
   ]
  },
  {
   "cell_type": "code",
   "execution_count": 253,
   "metadata": {},
   "outputs": [],
   "source": [
    "def predict(X,y,parameters):\n",
    "\n",
    "    y_pred,caches = Forward_propagation(X,parameters)\n",
    "\n",
    "    y_pred[y_pred>=0.5] = 1\n",
    "    y_pred[y_pred<0.5] = 0\n",
    "\n",
    "    return y_pred"
   ]
  },
  {
   "cell_type": "markdown",
   "metadata": {},
   "source": [
    "## 1.2 L-layer Model <a class=\"anchor\" id=\"section_1_2\"></a>"
   ]
  },
  {
   "cell_type": "code",
   "execution_count": 275,
   "metadata": {},
   "outputs": [],
   "source": [
    "def L_nn_model(X,y,n_iter,hidden_layers_dim,learning_rate, display = False):\n",
    "\n",
    "    n_x = X.shape[0]\n",
    "    n_y = y.shape[0]\n",
    "\n",
    "    # tracking\n",
    "    costs = [] \n",
    "    acc = []\n",
    "\n",
    "    # initialize parameters\n",
    "    parameters = initialize_parameters(hidden_layers_dim, n_x, n_y)\n",
    "\n",
    "    for iteration in range(n_iter):\n",
    "\n",
    "        # ---- forward  propagation -----------\n",
    "        AL,caches = Forward_propagation(X,parameters)\n",
    "\n",
    "        # --------- cost -----------------\n",
    "        cost_train = cost_function(AL,y)\n",
    "        costs.append(cost_train)\n",
    "       \n",
    "        y_pred = predict(X,y,parameters)\n",
    "        acc_train = accuracy_score(y.T,y_pred.T)\n",
    "        acc.append(acc_train)\n",
    "\n",
    "        # ---- backward propagation --------------\n",
    "        gradients = backward_propagation(AL,y,caches)\n",
    "\n",
    "        # ---- update parameters ----------\n",
    "        parameters = update_parameters(parameters, gradients, learning_rate)\n",
    "\n",
    "\n",
    "        if display is True and iteration%250 == 0:\n",
    "            print(f\"iter {iteration} : Train_Loss = {cost_train}, Train_acc = {acc_train}\")\n",
    "\n",
    "\n",
    "    dict_model = {\"parameters\": parameters,\"cost\":costs,\"accuracy\":acc}\n",
    "\n",
    "    return dict_model\n",
    "    "
   ]
  },
  {
   "cell_type": "markdown",
   "metadata": {},
   "source": [
    "# 2. Load the Dataset <a class=\"anchor\" id=\"chapter2\"></a>"
   ]
  },
  {
   "cell_type": "markdown",
   "metadata": {},
   "source": [
    "## 2.1 Load the data <a class=\"anchor\" id=\"section_2_1\"></a>"
   ]
  },
  {
   "cell_type": "code",
   "execution_count": 229,
   "metadata": {},
   "outputs": [],
   "source": [
    "# Load the dataset\n",
    "import h5py\n",
    "dataset_file = \"datasets/01 - cat/\"\n",
    "\n",
    "def load_dataset():\n",
    "\n",
    "    # Training set\n",
    "    train_dataset = h5py.File(dataset_file + \"train_catvnoncat.h5\",\"r\")\n",
    "    X_train = np.array(train_dataset[\"train_set_x\"][:])\n",
    "    y_train = np.array(train_dataset[\"train_set_y\"][:])\n",
    "\n",
    "    # Test set\n",
    "    test_dataset = h5py.File(dataset_file + \"test_catvnoncat.h5\",\"r\")\n",
    "    X_test = np.array(test_dataset[\"test_set_x\"][:])\n",
    "    y_test = np.array(test_dataset[\"test_set_y\"][:])\n",
    "\n",
    "    # classes\n",
    "    classes = np.array(test_dataset[\"list_classes\"][:])\n",
    "\n",
    "    return X_train, y_train, X_test, y_test, classes"
   ]
  },
  {
   "cell_type": "code",
   "execution_count": 231,
   "metadata": {},
   "outputs": [],
   "source": [
    "# split\n",
    "train_x,train_y, test_x, test_y,classes = load_dataset()"
   ]
  },
  {
   "cell_type": "code",
   "execution_count": 232,
   "metadata": {},
   "outputs": [
    {
     "name": "stdout",
     "output_type": "stream",
     "text": [
      "X_train shape: (209, 64, 64, 3)\n",
      "X_test shape: (50, 64, 64, 3)\n",
      "y_train shape: (209,)\n",
      "y_test shape: (50,)\n",
      "classes shape: (2,)\n"
     ]
    }
   ],
   "source": [
    "# Display Shape\n",
    "print(\"X_train shape:\", train_x.shape)\n",
    "print(\"X_test shape:\", test_x.shape)\n",
    "print(\"y_train shape:\", train_y.shape)\n",
    "print(\"y_test shape:\",test_y.shape)\n",
    "print(\"classes shape:\",classes.shape)"
   ]
  },
  {
   "cell_type": "code",
   "execution_count": 233,
   "metadata": {},
   "outputs": [
    {
     "name": "stdout",
     "output_type": "stream",
     "text": [
      "y_train shape: (1, 209)\n",
      "y_test shape: (1, 50)\n"
     ]
    }
   ],
   "source": [
    "# We need to reshape y_train and y_test\n",
    "\n",
    "train_y = train_y.reshape((1,train_y.shape[0]))\n",
    "test_y = test_y.reshape((1,test_y.shape[0]))\n",
    "\n",
    "print(\"y_train shape:\", train_y.shape)\n",
    "print(\"y_test shape:\",test_y.shape)"
   ]
  },
  {
   "cell_type": "markdown",
   "metadata": {},
   "source": [
    "## 2.2 Display <a class=\"anchor\" id=\"section_2_2\"></a>"
   ]
  },
  {
   "cell_type": "code",
   "execution_count": 235,
   "metadata": {},
   "outputs": [],
   "source": [
    "def display_data(X,y,n,classes = {0: \"cat\",1:\"dog\"}):\n",
    "    \"\"\"\n",
    "    Display n random image in the dataset X,y\n",
    "\n",
    "    ----\n",
    "    Inputs:\n",
    "    - X : Matrix containing the features and the examples\n",
    "    - y : True label of the dataset X\n",
    "    - n : number of images plot\n",
    "    \"\"\"\n",
    "    # Random range\n",
    "    random_range = np.random.randint(0,X.shape[0],size=n)\n",
    "\n",
    "    fig, axs = plt.subplots(1, n, figsize=(20, 5))\n",
    "    \n",
    "    for i in range(n):\n",
    "        index = random_range[i]\n",
    "        index_classe = int(np.squeeze(y[index]))\n",
    "\n",
    "        ax = axs[i]\n",
    "        ax.imshow(X[index],cmap=\"gray\")\n",
    "        ax.set_title(f\"y={index_classe} | {classes[index_classe]}\".capitalize())"
   ]
  },
  {
   "cell_type": "code",
   "execution_count": 236,
   "metadata": {},
   "outputs": [
    {
     "data": {
      "image/png": "[encoded data removed]",
      "text/plain": [
       "<Figure size 1440x360 with 5 Axes>"
      ]
     },
     "metadata": {
      "needs_background": "light"
     },
     "output_type": "display_data"
    }
   ],
   "source": [
    "display_data(train_x,train_y.T,5,classes = {0: \"non-cat\",1:\"cat\"})"
   ]
  },
  {
   "cell_type": "markdown",
   "metadata": {},
   "source": [
    "## 2.3 Flatten <a class=\"anchor\" id=\"section_2_3\"></a>"
   ]
  },
  {
   "cell_type": "code",
   "execution_count": 237,
   "metadata": {},
   "outputs": [
    {
     "name": "stdout",
     "output_type": "stream",
     "text": [
      "X_train flatten shape: (12288, 209)\n",
      "X_test flatten shape: (12288, 50)\n"
     ]
    }
   ],
   "source": [
    "# Flatten\n",
    "\n",
    "train_x_flat = train_x.reshape(train_x.shape[0],-1).T\n",
    "test_x_flat = test_x.reshape(test_x.shape[0],-1).T\n",
    "\n",
    "\n",
    "print(\"X_train flatten shape:\",train_x_flat.shape)\n",
    "print(\"X_test flatten shape:\",test_x_flat.shape)"
   ]
  },
  {
   "cell_type": "markdown",
   "metadata": {},
   "source": [
    "## 2.4 Normalize <a class=\"anchor\" id=\"section_2_4\"></a>"
   ]
  },
  {
   "cell_type": "code",
   "execution_count": 279,
   "metadata": {},
   "outputs": [],
   "source": [
    "# Normalize\n",
    "\n",
    "train_x_flat_norm = train_x_flat/np.max(train_x_flat)\n",
    "\n",
    "# Warning: the data are normalized with the Training set\n",
    "test_x_flat_norm = test_x_flat/np.max(train_x_flat)"
   ]
  },
  {
   "cell_type": "markdown",
   "metadata": {},
   "source": [
    "# 3. Train the model  <a class=\"anchor\" id=\"chapter3\"></a>"
   ]
  },
  {
   "cell_type": "code",
   "execution_count": 276,
   "metadata": {},
   "outputs": [
    {
     "name": "stdout",
     "output_type": "stream",
     "text": [
      "iter 0 : Train_Loss = 0.6931477726957999, Train_acc = 0.3444976076555024 (1, 209) (1, 209)\n",
      "iter 250 : Train_Loss = 0.6636794901684017, Train_acc = 0.6555023923444976 (1, 209) (1, 209)\n",
      "iter 500 : Train_Loss = 0.6520134603618387, Train_acc = 0.6555023923444976 (1, 209) (1, 209)\n",
      "iter 750 : Train_Loss = 0.6473037941387403, Train_acc = 0.6555023923444976 (1, 209) (1, 209)\n",
      "iter 1000 : Train_Loss = 0.6453683565180596, Train_acc = 0.6555023923444976 (1, 209) (1, 209)\n"
     ]
    },
    {
     "ename": "KeyboardInterrupt",
     "evalue": "",
     "output_type": "error",
     "traceback": [
      "\u001b[1;31m---------------------------------------------------------------------------\u001b[0m",
      "\u001b[1;31mKeyboardInterrupt\u001b[0m                         Traceback (most recent call last)",
      "\u001b[1;32m<ipython-input-276-393bbfb20653>\u001b[0m in \u001b[0;36m<module>\u001b[1;34m\u001b[0m\n\u001b[0;32m      2\u001b[0m \u001b[0mhidden_layers_dim\u001b[0m \u001b[1;33m=\u001b[0m \u001b[1;33m[\u001b[0m\u001b[1;36m20\u001b[0m\u001b[1;33m,\u001b[0m\u001b[1;36m7\u001b[0m\u001b[1;33m,\u001b[0m\u001b[1;36m5\u001b[0m\u001b[1;33m]\u001b[0m\u001b[1;33m\u001b[0m\u001b[1;33m\u001b[0m\u001b[0m\n\u001b[0;32m      3\u001b[0m \u001b[0mlearning_rate\u001b[0m \u001b[1;33m=\u001b[0m \u001b[1;36m0.0075\u001b[0m\u001b[1;33m\u001b[0m\u001b[1;33m\u001b[0m\u001b[0m\n\u001b[1;32m----> 4\u001b[1;33m \u001b[0mdict_model\u001b[0m \u001b[1;33m=\u001b[0m \u001b[0mL_nn_model\u001b[0m\u001b[1;33m(\u001b[0m\u001b[0mtrain_x_flat_norm\u001b[0m\u001b[1;33m,\u001b[0m\u001b[0mtrain_y\u001b[0m\u001b[1;33m,\u001b[0m\u001b[0mn_iter\u001b[0m\u001b[1;33m,\u001b[0m\u001b[0mhidden_layers_dim\u001b[0m\u001b[1;33m,\u001b[0m\u001b[0mlearning_rate\u001b[0m\u001b[1;33m,\u001b[0m\u001b[0mdisplay\u001b[0m\u001b[1;33m=\u001b[0m\u001b[1;32mTrue\u001b[0m\u001b[1;33m)\u001b[0m\u001b[1;33m\u001b[0m\u001b[1;33m\u001b[0m\u001b[0m\n\u001b[0m",
      "\u001b[1;32m<ipython-input-275-158231f75492>\u001b[0m in \u001b[0;36mL_nn_model\u001b[1;34m(X, y, n_iter, hidden_layers_dim, learning_rate, display)\u001b[0m\n\u001b[0;32m     25\u001b[0m \u001b[1;33m\u001b[0m\u001b[0m\n\u001b[0;32m     26\u001b[0m         \u001b[1;31m# ---- backward propagation --------------\u001b[0m\u001b[1;33m\u001b[0m\u001b[1;33m\u001b[0m\u001b[1;33m\u001b[0m\u001b[0m\n\u001b[1;32m---> 27\u001b[1;33m         \u001b[0mgradients\u001b[0m \u001b[1;33m=\u001b[0m \u001b[0mbackward_propagation\u001b[0m\u001b[1;33m(\u001b[0m\u001b[0mAL\u001b[0m\u001b[1;33m,\u001b[0m\u001b[0my\u001b[0m\u001b[1;33m,\u001b[0m\u001b[0mcaches\u001b[0m\u001b[1;33m)\u001b[0m\u001b[1;33m\u001b[0m\u001b[1;33m\u001b[0m\u001b[0m\n\u001b[0m\u001b[0;32m     28\u001b[0m \u001b[1;33m\u001b[0m\u001b[0m\n\u001b[0;32m     29\u001b[0m         \u001b[1;31m# ---- update parameters ----------\u001b[0m\u001b[1;33m\u001b[0m\u001b[1;33m\u001b[0m\u001b[1;33m\u001b[0m\u001b[0m\n",
      "\u001b[1;32m<ipython-input-250-22c30e4deb38>\u001b[0m in \u001b[0;36mbackward_propagation\u001b[1;34m(AL, y, caches)\u001b[0m\n\u001b[0;32m     40\u001b[0m         \u001b[0mdZ\u001b[0m \u001b[1;33m=\u001b[0m \u001b[0mbackward_activation_function\u001b[0m\u001b[1;33m(\u001b[0m\u001b[0mdA_prev_temp\u001b[0m\u001b[1;33m,\u001b[0m\u001b[0mZ\u001b[0m\u001b[1;33m,\u001b[0m\u001b[1;34m\"relu\"\u001b[0m\u001b[1;33m)\u001b[0m\u001b[1;33m\u001b[0m\u001b[1;33m\u001b[0m\u001b[0m\n\u001b[0;32m     41\u001b[0m \u001b[1;33m\u001b[0m\u001b[0m\n\u001b[1;32m---> 42\u001b[1;33m         \u001b[0mdW_temp\u001b[0m \u001b[1;33m=\u001b[0m \u001b[1;33m(\u001b[0m\u001b[1;36m1\u001b[0m\u001b[1;33m/\u001b[0m\u001b[0mm\u001b[0m\u001b[1;33m)\u001b[0m \u001b[1;33m*\u001b[0m \u001b[0mnp\u001b[0m\u001b[1;33m.\u001b[0m\u001b[0mdot\u001b[0m\u001b[1;33m(\u001b[0m\u001b[0mdZ\u001b[0m\u001b[1;33m,\u001b[0m\u001b[0mA_prev\u001b[0m\u001b[1;33m.\u001b[0m\u001b[0mT\u001b[0m\u001b[1;33m)\u001b[0m\u001b[1;33m\u001b[0m\u001b[1;33m\u001b[0m\u001b[0m\n\u001b[0m\u001b[0;32m     43\u001b[0m         \u001b[0mdb_temp\u001b[0m \u001b[1;33m=\u001b[0m \u001b[1;33m(\u001b[0m\u001b[1;36m1\u001b[0m\u001b[1;33m/\u001b[0m\u001b[0mm\u001b[0m\u001b[1;33m)\u001b[0m \u001b[1;33m*\u001b[0m \u001b[0mnp\u001b[0m\u001b[1;33m.\u001b[0m\u001b[0msum\u001b[0m\u001b[1;33m(\u001b[0m\u001b[0mdZ\u001b[0m\u001b[1;33m,\u001b[0m\u001b[0maxis\u001b[0m\u001b[1;33m=\u001b[0m\u001b[1;36m1\u001b[0m\u001b[1;33m,\u001b[0m \u001b[0mkeepdims\u001b[0m\u001b[1;33m=\u001b[0m\u001b[1;32mTrue\u001b[0m\u001b[1;33m)\u001b[0m\u001b[1;33m\u001b[0m\u001b[1;33m\u001b[0m\u001b[0m\n\u001b[0;32m     44\u001b[0m         \u001b[0mdA_prev_temp\u001b[0m \u001b[1;33m=\u001b[0m \u001b[0mnp\u001b[0m\u001b[1;33m.\u001b[0m\u001b[0mdot\u001b[0m\u001b[1;33m(\u001b[0m\u001b[0mW\u001b[0m\u001b[1;33m.\u001b[0m\u001b[0mT\u001b[0m\u001b[1;33m,\u001b[0m\u001b[0mdZ\u001b[0m\u001b[1;33m)\u001b[0m\u001b[1;33m\u001b[0m\u001b[1;33m\u001b[0m\u001b[0m\n",
      "\u001b[1;32m<__array_function__ internals>\u001b[0m in \u001b[0;36mdot\u001b[1;34m(*args, **kwargs)\u001b[0m\n",
      "\u001b[1;31mKeyboardInterrupt\u001b[0m: "
     ]
    }
   ],
   "source": [
    "n_iter= 2500\n",
    "hidden_layers_dim = [20,7,5]\n",
    "learning_rate = 0.0075\n",
    "dict_model = L_nn_model(train_x_flat_norm,train_y,n_iter,hidden_layers_dim,learning_rate,display=True)"
   ]
  },
  {
   "cell_type": "code",
   "execution_count": 274,
   "metadata": {},
   "outputs": [
    {
     "data": {
      "image/png": "[encoded data removed]",
      "text/plain": [
       "<Figure size 720x216 with 2 Axes>"
      ]
     },
     "metadata": {
      "needs_background": "light"
     },
     "output_type": "display_data"
    }
   ],
   "source": [
    "# Display the result\n",
    "\n",
    "fig, axs = plt.subplots(1, 2, figsize=(10, 3))\n",
    "\n",
    "axs[0].plot(dict_model[\"cost\"])\n",
    "axs[0].set_title(\"Training Loss\")\n",
    "axs[0].set_xlabel(\"n_iteration\")\n",
    "\n",
    "axs[1].plot(dict_model[\"accuracy\"])\n",
    "axs[1].set_title(\"Training Accuracy\")\n",
    "axs[1].set_xlabel(\"n_iteration\")\n",
    "plt.show()"
   ]
  },
  {
   "cell_type": "code",
   "execution_count": null,
   "metadata": {},
   "outputs": [],
   "source": []
  }
 ],
 "metadata": {
  "interpreter": {
   "hash": "6d46af94c2bbce495f1e668725902fa517c90b1782bcfe2fce0dd9868df553d3"
  },
  "kernelspec": {
   "display_name": "Python 3.8.8 64-bit ('base': conda)",
   "language": "python",
   "name": "python3"
  },
  "language_info": {
   "codemirror_mode": {
    "name": "ipython",
    "version": 3
   },
   "file_extension": ".py",
   "mimetype": "text/x-python",
   "name": "python",
   "nbconvert_exporter": "python",
   "pygments_lexer": "ipython3",
   "version": "3.8.8"
  },
  "orig_nbformat": 4
 },
 "nbformat": 4,
 "nbformat_minor": 2
}
