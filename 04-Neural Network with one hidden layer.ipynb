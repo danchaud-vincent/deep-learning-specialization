{
 "cells": [
  {
   "cell_type": "markdown",
   "metadata": {},
   "source": [
    "# Neural Network with one hidden layer"
   ]
  },
  {
   "cell_type": "markdown",
   "metadata": {},
   "source": [
    "<center><img src=\"images/04-Neural Network with one hidden layer/one-hidden-layer.png\" width = \"400px\"></center>"
   ]
  },
  {
   "cell_type": "markdown",
   "metadata": {},
   "source": [
    "### Table of Contents\n",
    "\n",
    "* [Recap](#chapter0)\n",
    "* [1. Load the Dataset - Cat vs Dog](#chapter1)\n",
    "    * [1.1 Load the Dataset](#section_1_1)\n",
    "    * [1.2 Display the Data](#section_1_2)\n",
    "    * [1.3 Flatten the data](#section_1_3)\n",
    "    * [1.4 Normalize the data](#section_1_4)\n",
    "* [2. Neural Network Model](#chapter2)\n",
    "    * [2.1 Functions of our Neural Network ](#section_2_1)\n",
    "        * [2.1.1 Layer Sizes](#section_2_1_1)\n",
    "        * [2.1.2 Initialize Parameters](#section_2_1_2)\n",
    "        * [2.1.3 Forward Propagation](#section_2_1_3)\n",
    "        * [2.1.4 Cost function](#section_2_1_4)\n",
    "        * [2.1.5 Backward Propagation](#section_2_1_5)\n",
    "        * [2.1.6 Update parameters](#section_2_1_6)\n",
    "    * [2.2 Model](#section_2_2)\n",
    "* [3. ](#chapter3)\n"
   ]
  },
  {
   "cell_type": "markdown",
   "metadata": {},
   "source": [
    "# Recap  <a class=\"anchor\" id=\"chapter0\"></a>"
   ]
  },
  {
   "cell_type": "markdown",
   "metadata": {},
   "source": [
    "> Input layer :"
   ]
  },
  {
   "cell_type": "markdown",
   "metadata": {},
   "source": [
    "$$ n_X = features \\ | \\ m = examples$$ \n",
    "$$X = \\begin{bmatrix}  X^{(1)} &  X^{(2)} & .. & .. &  X^{(m)} \\end{bmatrix}  \\in  \\mathbb{R^{n_X \\times m}}$$  \n",
    "$$ X^{(i)} \\ \\ i_{th} \\ \\ example $$"
   ]
  },
  {
   "cell_type": "markdown",
   "metadata": {},
   "source": [
    "> Parameters :"
   ]
  },
  {
   "cell_type": "markdown",
   "metadata": {},
   "source": [
    "$$ W^{[1]} \\in (n_{[1]} \\times n_X) $$ \n",
    "$$ b^{[1]} \\in (n_{[1]} \\times 1) $$ \n",
    "$$ W^{[2]} \\in (n_{[2]} \\times n_{[1]}) $$ \n",
    "$$ b^{[2]} \\in (n_{[2]} \\times 1) $$ \n",
    "\n",
    "In our case n[2] = 1 :\n",
    "\n",
    "- One output unit"
   ]
  },
  {
   "cell_type": "markdown",
   "metadata": {},
   "source": [
    "> Forward Propagation :"
   ]
  },
  {
   "cell_type": "markdown",
   "metadata": {},
   "source": [
    "$$\n",
    "\\begin{cases}\n",
    "    Z^{[1]} = W^{[1]} X + b^{[1]} \\\\\n",
    "    A^{[1]} = g^{[1]}(Z^{[1]})  \\\\\n",
    "    Z^{[2]} = W^{[2]} A^{[1]} + b^{[2]} \\\\\n",
    "    A^{[2]} = g^{[2]}(Z^{[2]})\n",
    "\\end{cases}\n",
    "$$\n",
    "\n",
    "- g is the activation function"
   ]
  },
  {
   "cell_type": "markdown",
   "metadata": {},
   "source": [
    "> Backward Propagation :"
   ]
  },
  {
   "cell_type": "markdown",
   "metadata": {},
   "source": [
    "- W[i] and dW[i] have the same dimension\n",
    "- b[i] and db[i] have the same dimension\n",
    "- Z[i] and dZ[i] have the same dimension"
   ]
  },
  {
   "cell_type": "markdown",
   "metadata": {},
   "source": [
    "$$\n",
    "\\begin{cases}\n",
    "    dZ^{[2]} =  (A^{[2]} - Y) \\\\\n",
    "    dW^{[2]} = \\frac{1}{m} (A^{[2]} - Y)A^{[1]T} \\\\\n",
    "    db^{[2]} = \\frac{1}{m} \\sum (A^{[2]} - Y)    \\\\\n",
    "    dZ^{[1]} = W^{[2]T}dZ^{[2]} * g^{[1]'}(Z^{[1]}) \\\\\n",
    "    dW^{[1]} = \\frac{1}{m} dZ^{[1]} X^T\\\\\n",
    "    db^{[1]} = \\frac{1}{m} \\sum  dZ^{[1]}\n",
    "\\end{cases}\n",
    "$$"
   ]
  },
  {
   "cell_type": "markdown",
   "metadata": {},
   "source": [
    "In this jupyter Notebook we will:\n",
    "\n",
    "- Implement a 2-class classification neural network with a single hidden layer\n",
    "- Use units with a non-linear activation function, such as tanh\n",
    "- Compute the cross entropy loss\n",
    "- Implement forward and backward propagation\n"
   ]
  },
  {
   "cell_type": "code",
   "execution_count": 1,
   "metadata": {},
   "outputs": [],
   "source": [
    "# Packages\n",
    "import copy\n",
    "import numpy as np\n",
    "import matplotlib.pyplot as plt\n",
    "import sklearn\n",
    "import sklearn.datasets\n",
    "import sklearn.linear_model\n",
    "from sklearn.metrics import accuracy_score\n",
    "from sklearn.metrics import log_loss\n",
    "\n",
    "%matplotlib inline"
   ]
  },
  {
   "cell_type": "markdown",
   "metadata": {},
   "source": [
    "# 1. Load the Dataset - Cat vs Dog <a class=\"anchor\" id=\"chapter1\"></a>"
   ]
  },
  {
   "cell_type": "markdown",
   "metadata": {},
   "source": [
    "## 1.1 Load the Dataset <a class=\"anchor\" id=\"section_1_1\"></a>"
   ]
  },
  {
   "cell_type": "code",
   "execution_count": 3,
   "metadata": {},
   "outputs": [],
   "source": [
    "# !pip install h5py"
   ]
  },
  {
   "cell_type": "code",
   "execution_count": 46,
   "metadata": {},
   "outputs": [],
   "source": [
    "# function load data\n",
    "import h5py\n",
    "\n",
    "def load_data():\n",
    "    train_dataset = h5py.File('datasets/02 - cat vs dog/trainset.hdf5', \"r\")\n",
    "    X_train = np.array(train_dataset[\"X_train\"][:]) # your train set features\n",
    "    y_train = np.array(train_dataset[\"Y_train\"][:]) # your train set labels\n",
    "\n",
    "    test_dataset = h5py.File('datasets/02 - cat vs dog/testset.hdf5', \"r\")\n",
    "    X_test = np.array(test_dataset[\"X_test\"][:]) # your train set features\n",
    "    y_test = np.array(test_dataset[\"Y_test\"][:]) # your train set labels\n",
    "    \n",
    "    return X_train, y_train, X_test, y_test"
   ]
  },
  {
   "cell_type": "code",
   "execution_count": 47,
   "metadata": {},
   "outputs": [],
   "source": [
    "# load data\n",
    "\n",
    "X_train, y_train, X_test, y_test = load_data()"
   ]
  },
  {
   "cell_type": "code",
   "execution_count": 48,
   "metadata": {},
   "outputs": [
    {
     "name": "stdout",
     "output_type": "stream",
     "text": [
      "X_train shape: (1000, 64, 64)\n",
      "X_test shape: (200, 64, 64)\n",
      "y_train shape: (1000, 1)\n",
      "y_test shape: (200, 1)\n"
     ]
    }
   ],
   "source": [
    "# Shape\n",
    "\n",
    "print(\"X_train shape:\", X_train.shape)\n",
    "print(\"X_test shape:\", X_test.shape)\n",
    "\n",
    "print(\"y_train shape:\", y_train.shape)\n",
    "print(\"y_test shape:\",y_test.shape)"
   ]
  },
  {
   "cell_type": "code",
   "execution_count": 49,
   "metadata": {},
   "outputs": [
    {
     "name": "stdout",
     "output_type": "stream",
     "text": [
      "y_train Distribution (array([0., 1.]), array([500, 500], dtype=int64))\n"
     ]
    }
   ],
   "source": [
    "# Data distribution\n",
    "\n",
    "print(\"y_train Distribution\",np.unique(y_train,return_counts=True))"
   ]
  },
  {
   "cell_type": "markdown",
   "metadata": {},
   "source": [
    "The data are equally distributed."
   ]
  },
  {
   "cell_type": "markdown",
   "metadata": {},
   "source": [
    "## 1.2 Display the data  <a class=\"anchor\" id=\"section_1_2\"></a>"
   ]
  },
  {
   "cell_type": "code",
   "execution_count": 50,
   "metadata": {},
   "outputs": [],
   "source": [
    "def display_data(X,y,n):\n",
    "    \"\"\"\n",
    "    Display n random image in the dataset X,y\n",
    "\n",
    "    ----\n",
    "    Inputs:\n",
    "    - X : Matrix containing the features and the examples\n",
    "    - y : True label of the dataset X\n",
    "    - n : number of images plot\n",
    "    \"\"\"\n",
    "    # Random range\n",
    "    random_range = np.random.randint(0,X.shape[0],size=n)\n",
    "\n",
    "    # Classes\n",
    "    classes = {0: \"cat\",1:\"dog\"}\n",
    "\n",
    "    fig, axs = plt.subplots(1, n, figsize=(10, 3))\n",
    "    \n",
    "    for i in range(n):\n",
    "        ax = axs[i]\n",
    "        ax.imshow(X[i],cmap=\"gray\")\n",
    "        ax.set_title(f\"y={y[i,0]} | {classes[y[i,0]]}\".capitalize())\n",
    "    \n",
    "       "
   ]
  },
  {
   "cell_type": "code",
   "execution_count": 51,
   "metadata": {},
   "outputs": [
    {
     "data": {
      "image/png": "[encoded data removed]",
      "text/plain": [
       "<Figure size 720x216 with 5 Axes>"
      ]
     },
     "metadata": {
      "needs_background": "light"
     },
     "output_type": "display_data"
    }
   ],
   "source": [
    "display_data(X_train,y_train,5)"
   ]
  },
  {
   "cell_type": "markdown",
   "metadata": {},
   "source": [
    "## 1.3 Flatten the data <a class=\"anchor\" id=\"section_1_3\"></a>"
   ]
  },
  {
   "cell_type": "markdown",
   "metadata": {},
   "source": [
    "$$ X \\in (n_X \\times m)$$\n",
    "\n",
    "- n_x features\n",
    "- m examples"
   ]
  },
  {
   "cell_type": "code",
   "execution_count": 52,
   "metadata": {},
   "outputs": [
    {
     "name": "stdout",
     "output_type": "stream",
     "text": [
      "X_train flatten: (4096, 1000)\n",
      "X_test flatten: (4096, 200)\n"
     ]
    }
   ],
   "source": [
    "# Flatten\n",
    "\n",
    "X_train_flatten = X_train.reshape(X_train.shape[0],-1).T\n",
    "X_test_flatten =  X_test.reshape(X_test.shape[0],-1).T\n",
    "\n",
    "print(\"X_train flatten:\", X_train_flatten.shape)\n",
    "print(\"X_test flatten:\", X_test_flatten.shape)"
   ]
  },
  {
   "cell_type": "markdown",
   "metadata": {},
   "source": [
    "## 1.4 Normalize the data <a class=\"anchor\" id=\"section_1_4\"></a>"
   ]
  },
  {
   "cell_type": "code",
   "execution_count": 53,
   "metadata": {},
   "outputs": [],
   "source": [
    "X_train_flatten_norm = X_train_flatten/np.max(X_train_flatten)\n",
    "\n",
    "# Warning: the data are normalized with the Training set\n",
    "X_test_flatten_norm = X_test_flatten/np.max(X_train_flatten)"
   ]
  },
  {
   "cell_type": "code",
   "execution_count": 55,
   "metadata": {},
   "outputs": [],
   "source": [
    "# Transpose y_train and y_test for our neural network \n",
    "\n",
    "y_train = y_train.T\n",
    "y_test = y_test.T"
   ]
  },
  {
   "cell_type": "markdown",
   "metadata": {},
   "source": [
    "# 2. Neural Network Model <a class=\"anchor\" id=\"chapter2\"></a>"
   ]
  },
  {
   "cell_type": "markdown",
   "metadata": {},
   "source": [
    "## 2.1 Functions of our Neural Network <a class=\"anchor\" id=\"section_2_1\"></a>"
   ]
  },
  {
   "cell_type": "markdown",
   "metadata": {},
   "source": [
    "### 2.1.1 Layer Sizes <a class=\"anchor\" id=\"section_2_1_1\"></a>"
   ]
  },
  {
   "cell_type": "code",
   "execution_count": 56,
   "metadata": {},
   "outputs": [],
   "source": [
    "def layer_sizes(X,y,number_hidden_units):\n",
    "\n",
    "    \"\"\"\n",
    "    Arguments:\n",
    "    X -- input dataset of shape (input size, number of examples)\n",
    "    Y -- labels of shape (output size, number of examples)\n",
    "    \n",
    "    Returns:\n",
    "    n_x -- the size of the input layer\n",
    "    n_h -- the size of the hidden layer\n",
    "    n_y -- the size of the output layer\n",
    "    \"\"\"\n",
    "\n",
    "    n_x = X.shape[0]\n",
    "    n_y = y.shape[0]\n",
    "    n_h = number_hidden_units\n",
    "\n",
    "    return n_x, n_y, n_h"
   ]
  },
  {
   "cell_type": "code",
   "execution_count": 57,
   "metadata": {},
   "outputs": [
    {
     "data": {
      "text/plain": [
       "(4096, 1, 5)"
      ]
     },
     "execution_count": 57,
     "metadata": {},
     "output_type": "execute_result"
    }
   ],
   "source": [
    "# Test \n",
    "\n",
    "layer_sizes(X_train_flatten_norm, y_train, number_hidden_units=5)"
   ]
  },
  {
   "cell_type": "markdown",
   "metadata": {},
   "source": [
    "### 2.1.2 Initialize Parameters <a class=\"anchor\" id=\"section_2_1_2\"></a>"
   ]
  },
  {
   "cell_type": "code",
   "execution_count": 58,
   "metadata": {},
   "outputs": [],
   "source": [
    "def initialize_parameters(n_x, n_y, n_h):\n",
    "    \"\"\"\n",
    "    Argument:\n",
    "    n_x -- size of the input layer\n",
    "    n_h -- size of the hidden layer\n",
    "    n_y -- size of the output layer\n",
    "    \n",
    "    Returns:\n",
    "    params -- python dictionary containing your parameters:\n",
    "                    W1 -- weight matrix of shape (n_h, n_x)\n",
    "                    b1 -- bias vector of shape (n_h, 1)\n",
    "                    W2 -- weight matrix of shape (n_y, n_h)\n",
    "                    b2 -- bias vector of shape (n_y, 1)\n",
    "    \"\"\"    \n",
    "\n",
    "    # Initialize W1 and b1 \n",
    "    W1 = np.random.randn(n_h,n_x) *0.01\n",
    "    b1 = np.zeros((n_h,1))\n",
    "\n",
    "    # Initializa W2 and b2\n",
    "    W2 = np.random.randn(n_y,n_h) *0.01\n",
    "    b2 = np.zeros((n_y,1))\n",
    "\n",
    "    params = {\"W1\": W1,\"W2\": W2, \"b1\": b1, \"b2\": b2}\n",
    "    return params"
   ]
  },
  {
   "cell_type": "code",
   "execution_count": 59,
   "metadata": {},
   "outputs": [
    {
     "name": "stdout",
     "output_type": "stream",
     "text": [
      "W1 shape: (5, 400)\n",
      "W2 shape: (1, 5)\n",
      "b1 shape: (5, 1)\n",
      "b2 shape: (1, 1)\n"
     ]
    }
   ],
   "source": [
    "# test initialize parameters\n",
    "n_x,n_y,n_h = 400, 1, 5\n",
    "param_test = initialize_parameters(n_x, n_y, n_h)\n",
    "\n",
    "print(\"W1 shape:\", param_test[\"W1\"].shape)\n",
    "print(\"W2 shape:\", param_test[\"W2\"].shape)\n",
    "print(\"b1 shape:\", param_test[\"b1\"].shape)\n",
    "print(\"b2 shape:\", param_test[\"b2\"].shape)"
   ]
  },
  {
   "cell_type": "markdown",
   "metadata": {},
   "source": [
    "### 2.1.3 Forward Propagation <a class=\"anchor\" id=\"section_2_1_3\"></a>"
   ]
  },
  {
   "cell_type": "code",
   "execution_count": 60,
   "metadata": {},
   "outputs": [],
   "source": [
    "def activation_function(Z,function_name):\n",
    "\n",
    "    if function_name == \"tanh\":\n",
    "        A=np.tanh(Z)\n",
    "    elif function_name == \"sigmoid\":\n",
    "        A = 1/(1+np.exp(-Z))\n",
    "\n",
    "    return A"
   ]
  },
  {
   "cell_type": "code",
   "execution_count": 61,
   "metadata": {},
   "outputs": [],
   "source": [
    "def forward_propagation(X,parameters):\n",
    "    \"\"\"\n",
    "    Argument:\n",
    "    X -- input data of size (n_x, m)\n",
    "    parameters -- python dictionary containing your parameters (output of initialization function)\n",
    "   \n",
    "    \n",
    "    Returns:\n",
    "    forward_prog -- python dictionary containing the activations\n",
    "    \n",
    "    \"\"\"\n",
    "    # Getting weights and bias\n",
    "    W1 = parameters[\"W1\"]\n",
    "    b1 = parameters[\"b1\"]\n",
    "    W2 = parameters[\"W2\"]\n",
    "    b2 = parameters[\"b2\"]\n",
    "\n",
    "    # Activation using tanh as activation function\n",
    "    \n",
    "    # Layer 1 : activation function -> tanh\n",
    "    Z1 = np.dot(W1,X) + b1\n",
    "    A1 = activation_function(Z1,\"tanh\")\n",
    "\n",
    "    # Layer 2 activation function -> sigmoid\n",
    "    Z2 = np.dot(W2,A1) + b2\n",
    "    A2 = activation_function(Z2,\"sigmoid\")\n",
    "\n",
    "    # forward results\n",
    "    cache = {\"Z1\":Z1, \"A1\":A1, \"Z2\":Z2,\"A2\": A2}\n",
    "\n",
    "    return cache"
   ]
  },
  {
   "cell_type": "code",
   "execution_count": 62,
   "metadata": {},
   "outputs": [
    {
     "name": "stdout",
     "output_type": "stream",
     "text": [
      "(5, 1000)\n",
      "(1, 1000)\n"
     ]
    }
   ],
   "source": [
    "#-----------------------------\n",
    "# TEST forward propagation\n",
    "\n",
    "# initialize layers and examples\n",
    "n_x,n_y,n_h = 400, 1, 5\n",
    "m = 1000\n",
    "X = np.random.randn(n_x,m)\n",
    "\n",
    "# initialize parameters\n",
    "param_test = initialize_parameters(n_x, n_y, n_h)\n",
    "\n",
    "# forward propagation test\n",
    "forward_cache = forward_propagation(X,param_test)\n",
    "\n",
    "print(forward_cache[\"A1\"].shape)\n",
    "print(forward_cache[\"A2\"].shape)\n"
   ]
  },
  {
   "cell_type": "markdown",
   "metadata": {},
   "source": [
    "### 2.1.4 Cost function <a class=\"anchor\" id=\"section_2_1_4\"></a>"
   ]
  },
  {
   "cell_type": "code",
   "execution_count": 63,
   "metadata": {},
   "outputs": [],
   "source": [
    "def cost_function(A2,y, parameters):\n",
    "    \"\"\"\n",
    "    Computes the binary cross-entropy \n",
    "    \n",
    "    Arguments:\n",
    "    A2 -- The sigmoid output of the second activation, of shape (1, number of examples)\n",
    "    Y -- \"true\" labels vector of shape (1, number of examples)\n",
    "\n",
    "    Returns:\n",
    "    cost -- cross-entropy cost given equation \n",
    "\n",
    "    \"\"\"\n",
    "    m = y.shape[1]\n",
    "\n",
    "    # Compute the cost\n",
    "\n",
    "    cost = -(1/m) * (np.dot(y,np.log(A2).T) + np.dot(1-y,np.log(1-A2).T))\n",
    "\n",
    "\n",
    "    return np.squeeze(cost)"
   ]
  },
  {
   "cell_type": "code",
   "execution_count": 64,
   "metadata": {},
   "outputs": [
    {
     "name": "stdout",
     "output_type": "stream",
     "text": [
      "cost : 0.693115801821032\n",
      "cost log_loss: 0.693115801821032\n"
     ]
    }
   ],
   "source": [
    "# -----------------------\n",
    "# Test cost function\n",
    "\n",
    "# initialize layers and examples\n",
    "n_x,n_y,n_h = 400, 1, 5\n",
    "m = 1000\n",
    "X = np.random.randn(n_x,m)\n",
    "y = np.random.randint(0,2,(1,m))\n",
    "\n",
    "# initialize parameters\n",
    "param_test = initialize_parameters(n_x, n_y, n_h)\n",
    "\n",
    "# forward propagation test\n",
    "forward_cache = forward_propagation(X,param_test)\n",
    "A2 = forward_cache[\"A2\"]\n",
    "\n",
    "# cost\n",
    "cost = cost_function(A2,y,param_test)\n",
    "cost_log_loss = log_loss(y.T,A2.T)\n",
    "\n",
    "print(\"cost :\", cost)\n",
    "print(\"cost log_loss:\",cost_log_loss)"
   ]
  },
  {
   "cell_type": "markdown",
   "metadata": {},
   "source": [
    "### 2.1.5 Backward Propagation <a class=\"anchor\" id=\"section_2_1-5\"></a>"
   ]
  },
  {
   "cell_type": "code",
   "execution_count": 65,
   "metadata": {},
   "outputs": [],
   "source": [
    "def backward_propagation(X,y,parameters,forward_cache):\n",
    "\n",
    "    \"\"\"\n",
    "    Implement the backward propagation using the instructions above.\n",
    "    \n",
    "    Arguments:\n",
    "    parameters -- python dictionary containing our parameters \n",
    "    cache -- a dictionary containing \"Z1\", \"A1\", \"Z2\" and \"A2\".\n",
    "    X -- input data of shape (2, number of examples)\n",
    "    Y -- \"true\" labels vector of shape (1, number of examples)\n",
    "    \n",
    "    Returns:\n",
    "    gradients -- python dictionary containing your gradients with respect to different parameters\n",
    "    \"\"\"\n",
    "    # m examples\n",
    "    m = y.shape[1]\n",
    "\n",
    "    # Getting forward elem\n",
    "    A2 = forward_cache[\"A2\"]\n",
    "    A1 = forward_cache[\"A1\"]\n",
    "\n",
    "    # getting parameters\n",
    "    W1 = parameters[\"W1\"]\n",
    "    W2 = parameters[\"W2\"]\n",
    "\n",
    "    # Compute the gradient\n",
    "    dZ2 = A2 - y\n",
    "    dW2 = (1/m)*np.dot(dZ2,A1.T)\n",
    "    db2 = (1/m)*np.sum(dZ2,axis=1,keepdims=True)\n",
    "    \n",
    "    # g(z) = tanh(z) = a(z) | g'(z) = 1 - g²(z) = 1 - a²\n",
    "    dZ1 = np.dot(W2.T,dZ2)*(1 - np.power(A1,2)) \n",
    "    dW1 = (1/m)*np.dot(dZ1,X.T)\n",
    "    db1 = (1/m)*np.sum(dZ1,axis=1,keepdims=True)\n",
    "\n",
    "\n",
    "    gradients ={\"dW1\": dW1,\n",
    "                \"db1\": db1,\n",
    "                \"dW2\": dW2,\n",
    "                \"db2\": db2}\n",
    "    \n",
    "\n",
    "    return gradients"
   ]
  },
  {
   "cell_type": "markdown",
   "metadata": {},
   "source": [
    "### 2.1.6 Update parameters <a class=\"anchor\" id=\"section_2_1_6\"></a>"
   ]
  },
  {
   "cell_type": "code",
   "execution_count": 66,
   "metadata": {},
   "outputs": [],
   "source": [
    "def update_params(parameters,gradients, learning_rate=0.1):\n",
    "\n",
    "    \"\"\"\n",
    "    Updates parameters using the gradient descent update rule given above\n",
    "    \n",
    "    Arguments:\n",
    "    parameters -- python dictionary containing your parameters \n",
    "    grads -- python dictionary containing your gradients \n",
    "    \n",
    "    Returns:\n",
    "    parameters -- python dictionary containing your updated parameters \n",
    "    \"\"\"\n",
    "\n",
    "    # parameters\n",
    "    W_1 = parameters[\"W1\"]\n",
    "    W_2 = parameters[\"W2\"]\n",
    "    b_1 = parameters[\"b1\"]\n",
    "    b_2 = parameters[\"b2\"]\n",
    "\n",
    "    # gradients\n",
    "    dW1 = gradients[\"dW1\"]\n",
    "    dW2 = gradients[\"dW2\"]\n",
    "    db1 = gradients[\"db1\"]\n",
    "    db2 = gradients[\"db2\"]\n",
    "\n",
    "    # update\n",
    "    W1 = W_1 - learning_rate * dW1\n",
    "    W2 = W_2 - learning_rate * dW2\n",
    "    b1 = b_1 - learning_rate * db1\n",
    "    b2 = b_2 - learning_rate * db2\n",
    "\n",
    "    # parameters\n",
    "    params = {\"W1\": W1,\"W2\": W2, \"b1\": b1, \"b2\": b2}\n",
    "\n",
    "    return params"
   ]
  },
  {
   "cell_type": "code",
   "execution_count": 67,
   "metadata": {},
   "outputs": [],
   "source": [
    "def predict(parameters,X):\n",
    "    \"\"\"\n",
    "    Using the learned parameters, predicts a class for each example in X\n",
    "    \n",
    "    Arguments:\n",
    "    parameters -- python dictionary containing your parameters \n",
    "    X -- input data of size (n_x, m)\n",
    "    \n",
    "    Returns\n",
    "    predictions -- vector of predictions of our model (dog: 0 / cat: 1)\n",
    "    \"\"\"\n",
    "\n",
    "    # forward propagation\n",
    "    cache = forward_propagation(X,parameters)\n",
    "\n",
    "    # prediction\n",
    "    predictions = cache[\"A2\"]\n",
    "\n",
    "    predictions[predictions >= 0.5] = 1\n",
    "    predictions[predictions < 0.5] = 0\n",
    "\n",
    "    return predictions"
   ]
  },
  {
   "cell_type": "markdown",
   "metadata": {},
   "source": [
    "## 2.2 Model  <a class=\"anchor\" id=\"section_2_2\"></a>"
   ]
  },
  {
   "cell_type": "code",
   "execution_count": 68,
   "metadata": {},
   "outputs": [],
   "source": [
    "def neural_network_model(X,y,n_h,n_iter,learning_rate=0.01,display_learning=False):\n",
    "\n",
    "    \"\"\"\n",
    "    ONE HIDDEN LAYER NEURAL NETWORK MODEL\n",
    "\n",
    "    Arguments:\n",
    "    X -- dataset of shape (2, number of examples)\n",
    "    Y -- labels of shape (1, number of examples)\n",
    "    n_h -- size of the hidden layer\n",
    "    n_iter -- Number of iterations in gradient descent loop\n",
    "    learning_rate -- learning_rate of gradient descent\n",
    "    display_learning -- if True, print the learning every 100 iterations\n",
    "    \n",
    "    Returns:\n",
    "    parameters -- parameters learnt by the model. They can then be used to predict.\n",
    "    \"\"\"\n",
    "\n",
    "    # Tracking\n",
    "    cost = []\n",
    "    acc = []\n",
    "\n",
    "    # n_x,n_h\n",
    "    n_x,n_y,n_h =layer_sizes(X,y,n_h)\n",
    "\n",
    "    # m example\n",
    "    m = X.shape[1]\n",
    "\n",
    "    # Initaliaze parameters\n",
    "    parameters = initialize_parameters(n_x,n_y,n_h)\n",
    "\n",
    "    for i in range(n_iter):\n",
    "\n",
    "        # --- Forward propagation ---\n",
    "        forw_cache = forward_propagation(X,parameters)\n",
    "\n",
    "        # --- Cost ---\n",
    "        A2 = forw_cache[\"A2\"]\n",
    "        cost_res = cost_function(A2,y,parameters)\n",
    "        cost.append(cost_res)\n",
    "    \n",
    "        y_pred = predict(parameters,X)\n",
    "\n",
    "        acc_res = accuracy_score(y.T,y_pred.T)\n",
    "        acc.append(acc_res)\n",
    "        \n",
    "        # --- Backward propagation ---\n",
    "        gradients = backward_propagation(X,y, parameters, forw_cache)\n",
    "\n",
    "        # --- Update parameters ---\n",
    "        parameters = update_params(parameters, gradients, learning_rate=learning_rate)\n",
    "\n",
    "        if display_learning is True and i%100 == 0:\n",
    "            print(f\"iter {i} : Train_Loss = {cost_res}, Train_acc = {acc_res}\")\n",
    "\n",
    "\n",
    "    dict_nn = {\"cost\":cost,\"accuracy\":acc,\"parameters\":parameters}\n",
    "\n",
    "    return dict_nn"
   ]
  },
  {
   "cell_type": "code",
   "execution_count": 73,
   "metadata": {},
   "outputs": [
    {
     "name": "stdout",
     "output_type": "stream",
     "text": [
      "iter 0 : Train_Loss = 0.693205906200426, Train_acc = 0.484\n",
      "iter 100 : Train_Loss = 0.6930024932877621, Train_acc = 0.503\n",
      "iter 200 : Train_Loss = 0.6928073628272727, Train_acc = 0.502\n",
      "iter 300 : Train_Loss = 0.6925661614464385, Train_acc = 0.505\n",
      "iter 400 : Train_Loss = 0.6922236825837262, Train_acc = 0.513\n",
      "iter 500 : Train_Loss = 0.6917047926514039, Train_acc = 0.527\n",
      "iter 600 : Train_Loss = 0.690910992566972, Train_acc = 0.545\n",
      "iter 700 : Train_Loss = 0.6897200839410349, Train_acc = 0.575\n",
      "iter 800 : Train_Loss = 0.6880030982586964, Train_acc = 0.59\n",
      "iter 900 : Train_Loss = 0.6856582830874245, Train_acc = 0.603\n",
      "iter 1000 : Train_Loss = 0.6826351017145996, Train_acc = 0.596\n",
      "iter 1100 : Train_Loss = 0.6789340668653188, Train_acc = 0.601\n",
      "iter 1200 : Train_Loss = 0.6745946064370506, Train_acc = 0.607\n",
      "iter 1300 : Train_Loss = 0.6696854804429154, Train_acc = 0.619\n",
      "iter 1400 : Train_Loss = 0.6642811684514707, Train_acc = 0.62\n",
      "iter 1500 : Train_Loss = 0.6584182656965797, Train_acc = 0.641\n",
      "iter 1600 : Train_Loss = 0.6520694840515953, Train_acc = 0.654\n",
      "iter 1700 : Train_Loss = 0.6451563854338308, Train_acc = 0.666\n",
      "iter 1800 : Train_Loss = 0.6375812847757341, Train_acc = 0.678\n",
      "iter 1900 : Train_Loss = 0.6292565701728823, Train_acc = 0.689\n",
      "iter 2000 : Train_Loss = 0.6201264818741348, Train_acc = 0.698\n",
      "iter 2100 : Train_Loss = 0.6101764339055692, Train_acc = 0.708\n",
      "iter 2200 : Train_Loss = 0.5994211528396488, Train_acc = 0.729\n",
      "iter 2300 : Train_Loss = 0.5878850416210878, Train_acc = 0.747\n",
      "iter 2400 : Train_Loss = 0.5755964281690109, Train_acc = 0.758\n",
      "iter 2500 : Train_Loss = 0.5625944191089604, Train_acc = 0.771\n",
      "iter 2600 : Train_Loss = 0.5986597270339319, Train_acc = 0.662\n",
      "iter 2700 : Train_Loss = 0.5880811403136066, Train_acc = 0.672\n",
      "iter 2800 : Train_Loss = 0.5795878521058473, Train_acc = 0.683\n",
      "iter 2900 : Train_Loss = 0.572315977835653, Train_acc = 0.686\n",
      "iter 3000 : Train_Loss = 0.5656607886613513, Train_acc = 0.688\n",
      "iter 3100 : Train_Loss = 0.5593026970378261, Train_acc = 0.696\n",
      "iter 3200 : Train_Loss = 0.5530836272828922, Train_acc = 0.701\n",
      "iter 3300 : Train_Loss = 0.54692249448276, Train_acc = 0.703\n",
      "iter 3400 : Train_Loss = 0.5407739439077451, Train_acc = 0.714\n",
      "iter 3500 : Train_Loss = 0.5346104118360269, Train_acc = 0.717\n",
      "iter 3600 : Train_Loss = 0.5284146593406774, Train_acc = 0.718\n",
      "iter 3700 : Train_Loss = 0.5221765988591476, Train_acc = 0.723\n",
      "iter 3800 : Train_Loss = 0.5158917804562512, Train_acc = 0.724\n",
      "iter 3900 : Train_Loss = 0.5095604745135793, Train_acc = 0.727\n",
      "iter 4000 : Train_Loss = 0.5031869048783288, Train_acc = 0.731\n",
      "iter 4100 : Train_Loss = 0.49677839393296525, Train_acc = 0.74\n",
      "iter 4200 : Train_Loss = 0.49034430992497224, Train_acc = 0.747\n",
      "iter 4300 : Train_Loss = 0.4838948801081103, Train_acc = 0.757\n",
      "iter 4400 : Train_Loss = 0.4774400577215105, Train_acc = 0.76\n",
      "iter 4500 : Train_Loss = 0.4709886138224667, Train_acc = 0.765\n",
      "iter 4600 : Train_Loss = 0.46454751942546085, Train_acc = 0.77\n",
      "iter 4700 : Train_Loss = 0.45812160072787855, Train_acc = 0.774\n",
      "iter 4800 : Train_Loss = 0.4517134345632195, Train_acc = 0.782\n",
      "iter 4900 : Train_Loss = 0.4453234675142482, Train_acc = 0.786\n"
     ]
    }
   ],
   "source": [
    "# Training\n",
    "\n",
    "Training_res = neural_network_model(X_train_flatten_norm,y_train,5,5000,learning_rate=0.01,display_learning=True)"
   ]
  },
  {
   "cell_type": "code",
   "execution_count": 74,
   "metadata": {},
   "outputs": [
    {
     "data": {
      "image/png": "[encoded data removed]",
      "text/plain": [
       "<Figure size 720x216 with 2 Axes>"
      ]
     },
     "metadata": {
      "needs_background": "light"
     },
     "output_type": "display_data"
    }
   ],
   "source": [
    "fig, axs = plt.subplots(1, 2, figsize=(10, 3))\n",
    "\n",
    "axs[0].plot(Training_res[\"cost\"])\n",
    "axs[0].set_title(\"Training Loss\")\n",
    "axs[0].set_xlabel(\"n_iteration\")\n",
    "\n",
    "axs[1].plot(Training_res[\"accuracy\"])\n",
    "axs[1].set_title(\"Training Accuracy\")\n",
    "axs[1].set_xlabel(\"n_iteration\")\n",
    "plt.show()"
   ]
  },
  {
   "cell_type": "code",
   "execution_count": null,
   "metadata": {},
   "outputs": [],
   "source": []
  },
  {
   "cell_type": "markdown",
   "metadata": {},
   "source": [
    "# 3. Training on an other DATASET"
   ]
  },
  {
   "cell_type": "code",
   "execution_count": 75,
   "metadata": {},
   "outputs": [],
   "source": [
    "dataset_file = \"datasets/01 - cat/\"\n",
    "\n",
    "def load_dataset():\n",
    "\n",
    "    # Training set\n",
    "    train_dataset = h5py.File(dataset_file + \"train_catvnoncat.h5\",\"r\")\n",
    "    X_train = np.array(train_dataset[\"train_set_x\"][:])\n",
    "    y_train = np.array(train_dataset[\"train_set_y\"][:])\n",
    "\n",
    "    # Test set\n",
    "    test_dataset = h5py.File(dataset_file + \"test_catvnoncat.h5\",\"r\")\n",
    "    X_test = np.array(test_dataset[\"test_set_x\"][:])\n",
    "    y_test = np.array(test_dataset[\"test_set_y\"][:])\n",
    "\n",
    "    # classes\n",
    "    classes = np.array(test_dataset[\"list_classes\"][:])\n",
    "\n",
    "    return X_train, y_train, X_test, y_test, classes"
   ]
  },
  {
   "cell_type": "code",
   "execution_count": 77,
   "metadata": {},
   "outputs": [],
   "source": [
    "# split\n",
    "\n",
    "train_x,train_y, test_x, test_y,classes = load_dataset()"
   ]
  },
  {
   "cell_type": "code",
   "execution_count": 79,
   "metadata": {},
   "outputs": [
    {
     "name": "stdout",
     "output_type": "stream",
     "text": [
      "X_train shape: (209, 64, 64, 3)\n",
      "X_test shape: (50, 64, 64, 3)\n",
      "y_train shape: (209,)\n",
      "y_test shape: (50,)\n",
      "classes shape: (2,)\n"
     ]
    }
   ],
   "source": [
    "# Display Shape\n",
    "print(\"X_train shape:\", train_x.shape)\n",
    "print(\"X_test shape:\", test_x.shape)\n",
    "print(\"y_train shape:\", train_y.shape)\n",
    "print(\"y_test shape:\",test_y.shape)\n",
    "print(\"classes shape:\",classes.shape)"
   ]
  },
  {
   "cell_type": "code",
   "execution_count": 80,
   "metadata": {},
   "outputs": [
    {
     "name": "stdout",
     "output_type": "stream",
     "text": [
      "y_train shape: (1, 209)\n",
      "y_test shape: (1, 50)\n"
     ]
    }
   ],
   "source": [
    "# We need to reshape y_train and y_test\n",
    "\n",
    "train_y = train_y.reshape((1,train_y.shape[0]))\n",
    "test_y = test_y.reshape((1,test_y.shape[0]))\n",
    "\n",
    "print(\"y_train shape:\", train_y.shape)\n",
    "print(\"y_test shape:\",test_y.shape)"
   ]
  },
  {
   "cell_type": "code",
   "execution_count": 81,
   "metadata": {},
   "outputs": [
    {
     "name": "stdout",
     "output_type": "stream",
     "text": [
      "X_train flatten shape: (12288, 209)\n",
      "X_test flatten shape: (12288, 50)\n"
     ]
    }
   ],
   "source": [
    "# Flatten\n",
    "\n",
    "train_x_flat = train_x.reshape(train_x.shape[0],-1).T\n",
    "test_x_flat = test_x.reshape(test_x.shape[0],-1).T\n",
    "\n",
    "\n",
    "print(\"X_train flatten shape:\",train_x_flat.shape)\n",
    "print(\"X_test flatten shape:\",test_x_flat.shape)"
   ]
  },
  {
   "cell_type": "code",
   "execution_count": 82,
   "metadata": {},
   "outputs": [],
   "source": [
    "# Normalize\n",
    "\n",
    "train_x_flat_norm = train_x_flat/np.max(train_x_flat)\n",
    "\n",
    "# Warning: the data are normalized with the Training set\n",
    "test_x_flat_norm = test_x_flat/np.max(train_x_flat)"
   ]
  },
  {
   "cell_type": "code",
   "execution_count": 86,
   "metadata": {},
   "outputs": [
    {
     "name": "stdout",
     "output_type": "stream",
     "text": [
      "iter 0 : Train_Loss = 0.6935324937929473, Train_acc = 0.40669856459330145\n",
      "iter 100 : Train_Loss = 0.6562858542101794, Train_acc = 0.6555023923444976\n",
      "iter 200 : Train_Loss = 0.6453919677502244, Train_acc = 0.6555023923444976\n",
      "iter 300 : Train_Loss = 0.638822450538501, Train_acc = 0.6555023923444976\n",
      "iter 400 : Train_Loss = 0.6218415894855164, Train_acc = 0.6555023923444976\n",
      "iter 500 : Train_Loss = 0.5942282253607012, Train_acc = 0.6555023923444976\n",
      "iter 600 : Train_Loss = 0.5562908248446765, Train_acc = 0.7272727272727273\n",
      "iter 700 : Train_Loss = 0.5106243920082945, Train_acc = 0.7894736842105263\n",
      "iter 800 : Train_Loss = 0.4600027712870968, Train_acc = 0.84688995215311\n",
      "iter 900 : Train_Loss = 0.4079272978529507, Train_acc = 0.8947368421052632\n",
      "iter 1000 : Train_Loss = 0.4222461084855104, Train_acc = 0.861244019138756\n",
      "iter 1100 : Train_Loss = 0.3760168314722615, Train_acc = 0.8708133971291866\n",
      "iter 1200 : Train_Loss = 0.33736440865432127, Train_acc = 0.8803827751196173\n",
      "iter 1300 : Train_Loss = 0.2998451975268213, Train_acc = 0.9090909090909091\n",
      "iter 1400 : Train_Loss = 0.26266048684857957, Train_acc = 0.9473684210526315\n",
      "iter 1500 : Train_Loss = 0.20350249042344604, Train_acc = 0.9617224880382775\n",
      "iter 1600 : Train_Loss = 0.1780381979579161, Train_acc = 0.9665071770334929\n",
      "iter 1700 : Train_Loss = 0.1725156671601305, Train_acc = 0.9712918660287081\n",
      "iter 1800 : Train_Loss = 0.1636670101740698, Train_acc = 0.9712918660287081\n",
      "iter 1900 : Train_Loss = 0.1272757271885868, Train_acc = 0.9808612440191388\n",
      "iter 2000 : Train_Loss = 0.11471232028385467, Train_acc = 0.9808612440191388\n",
      "iter 2100 : Train_Loss = 0.10431561218423265, Train_acc = 0.9856459330143541\n",
      "iter 2200 : Train_Loss = 0.09552671213949245, Train_acc = 0.9856459330143541\n",
      "iter 2300 : Train_Loss = 0.08803576111420257, Train_acc = 0.9904306220095693\n",
      "iter 2400 : Train_Loss = 0.08159772050538151, Train_acc = 0.9904306220095693\n",
      "iter 2500 : Train_Loss = 0.07598312257940285, Train_acc = 0.9904306220095693\n",
      "iter 2600 : Train_Loss = 0.07100472970249824, Train_acc = 0.9904306220095693\n",
      "iter 2700 : Train_Loss = 0.0663929540566376, Train_acc = 0.9904306220095693\n",
      "iter 2800 : Train_Loss = 0.061282723246401855, Train_acc = 0.9904306220095693\n",
      "iter 2900 : Train_Loss = 0.05615420976199154, Train_acc = 0.9952153110047847\n"
     ]
    }
   ],
   "source": [
    "dico_training = neural_network_model(train_x_flat_norm,train_y,5,3000,learning_rate=0.0075,display_learning=True)"
   ]
  },
  {
   "cell_type": "code",
   "execution_count": 87,
   "metadata": {},
   "outputs": [
    {
     "data": {
      "image/png": "[encoded data removed]",
      "text/plain": [
       "<Figure size 720x216 with 2 Axes>"
      ]
     },
     "metadata": {
      "needs_background": "light"
     },
     "output_type": "display_data"
    }
   ],
   "source": [
    "fig, axs = plt.subplots(1, 2, figsize=(10, 3))\n",
    "\n",
    "axs[0].plot(dico_training[\"cost\"])\n",
    "axs[0].set_title(\"Training Loss\")\n",
    "axs[0].set_xlabel(\"n_iteration\")\n",
    "\n",
    "axs[1].plot(dico_training[\"accuracy\"])\n",
    "axs[1].set_title(\"Training Accuracy\")\n",
    "axs[1].set_xlabel(\"n_iteration\")\n",
    "plt.show()"
   ]
  },
  {
   "cell_type": "code",
   "execution_count": null,
   "metadata": {},
   "outputs": [],
   "source": []
  }
 ],
 "metadata": {
  "interpreter": {
   "hash": "6d46af94c2bbce495f1e668725902fa517c90b1782bcfe2fce0dd9868df553d3"
  },
  "kernelspec": {
   "display_name": "Python 3.8.8 64-bit ('base': conda)",
   "language": "python",
   "name": "python3"
  },
  "language_info": {
   "codemirror_mode": {
    "name": "ipython",
    "version": 3
   },
   "file_extension": ".py",
   "mimetype": "text/x-python",
   "name": "python",
   "nbconvert_exporter": "python",
   "pygments_lexer": "ipython3",
   "version": "3.8.8"
  },
  "orig_nbformat": 4
 },
 "nbformat": 4,
 "nbformat_minor": 2
}
