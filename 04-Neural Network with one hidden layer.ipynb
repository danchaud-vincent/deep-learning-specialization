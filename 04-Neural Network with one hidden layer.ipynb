{
 "cells": [
  {
   "cell_type": "markdown",
   "metadata": {},
   "source": [
    "# Neural Network with one hidden layer"
   ]
  },
  {
   "cell_type": "markdown",
   "metadata": {},
   "source": [
    "<center><img src=\"images/04-Neural Network with one hidden layer/one-hidden-layer.png\" width = \"400px\"></center>"
   ]
  },
  {
   "cell_type": "markdown",
   "metadata": {},
   "source": [
    "### Table of Contents\n",
    "\n",
    "* [Recap](#chapter0)\n",
    "* [1. Load the Dataset - Cat vs Dog](#chapter1)\n",
    "    * [1.1 Load the Dataset](#section_1_1)\n",
    "    * [1.2 Display the Data](#section_1_2)\n",
    "    * [1.3 Flatten the data](#section_1_3)\n",
    "    * [1.4 Normalize the data](#section_1_4)\n",
    "* [2. Neural Network Model](#chapter2)\n",
    "    * [2.1 Functions of our Neural Network ](#section_2_1)\n",
    "        * [2.1.1 Layer Sizes](#section_2_1_1)\n",
    "        * [2.1.2 Initialize Parameters](#section_2_1_2)\n",
    "        * [2.1.3 Forward Propagation](#section_2_1_3)\n",
    "        * [2.1.4 Cost function](#section_2_1_4)\n",
    "        * [2.1.5 Backward Propagation](#section_2_1_5)\n",
    "        * [2.1.6 Update parameters](#section_2_1_6)\n",
    "    * [2.2 Model](#section_2_2)\n",
    "* [3. ](#chapter3)\n"
   ]
  },
  {
   "cell_type": "markdown",
   "metadata": {},
   "source": [
    "# Recap  <a class=\"anchor\" id=\"chapter0\"></a>"
   ]
  },
  {
   "cell_type": "markdown",
   "metadata": {},
   "source": [
    "> Input layer :"
   ]
  },
  {
   "cell_type": "markdown",
   "metadata": {},
   "source": [
    "$$ n_X = features \\ | \\ m = examples$$ \n",
    "$$X = \\begin{bmatrix}  X^{(1)} &  X^{(2)} & .. & .. &  X^{(m)} \\end{bmatrix}  \\in  \\mathbb{R^{n_X \\times m}}$$  \n",
    "$$ X^{(i)} \\ \\ i_{th} \\ \\ example $$"
   ]
  },
  {
   "cell_type": "markdown",
   "metadata": {},
   "source": [
    "> Parameters :"
   ]
  },
  {
   "cell_type": "markdown",
   "metadata": {},
   "source": [
    "$$ W^{[1]} \\in (n_{[1]} \\times n_X) $$ \n",
    "$$ b^{[1]} \\in (n_{[1]} \\times 1) $$ \n",
    "$$ W^{[2]} \\in (n_{[2]} \\times n_{[1]}) $$ \n",
    "$$ b^{[2]} \\in (n_{[2]} \\times 1) $$ \n",
    "\n",
    "In our case n[2] = 1 :\n",
    "\n",
    "- One output unit"
   ]
  },
  {
   "cell_type": "markdown",
   "metadata": {},
   "source": [
    "> Forward Propagation :"
   ]
  },
  {
   "cell_type": "markdown",
   "metadata": {},
   "source": [
    "$$\n",
    "\\begin{cases}\n",
    "    Z^{[1]} = W^{[1]} X + b^{[1]} \\\\\n",
    "    A^{[1]} = g^{[1]}(Z^{[1]})  \\\\\n",
    "    Z^{[2]} = W^{[2]} A^{[1]} + b^{[2]} \\\\\n",
    "    A^{[2]} = g^{[2]}(Z^{[2]})\n",
    "\\end{cases}\n",
    "$$\n",
    "\n",
    "- g is the activation function"
   ]
  },
  {
   "cell_type": "markdown",
   "metadata": {},
   "source": [
    "> Backward Propagation :"
   ]
  },
  {
   "cell_type": "markdown",
   "metadata": {},
   "source": [
    "- W[i] and dW[i] have the same dimension\n",
    "- b[i] and db[i] have the same dimension\n",
    "- Z[i] and dZ[i] have the same dimension"
   ]
  },
  {
   "cell_type": "markdown",
   "metadata": {},
   "source": [
    "$$\n",
    "\\begin{cases}\n",
    "    dZ^{[2]} =  (A^{[2]} - Y) \\\\\n",
    "    dW^{[2]} = \\frac{1}{m} (A^{[2]} - Y)A^{[1]T} \\\\\n",
    "    db^{[2]} = \\frac{1}{m} \\sum (A^{[2]} - Y)    \\\\\n",
    "    dZ^{[1]} = W^{[2]T}dZ^{[2]} * g^{[1]'}(Z^{[1]}) \\\\\n",
    "    dW^{[1]} = \\frac{1}{m} dZ^{[1]} X^T\\\\\n",
    "    db^{[1]} = \\frac{1}{m} \\sum  dZ^{[1]}\n",
    "\\end{cases}\n",
    "$$"
   ]
  },
  {
   "cell_type": "markdown",
   "metadata": {},
   "source": [
    "In this jupyter Notebook we will:\n",
    "\n",
    "- Implement a 2-class classification neural network with a single hidden layer\n",
    "- Use units with a non-linear activation function, such as tanh\n",
    "- Compute the cross entropy loss\n",
    "- Implement forward and backward propagation\n"
   ]
  },
  {
   "cell_type": "code",
   "execution_count": 1,
   "metadata": {},
   "outputs": [],
   "source": [
    "# Packages\n",
    "\n",
    "import numpy as np\n",
    "import matplotlib.pyplot as plt\n",
    "import sklearn\n",
    "import sklearn.datasets\n",
    "import sklearn.linear_model\n",
    "from sklearn.metrics import accuracy_score\n",
    "from sklearn.metrics import log_loss\n",
    "\n",
    "%matplotlib inline"
   ]
  },
  {
   "cell_type": "markdown",
   "metadata": {},
   "source": [
    "# 1. Load the Dataset - Cat vs Dog <a class=\"anchor\" id=\"chapter1\"></a>"
   ]
  },
  {
   "cell_type": "markdown",
   "metadata": {},
   "source": [
    "## 1.1 Load the Dataset <a class=\"anchor\" id=\"section_1_1\"></a>"
   ]
  },
  {
   "cell_type": "code",
   "execution_count": 3,
   "metadata": {},
   "outputs": [],
   "source": [
    "# !pip install h5py"
   ]
  },
  {
   "cell_type": "code",
   "execution_count": 2,
   "metadata": {},
   "outputs": [],
   "source": [
    "# function load data\n",
    "import h5py\n",
    "\n",
    "def load_data():\n",
    "    train_dataset = h5py.File('datasets/02 - cat vs dog/trainset.hdf5', \"r\")\n",
    "    X_train = np.array(train_dataset[\"X_train\"][:]) # your train set features\n",
    "    y_train = np.array(train_dataset[\"Y_train\"][:]) # your train set labels\n",
    "\n",
    "    test_dataset = h5py.File('datasets/02 - cat vs dog/testset.hdf5', \"r\")\n",
    "    X_test = np.array(test_dataset[\"X_test\"][:]) # your train set features\n",
    "    y_test = np.array(test_dataset[\"Y_test\"][:]) # your train set labels\n",
    "    \n",
    "    return X_train, y_train, X_test, y_test"
   ]
  },
  {
   "cell_type": "code",
   "execution_count": 3,
   "metadata": {},
   "outputs": [],
   "source": [
    "# load data\n",
    "\n",
    "X_train, y_train, X_test, y_test = load_data()"
   ]
  },
  {
   "cell_type": "code",
   "execution_count": 4,
   "metadata": {},
   "outputs": [
    {
     "name": "stdout",
     "output_type": "stream",
     "text": [
      "X_train shape: (1000, 64, 64)\n",
      "X_test shape: (200, 64, 64)\n",
      "y_train shape: (1000, 1)\n",
      "y_test shape: (200, 1)\n"
     ]
    }
   ],
   "source": [
    "# Shape\n",
    "\n",
    "print(\"X_train shape:\", X_train.shape)\n",
    "print(\"X_test shape:\", X_test.shape)\n",
    "\n",
    "print(\"y_train shape:\", y_train.shape)\n",
    "print(\"y_test shape:\",y_test.shape)"
   ]
  },
  {
   "cell_type": "code",
   "execution_count": 5,
   "metadata": {},
   "outputs": [
    {
     "name": "stdout",
     "output_type": "stream",
     "text": [
      "y_train Distribution (array([0., 1.]), array([500, 500], dtype=int64))\n"
     ]
    }
   ],
   "source": [
    "# Data distribution\n",
    "\n",
    "print(\"y_train Distribution\",np.unique(y_train,return_counts=True))"
   ]
  },
  {
   "cell_type": "markdown",
   "metadata": {},
   "source": [
    "The data are equally distributed."
   ]
  },
  {
   "cell_type": "markdown",
   "metadata": {},
   "source": [
    "## 1.2 Display the data  <a class=\"anchor\" id=\"section_1_2\"></a>"
   ]
  },
  {
   "cell_type": "code",
   "execution_count": 44,
   "metadata": {},
   "outputs": [],
   "source": [
    "def display_data(X,y,n):\n",
    "    \"\"\"\n",
    "    Display n random image in the dataset X,y\n",
    "\n",
    "    ----\n",
    "    Inputs:\n",
    "    - X : Matrix containing the features and the examples\n",
    "    - y : True label of the dataset X\n",
    "    - n : number of images plot\n",
    "    \"\"\"\n",
    "    # Random range\n",
    "    random_range = np.random.randint(0,X.shape[0],size=n)\n",
    "\n",
    "    # Classes\n",
    "    classes = {0: \"cat\",1:\"dog\"}\n",
    "\n",
    "    fig, axs = plt.subplots(1, n, figsize=(10, 3))\n",
    "    \n",
    "    for i in range(n):\n",
    "        ax = axs[i]\n",
    "        ax.imshow(X[i],cmap=\"gray\")\n",
    "        ax.set_title(f\"y={y[i,0]} | {classes[y[i,0]]}\".capitalize())\n",
    "    \n",
    "       "
   ]
  },
  {
   "cell_type": "code",
   "execution_count": 45,
   "metadata": {},
   "outputs": [
    {
     "data": {
      "image/png": "[encoded data removed]",
      "text/plain": [
       "<Figure size 720x216 with 5 Axes>"
      ]
     },
     "metadata": {
      "needs_background": "light"
     },
     "output_type": "display_data"
    }
   ],
   "source": [
    "display_data(X_train,y_train,5)"
   ]
  },
  {
   "cell_type": "markdown",
   "metadata": {},
   "source": [
    "## 1.3 Flatten the data <a class=\"anchor\" id=\"section_1_3\"></a>"
   ]
  },
  {
   "cell_type": "markdown",
   "metadata": {},
   "source": [
    "$$ X \\in (n_X \\times m)$$\n",
    "\n",
    "- n_x features\n",
    "- m examples"
   ]
  },
  {
   "cell_type": "code",
   "execution_count": 46,
   "metadata": {},
   "outputs": [
    {
     "name": "stdout",
     "output_type": "stream",
     "text": [
      "X_train flatten: (4096, 1000)\n",
      "X_test flatten: (4096, 200)\n"
     ]
    }
   ],
   "source": [
    "# Flatten\n",
    "\n",
    "X_train_flatten = X_train.reshape(X_train.shape[1] * X_train.shape[2],-1)\n",
    "X_test_flatten =  X_test.reshape(X_test.shape[1] * X_test.shape[2],-1)\n",
    "\n",
    "print(\"X_train flatten:\", X_train_flatten.shape)\n",
    "print(\"X_test flatten:\", X_test_flatten.shape)"
   ]
  },
  {
   "cell_type": "markdown",
   "metadata": {},
   "source": [
    "## 1.4 Normalize the data <a class=\"anchor\" id=\"section_1_4\"></a>"
   ]
  },
  {
   "cell_type": "code",
   "execution_count": 47,
   "metadata": {},
   "outputs": [],
   "source": [
    "X_train_flatten_norm = X_train_flatten/np.max(X_train_flatten)\n",
    "\n",
    "# Warning: the data are normalized with the Training set\n",
    "X_test_flatten_norm = X_test_flatten/np.max(X_train_flatten)"
   ]
  },
  {
   "cell_type": "code",
   "execution_count": 48,
   "metadata": {},
   "outputs": [],
   "source": [
    "# Transpose y_train and y_test for our neural network \n",
    "\n",
    "y_train = y_train.T\n",
    "y_test = y_test.T"
   ]
  },
  {
   "cell_type": "markdown",
   "metadata": {},
   "source": [
    "# 2. Neural Network Model <a class=\"anchor\" id=\"chapter2\"></a>"
   ]
  },
  {
   "cell_type": "markdown",
   "metadata": {},
   "source": [
    "## 2.1 Functions of our Neural Network <a class=\"anchor\" id=\"section_2_1\"></a>"
   ]
  },
  {
   "cell_type": "markdown",
   "metadata": {},
   "source": [
    "### 2.1.1 Layer Sizes <a class=\"anchor\" id=\"section_2_1_1\"></a>"
   ]
  },
  {
   "cell_type": "code",
   "execution_count": 49,
   "metadata": {},
   "outputs": [],
   "source": [
    "def layer_sizes(X,y,number_hidden_units):\n",
    "\n",
    "    \"\"\"\n",
    "    Arguments:\n",
    "    X -- input dataset of shape (input size, number of examples)\n",
    "    Y -- labels of shape (output size, number of examples)\n",
    "    \n",
    "    Returns:\n",
    "    n_x -- the size of the input layer\n",
    "    n_h -- the size of the hidden layer\n",
    "    n_y -- the size of the output layer\n",
    "    \"\"\"\n",
    "\n",
    "    n_x = X.shape[0]\n",
    "    n_y = y.shape[0]\n",
    "    n_h = number_hidden_units\n",
    "\n",
    "    return n_x, n_y, n_h"
   ]
  },
  {
   "cell_type": "code",
   "execution_count": 50,
   "metadata": {},
   "outputs": [
    {
     "data": {
      "text/plain": [
       "(4096, 1, 5)"
      ]
     },
     "execution_count": 50,
     "metadata": {},
     "output_type": "execute_result"
    }
   ],
   "source": [
    "# Test \n",
    "\n",
    "layer_sizes(X_train_flatten_norm, y_train, number_hidden_units=5)"
   ]
  },
  {
   "cell_type": "markdown",
   "metadata": {},
   "source": [
    "### 2.1.2 Initialize Parameters <a class=\"anchor\" id=\"section_2_1_2\"></a>"
   ]
  },
  {
   "cell_type": "code",
   "execution_count": 51,
   "metadata": {},
   "outputs": [],
   "source": [
    "def initialize_parameters(n_x, n_y, n_h):\n",
    "    \"\"\"\n",
    "    Argument:\n",
    "    n_x -- size of the input layer\n",
    "    n_h -- size of the hidden layer\n",
    "    n_y -- size of the output layer\n",
    "    \n",
    "    Returns:\n",
    "    params -- python dictionary containing your parameters:\n",
    "                    W1 -- weight matrix of shape (n_h, n_x)\n",
    "                    b1 -- bias vector of shape (n_h, 1)\n",
    "                    W2 -- weight matrix of shape (n_y, n_h)\n",
    "                    b2 -- bias vector of shape (n_y, 1)\n",
    "    \"\"\"    \n",
    "\n",
    "    # Initialize W1 and b1 \n",
    "    W1 = np.random.randn(n_h,n_x) *0.01\n",
    "    b1 = np.zeros((n_h,1))\n",
    "\n",
    "    # Initializa W2 and b2\n",
    "    W2 = np.random.randn(n_y,n_h) *0.01\n",
    "    b2 = np.zeros((n_y,1))\n",
    "\n",
    "    params = {\"W1\": W1,\"W2\": W2, \"b1\": b1, \"b2\": b2}\n",
    "    return params"
   ]
  },
  {
   "cell_type": "code",
   "execution_count": 52,
   "metadata": {},
   "outputs": [
    {
     "name": "stdout",
     "output_type": "stream",
     "text": [
      "W1 shape: (5, 400)\n",
      "W2 shape: (1, 5)\n",
      "b1 shape: (5, 1)\n",
      "b2 shape: (1, 1)\n"
     ]
    }
   ],
   "source": [
    "# test initialize parameters\n",
    "n_x,n_y,n_h = 400, 1, 5\n",
    "param_test = initialize_parameters(n_x, n_y, n_h)\n",
    "\n",
    "print(\"W1 shape:\", param_test[\"W1\"].shape)\n",
    "print(\"W2 shape:\", param_test[\"W2\"].shape)\n",
    "print(\"b1 shape:\", param_test[\"b1\"].shape)\n",
    "print(\"b2 shape:\", param_test[\"b2\"].shape)"
   ]
  },
  {
   "cell_type": "markdown",
   "metadata": {},
   "source": [
    "### 2.1.3 Forward Propagation <a class=\"anchor\" id=\"section_2_1_3\"></a>"
   ]
  },
  {
   "cell_type": "code",
   "execution_count": 62,
   "metadata": {},
   "outputs": [],
   "source": [
    "def activation_function(Z,function_name):\n",
    "\n",
    "    if function_name == \"tanh\":\n",
    "        A=np.tanh(Z)\n",
    "    elif function_name == \"sigmoid\":\n",
    "        A = 1/(1+np.exp(-Z))\n",
    "\n",
    "    return A"
   ]
  },
  {
   "cell_type": "code",
   "execution_count": 63,
   "metadata": {},
   "outputs": [],
   "source": [
    "def forward_propagation(X,parameters):\n",
    "    \"\"\"\n",
    "    Argument:\n",
    "    X -- input data of size (n_x, m)\n",
    "    parameters -- python dictionary containing your parameters (output of initialization function)\n",
    "   \n",
    "    \n",
    "    Returns:\n",
    "    forward_prog -- python dictionary containing the activations\n",
    "    \n",
    "    \"\"\"\n",
    "    # Getting weights and bias\n",
    "    W1 = parameters[\"W1\"]\n",
    "    b1 = parameters[\"b1\"]\n",
    "    W2 = parameters[\"W2\"]\n",
    "    b2 = parameters[\"b2\"]\n",
    "\n",
    "    # Activation using tanh as activation function\n",
    "    \n",
    "    # Layer 1 : activation function -> tanh\n",
    "    Z1 = np.dot(W1,X) + b1\n",
    "    A1 = activation_function(Z1,\"tanh\")\n",
    "\n",
    "    # Layer 2 activation function -> sigmoid\n",
    "    Z2 = np.dot(W2,A1) + b2\n",
    "    A2 = activation_function(Z2,\"sigmoid\")\n",
    "\n",
    "    # forward results\n",
    "    cache = {\"Z1\":Z1, \"A1\":A1, \"Z2\":Z2,\"A2\": A2}\n",
    "\n",
    "    return cache"
   ]
  },
  {
   "cell_type": "code",
   "execution_count": 64,
   "metadata": {},
   "outputs": [
    {
     "name": "stdout",
     "output_type": "stream",
     "text": [
      "(5, 1000)\n",
      "(1, 1000)\n"
     ]
    }
   ],
   "source": [
    "#-----------------------------\n",
    "# TEST forward propagation\n",
    "\n",
    "# initialize layers and examples\n",
    "n_x,n_y,n_h = 400, 1, 5\n",
    "m = 1000\n",
    "X = np.random.randn(n_x,m)\n",
    "\n",
    "# initialize parameters\n",
    "param_test = initialize_parameters(n_x, n_y, n_h)\n",
    "\n",
    "# forward propagation test\n",
    "forward_cache = forward_propagation(X,param_test)\n",
    "\n",
    "print(forward_cache[\"A1\"].shape)\n",
    "print(forward_cache[\"A2\"].shape)\n"
   ]
  },
  {
   "cell_type": "markdown",
   "metadata": {},
   "source": [
    "### 2.1.4 Cost function <a class=\"anchor\" id=\"section_2_1_4\"></a>"
   ]
  },
  {
   "cell_type": "code",
   "execution_count": 105,
   "metadata": {},
   "outputs": [],
   "source": [
    "def cost_function(A2,y, parameters):\n",
    "    \"\"\"\n",
    "    Computes the binary cross-entropy \n",
    "    \n",
    "    Arguments:\n",
    "    A2 -- The sigmoid output of the second activation, of shape (1, number of examples)\n",
    "    Y -- \"true\" labels vector of shape (1, number of examples)\n",
    "\n",
    "    Returns:\n",
    "    cost -- cross-entropy cost given equation \n",
    "\n",
    "    \"\"\"\n",
    "    m = y.shape[1]\n",
    "\n",
    "    # Compute the cost\n",
    "\n",
    "    cost = -(1/m) * (np.dot(y,np.log(A2).T) + np.dot(1-y,np.log(1-A2).T))\n",
    "\n",
    "\n",
    "    return np.squeeze(cost)"
   ]
  },
  {
   "cell_type": "code",
   "execution_count": 106,
   "metadata": {},
   "outputs": [
    {
     "name": "stdout",
     "output_type": "stream",
     "text": [
      "cost : 0.6931426654871901\n",
      "cost log_loss: 0.6931426654871901\n"
     ]
    }
   ],
   "source": [
    "# -----------------------\n",
    "# Test cost function\n",
    "\n",
    "# initialize layers and examples\n",
    "n_x,n_y,n_h = 400, 1, 5\n",
    "m = 1000\n",
    "X = np.random.randn(n_x,m)\n",
    "y = np.random.randint(0,2,(1,m))\n",
    "\n",
    "# initialize parameters\n",
    "param_test = initialize_parameters(n_x, n_y, n_h)\n",
    "\n",
    "# forward propagation test\n",
    "forward_cache = forward_propagation(X,param_test)\n",
    "A2 = forward_cache[\"A2\"]\n",
    "\n",
    "# cost\n",
    "cost = cost_function(A2,y,param_test)\n",
    "cost_log_loss = log_loss(y.T,A2.T)\n",
    "\n",
    "print(\"cost :\", cost)\n",
    "print(\"cost log_loss:\",cost_log_loss)"
   ]
  },
  {
   "cell_type": "markdown",
   "metadata": {},
   "source": [
    "### 2.1.5 Backward Propagation <a class=\"anchor\" id=\"section_2_1-5\"></a>"
   ]
  },
  {
   "cell_type": "code",
   "execution_count": 107,
   "metadata": {},
   "outputs": [],
   "source": [
    "def backward_propagation(X,y,parameters,forward_cache):\n",
    "\n",
    "    \"\"\"\n",
    "    Implement the backward propagation using the instructions above.\n",
    "    \n",
    "    Arguments:\n",
    "    parameters -- python dictionary containing our parameters \n",
    "    cache -- a dictionary containing \"Z1\", \"A1\", \"Z2\" and \"A2\".\n",
    "    X -- input data of shape (2, number of examples)\n",
    "    Y -- \"true\" labels vector of shape (1, number of examples)\n",
    "    \n",
    "    Returns:\n",
    "    gradients -- python dictionary containing your gradients with respect to different parameters\n",
    "    \"\"\"\n",
    "    # m examples\n",
    "    m = y.shape[1]\n",
    "\n",
    "    # Getting forward elem\n",
    "    A2 = forward_cache[\"A2\"]\n",
    "    A1 = forward_cache[\"A1\"]\n",
    "\n",
    "    # getting parameters\n",
    "    W1 = parameters[\"W1\"]\n",
    "    W2 = parameters[\"W2\"]\n",
    "\n",
    "    # Compute the gradient\n",
    "    dZ2 = A2 - y\n",
    "    dW2 = (1/m)*np.dot(dZ2,A1.T)\n",
    "    db2 = (1/m)*np.sum(dZ2,axis=1,keepdims=True)\n",
    "    \n",
    "    # g(z) = tanh(z) = a(z) | g'(z) = 1 - g²(z) = 1 - a²\n",
    "    dZ1 = np.dot(W2.T,dZ2)*(1 - np.power(A1,2)) \n",
    "    dW1 = (1/m)*np.dot(dZ1,X.T)\n",
    "    db1 = (1/m)*np.sum(dZ1,axis=1,keepdims=True)\n",
    "\n",
    "\n",
    "    gradients ={\"dW1\": dW1,\n",
    "                \"db1\": db1,\n",
    "                \"dW2\": dW2,\n",
    "                \"db2\": db2}\n",
    "    \n",
    "\n",
    "    return gradients"
   ]
  },
  {
   "cell_type": "markdown",
   "metadata": {},
   "source": [
    "### 2.1.6 Update parameters <a class=\"anchor\" id=\"section_2_1_6\"></a>"
   ]
  },
  {
   "cell_type": "code",
   "execution_count": 108,
   "metadata": {},
   "outputs": [],
   "source": [
    "def update_params(parameters,gradients, learning_rate=0.1):\n",
    "\n",
    "    \"\"\"\n",
    "    Updates parameters using the gradient descent update rule given above\n",
    "    \n",
    "    Arguments:\n",
    "    parameters -- python dictionary containing your parameters \n",
    "    grads -- python dictionary containing your gradients \n",
    "    \n",
    "    Returns:\n",
    "    parameters -- python dictionary containing your updated parameters \n",
    "    \"\"\"\n",
    "\n",
    "    # parameters\n",
    "    W_1 = parameters[\"W1\"]\n",
    "    W_2 = parameters[\"W2\"]\n",
    "    b_1 = parameters[\"b1\"]\n",
    "    b_2 = parameters[\"b2\"]\n",
    "\n",
    "    # gradients\n",
    "    dW1 = gradients[\"dW1\"]\n",
    "    dW2 = gradients[\"dW2\"]\n",
    "    db1 = gradients[\"db1\"]\n",
    "    db2 = gradients[\"db2\"]\n",
    "\n",
    "    # update\n",
    "    W1 = W_1 - learning_rate * dW1\n",
    "    W2 = W_2 - learning_rate * dW2\n",
    "    b1 = b_1 - learning_rate * db1\n",
    "    b2 = b_2 - learning_rate * db2\n",
    "\n",
    "    # parameters\n",
    "    params = {\"W1\": W1,\"W2\": W2, \"b1\": b1, \"b2\": b2}\n",
    "\n",
    "    return params"
   ]
  },
  {
   "cell_type": "code",
   "execution_count": 109,
   "metadata": {},
   "outputs": [],
   "source": [
    "def predict(parameters,X):\n",
    "    \"\"\"\n",
    "    Using the learned parameters, predicts a class for each example in X\n",
    "    \n",
    "    Arguments:\n",
    "    parameters -- python dictionary containing your parameters \n",
    "    X -- input data of size (n_x, m)\n",
    "    \n",
    "    Returns\n",
    "    predictions -- vector of predictions of our model (dog: 0 / cat: 1)\n",
    "    \"\"\"\n",
    "\n",
    "    # forward propagation\n",
    "    cache = forward_propagation(X,parameters)\n",
    "\n",
    "    # prediction\n",
    "    predictions = cache[\"A2\"]\n",
    "\n",
    "    predictions[predictions >= 0.5] = 1\n",
    "    predictions[predictions < 0.5] = 0\n",
    "\n",
    "    return predictions"
   ]
  },
  {
   "cell_type": "markdown",
   "metadata": {},
   "source": [
    "## 2.2 Model  <a class=\"anchor\" id=\"section_2_2\"></a>"
   ]
  },
  {
   "cell_type": "code",
   "execution_count": 111,
   "metadata": {},
   "outputs": [],
   "source": [
    "def neural_network_model(X,y,n_h,n_iter,learning_rate=0.01,display_learning=False):\n",
    "\n",
    "    \"\"\"\n",
    "    ONE HIDDEN LAYER NEURAL NETWORK MODEL\n",
    "\n",
    "    Arguments:\n",
    "    X -- dataset of shape (2, number of examples)\n",
    "    Y -- labels of shape (1, number of examples)\n",
    "    n_h -- size of the hidden layer\n",
    "    n_iter -- Number of iterations in gradient descent loop\n",
    "    learning_rate -- learning_rate of gradient descent\n",
    "    display_learning -- if True, print the learning every 100 iterations\n",
    "    \n",
    "    Returns:\n",
    "    parameters -- parameters learnt by the model. They can then be used to predict.\n",
    "    \"\"\"\n",
    "\n",
    "    # Tracking\n",
    "    cost = []\n",
    "    acc = []\n",
    "\n",
    "    # n_x,n_h\n",
    "    n_x,n_y,n_h =layer_sizes(X,y,n_h)\n",
    "\n",
    "    # m example\n",
    "    m = X.shape[1]\n",
    "\n",
    "    # Initaliaze parameters\n",
    "    parameters = initialize_parameters(n_x,n_y,n_h)\n",
    "\n",
    "    for i in range(n_iter):\n",
    "\n",
    "        # --- Forward propagation ---\n",
    "        forw_cache = forward_propagation(X,parameters)\n",
    "\n",
    "        # --- Cost ---\n",
    "        A2 = forw_cache[\"A2\"]\n",
    "        cost_res = cost_function(A2,y,parameters)\n",
    "        cost.append(cost_res)\n",
    "    \n",
    "        y_pred = predict(parameters,X)\n",
    "\n",
    "        acc_res = accuracy_score(y.T,y_pred.T)\n",
    "        acc.append(acc_res)\n",
    "        # --- Backward propagation ---\n",
    "        gradients = backward_propagation(X,y, parameters, forw_cache)\n",
    "\n",
    "        # --- Update parameters ---\n",
    "        parameters = update_params(parameters, gradients, learning_rate=learning_rate)\n",
    "\n",
    "        if display_learning is True and i%100 == 0:\n",
    "            print(f\"iter {i} : Train_Loss = {cost_res}, Train_acc = {acc_res}\")\n",
    "\n",
    "\n",
    "    dict_nn = {\"cost\":cost,\"accuracy\":acc,\"parameters\":parameters}\n",
    "\n",
    "    return dict_nn"
   ]
  },
  {
   "cell_type": "code",
   "execution_count": 112,
   "metadata": {},
   "outputs": [
    {
     "name": "stdout",
     "output_type": "stream",
     "text": [
      "iter 0 : Train_Loss = 0.693206982715914, Train_acc = 0.485\n",
      "iter 100 : Train_Loss = 0.6931638907301407, Train_acc = 0.504\n",
      "iter 200 : Train_Loss = 0.6931241830307446, Train_acc = 0.515\n",
      "iter 300 : Train_Loss = 0.6930824497574795, Train_acc = 0.528\n",
      "iter 400 : Train_Loss = 0.6930331521396534, Train_acc = 0.538\n",
      "iter 500 : Train_Loss = 0.692969881795349, Train_acc = 0.539\n",
      "iter 600 : Train_Loss = 0.6928845721729595, Train_acc = 0.546\n",
      "iter 700 : Train_Loss = 0.6927666347681097, Train_acc = 0.55\n",
      "iter 800 : Train_Loss = 0.6926021354783459, Train_acc = 0.547\n",
      "iter 900 : Train_Loss = 0.6923734271132319, Train_acc = 0.545\n",
      "iter 1000 : Train_Loss = 0.6920598281490075, Train_acc = 0.543\n",
      "iter 1100 : Train_Loss = 0.6916391220447811, Train_acc = 0.539\n",
      "iter 1200 : Train_Loss = 0.6910883651393859, Train_acc = 0.54\n",
      "iter 1300 : Train_Loss = 0.6903837016597691, Train_acc = 0.543\n",
      "iter 1400 : Train_Loss = 0.6895006598515335, Train_acc = 0.554\n",
      "iter 1500 : Train_Loss = 0.6884142836836797, Train_acc = 0.553\n",
      "iter 1600 : Train_Loss = 0.6870980589066291, Train_acc = 0.557\n",
      "iter 1700 : Train_Loss = 0.6855242994101852, Train_acc = 0.58\n",
      "iter 1800 : Train_Loss = 0.6836691547621389, Train_acc = 0.593\n",
      "iter 1900 : Train_Loss = 0.681520277614674, Train_acc = 0.594\n",
      "iter 2000 : Train_Loss = 0.6790789496536138, Train_acc = 0.584\n",
      "iter 2100 : Train_Loss = 0.6763508364779214, Train_acc = 0.591\n",
      "iter 2200 : Train_Loss = 0.673332035246034, Train_acc = 0.609\n",
      "iter 2300 : Train_Loss = 0.6700023677817585, Train_acc = 0.616\n",
      "iter 2400 : Train_Loss = 0.6663286682632731, Train_acc = 0.627\n",
      "iter 2500 : Train_Loss = 0.6622725175148769, Train_acc = 0.639\n",
      "iter 2600 : Train_Loss = 0.6577971759343836, Train_acc = 0.648\n",
      "iter 2700 : Train_Loss = 0.6528713915700427, Train_acc = 0.653\n",
      "iter 2800 : Train_Loss = 0.6474697659719708, Train_acc = 0.663\n",
      "iter 2900 : Train_Loss = 0.6415708685629509, Train_acc = 0.673\n",
      "iter 3000 : Train_Loss = 0.6351551188022835, Train_acc = 0.68\n",
      "iter 3100 : Train_Loss = 0.6282039083493387, Train_acc = 0.685\n",
      "iter 3200 : Train_Loss = 0.6207000217629675, Train_acc = 0.694\n",
      "iter 3300 : Train_Loss = 0.6126285995020417, Train_acc = 0.71\n",
      "iter 3400 : Train_Loss = 0.6039781755725407, Train_acc = 0.715\n",
      "iter 3500 : Train_Loss = 0.6352271428227548, Train_acc = 0.608\n",
      "iter 3600 : Train_Loss = 0.630189790939474, Train_acc = 0.628\n",
      "iter 3700 : Train_Loss = 0.6264204304145339, Train_acc = 0.634\n",
      "iter 3800 : Train_Loss = 0.622889869827207, Train_acc = 0.635\n",
      "iter 3900 : Train_Loss = 0.6195144634787524, Train_acc = 0.638\n",
      "iter 4000 : Train_Loss = 0.6162393645698653, Train_acc = 0.64\n",
      "iter 4100 : Train_Loss = 0.6130266121076959, Train_acc = 0.641\n",
      "iter 4200 : Train_Loss = 0.6098512427575108, Train_acc = 0.644\n",
      "iter 4300 : Train_Loss = 0.6066987980068339, Train_acc = 0.647\n",
      "iter 4400 : Train_Loss = 0.6035627315047166, Train_acc = 0.656\n",
      "iter 4500 : Train_Loss = 0.6004416540727858, Train_acc = 0.66\n",
      "iter 4600 : Train_Loss = 0.5973368016615368, Train_acc = 0.664\n",
      "iter 4700 : Train_Loss = 0.5942501253702573, Train_acc = 0.667\n",
      "iter 4800 : Train_Loss = 0.5911838937439235, Train_acc = 0.668\n",
      "iter 4900 : Train_Loss = 0.5648098692241004, Train_acc = 0.733\n"
     ]
    }
   ],
   "source": [
    "# Training\n",
    "\n",
    "Training_res = neural_network_model(X_train_flatten_norm,y_train,7,5000,learning_rate=0.01,display_learning=True)"
   ]
  },
  {
   "cell_type": "code",
   "execution_count": null,
   "metadata": {},
   "outputs": [],
   "source": []
  }
 ],
 "metadata": {
  "interpreter": {
   "hash": "6d46af94c2bbce495f1e668725902fa517c90b1782bcfe2fce0dd9868df553d3"
  },
  "kernelspec": {
   "display_name": "Python 3.8.8 64-bit ('base': conda)",
   "language": "python",
   "name": "python3"
  },
  "language_info": {
   "codemirror_mode": {
    "name": "ipython",
    "version": 3
   },
   "file_extension": ".py",
   "mimetype": "text/x-python",
   "name": "python",
   "nbconvert_exporter": "python",
   "pygments_lexer": "ipython3",
   "version": "3.8.8"
  },
  "orig_nbformat": 4
 },
 "nbformat": 4,
 "nbformat_minor": 2
}
