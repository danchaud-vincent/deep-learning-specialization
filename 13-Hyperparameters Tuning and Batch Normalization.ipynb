{
 "cells": [
  {
   "cell_type": "markdown",
   "metadata": {},
   "source": [
    "# Hyperparameters Tuning and Batch Normalization"
   ]
  },
  {
   "cell_type": "markdown",
   "metadata": {},
   "source": [
    "## Table of Contents\n",
    "\n",
    "* [1.Hyperparameter Tuning](#chapter1)\n",
    "    * [1.1 Tuning Process](#section_1_1)\n",
    "    * [1.2 Using an appropriate Scale to pick an Hyperparameters](#section_1_2)\n",
    "    * [1.3  ](#section_1_3)\n",
    "* [2. Batch Normalization](#chapter2)\n",
    "    * [2.1 ](#section_2_1)\n",
    "* [3. MultiClass Classification](#chapter3)"
   ]
  },
  {
   "cell_type": "markdown",
   "metadata": {},
   "source": [
    "# 1. Hyperparameter Tuning <a class=\"anchor\" id=\"chapter1\"></a>"
   ]
  },
  {
   "cell_type": "markdown",
   "metadata": {},
   "source": [
    "## 1.1 Tuning Process <a class=\"anchor\" id=\"section_1_1\"></a>"
   ]
  },
  {
   "cell_type": "markdown",
   "metadata": {},
   "source": [
    "Training a neural Network can involve setting a lot of hyperparameters. How to organize the hyperparameter tuning process to converge on the good settings of the hyperparameters.\n",
    "\n",
    "<u>Hyperparamters :</u>\n",
    "\n",
    "- $\\alpha$ : learning rate\n",
    "- $\\beta$ : momentum\n",
    "- $\\beta1$,$\\beta2$,$\\epsilon$ : Adam parameters\n",
    "- Number of layers\n",
    "- Number of hidden units\n",
    "- learning rate decay\n",
    "- mini-batch size\n",
    "\n",
    "\n",
    "<u>Most important Hyperparameters to tune :</u>\n",
    "\n",
    "- <p style=\"color:red;\">alpha</p>\n",
    "- <p style=\"color:orange;\">Beta</p>\n",
    "- <p style=\"color:orange;\">Number of hidden units</p>\n",
    "- <p style=\"color:orange;\">Mini-batch size</p>\n",
    "- <p style=\"color:purple;\">Number of layers</p>\n",
    "- <p style=\"color:purple;\">learning rate decay</p>\n",
    "- $\\beta1$,$\\beta2$,$\\epsilon$ : Almost always use $\\beta1$ = 0.9, $\\beta2$ = 0.999 and $\\epsilon = 10^{-8}$"
   ]
  },
  {
   "cell_type": "markdown",
   "metadata": {},
   "source": [
    "***Tuning process :***\n",
    "\n",
    "- Try <b>random values of Hyperparameters</b> :\n",
    "    - <u>Example :</u> random values of hyper_param1 = alpha and hyper_param2 = epsilon\n",
    "\n",
    "- a <b>coarse to fine search process</b> :\n",
    "    - Try random values of hyperparameters\n",
    "    - select the ones that work the best\n",
    "    - Fine the search process and focus more resources on searching within this best values if you're suspecting that the best setting, the hyperparameters."
   ]
  },
  {
   "cell_type": "markdown",
   "metadata": {},
   "source": [
    "## 1.2 Using an appropriate Scale to pick an Hyperparameters<a class=\"anchor\" id=\"section_1_2\"></a>"
   ]
  },
  {
   "cell_type": "markdown",
   "metadata": {},
   "source": [
    "# 2. Batch Normalization <a class=\"anchor\" id=\"chapter2\"></a>"
   ]
  },
  {
   "cell_type": "markdown",
   "metadata": {},
   "source": [
    "# 3. MultiClass Classification <a class=\"anchor\" id=\"chapter3\"></a>"
   ]
  },
  {
   "cell_type": "markdown",
   "metadata": {},
   "source": []
  }
 ],
 "metadata": {
  "language_info": {
   "name": "python"
  },
  "orig_nbformat": 4
 },
 "nbformat": 4,
 "nbformat_minor": 2
}
